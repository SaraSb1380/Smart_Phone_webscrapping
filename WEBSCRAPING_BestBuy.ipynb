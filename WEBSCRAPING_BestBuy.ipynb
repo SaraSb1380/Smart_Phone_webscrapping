{
 "cells": [
  {
   "cell_type": "code",
   "execution_count": 66,
   "metadata": {},
   "outputs": [],
   "source": [
    "# imports\n",
    "\n",
    "from bs4 import BeautifulSoup as soup # For HTML parsing\n",
    "import requests # Website connections\n",
    "from time import sleep # To prevent overwhelming the server between connections\n",
    "from collections import Counter # Keep track of our term counts\n",
    "import pandas as pd # For converting results to a dataframe and bar chart plots\n",
    "import json # For parsing json\n",
    "%matplotlib inline\n",
    "from urllib.request import urlopen as ureq\n",
    "import tqdm\n",
    "import re\n",
    "from selenium import webdriver\n",
    "from selenium.webdriver.common.keys import Keys\n",
    "from time import sleep\n",
    "import seaborn as sns"
   ]
  },
  {
   "cell_type": "code",
   "execution_count": null,
   "metadata": {},
   "outputs": [],
   "source": [
    "# _____Webscrapping Sumsung phones\n",
    "\n",
    "file_name='Sumsung_phones_group_project_Final.csv'\n",
    "f=open(file_name,'w')\n",
    "headers=\"Brand,Model,Price(CAD),Price_save(CAD),Memory-Built-in(GB),Ram_size(GB),\\\n",
    "            Display_resolution(pixels),Display_size(in),Colour,CPU,Front-Facing Camera Resolution(MP),\\\n",
    "            Rear Camera Resolution(MP)  \\n\"\n",
    "f.write(headers)\n",
    "driver = webdriver.Chrome('//Users//sarasaberiyanboroujeni//Documents//Documents//Weclouddata//Webscrapping Projecct//chromedriver.exe')\n",
    "my_url = 'https://www.bestbuy.ca/en-ca/category/unlocked-samsung-phones/12535387'\n",
    "driver.get(my_url)"
   ]
  },
  {
   "cell_type": "code",
   "execution_count": null,
   "metadata": {},
   "outputs": [],
   "source": [
    "for i in range(24):\n",
    "    try:\n",
    "        element = driver.find_element_by_xpath(\"//*[@id='root']/div/div/div[2]/div[2]/a/div/button/span\")\n",
    "        sleep(2)\n",
    "        element.click()\n",
    "#       HTML parsing\n",
    "    except:\n",
    "        pass\n",
    "html=driver.page_source\n",
    "page_soup=soup(html,\"html.parser\")\n",
    "\n",
    "sumsung_phones= page_soup.findAll(\"div\", {\"class\":\"col-xs-12_1GBy8 col-sm-4_NwItf col-lg-3_2V2hX x-productListItem productLine_2N9kG\"})\n",
    "    \n",
    "    \n",
    "driver2 = webdriver.Chrome('C:\\\\Users\\\\AZ\\\\Desktop\\\\bootcamp\\\\Python\\\\webscraping\\\\chromedriver.exe')\n",
    "\n",
    "\n",
    "for phone in sumsung_phones[1:]:\n",
    "    \n",
    "  \n",
    "    sumsung_links= phone.div.a.get('href')\n",
    "    link='https://www.bestbuy.ca{}'.format(sumsung_links)\n",
    "    driver2.get(link)\n",
    "    html=driver2.page_source\n",
    "\n",
    "    sleep(2)  \n",
    "    link_soup=soup(html,\"html.parser\")\n",
    "    \n",
    "    try:\n",
    "        price_container=phone.findAll(\"div\", {\"class\":\"productPricingContainer_3gTS3\"})\n",
    "        price=price_container[0].span.div.text\n",
    "        price=price.replace(\",\",\"\")\n",
    "        price=price.replace(\"$\",\"\")\n",
    "    except:\n",
    "        price='no price'\n",
    "   \n",
    "     \n",
    "    try:\n",
    "        price_sale_container=phone.findAll(\"span\", {\"class\":\"productSaving_3YmNX undefined\"})\n",
    "        price_save=price_sale_container[0].text\n",
    "        price_save=price_save.replace(\",\",\"\")\n",
    "        price_save=price_save.replace(\"SAVE\",\"\")\n",
    "        price_save=price_save.replace(\"$\",\"\")\n",
    "        \n",
    "\n",
    "    except:\n",
    "        price_save = 'no sale'\n",
    "    \n",
    "    try:\n",
    "        product_name_container=link_soup.findAll(\"h1\",{\"class\":\"productName_19xJx\"})\n",
    "        product_name=product_name_container[0].text\n",
    "        product_name=product_name.replace(\",\" , \"/\")\n",
    "        brand=product_name.split(\" \",3)[0]\n",
    "        model=product_name.split(\" \",3)[1]+\" \" +product_name.split(\" \",3)[2]\n",
    "    except:\n",
    "        brand='no brand'\n",
    "        model='no model'\n",
    "\n",
    "    try:    \n",
    "        element3 = driver2.find_element_by_xpath(\"//*[@id='detailsAndSpecs']\")\n",
    "        element3.click()\n",
    "    except:\n",
    "        pass\n",
    "    sleep(2)\n",
    "    \n",
    "    html=driver2.page_source\n",
    "    link_soup=soup(html,\"html.parser\")\n",
    "   \n",
    "    try:\n",
    "        element4 = driver2.find_element_by_xpath(\"//*[@id='detailsAndSpecs']/div[1]/div[2]/button\")\n",
    "        element4.click()\n",
    "\n",
    "    except:\n",
    "        pass\n",
    "\n",
    "    sleep(2)\n",
    "    \n",
    "    html=driver2.page_source\n",
    "    link_soup=soup(html,\"html.parser\")\n",
    "\n",
    "    try:\n",
    "        price_container=phone.findAll(\"div\", {\"class\":\"productPricingContainer_3gTS3\"})\n",
    "        price=price_container[0].span.div.text\n",
    "        price=price.replace(\",\",\"\")\n",
    "        price=price.replace(\"$\",\"\")\n",
    "    except:\n",
    "        price='no price'\n",
    "   \n",
    "     \n",
    "    try:\n",
    "        price_sale_container=phone.findAll(\"span\", {\"class\":\"productSaving_3YmNX undefined\"})\n",
    "        price_save=price_sale_container[0].text\n",
    "        price_save=price_save.replace(\",\",\"\")\n",
    "        price_save=price_save.replace(\"SAVE\",\"\")\n",
    "        price_save=price_save.replace(\"$\",\"\")\n",
    "        \n",
    "\n",
    "    except:\n",
    "        price_save = 'no sale'\n",
    "    \n",
    "    try:\n",
    "        product_name_container=link_soup.findAll(\"h1\",{\"class\":\"productName_19xJx\"})\n",
    "        product_name=product_name_container[0].text\n",
    "        product_name=product_name.replace(\",\" , \"/\")\n",
    "        brand=product_name.split(\" \",3)[0]\n",
    "        model=product_name.split(\" \",3)[1]+\" \" +product_name.split(\" \",3)[2]\n",
    "    except:\n",
    "        brand='no brand'\n",
    "        model='no model'\n",
    "\n",
    "    try:    \n",
    "        element3 = driver2.find_element_by_xpath(\"//*[@id='detailsAndSpecs']\")\n",
    "        element3.click()\n",
    "    except:\n",
    "        pass\n",
    "\n",
    "    sleep(2)\n",
    "    \n",
    "    html=driver2.page_source\n",
    "    link_soup=soup(html,\"html.parser\")\n",
    "   \n",
    "    try:\n",
    "        element4 = driver2.find_element_by_xpath(\"//*[@id='detailsAndSpecs']/div[1]/div[2]/button\")\n",
    "        element4.click()\n",
    "\n",
    "    except:\n",
    "        pass\n",
    "\n",
    "    sleep(2)\n",
    "    \n",
    "    html=driver2.page_source\n",
    "    link_soup=soup(html,\"html.parser\")\n",
    "    \n",
    "    try:\n",
    "        item_container=link_soup.findAll(\"div\",{\"class\":\"itemContainer_RJI-h\"})\n",
    "    except:\n",
    "        pass\n",
    "\n",
    "\n",
    "# phone_container_model=driver2.find_element_by_xpath(\"//*[@id='detailsAndSpecs']/div[1]/div[2]\")\n",
    "\n",
    "\n",
    "    \n",
    "       \n",
    "    for tag in item_container:\n",
    "        try:             \n",
    "            #         \n",
    "            if list(tag.children)[0].text == 'Memory - Built-in':\n",
    "                mem = list(tag.children)[1].text\n",
    "                mem=mem.replace(\"GB\", \"\")\n",
    "                mem=mem.replace(\"gb\", \"\")\n",
    "                mem=mem.replace(\",\",\"\")\n",
    "                mem=mem.strip()\n",
    "        except:\n",
    "            pass\n",
    "        \n",
    "        try:            \n",
    "            if list(tag.children)[0].text == 'RAM Size':\n",
    "                ram_size = list(tag.children)[1].text\n",
    "                ram_size = ram_size.replace(\"GB\", \"\")\n",
    "                ram_size = ram_size.replace(\"gb\", \"\")\n",
    "                ram_size=ram_size.replace(\",\",\"\")\n",
    "                ram_size=ram_size.strip()\n",
    "        except:\n",
    "            pass\n",
    "        \n",
    "        try:\n",
    "           \n",
    "            if list(tag.children)[0].text == 'Display Resolution':\n",
    "                display_resolution = list(tag.children)[1].text\n",
    "                display_resolution=display_resolution.replace(\",\", \"\")\n",
    "                display_resolution=display_resolution.replace(\"pixels\",\"\")\n",
    "                display_resolution=display_resolution.lower().split(\"(\", 1)[0]\n",
    "                display_resolution=display_resolution.replace(\"wqhd+\", \"\")\n",
    "                display_resolution=display_resolution.replace(\"quad hd+\",\"\")\n",
    "                \n",
    "                display_resolution=display_resolution.strip()\n",
    "        except:\n",
    "            pass\n",
    "                \n",
    "        try:\n",
    "            if list(tag.children)[0].text == 'Display Size':\n",
    "                display_size = list(tag.children)[1].text\n",
    "                display_size = display_size.replace(\",\", \"\")\n",
    "                display_size=display_size.replace(\"in\", \"\")\n",
    "                display_size=display_size.replace(\"IN\",\"\")\n",
    "                display_size=display_size.strip()\n",
    "        except:\n",
    "            pass \n",
    "        \n",
    "        try:\n",
    "            if list(tag.children)[0].text == 'Colour':\n",
    "                colour = list(tag.children)[1].text\n",
    "                colour=colour.replace(\",\",\"\")\n",
    "        except:\n",
    "            pass\n",
    "        \n",
    "        try:\n",
    "            if list(tag.children)[0].text == 'CPU':\n",
    "                cpu_n = list(tag.children)[1].text\n",
    "                cpu_n =cpu_n.replace(\",\", \"\")\n",
    "        except:\n",
    "            pass\n",
    "        \n",
    "        try:\n",
    "            if list(tag.children)[0].text == 'Front-Facing Camera Resolution':\n",
    "                f_camera = list(tag.children)[1].text\n",
    "                f_camera=f_camera.replace(\",\", \"\")\n",
    "                f_camera=f_camera.lower().split(\"mp\", 1)[0]\n",
    "                f_camera=f_camera.lower().split(\"-\", 1)[0]\n",
    "                f_camera=f_camera.replace(\"-megapixel\", \"\")\n",
    "                f_camera=f_camera.strip()\n",
    "                \n",
    "                \n",
    "        except:\n",
    "            pass\n",
    "        try:\n",
    "            if list(tag.children)[0].text == 'Rear Camera Resolution':\n",
    "                r_camera = list(tag.children)[1].text\n",
    "                r_camera=r_camera.replace(\",\", \"\")\n",
    "                r_camera=r_camera.lower().split(\"mp\", 1)[0]\n",
    "                r_camera=r_camera.lower().split(\"-\", 1)[0]\n",
    "\n",
    "\n",
    "                r_camera=r_camera.replace(\"MP\",\"\")\n",
    "                r_camera=r_camera.replace(\"mp\", \"\")\n",
    "                r_camera=r_camera.replace(\"Wide-Angle & Telephoto Cameras\", \"\")\n",
    "                r_camera=r_camera.replace(\"super speed dual pixel \",\"\")\n",
    "                r_camera=r_camera.strip()\n",
    "                \n",
    "        except:\n",
    "            pass\n",
    "        \n",
    "        \n",
    "        \n",
    "    f.write(brand + \",\" + model + \",\" + price + \",\" + price_save + \",\" + mem + \",\" + ram_size + \",\" + display_resolution + \",\" + display_size + \",\" + colour + \",\" + cpu_n + \",\"  + f_camera + \",\" + r_camera + \"\\n\")\n",
    "\n",
    "\n",
    "f.close()\n",
    "   \n",
    "\n",
    "\n",
    "\n"
   ]
  },
  {
   "cell_type": "code",
   "execution_count": 7,
   "metadata": {},
   "outputs": [],
   "source": [
    "# WEBSCRAPING APPLE PHONES\n",
    "file_name='Apple_phones_group_Final2.csv'\n",
    "f=open(file_name,'w')\n",
    "headers=\"Brand,Model,Price(CAD),Price_save(CAD),Memory-Built-in(GB),Ram_size(GB),Display_resolution(pixels),Display_size(in),Colour,CPU,Front-Facing Camera Resolution(MP),Rear Camera Resolution(MP)  \\n\"\n",
    "f.write(headers)\n",
    "driver = webdriver.Chrome('C:\\\\Users\\\\AZ\\\\Desktop\\\\bootcamp\\\\Python\\\\webscraping\\\\chromedriver.exe')\n",
    "my_url = 'https://www.bestbuy.ca/en-ca/category/unlocked-iphones/743358'\n",
    "driver.get(my_url)"
   ]
  },
  {
   "cell_type": "code",
   "execution_count": null,
   "metadata": {},
   "outputs": [],
   "source": [
    "for i in range(1100):\n",
    "    try:\n",
    "        element = driver.find_element_by_xpath(\"//*[@id='root']/div/div/div[2]/div[2]/a/div/button/span\")\n",
    "        sleep(3)\n",
    "        element.click()\n",
    "    except:\n",
    "        pass\n",
    "    "
   ]
  },
  {
   "cell_type": "code",
   "execution_count": null,
   "metadata": {},
   "outputs": [],
   "source": [
    "list(tag.children)[0].text == 'Display Size':\n",
    "display_size = list(tag.children)[1].text\n",
    "display_size = display_size.replace(\",\", \"\")\n",
    "display_size=display_size.replace(\"in\", \"\")\n",
    "display_size=display_size.replace(\"IN\",\"\")\n",
    "display_size=display_size.strip()\n",
    "\n",
    "list(tag.children)[0].text == 'Display Resolution':\n",
    "display_resolution = list(tag.children)[1].text\n",
    "display_resolution=display_resolution.replace(\",\", \"\")\n",
    "display_resolution=display_resolution.replace(\"pixels\",\"\")\n",
    "display_resolution=display_resolution.lower().split(\"(\", 1)[0]\n",
    "display_resolution=display_resolution.strip()"
   ]
  },
  {
   "cell_type": "code",
   "execution_count": null,
   "metadata": {},
   "outputs": [],
   "source": [
    "for i in range(1100):\n",
    "    try:\n",
    "        element = driver.find_element_by_xpath(\"//*[@id='root']/div/div/div[2]/div[2]/a/div/button/span\")\n",
    "        sleep(3)\n",
    "        element.click()\n",
    "#       HTML parsing\n",
    "    except:\n",
    "        pass\n",
    "    \n",
    "\n",
    "html=driver.page_source\n",
    "page_soup=soup(html,\"html.parser\")\n",
    "\n",
    "apple_phones= page_soup.findAll(\"div\", {\"class\":\"col-xs-12_1GBy8 col-sm-4_NwItf col-lg-3_2V2hX x-productListItem productLine_2N9kG\"})\n",
    "    \n",
    "    \n",
    "driver2 = webdriver.Chrome('C:\\\\Users\\\\AZ\\\\Desktop\\\\bootcamp\\\\Python\\\\webscraping\\\\chromedriver.exe')\n",
    "\n",
    "\n",
    "\n",
    "for phone in apple_phones[1:]:\n",
    "    \n",
    "  \n",
    "    apple_links= phone.div.a.get('href')\n",
    "    link='https://www.bestbuy.ca{}'.format(apple_links)\n",
    "    driver2.get(link)\n",
    "    html=driver2.page_source\n",
    "\n",
    "    sleep(3)  \n",
    "    link_soup=soup(html,\"html.parser\")\n",
    "    \n",
    "    try:\n",
    "        price_container=phone.findAll(\"div\", {\"class\":\"productPricingContainer_3gTS3\"})\n",
    "        price=price_container[0].span.div.text\n",
    "        price=price.replace(\",\",\"\")\n",
    "        price=price.replace(\"$\",\"\")\n",
    "    except:\n",
    "        price='no price'\n",
    "   \n",
    "     \n",
    "    try:\n",
    "        price_sale_container=phone.findAll(\"span\", {\"class\":\"productSaving_3YmNX undefined\"})\n",
    "        price_save=price_sale_container[0].text\n",
    "        price_save=price_save.replace(\",\",\"\")\n",
    "        price_save=price_save.replace(\"SAVE\",\"\")\n",
    "        price_save=price_save.replace(\"$\",\"\")\n",
    "        \n",
    "\n",
    "    except:\n",
    "        price_save = 'no sale'\n",
    "    \n",
    "    try:\n",
    "        product_name_container=link_soup.findAll(\"h1\",{\"class\":\"productName_19xJx\"})\n",
    "        product_name=product_name_container[0].text\n",
    "        product_name=product_name.replace(\",\" , \"/\")\n",
    "        brand=product_name.split(\" \",3)[0]\n",
    "        model=product_name.split(\" \",3)[1]+\" \" +product_name.split(\" \",3)[2]\n",
    "    except:\n",
    "        brand='no brand'\n",
    "        model='no model'\n",
    "\n",
    "    try:    \n",
    "        element3 = driver2.find_element_by_xpath(\"//*[@id='detailsAndSpecs']\")\n",
    "        element3.click()\n",
    "    except:\n",
    "        pass\n",
    "\n",
    "    sleep(5)\n",
    "    \n",
    "    html=driver2.page_source\n",
    "    link_soup=soup(html,\"html.parser\")\n",
    "   \n",
    "    try:\n",
    "        element4 = driver2.find_element_by_xpath(\"//*[@id='detailsAndSpecs']/div[1]/div[2]/button\")\n",
    "        element4.click()\n",
    "\n",
    "    except:\n",
    "        pass\n",
    "\n",
    "    sleep(5)\n",
    "    \n",
    "    html=driver2.page_source\n",
    "    link_soup=soup(html,\"html.parser\")\n",
    "    \n",
    "    try:\n",
    "        item_container=link_soup.findAll(\"div\",{\"class\":\"itemContainer_RJI-h\"})\n",
    "    except:\n",
    "        pass\n",
    "\n",
    "\n",
    "# phone_container_model=driver2.find_element_by_xpath(\"//*[@id='detailsAndSpecs']/div[1]/div[2]\")\n",
    "\n",
    "       \n",
    "    for tag in item_container:\n",
    "        try:             \n",
    "            #         \n",
    "            if list(tag.children)[0].text == 'Memory - Built-in':\n",
    "                mem = list(tag.children)[1].text\n",
    "                mem=mem.replace(\"GB\", \"\")\n",
    "                mem=mem.replace(\"gb\", \"\")\n",
    "                mem=mem.replace(\",\",\"\")\n",
    "                mem=mem.strip()\n",
    "        except:\n",
    "            pass\n",
    "        \n",
    "        try:            \n",
    "            if list(tag.children)[0].text == 'RAM Size':\n",
    "                ram_size = list(tag.children)[1].text\n",
    "                ram_size = ram_size.replace(\"GB\", \"\")\n",
    "                ram_size = ram_size.replace(\"gb\", \"\")\n",
    "                ram_size=ram_size.replace(\",\",\"\")\n",
    "                ram_size=ram_size.strip()\n",
    "        except:\n",
    "            pass\n",
    "        \n",
    "        try:\n",
    "           \n",
    "            if list(tag.children)[0].text == 'Display Resolution':\n",
    "                display_resolution = list(tag.children)[1].text\n",
    "                display_resolution=display_resolution.replace(\",\", \"\")\n",
    "                display_resolution=display_resolution.replace(\"pixels\",\"\")\n",
    "                display_resolution=display_resolution.lower().split(\"(\", 1)[0]\n",
    "                display_resolution=display_resolution.strip()\n",
    "        except:\n",
    "            pass\n",
    "                \n",
    "        try:\n",
    "            if list(tag.children)[0].text == 'Display Size':\n",
    "                display_size = list(tag.children)[1].text\n",
    "                display_size = display_size.replace(\",\", \"\")\n",
    "                display_size=display_size.replace(\"in\", \"\")\n",
    "                display_size=display_size.replace(\"IN\",\"\")\n",
    "                display_size=display_size.strip()\n",
    "        except:\n",
    "            pass \n",
    "        \n",
    "        try:\n",
    "            if list(tag.children)[0].text == 'Colour':\n",
    "                colour = list(tag.children)[1].text\n",
    "                colour=colour.replace(\",\",\"\")\n",
    "        except:\n",
    "            pass\n",
    "        \n",
    "        try:\n",
    "            if list(tag.children)[0].text == 'CPU':\n",
    "                cpu_n = list(tag.children)[1].text\n",
    "                cpu_n =cpu_n.replace(\",\", \"\")\n",
    "        except:\n",
    "            pass\n",
    "        \n",
    "        try:\n",
    "            if list(tag.children)[0].text == 'Front-Facing Camera Resolution':\n",
    "                f_camera = list(tag.children)[1].text\n",
    "                f_camera=f_camera.replace(\",\", \"\")\n",
    "                f_camera=f_camera.lower().split(\"mp\", 1)[0]\n",
    "                f_camera=f_camera.lower().split(\"-\", 1)[0]\n",
    "                f_camera=f_camera.replace(\"-megapixel\", \"\")\n",
    "                f_camera=f_camera.strip()\n",
    "                \n",
    "                \n",
    "        except:\n",
    "            pass\n",
    "        try:\n",
    "            if list(tag.children)[0].text == 'Rear Camera Resolution':\n",
    "                r_camera = list(tag.children)[1].text\n",
    "                r_camera=r_camera.replace(\",\", \"\")\n",
    "                r_camera=r_camera.lower().split(\"mp\", 1)[0]\n",
    "                r_camera=r_camera.lower().split(\"-\", 1)[0]\n",
    "\n",
    "\n",
    "                r_camera=r_camera.replace(\"MP\",\"\")\n",
    "                r_camera=r_camera.replace(\"mp\", \"\")\n",
    "                r_camera=r_camera.replace(\"Wide-Angle & Telephoto Cameras\", \"\")\n",
    "                r_camera=r_camera.replace(\"3 x \",\"\")\n",
    "                r_camera=r_camera.strip()\n",
    "                \n",
    "        except:\n",
    "            pass\n",
    "        \n",
    "       \n",
    "    f.write(brand + \",\" + model + \",\" + price + \",\" + price_save + \",\" + mem + \",\" + ram_size + \",\" + display_resolution + \",\" + display_size + \",\" + colour + \",\" + cpu_n + \",\"  + f_camera + \",\" + r_camera + \"\\n\")\n",
    "\n",
    "f.close()\n",
    "   \n",
    "\n"
   ]
  },
  {
   "cell_type": "markdown",
   "metadata": {},
   "source": [
    "# Visualization"
   ]
  },
  {
   "cell_type": "code",
   "execution_count": 2,
   "metadata": {
    "scrolled": true
   },
   "outputs": [
    {
     "data": {
      "text/html": [
       "        <script type=\"text/javascript\">\n",
       "        window.PlotlyConfig = {MathJaxConfig: 'local'};\n",
       "        if (window.MathJax) {MathJax.Hub.Config({SVG: {font: \"STIX-Web\"}});}\n",
       "        if (typeof require !== 'undefined') {\n",
       "        require.undef(\"plotly\");\n",
       "        requirejs.config({\n",
       "            paths: {\n",
       "                'plotly': ['https://cdn.plot.ly/plotly-latest.min']\n",
       "            }\n",
       "        });\n",
       "        require(['plotly'], function(Plotly) {\n",
       "            window._Plotly = Plotly;\n",
       "        });\n",
       "        }\n",
       "        </script>\n",
       "        "
      ]
     },
     "metadata": {},
     "output_type": "display_data"
    }
   ],
   "source": [
    "import pandas as pd\n",
    "import numpy as np\n",
    "import random \n",
    "\n",
    "import matplotlib.pyplot as plt\n",
    "%matplotlib inline\n",
    "import plotly.offline as py\n",
    "import plotly.graph_objs as go \n",
    "import plotly.express as px\n",
    "\n",
    "\n",
    "py.init_notebook_mode(connected=True)\n"
   ]
  },
  {
   "cell_type": "markdown",
   "metadata": {},
   "source": [
    "### Preprocessing Samsung smartphones"
   ]
  },
  {
   "cell_type": "code",
   "execution_count": 3,
   "metadata": {
    "scrolled": false
   },
   "outputs": [
    {
     "data": {
      "text/html": [
       "<div>\n",
       "<style scoped>\n",
       "    .dataframe tbody tr th:only-of-type {\n",
       "        vertical-align: middle;\n",
       "    }\n",
       "\n",
       "    .dataframe tbody tr th {\n",
       "        vertical-align: top;\n",
       "    }\n",
       "\n",
       "    .dataframe thead th {\n",
       "        text-align: right;\n",
       "    }\n",
       "</style>\n",
       "<table border=\"1\" class=\"dataframe\">\n",
       "  <thead>\n",
       "    <tr style=\"text-align: right;\">\n",
       "      <th></th>\n",
       "      <th>Brand</th>\n",
       "      <th>Model</th>\n",
       "      <th>Price(CAD)</th>\n",
       "      <th>Price_save(CAD)</th>\n",
       "      <th>Memory-Built-in(GB)</th>\n",
       "      <th>Ram_size(GB)</th>\n",
       "      <th>Display_resolution(pixels)</th>\n",
       "      <th>Display_size(in)</th>\n",
       "      <th>Colour</th>\n",
       "      <th>CPU</th>\n",
       "      <th>Front-Facing Camera Resolution(MP)</th>\n",
       "      <th>Rear Camera Resolution(MP)</th>\n",
       "    </tr>\n",
       "  </thead>\n",
       "  <tbody>\n",
       "    <tr>\n",
       "      <th>5</th>\n",
       "      <td>SAMSUNG</td>\n",
       "      <td>GALAXY A20</td>\n",
       "      <td>149.97</td>\n",
       "      <td>200</td>\n",
       "      <td>512</td>\n",
       "      <td>3</td>\n",
       "      <td>720 x 1560</td>\n",
       "      <td>5.8</td>\n",
       "      <td>Black</td>\n",
       "      <td>Octa-core Snapdragon 865</td>\n",
       "      <td>8</td>\n",
       "      <td>13</td>\n",
       "    </tr>\n",
       "    <tr>\n",
       "      <th>6</th>\n",
       "      <td>SAMSUNG</td>\n",
       "      <td>GALAXY NOTE10+</td>\n",
       "      <td>939.99</td>\n",
       "      <td>560</td>\n",
       "      <td>256</td>\n",
       "      <td>12</td>\n",
       "      <td>3040 x 1440</td>\n",
       "      <td>6.8</td>\n",
       "      <td>Aura Black</td>\n",
       "      <td>Snapdragon 855</td>\n",
       "      <td>10</td>\n",
       "      <td>12</td>\n",
       "    </tr>\n",
       "    <tr>\n",
       "      <th>7</th>\n",
       "      <td>SAMSUNG</td>\n",
       "      <td>GALAXY A70</td>\n",
       "      <td>629.99</td>\n",
       "      <td>no sale</td>\n",
       "      <td>128</td>\n",
       "      <td>6</td>\n",
       "      <td>1080 x 2400</td>\n",
       "      <td>6.7</td>\n",
       "      <td>Aura Black</td>\n",
       "      <td>Snapdragon 855</td>\n",
       "      <td>32</td>\n",
       "      <td>32</td>\n",
       "    </tr>\n",
       "    <tr>\n",
       "      <th>8</th>\n",
       "      <td>SAMSUNG</td>\n",
       "      <td>GALAXY S20+</td>\n",
       "      <td>1579.99</td>\n",
       "      <td>no sale</td>\n",
       "      <td>128</td>\n",
       "      <td>6</td>\n",
       "      <td>1080 x 2400</td>\n",
       "      <td>6.7</td>\n",
       "      <td>Black</td>\n",
       "      <td>Octa-core Snapdragon 865</td>\n",
       "      <td>32</td>\n",
       "      <td>32</td>\n",
       "    </tr>\n",
       "    <tr>\n",
       "      <th>9</th>\n",
       "      <td>SAMSUNG</td>\n",
       "      <td>GALAXY A50</td>\n",
       "      <td>449.95</td>\n",
       "      <td>no sale</td>\n",
       "      <td>64</td>\n",
       "      <td>4</td>\n",
       "      <td>1080 x 2340</td>\n",
       "      <td>6.4</td>\n",
       "      <td>Black</td>\n",
       "      <td>Octa-core Snapdragon 865</td>\n",
       "      <td>25</td>\n",
       "      <td>25</td>\n",
       "    </tr>\n",
       "    <tr>\n",
       "      <th>10</th>\n",
       "      <td>SAMSUNG</td>\n",
       "      <td>GALAXY A51</td>\n",
       "      <td>368.90</td>\n",
       "      <td>131</td>\n",
       "      <td>64</td>\n",
       "      <td>4</td>\n",
       "      <td>1080 x 2340</td>\n",
       "      <td>6.4</td>\n",
       "      <td>Black</td>\n",
       "      <td>Octa-core Snapdragon 865</td>\n",
       "      <td>25</td>\n",
       "      <td>25</td>\n",
       "    </tr>\n",
       "  </tbody>\n",
       "</table>\n",
       "</div>"
      ],
      "text/plain": [
       "      Brand           Model  Price(CAD) Price_save(CAD) Memory-Built-in(GB)  \\\n",
       "5   SAMSUNG      GALAXY A20      149.97             200                 512   \n",
       "6   SAMSUNG  GALAXY NOTE10+      939.99             560                 256   \n",
       "7   SAMSUNG      GALAXY A70      629.99         no sale                 128   \n",
       "8   SAMSUNG     GALAXY S20+     1579.99         no sale                 128   \n",
       "9   SAMSUNG      GALAXY A50      449.95         no sale                  64   \n",
       "10  SAMSUNG      GALAXY A51      368.90             131                  64   \n",
       "\n",
       "   Ram_size(GB) Display_resolution(pixels)  Display_size(in)      Colour  \\\n",
       "5             3                 720 x 1560               5.8       Black   \n",
       "6            12                3040 x 1440               6.8  Aura Black   \n",
       "7             6                1080 x 2400               6.7  Aura Black   \n",
       "8             6                1080 x 2400               6.7       Black   \n",
       "9             4                1080 x 2340               6.4       Black   \n",
       "10            4                1080 x 2340               6.4       Black   \n",
       "\n",
       "                         CPU Front-Facing Camera Resolution(MP)  \\\n",
       "5   Octa-core Snapdragon 865                                  8   \n",
       "6             Snapdragon 855                                 10   \n",
       "7             Snapdragon 855                                 32   \n",
       "8   Octa-core Snapdragon 865                                 32   \n",
       "9   Octa-core Snapdragon 865                                 25   \n",
       "10  Octa-core Snapdragon 865                                 25   \n",
       "\n",
       "   Rear Camera Resolution(MP)    \n",
       "5                            13  \n",
       "6                            12  \n",
       "7                            32  \n",
       "8                            32  \n",
       "9                            25  \n",
       "10                           25  "
      ]
     },
     "execution_count": 3,
     "metadata": {},
     "output_type": "execute_result"
    }
   ],
   "source": [
    "Samsung_pd = pd.read_csv('/Users/sarasaberiyanboroujeni/Documents/Documents/Weclouddata/Webscrapping Projecct/Sumsung_phones_group_project_Database.csv',sep=\",\",index_col=False)\n",
    "Samsung_pd .drop_duplicates(inplace=True)\n",
    "Samsung_pd.head(5)\n",
    "Samsung_pd['Brand']=[t.upper() for t in Samsung_pd['Brand']]\n",
    "Samsung_pd['Model']=[t.upper() for t in Samsung_pd['Model']]\n",
    "\n",
    "\n",
    "Samsung_pd.loc[5:10]\n"
   ]
  },
  {
   "cell_type": "code",
   "execution_count": 4,
   "metadata": {},
   "outputs": [
    {
     "data": {
      "text/html": [
       "<div>\n",
       "<style scoped>\n",
       "    .dataframe tbody tr th:only-of-type {\n",
       "        vertical-align: middle;\n",
       "    }\n",
       "\n",
       "    .dataframe tbody tr th {\n",
       "        vertical-align: top;\n",
       "    }\n",
       "\n",
       "    .dataframe thead th {\n",
       "        text-align: right;\n",
       "    }\n",
       "</style>\n",
       "<table border=\"1\" class=\"dataframe\">\n",
       "  <thead>\n",
       "    <tr style=\"text-align: right;\">\n",
       "      <th></th>\n",
       "      <th>Price(CAD)</th>\n",
       "      <th>Display_size(in)</th>\n",
       "    </tr>\n",
       "  </thead>\n",
       "  <tbody>\n",
       "    <tr>\n",
       "      <th>count</th>\n",
       "      <td>532.000000</td>\n",
       "      <td>532.000000</td>\n",
       "    </tr>\n",
       "    <tr>\n",
       "      <th>mean</th>\n",
       "      <td>474.616786</td>\n",
       "      <td>5.970733</td>\n",
       "    </tr>\n",
       "    <tr>\n",
       "      <th>std</th>\n",
       "      <td>339.621343</td>\n",
       "      <td>0.486761</td>\n",
       "    </tr>\n",
       "    <tr>\n",
       "      <th>min</th>\n",
       "      <td>79.990000</td>\n",
       "      <td>4.300000</td>\n",
       "    </tr>\n",
       "    <tr>\n",
       "      <th>25%</th>\n",
       "      <td>219.000000</td>\n",
       "      <td>5.800000</td>\n",
       "    </tr>\n",
       "    <tr>\n",
       "      <th>50%</th>\n",
       "      <td>379.990000</td>\n",
       "      <td>6.200000</td>\n",
       "    </tr>\n",
       "    <tr>\n",
       "      <th>75%</th>\n",
       "      <td>629.990000</td>\n",
       "      <td>6.300000</td>\n",
       "    </tr>\n",
       "    <tr>\n",
       "      <th>max</th>\n",
       "      <td>2109.990000</td>\n",
       "      <td>6.800000</td>\n",
       "    </tr>\n",
       "  </tbody>\n",
       "</table>\n",
       "</div>"
      ],
      "text/plain": [
       "        Price(CAD)  Display_size(in)\n",
       "count   532.000000        532.000000\n",
       "mean    474.616786          5.970733\n",
       "std     339.621343          0.486761\n",
       "min      79.990000          4.300000\n",
       "25%     219.000000          5.800000\n",
       "50%     379.990000          6.200000\n",
       "75%     629.990000          6.300000\n",
       "max    2109.990000          6.800000"
      ]
     },
     "execution_count": 4,
     "metadata": {},
     "output_type": "execute_result"
    }
   ],
   "source": [
    "Samsung_pd.describe()"
   ]
  },
  {
   "cell_type": "code",
   "execution_count": 5,
   "metadata": {},
   "outputs": [
    {
     "data": {
      "text/plain": [
       "array(['2', '3', '12', '6', '4', '8', '1', '1.5', '512 MB', '3/4 Gb Ram',\n",
       "       '64'], dtype=object)"
      ]
     },
     "execution_count": 5,
     "metadata": {},
     "output_type": "execute_result"
    }
   ],
   "source": [
    "Samsung_pd['Ram_size(GB)'].unique()"
   ]
  },
  {
   "cell_type": "code",
   "execution_count": null,
   "metadata": {},
   "outputs": [],
   "source": [
    "Samsung_pd['Ram_size(GB)'][Samsung_pd['Ram_size(GB)']=='512 MB']=0.512\n",
    "Samsung_pd['Ram_size(GB)'][Samsung_pd['Ram_size(GB)']=='3/4 Gb Ram']=0.75\n"
   ]
  },
  {
   "cell_type": "code",
   "execution_count": null,
   "metadata": {},
   "outputs": [],
   "source": [
    "Samsung_pd['Memory-Built-in(GB)'][Samsung_pd['Memory-Built-in(GB)']=='32 MB']=0.32\n",
    "Samsung_pd['Memory-Built-in(GB)'][Samsung_pd['Memory-Built-in(GB)']=='16 MB']=0.16\n",
    "Samsung_pd['Memory-Built-in(GB)']=Samsung_pd['Memory-Built-in(GB)'].astype(float)"
   ]
  },
  {
   "cell_type": "code",
   "execution_count": 14,
   "metadata": {},
   "outputs": [
    {
     "data": {
      "text/html": [
       "<div>\n",
       "<style scoped>\n",
       "    .dataframe tbody tr th:only-of-type {\n",
       "        vertical-align: middle;\n",
       "    }\n",
       "\n",
       "    .dataframe tbody tr th {\n",
       "        vertical-align: top;\n",
       "    }\n",
       "\n",
       "    .dataframe thead th {\n",
       "        text-align: right;\n",
       "    }\n",
       "</style>\n",
       "<table border=\"1\" class=\"dataframe\">\n",
       "  <thead>\n",
       "    <tr style=\"text-align: right;\">\n",
       "      <th></th>\n",
       "      <th>Brand</th>\n",
       "      <th>Model</th>\n",
       "      <th>Price(CAD)</th>\n",
       "      <th>Price_save(CAD)</th>\n",
       "      <th>Memory-Built-in(GB)</th>\n",
       "      <th>Ram_size(GB)</th>\n",
       "      <th>Display_resolution(pixels)</th>\n",
       "      <th>Display_size(in)</th>\n",
       "      <th>Colour</th>\n",
       "      <th>CPU</th>\n",
       "      <th>Front-Facing Camera Resolution(MP)</th>\n",
       "      <th>Rear Camera Resolution(MP)</th>\n",
       "    </tr>\n",
       "  </thead>\n",
       "  <tbody>\n",
       "    <tr>\n",
       "      <th>0</th>\n",
       "      <td>SAMSUNG</td>\n",
       "      <td>GALAXY A10E</td>\n",
       "      <td>179.99</td>\n",
       "      <td>20</td>\n",
       "      <td>32.0</td>\n",
       "      <td>2</td>\n",
       "      <td>720 x 1560</td>\n",
       "      <td>5.8</td>\n",
       "      <td>Black</td>\n",
       "      <td>Octa-core Snapdragon 855</td>\n",
       "      <td>5.0</td>\n",
       "      <td>8</td>\n",
       "    </tr>\n",
       "    <tr>\n",
       "      <th>1</th>\n",
       "      <td>SAMSUNG</td>\n",
       "      <td>GALAXY S20</td>\n",
       "      <td>1849.99</td>\n",
       "      <td>no sale</td>\n",
       "      <td>128.0</td>\n",
       "      <td>2</td>\n",
       "      <td>720 x 1560</td>\n",
       "      <td>5.8</td>\n",
       "      <td>Black</td>\n",
       "      <td>Octa-core Snapdragon 865</td>\n",
       "      <td>5.0</td>\n",
       "      <td>8</td>\n",
       "    </tr>\n",
       "    <tr>\n",
       "      <th>2</th>\n",
       "      <td>SAMSUNG</td>\n",
       "      <td>GALAXY S20</td>\n",
       "      <td>1319.99</td>\n",
       "      <td>no sale</td>\n",
       "      <td>128.0</td>\n",
       "      <td>2</td>\n",
       "      <td>720 x 1560</td>\n",
       "      <td>5.8</td>\n",
       "      <td>Black</td>\n",
       "      <td>Octa-core Snapdragon 865</td>\n",
       "      <td>5.0</td>\n",
       "      <td>8</td>\n",
       "    </tr>\n",
       "    <tr>\n",
       "      <th>4</th>\n",
       "      <td>SAMSUNG</td>\n",
       "      <td>GALAXY S20</td>\n",
       "      <td>2109.99</td>\n",
       "      <td>no sale</td>\n",
       "      <td>512.0</td>\n",
       "      <td>2</td>\n",
       "      <td>720 x 1560</td>\n",
       "      <td>5.8</td>\n",
       "      <td>Black</td>\n",
       "      <td>Octa-core Snapdragon 865</td>\n",
       "      <td>5.0</td>\n",
       "      <td>8</td>\n",
       "    </tr>\n",
       "    <tr>\n",
       "      <th>5</th>\n",
       "      <td>SAMSUNG</td>\n",
       "      <td>GALAXY A20</td>\n",
       "      <td>149.97</td>\n",
       "      <td>200</td>\n",
       "      <td>512.0</td>\n",
       "      <td>3</td>\n",
       "      <td>720 x 1560</td>\n",
       "      <td>5.8</td>\n",
       "      <td>Black</td>\n",
       "      <td>Octa-core Snapdragon 865</td>\n",
       "      <td>8.0</td>\n",
       "      <td>13</td>\n",
       "    </tr>\n",
       "  </tbody>\n",
       "</table>\n",
       "</div>"
      ],
      "text/plain": [
       "     Brand        Model  Price(CAD) Price_save(CAD)  Memory-Built-in(GB)  \\\n",
       "0  SAMSUNG  GALAXY A10E      179.99              20                 32.0   \n",
       "1  SAMSUNG   GALAXY S20     1849.99         no sale                128.0   \n",
       "2  SAMSUNG   GALAXY S20     1319.99         no sale                128.0   \n",
       "4  SAMSUNG   GALAXY S20     2109.99         no sale                512.0   \n",
       "5  SAMSUNG   GALAXY A20      149.97             200                512.0   \n",
       "\n",
       "  Ram_size(GB) Display_resolution(pixels)  Display_size(in) Colour  \\\n",
       "0            2                 720 x 1560               5.8  Black   \n",
       "1            2                 720 x 1560               5.8  Black   \n",
       "2            2                 720 x 1560               5.8  Black   \n",
       "4            2                 720 x 1560               5.8  Black   \n",
       "5            3                 720 x 1560               5.8  Black   \n",
       "\n",
       "                        CPU  Front-Facing Camera Resolution(MP)  \\\n",
       "0  Octa-core Snapdragon 855                                 5.0   \n",
       "1  Octa-core Snapdragon 865                                 5.0   \n",
       "2  Octa-core Snapdragon 865                                 5.0   \n",
       "4  Octa-core Snapdragon 865                                 5.0   \n",
       "5  Octa-core Snapdragon 865                                 8.0   \n",
       "\n",
       "  Rear Camera Resolution(MP)    \n",
       "0                            8  \n",
       "1                            8  \n",
       "2                            8  \n",
       "4                            8  \n",
       "5                           13  "
      ]
     },
     "execution_count": 14,
     "metadata": {},
     "output_type": "execute_result"
    }
   ],
   "source": [
    "Samsung_pd=Samsung_pd[Samsung_pd['Front-Facing Camera Resolution(MP)']!='cmos 8.0']\n",
    "Samsung_pd.head(5)"
   ]
  },
  {
   "cell_type": "code",
   "execution_count": null,
   "metadata": {},
   "outputs": [],
   "source": [
    "Samsung_pd['Front-Facing Camera Resolution(MP)'][Samsung_pd['Front-Facing Camera Resolution(MP)']=='front : 5']=5\n",
    "\n",
    "Samsung_pd['Front-Facing Camera Resolution(MP)'][Samsung_pd['Front-Facing Camera Resolution(MP)']=='1080p@30fps']=1.08\n",
    "Samsung_pd=Samsung_pd[Samsung_pd['Front-Facing Camera Resolution(MP)']!='cmos 8.0']\n",
    "Samsung_pd=Samsung_pd[Samsung_pd['Front-Facing Camera Resolution(MP)']!='2592x1944']\n",
    "Samsung_pd=Samsung_pd[Samsung_pd['Front-Facing Camera Resolution(MP)']!='no']\n",
    "\n",
    "Samsung_pd['Front-Facing Camera Resolution(MP)']=Samsung_pd['Front-Facing Camera Resolution(MP)'].astype(float)\n"
   ]
  },
  {
   "cell_type": "code",
   "execution_count": null,
   "metadata": {},
   "outputs": [],
   "source": [
    "Samsung_pd['Rear Camera Resolution(MP)  '][Samsung_pd['Rear Camera Resolution(MP)  ']=='rear : 16']=16\n",
    "Samsung_pd['Rear Camera Resolution(MP)  '][Samsung_pd['Rear Camera Resolution(MP)  ']=='single 13']=13\n",
    "\n",
    "Samsung_pd['Rear Camera Resolution(MP)  '][Samsung_pd['Rear Camera Resolution(MP)  ']=='x3 camera; 12']=48\n",
    "Samsung_pd['Rear Camera Resolution(MP)  '][Samsung_pd['Rear Camera Resolution(MP)  ']=='x3 camera: 12']=48\n",
    "\n",
    "Samsung_pd['Rear Camera Resolution(MP)  '][Samsung_pd['Rear Camera Resolution(MP)  ']=='triple: 12']=48\n",
    "\n",
    "Samsung_pd['Rear Camera Resolution(MP)  '][Samsung_pd['Rear Camera Resolution(MP)  ']=='25 plus 5']=32\n",
    "Samsung_pd['Rear Camera Resolution(MP)  '][Samsung_pd['Rear Camera Resolution(MP)  ']=='25 plus 8 plus 5']=40\n",
    "Samsung_pd['Rear Camera Resolution(MP)  '][Samsung_pd['Rear Camera Resolution(MP)  ']=='dual camera with dual ois (optical image stabilization)']=24\n",
    "\n",
    "Samsung_pd['Rear Camera Resolution(MP)  ']=Samsung_pd['Rear Camera Resolution(MP)  '].astype(float)"
   ]
  },
  {
   "cell_type": "code",
   "execution_count": 17,
   "metadata": {},
   "outputs": [
    {
     "data": {
      "text/html": [
       "<div>\n",
       "<style scoped>\n",
       "    .dataframe tbody tr th:only-of-type {\n",
       "        vertical-align: middle;\n",
       "    }\n",
       "\n",
       "    .dataframe tbody tr th {\n",
       "        vertical-align: top;\n",
       "    }\n",
       "\n",
       "    .dataframe thead th {\n",
       "        text-align: right;\n",
       "    }\n",
       "</style>\n",
       "<table border=\"1\" class=\"dataframe\">\n",
       "  <thead>\n",
       "    <tr style=\"text-align: right;\">\n",
       "      <th></th>\n",
       "      <th>Price(CAD)</th>\n",
       "      <th>Memory-Built-in(GB)</th>\n",
       "      <th>Display_size(in)</th>\n",
       "      <th>Front-Facing Camera Resolution(MP)</th>\n",
       "      <th>Rear Camera Resolution(MP)</th>\n",
       "    </tr>\n",
       "  </thead>\n",
       "  <tbody>\n",
       "    <tr>\n",
       "      <th>count</th>\n",
       "      <td>529.000000</td>\n",
       "      <td>529.000000</td>\n",
       "      <td>529.000000</td>\n",
       "      <td>529.000000</td>\n",
       "      <td>529.000000</td>\n",
       "    </tr>\n",
       "    <tr>\n",
       "      <th>mean</th>\n",
       "      <td>475.714820</td>\n",
       "      <td>91.834556</td>\n",
       "      <td>5.971890</td>\n",
       "      <td>9.167675</td>\n",
       "      <td>15.551985</td>\n",
       "    </tr>\n",
       "    <tr>\n",
       "      <th>std</th>\n",
       "      <td>340.230766</td>\n",
       "      <td>99.980238</td>\n",
       "      <td>0.486564</td>\n",
       "      <td>4.859675</td>\n",
       "      <td>7.548181</td>\n",
       "    </tr>\n",
       "    <tr>\n",
       "      <th>min</th>\n",
       "      <td>79.990000</td>\n",
       "      <td>0.160000</td>\n",
       "      <td>4.300000</td>\n",
       "      <td>1.080000</td>\n",
       "      <td>5.000000</td>\n",
       "    </tr>\n",
       "    <tr>\n",
       "      <th>25%</th>\n",
       "      <td>219.000000</td>\n",
       "      <td>32.000000</td>\n",
       "      <td>5.800000</td>\n",
       "      <td>8.000000</td>\n",
       "      <td>12.000000</td>\n",
       "    </tr>\n",
       "    <tr>\n",
       "      <th>50%</th>\n",
       "      <td>379.990000</td>\n",
       "      <td>64.000000</td>\n",
       "      <td>6.200000</td>\n",
       "      <td>8.000000</td>\n",
       "      <td>13.000000</td>\n",
       "    </tr>\n",
       "    <tr>\n",
       "      <th>75%</th>\n",
       "      <td>629.990000</td>\n",
       "      <td>128.000000</td>\n",
       "      <td>6.300000</td>\n",
       "      <td>10.000000</td>\n",
       "      <td>16.000000</td>\n",
       "    </tr>\n",
       "    <tr>\n",
       "      <th>max</th>\n",
       "      <td>2109.990000</td>\n",
       "      <td>1000.000000</td>\n",
       "      <td>6.800000</td>\n",
       "      <td>32.000000</td>\n",
       "      <td>56.000000</td>\n",
       "    </tr>\n",
       "  </tbody>\n",
       "</table>\n",
       "</div>"
      ],
      "text/plain": [
       "        Price(CAD)  Memory-Built-in(GB)  Display_size(in)  \\\n",
       "count   529.000000           529.000000        529.000000   \n",
       "mean    475.714820            91.834556          5.971890   \n",
       "std     340.230766            99.980238          0.486564   \n",
       "min      79.990000             0.160000          4.300000   \n",
       "25%     219.000000            32.000000          5.800000   \n",
       "50%     379.990000            64.000000          6.200000   \n",
       "75%     629.990000           128.000000          6.300000   \n",
       "max    2109.990000          1000.000000          6.800000   \n",
       "\n",
       "       Front-Facing Camera Resolution(MP)  Rear Camera Resolution(MP)    \n",
       "count                          529.000000                    529.000000  \n",
       "mean                             9.167675                     15.551985  \n",
       "std                              4.859675                      7.548181  \n",
       "min                              1.080000                      5.000000  \n",
       "25%                              8.000000                     12.000000  \n",
       "50%                              8.000000                     13.000000  \n",
       "75%                             10.000000                     16.000000  \n",
       "max                             32.000000                     56.000000  "
      ]
     },
     "execution_count": 17,
     "metadata": {},
     "output_type": "execute_result"
    }
   ],
   "source": [
    "Samsung_pd.describe()"
   ]
  },
  {
   "cell_type": "code",
   "execution_count": 18,
   "metadata": {},
   "outputs": [],
   "source": [
    "Samsung_pd.to_csv('/Users/sarasaberiyanboroujeni/Documents/Documents/Weclouddata/Webscrapping Projecct/Update_Samsun_phone.csv')"
   ]
  },
  {
   "cell_type": "markdown",
   "metadata": {},
   "source": [
    "### Preprocessing Apple smartphones"
   ]
  },
  {
   "cell_type": "code",
   "execution_count": 58,
   "metadata": {
    "scrolled": false
   },
   "outputs": [
    {
     "data": {
      "text/html": [
       "<div>\n",
       "<style scoped>\n",
       "    .dataframe tbody tr th:only-of-type {\n",
       "        vertical-align: middle;\n",
       "    }\n",
       "\n",
       "    .dataframe tbody tr th {\n",
       "        vertical-align: top;\n",
       "    }\n",
       "\n",
       "    .dataframe thead th {\n",
       "        text-align: right;\n",
       "    }\n",
       "</style>\n",
       "<table border=\"1\" class=\"dataframe\">\n",
       "  <thead>\n",
       "    <tr style=\"text-align: right;\">\n",
       "      <th></th>\n",
       "      <th>Brand</th>\n",
       "      <th>Model</th>\n",
       "      <th>Price(CAD)</th>\n",
       "      <th>Price_save(CAD)</th>\n",
       "      <th>Memory-Built-in(GB)</th>\n",
       "      <th>Ram_size(GB)</th>\n",
       "      <th>Display_resolution(pixels)</th>\n",
       "      <th>Display_size(in)</th>\n",
       "      <th>Colour</th>\n",
       "      <th>CPU</th>\n",
       "      <th>Front-Facing Camera Resolution(MP)</th>\n",
       "      <th>Rear Camera Resolution(MP)</th>\n",
       "    </tr>\n",
       "  </thead>\n",
       "  <tbody>\n",
       "    <tr>\n",
       "      <th>0</th>\n",
       "      <td>APPLE</td>\n",
       "      <td>IPHONE 7</td>\n",
       "      <td>223.40</td>\n",
       "      <td>270</td>\n",
       "      <td>32</td>\n",
       "      <td>2.0</td>\n",
       "      <td>750 x 1334</td>\n",
       "      <td>4.7</td>\n",
       "      <td>Black</td>\n",
       "      <td>Apple A10 Fusion</td>\n",
       "      <td>7.0</td>\n",
       "      <td>12.0</td>\n",
       "    </tr>\n",
       "    <tr>\n",
       "      <th>1</th>\n",
       "      <td>APPLE</td>\n",
       "      <td>IPHONE 8</td>\n",
       "      <td>354.10</td>\n",
       "      <td>245</td>\n",
       "      <td>64</td>\n",
       "      <td>2.0</td>\n",
       "      <td>1334 x 750</td>\n",
       "      <td>4.7</td>\n",
       "      <td>Grey</td>\n",
       "      <td>Apple A11 Bionic</td>\n",
       "      <td>7</td>\n",
       "      <td>12</td>\n",
       "    </tr>\n",
       "    <tr>\n",
       "      <th>2</th>\n",
       "      <td>APPLE</td>\n",
       "      <td>IPHONE XR</td>\n",
       "      <td>598.99</td>\n",
       "      <td>101</td>\n",
       "      <td>64</td>\n",
       "      <td>3.0</td>\n",
       "      <td>1792 x 828</td>\n",
       "      <td>6.1</td>\n",
       "      <td>Black</td>\n",
       "      <td>Apple A12 Bionic</td>\n",
       "      <td>7</td>\n",
       "      <td>12</td>\n",
       "    </tr>\n",
       "    <tr>\n",
       "      <th>3</th>\n",
       "      <td>APPLE</td>\n",
       "      <td>IPHONE 11</td>\n",
       "      <td>979.99</td>\n",
       "      <td>no sale</td>\n",
       "      <td>64</td>\n",
       "      <td>3.0</td>\n",
       "      <td>1792 x 828</td>\n",
       "      <td>6.1</td>\n",
       "      <td>Black</td>\n",
       "      <td>A13 Bionic Chip</td>\n",
       "      <td>7</td>\n",
       "      <td>12</td>\n",
       "    </tr>\n",
       "    <tr>\n",
       "      <th>4</th>\n",
       "      <td>APPLE</td>\n",
       "      <td>IPHONE X</td>\n",
       "      <td>624.99</td>\n",
       "      <td>575</td>\n",
       "      <td>256</td>\n",
       "      <td>3.0</td>\n",
       "      <td>2436 x 1125</td>\n",
       "      <td>5.8</td>\n",
       "      <td>Silver</td>\n",
       "      <td>Apple A11 Bionic</td>\n",
       "      <td>7</td>\n",
       "      <td>12</td>\n",
       "    </tr>\n",
       "  </tbody>\n",
       "</table>\n",
       "</div>"
      ],
      "text/plain": [
       "   Brand      Model  Price(CAD) Price_save(CAD) Memory-Built-in(GB)  \\\n",
       "0  APPLE   IPHONE 7      223.40             270                  32   \n",
       "1  APPLE   IPHONE 8      354.10             245                  64   \n",
       "2  APPLE  IPHONE XR      598.99             101                  64   \n",
       "3  APPLE  IPHONE 11      979.99         no sale                  64   \n",
       "4  APPLE   IPHONE X      624.99             575                 256   \n",
       "\n",
       "   Ram_size(GB) Display_resolution(pixels)  Display_size(in)  Colour  \\\n",
       "0           2.0                 750 x 1334               4.7   Black   \n",
       "1           2.0                 1334 x 750               4.7    Grey   \n",
       "2           3.0                 1792 x 828               6.1   Black   \n",
       "3           3.0                 1792 x 828               6.1   Black   \n",
       "4           3.0                2436 x 1125               5.8  Silver   \n",
       "\n",
       "                CPU Front-Facing Camera Resolution(MP)  \\\n",
       "0  Apple A10 Fusion                                7.0   \n",
       "1  Apple A11 Bionic                                  7   \n",
       "2  Apple A12 Bionic                                  7   \n",
       "3   A13 Bionic Chip                                  7   \n",
       "4  Apple A11 Bionic                                  7   \n",
       "\n",
       "  Rear Camera Resolution(MP)    \n",
       "0                         12.0  \n",
       "1                           12  \n",
       "2                           12  \n",
       "3                           12  \n",
       "4                           12  "
      ]
     },
     "execution_count": 58,
     "metadata": {},
     "output_type": "execute_result"
    }
   ],
   "source": [
    "Apple_pd = pd.read_csv('/Users/sarasaberiyanboroujeni/Documents/Documents/Weclouddata/Webscrapping Projecct/Apple_phones_group_Final2.csv',sep=\",\",index_col=False, encoding='latin-1')\n",
    "Apple_pd.head(5)\n",
    "Apple_pd.drop_duplicates(inplace=True)\n",
    "Apple_pd['Brand']=[t.upper() for t in Apple_pd['Brand']]\n",
    "Apple_pd['Model']=[t.upper() for t in Apple_pd['Model']]\n",
    "Apple_pd.head(5)\n",
    "\n"
   ]
  },
  {
   "cell_type": "code",
   "execution_count": 59,
   "metadata": {},
   "outputs": [
    {
     "data": {
      "text/html": [
       "<div>\n",
       "<style scoped>\n",
       "    .dataframe tbody tr th:only-of-type {\n",
       "        vertical-align: middle;\n",
       "    }\n",
       "\n",
       "    .dataframe tbody tr th {\n",
       "        vertical-align: top;\n",
       "    }\n",
       "\n",
       "    .dataframe thead th {\n",
       "        text-align: right;\n",
       "    }\n",
       "</style>\n",
       "<table border=\"1\" class=\"dataframe\">\n",
       "  <thead>\n",
       "    <tr style=\"text-align: right;\">\n",
       "      <th></th>\n",
       "      <th>Price(CAD)</th>\n",
       "      <th>Ram_size(GB)</th>\n",
       "      <th>Display_size(in)</th>\n",
       "    </tr>\n",
       "  </thead>\n",
       "  <tbody>\n",
       "    <tr>\n",
       "      <th>count</th>\n",
       "      <td>1015.000000</td>\n",
       "      <td>1015.000000</td>\n",
       "      <td>1015.000000</td>\n",
       "    </tr>\n",
       "    <tr>\n",
       "      <th>mean</th>\n",
       "      <td>472.476030</td>\n",
       "      <td>2.384236</td>\n",
       "      <td>5.150837</td>\n",
       "    </tr>\n",
       "    <tr>\n",
       "      <th>std</th>\n",
       "      <td>325.908649</td>\n",
       "      <td>0.833322</td>\n",
       "      <td>0.736373</td>\n",
       "    </tr>\n",
       "    <tr>\n",
       "      <th>min</th>\n",
       "      <td>79.980000</td>\n",
       "      <td>1.000000</td>\n",
       "      <td>3.500000</td>\n",
       "    </tr>\n",
       "    <tr>\n",
       "      <th>25%</th>\n",
       "      <td>248.675000</td>\n",
       "      <td>2.000000</td>\n",
       "      <td>4.700000</td>\n",
       "    </tr>\n",
       "    <tr>\n",
       "      <th>50%</th>\n",
       "      <td>357.000000</td>\n",
       "      <td>2.000000</td>\n",
       "      <td>4.700000</td>\n",
       "    </tr>\n",
       "    <tr>\n",
       "      <th>75%</th>\n",
       "      <td>634.985000</td>\n",
       "      <td>3.000000</td>\n",
       "      <td>5.800000</td>\n",
       "    </tr>\n",
       "    <tr>\n",
       "      <th>max</th>\n",
       "      <td>1999.990000</td>\n",
       "      <td>4.000000</td>\n",
       "      <td>6.500000</td>\n",
       "    </tr>\n",
       "  </tbody>\n",
       "</table>\n",
       "</div>"
      ],
      "text/plain": [
       "        Price(CAD)  Ram_size(GB)  Display_size(in)\n",
       "count  1015.000000   1015.000000       1015.000000\n",
       "mean    472.476030      2.384236          5.150837\n",
       "std     325.908649      0.833322          0.736373\n",
       "min      79.980000      1.000000          3.500000\n",
       "25%     248.675000      2.000000          4.700000\n",
       "50%     357.000000      2.000000          4.700000\n",
       "75%     634.985000      3.000000          5.800000\n",
       "max    1999.990000      4.000000          6.500000"
      ]
     },
     "execution_count": 59,
     "metadata": {},
     "output_type": "execute_result"
    }
   ],
   "source": [
    "Apple_pd.describe()"
   ]
  },
  {
   "cell_type": "code",
   "execution_count": null,
   "metadata": {},
   "outputs": [],
   "source": [
    "Apple_pd['Front-Facing Camera Resolution(MP)'][Apple_pd['Front-Facing Camera Resolution(MP)']=='720p hd']='0.72'\n",
    "Apple_pd=Apple_pd[Apple_pd['Front-Facing Camera Resolution(MP)']!='vga videocalling over wi']\n",
    "\n",
    "Apple_pd['Front-Facing Camera Resolution(MP)']=Apple_pd['Front-Facing Camera Resolution(MP)'].astype(float)\n",
    "\n",
    "\n"
   ]
  },
  {
   "cell_type": "code",
   "execution_count": null,
   "metadata": {},
   "outputs": [],
   "source": [
    "Apple_pd['Memory-Built-in(GB)'][Apple_pd['Memory-Built-in(GB)']=='64 MB']=0.64\n",
    "Apple_pd['Memory-Built-in(GB)'][Apple_pd['Memory-Built-in(GB)']=='16 MB']=0.16\n",
    "Apple_pd['Memory-Built-in(GB)']=Apple_pd['Memory-Built-in(GB)'].astype(float)\n",
    "\n"
   ]
  },
  {
   "cell_type": "code",
   "execution_count": null,
   "metadata": {},
   "outputs": [],
   "source": [
    "Apple_pd['Rear Camera Resolution(MP)  '][Apple_pd['Rear Camera Resolution(MP)  ']=='x3 12']=48\n",
    "Apple_pd['Rear Camera Resolution(MP)  '][Apple_pd['Rear Camera Resolution(MP)  ']=='dual 12']=24\n",
    "Apple_pd['Rear Camera Resolution(MP)  '][Apple_pd['Rear Camera Resolution(MP)  ']=='12 megapixel 4k']=12\n",
    "Apple_pd['Rear Camera Resolution(MP)  '][Apple_pd['Rear Camera Resolution(MP)  ']=='8 megapixel 1080p']=8\n",
    "\n",
    "Apple_pd=Apple_pd[Apple_pd['Rear Camera Resolution(MP)  ']!='digital zoom auto flash digital image stabilization face detection simultaneous hd video and image recording touch to focus. 3264 x 2448 pixels']\n",
    "Apple_pd['Rear Camera Resolution(MP)  ']=Apple_pd['Rear Camera Resolution(MP)  '].astype(float)\n",
    "\n"
   ]
  },
  {
   "cell_type": "code",
   "execution_count": null,
   "metadata": {},
   "outputs": [],
   "source": [
    "Apple_pd['Model'][Apple_pd['Model'].str.startswith('IPHONE SE PLUS')]='IPHONE SE PLUS'\n",
    "\n",
    "\n",
    "Apple_pd['Model'][Apple_pd['Model'].str.startswith('SE')]='IPHONE SE'\n",
    "\n",
    "\n",
    "Apple_pd['Model'][Apple_pd['Model'].str.startswith('IPHONE SE')]='IPHONE SE'\n",
    "Apple_pd['Model'][Apple_pd['Model'].str.startswith('IPHONESE')]='IPHONE SE'\n",
    "Apple_pd['Model'][Apple_pd['Model'].str.startswith('X')]='IPHONE X'\n",
    "\n",
    "\n",
    "\n",
    "Apple_pd['Model'][Apple_pd['Model'].str.startswith('6 PLUS')]='IPHONE 6 PLUS'\n",
    "Apple_pd['Model'][Apple_pd['Model'].str.startswith('6S PLUS')]='IPHONE 6S PLUS'\n",
    "\n",
    "Apple_pd['Model'][Apple_pd['Model'].str.startswith('6S')]='IPHONE 6S'\n",
    "\n",
    "\n",
    "Apple_pd['Model'][Apple_pd['Model'].str.startswith('6')]='IPHONE 6'\n",
    "Apple_pd['Model'][Apple_pd['Model'].str.startswith('5S PLUS')]='IPHONE 5S PLUS'\n",
    "Apple_pd['Model'][Apple_pd['Model'].str.startswith('5S')]='IPHONE 5S'\n",
    "Apple_pd['Model'][Apple_pd['Model'].str.startswith('7 PLUS')]='IPHONE 7 PLUS'\n",
    "\n",
    "\n",
    "Apple_pd['Model'][Apple_pd['Model'].str.startswith('7')]='IPHONE 7'\n",
    "\n",
    "Apple_pd['Model'][Apple_pd['Model'].str.startswith('IPHONE 7 PLUS')]='IPHONE 7 PLUS'\n",
    "\n",
    "Apple_pd['Model'][Apple_pd['Model'].str.startswith('IPHONE 7')]='IPHONE 7'\n",
    "Apple_pd['Model'][Apple_pd['Model'].str.startswith('IPHONE7')]='IPHONE 7'\n",
    "Apple_pd['Model'][Apple_pd['Model'].str.startswith('IPHONE 8')]='IPHONE 7'"
   ]
  },
  {
   "cell_type": "code",
   "execution_count": 33,
   "metadata": {},
   "outputs": [],
   "source": [
    "\n",
    "Apple_pd.to_csv('/Users/sarasaberiyanboroujeni/Documents/Documents/Weclouddata/Webscrapping Projecct/Update_Apple_phone.csv')"
   ]
  },
  {
   "cell_type": "markdown",
   "metadata": {},
   "source": [
    "## Analyzing Apple and Samsung "
   ]
  },
  {
   "cell_type": "code",
   "execution_count": null,
   "metadata": {},
   "outputs": [],
   "source": [
    "Samsung_Apple=pd.concat([Samsung_pd, Apple_pd])\n",
    "Samsung_Apple\n",
    "Samsung_Apple['Brand'][Samsung_Apple['Brand']=='NEW-SAMSUNG']='SAMSUNG'\n",
    "Samsung_Apple['Brand'][Samsung_Apple['Brand']=='IPHONE']='APPLE'\n",
    "\n",
    "\n",
    "Samsung_Apple=Samsung_Apple[Samsung_Apple['Brand'].isin(['SAMSUNG','APPLE'])]\n",
    "\n",
    "Samsung_Apple['Ram_size(GB)']=Samsung_Apple['Ram_size(GB)'].astype(float)\n",
    "Samsung_Apple['Memory-Built-in(GB)']=Samsung_Apple['Memory-Built-in(GB)'].astype(float)\n",
    "\n",
    "Samsung_Apple['Front-Facing Camera Resolution(MP)']=Samsung_Apple['Front-Facing Camera Resolution(MP)'].astype(float)\n",
    "\n",
    "Samsung_Apple['Rear Camera Resolution(MP)  ']=Samsung_Apple['Rear Camera Resolution(MP)  '].astype(float)\n",
    "\n",
    "\n",
    "Samsung_Apple.to_csv('/Users/sarasaberiyanboroujeni/Documents/Documents/Weclouddata/Webscrapping Projecct/update_samsung_apple.csv')\n",
    "\n"
   ]
  },
  {
   "cell_type": "markdown",
   "metadata": {},
   "source": [
    "#### Price Distribution"
   ]
  },
  {
   "cell_type": "code",
   "execution_count": 38,
   "metadata": {},
   "outputs": [
    {
     "data": {
      "application/vnd.plotly.v1+json": {
       "config": {
        "plotlyServerURL": "https://plot.ly"
       },
       "data": [
        {
         "alignmentgroup": "True",
         "bingroup": "x",
         "hoverlabel": {
          "namelength": 0
         },
         "hovertemplate": "Brand=SAMSUNG<br>Price(CAD)=%{x}<br>count=%{y}",
         "legendgroup": "SAMSUNG",
         "marker": {
          "color": "#636efa"
         },
         "name": "SAMSUNG",
         "offsetgroup": "SAMSUNG",
         "orientation": "v",
         "showlegend": true,
         "type": "histogram",
         "x": [
          179.99,
          1849.99,
          1319.99,
          2109.99,
          149.97,
          939.99,
          629.99,
          1579.99,
          449.95,
          368.9,
          1579.99,
          399.95,
          349.99,
          639.99,
          1459.99,
          249.99,
          163,
          389.84,
          344,
          1129.99,
          99.99,
          979.99,
          198.99,
          1819.99,
          279.99,
          499.99,
          198.99,
          1259.99,
          412.98,
          1459.99,
          191,
          1259.99,
          1129.99,
          164.8,
          419.99,
          1399.99,
          373.52,
          379.99,
          288.89,
          378.18,
          574.94,
          798.4,
          979.99,
          168.85,
          639.99,
          628.99,
          599.99,
          436,
          809,
          999.99,
          388.72,
          281,
          1779.99,
          847.8,
          224.99,
          186,
          689.99,
          879.99,
          1049.99,
          829.99,
          379.99,
          338,
          639.99,
          408,
          298.99,
          149.99,
          380,
          698,
          122,
          199.89,
          88.88,
          779,
          1299.99,
          897,
          398,
          1819.99,
          949.99,
          610,
          284,
          222.42,
          189.99,
          899,
          668,
          610,
          949.99,
          169.99,
          109,
          177.99,
          629.99,
          649,
          599,
          179.99,
          1149.99,
          576.99,
          899.99,
          279.99,
          798.89,
          949.99,
          149.09,
          1149.99,
          343.98,
          378.34,
          399,
          347.5,
          219.99,
          1149.99,
          401.9,
          629.99,
          399.99,
          499,
          108,
          195,
          699,
          292.72,
          371.49,
          367.72,
          102.72,
          199.99,
          79.99,
          154,
          111.99,
          129.99,
          149,
          599.99,
          714.99,
          439.69,
          399.72,
          199.99,
          869.99,
          224.99,
          809.99,
          199,
          152.02,
          419.99,
          197,
          289,
          729.49,
          159,
          349.99,
          649.99,
          299.99,
          379.99,
          229,
          949.99,
          279.99,
          159.19,
          144,
          699.99,
          164.98,
          299.99,
          340,
          729.49,
          879,
          779.99,
          534,
          469.99,
          144.99,
          1349.99,
          109.98,
          419.99,
          449.99,
          699.72,
          182.72,
          949.99,
          897.95,
          147.99,
          690,
          119.89,
          367.69,
          400,
          205,
          379.99,
          179.98,
          369.72,
          269,
          149.98,
          849.95,
          999.99,
          474,
          535.88,
          247,
          149.99,
          799,
          124.97,
          1029.99,
          327,
          599.99,
          339.99,
          899,
          907.35,
          159.99,
          239.99,
          420,
          489,
          399,
          379.99,
          1599.95,
          199.99,
          166,
          173.65,
          389.99,
          534,
          119.99,
          289,
          249.99,
          397.72,
          185,
          1399.99,
          370,
          899.99,
          799.99,
          143.68,
          319,
          388,
          189,
          380,
          128.9,
          539.99,
          349,
          299.25,
          379,
          546.99,
          699.99,
          164.49,
          599.99,
          194.99,
          179.72,
          399.99,
          359.72,
          449.99,
          149.99,
          1049.99,
          199.99,
          299.99,
          89.99,
          229.99,
          899,
          185.72,
          999.99,
          429.84,
          799.99,
          399.84,
          396,
          729.99,
          1199,
          112.5,
          346,
          149,
          559,
          389.99,
          399.84,
          129,
          532.45,
          129.72,
          699.99,
          144,
          299.99,
          299.99,
          1499.99,
          194.49,
          899.99,
          328,
          299.99,
          449,
          336,
          690,
          869.97,
          165,
          489.99,
          689,
          709.99,
          239.99,
          199.99,
          598,
          419,
          189.99,
          229.99,
          399.99,
          152.08,
          749.99,
          349,
          399,
          599,
          189.99,
          399,
          370,
          149.99,
          589.99,
          219,
          519.99,
          449.98,
          248,
          759.91,
          197.99,
          149,
          859.43,
          619.69,
          899.95,
          339,
          199.99,
          999.99,
          308,
          199.99,
          789.99,
          1149.97,
          584,
          227.98,
          146,
          129.99,
          609.99,
          349,
          279.98,
          399,
          275,
          399,
          379.99,
          229.99,
          399,
          250,
          329,
          239,
          500,
          179,
          269,
          259,
          559.99,
          259.99,
          425,
          259,
          349,
          239,
          219,
          175,
          149.98,
          139.72,
          110,
          149,
          499,
          299,
          729.99,
          559.99,
          179,
          249,
          279.98,
          699,
          259,
          219.99,
          289.99,
          359.99,
          1589.99,
          249.99,
          449.99,
          429,
          149.99,
          875.99,
          1179.99,
          299.99,
          1199.99,
          230,
          349.98,
          595,
          429,
          349.99,
          329.99,
          449.99,
          649.99,
          289,
          199.99,
          262.99,
          1149.99,
          249.99,
          1249.99,
          1239.99,
          299.99,
          210,
          399,
          239,
          588,
          149.72,
          198.72,
          611.99,
          159.99,
          469,
          229.99,
          1179.99,
          159,
          599,
          229.9,
          328,
          379.72,
          199.72,
          367.72,
          999,
          179,
          698.99,
          875.99,
          1239.96,
          854.99,
          759.99,
          289,
          220,
          299,
          199.99,
          149.72,
          189,
          289.99,
          149.72,
          598.49,
          259,
          679.99,
          99.99,
          185.99,
          199,
          199,
          120,
          809.99,
          149,
          146.68,
          899,
          699,
          449,
          349,
          449,
          499,
          149,
          299,
          589,
          470.99,
          197.99,
          499,
          689,
          439,
          439,
          429,
          599,
          199,
          499,
          467,
          319.99,
          339.99,
          589.99,
          999.99,
          799.99,
          599.99,
          699.99,
          348.99,
          189.99,
          205.99,
          139.99,
          389.99,
          949.99,
          389.99,
          229.99,
          357.94,
          218.89,
          548.85,
          429.64,
          699.99,
          649.99,
          539.99,
          589.99,
          279.99,
          347.69,
          669.99,
          549,
          809.99,
          579.99,
          587.99,
          369.99,
          549,
          319,
          469,
          235,
          198,
          299.9,
          239,
          229.99,
          289,
          199.99,
          449,
          399.99,
          346,
          399.99,
          299.99,
          299.99,
          229.99,
          159.99,
          329.99,
          199,
          389.99,
          249.99,
          129.99,
          679,
          199.87,
          519.99,
          239.99,
          1049.49,
          599.99,
          187.99,
          489.99,
          185.99,
          399,
          399,
          449.99,
          129.99,
          789.99
         ],
         "xaxis": "x",
         "yaxis": "y"
        },
        {
         "alignmentgroup": "True",
         "bingroup": "x",
         "hoverlabel": {
          "namelength": 0
         },
         "hovertemplate": "Brand=APPLE<br>Price(CAD)=%{x}<br>count=%{y}",
         "legendgroup": "APPLE",
         "marker": {
          "color": "#EF553B"
         },
         "name": "APPLE",
         "offsetgroup": "APPLE",
         "orientation": "v",
         "showlegend": true,
         "type": "histogram",
         "x": [
          223.4,
          354.1,
          598.99,
          979.99,
          624.99,
          609,
          396,
          979.99,
          1519.99,
          351.9,
          799.99,
          644.99,
          699.99,
          979.99,
          399,
          699.99,
          499.99,
          178.08,
          599.99,
          159,
          1519.99,
          159.08,
          443,
          1519.99,
          334.5,
          1049.99,
          809.97,
          647.98,
          261.5,
          899.99,
          195,
          373.93,
          599.99,
          283.03,
          1259.99,
          407.47,
          299.98,
          646,
          1379.99,
          699.99,
          899.99,
          799.95,
          299,
          334,
          269,
          979.99,
          599.9,
          1229.95,
          1379.99,
          348,
          799.99,
          379.99,
          1049.99,
          799.99,
          1379.95,
          579.99,
          1399.99,
          629.49,
          699,
          344.02,
          359.09,
          559.87,
          628.99,
          348,
          221.02,
          794,
          407.16,
          346,
          899.99,
          598,
          792,
          971.4,
          699.99,
          679.99,
          1379.99,
          895.59,
          679.98,
          1399.99,
          854.99,
          999,
          374.04,
          508.5,
          899.99,
          1169.99,
          874,
          744.99,
          208.4,
          419,
          279.97,
          244.95,
          699.99,
          144.04,
          448.4,
          167.02,
          247,
          1299.99,
          137.07,
          643,
          1259.99,
          1299.99,
          138.06,
          159.09,
          809,
          1049.99,
          376.08,
          399.99,
          999.99,
          178.08,
          594.99,
          935,
          749.99,
          449.97,
          187.07,
          1449.99,
          599.99,
          99.98,
          326.06,
          1099.99,
          447.9,
          1399.99,
          559.79,
          268.99,
          475,
          178.88,
          809.98,
          319.88,
          399.98,
          563.99,
          199.95,
          332.79,
          1169.99,
          749.99,
          1169.99,
          207,
          224.95,
          449.99,
          1259.99,
          287,
          1299.99,
          1204.99,
          79.98,
          154.04,
          643,
          999.99,
          299.95,
          1124.99,
          259.09,
          875,
          1259.99,
          229.99,
          589,
          1399,
          449.97,
          193.76,
          999,
          529,
          649.99,
          429.88,
          352,
          749.99,
          257.9,
          672.99,
          435.3,
          529.99,
          1399.99,
          619.99,
          749.99,
          719.99,
          1099.99,
          1299.99,
          744.99,
          98.08,
          308.35,
          679.99,
          619,
          328.2,
          375.99,
          139.98,
          235.55,
          109.68,
          299,
          244.95,
          264.95,
          379.99,
          244.95,
          799.99,
          259.98,
          699.98,
          449.99,
          549.99,
          445.94,
          340.99,
          829.99,
          739.79,
          179.99,
          895.15,
          643.53,
          699.99,
          619.99,
          159.98,
          217.07,
          699.99,
          199.98,
          93.99,
          604.99,
          1249.99,
          629.99,
          149,
          149.98,
          88.88,
          1500,
          136.06,
          314.94,
          80,
          599.99,
          458.99,
          899.99,
          229.08,
          384.89,
          617.9,
          1089.99,
          749.99,
          388.08,
          1199.99,
          999.99,
          157.08,
          599,
          443.97,
          719.78,
          289.9,
          629.79,
          121,
          999.99,
          692.99,
          349.99,
          185,
          199,
          854.99,
          619.99,
          799.99,
          98.08,
          80,
          134.08,
          1729.99,
          119.99,
          609,
          1999.99,
          265.95,
          413.99,
          389,
          279.09,
          880.99,
          229.99,
          98,
          168.88,
          1589.99,
          1500,
          199.98,
          1169.99,
          184.95,
          162.39,
          599.99,
          156,
          288.65,
          499,
          1300,
          369.98,
          156.08,
          299,
          328.86,
          749,
          1045.95,
          750,
          438.98,
          798.99,
          658.78,
          469.99,
          629.99,
          979.97,
          899.99,
          139.99,
          158.08,
          499.99,
          1789.49,
          1379.99,
          978.99,
          299.99,
          284.08,
          854.99,
          445.89,
          289.99,
          169.98,
          209.99,
          123.98,
          359.99,
          988.93,
          899.99,
          1259.99,
          398.91,
          262,
          168.08,
          158.06,
          869,
          287.99,
          679.99,
          949.99,
          128.08,
          699.99,
          209,
          1500,
          879,
          834.15,
          1099.95,
          234.04,
          692.87,
          138,
          90,
          429.19,
          229,
          999.99,
          644.99,
          179.99,
          286.05,
          499.98,
          184,
          1300,
          168.88,
          599.99,
          1199,
          99.99,
          1199.99,
          1000,
          1259.99,
          199.98,
          695.05,
          834.15,
          639.99,
          336.06,
          834.15,
          369.98,
          266.95,
          499.99,
          349.98,
          289.98,
          569.89,
          1469,
          700,
          659,
          692.99,
          169.99,
          619,
          506.29,
          244.95,
          248,
          249.08,
          262,
          369.99,
          1300,
          219.88,
          128,
          109.24,
          499.99,
          249.99,
          675.99,
          138.36,
          109.89,
          196,
          584.97,
          924,
          854.99,
          299.95,
          999,
          935,
          639.98,
          138.88,
          199.89,
          188.95,
          874.1,
          298.98,
          149.68,
          296.99,
          126.98,
          409.99,
          329.98,
          348.88,
          149.68,
          388.98,
          267.07,
          362.18,
          388.98,
          288.68,
          299,
          90,
          600,
          399.98,
          129.98,
          359,
          499,
          319.98,
          429,
          399,
          329.98,
          385.99,
          340.99,
          384.99,
          275,
          802.99,
          670.99,
          719.99,
          159.98,
          599,
          934.99,
          670.99,
          311.99,
          398.68,
          279.98,
          329,
          699.99,
          299,
          849.99,
          249,
          129,
          335.95,
          599,
          339,
          139,
          369,
          359,
          298.68,
          279,
          399,
          199,
          318.99,
          279,
          359,
          289,
          399,
          299,
          379,
          1277.99,
          499,
          429,
          359,
          295,
          735.99,
          411.99,
          340.99,
          758.99,
          296.99,
          692.99,
          399,
          179,
          399,
          329,
          299,
          448.99,
          299,
          168.89,
          399,
          349,
          359,
          392.95,
          299,
          169.68,
          529.99,
          349,
          899,
          299.99,
          329,
          189.99,
          600,
          458.99,
          199,
          934.99,
          881.99,
          729,
          741.99,
          384.99,
          934.99,
          439.99,
          584.99,
          296.99,
          439.99,
          439.99,
          411.99,
          758.99,
          356.99,
          199.95,
          626.99,
          875.99,
          340.99,
          279,
          339,
          199,
          299,
          295.99,
          399,
          289,
          399,
          349,
          359,
          384.99,
          249,
          399,
          192.95,
          179.95,
          296.99,
          824.99,
          934.99,
          356.99,
          340.99,
          252.99,
          325,
          399,
          737.99,
          758.99,
          368.08,
          494.99,
          318.99,
          325,
          289,
          289.98,
          394.48,
          128.88,
          179.98,
          449.99,
          399,
          299,
          749.99,
          295.95,
          658.95,
          418.71,
          356.99,
          380.99,
          310.99,
          299,
          199,
          934.99,
          199,
          849.94,
          228.94,
          180,
          150,
          799,
          318.88,
          268.68,
          299.98,
          549.99,
          299.98,
          399.98,
          499.99,
          199,
          369,
          289,
          188.98,
          339.98,
          137.58,
          249.98,
          699.98,
          169.98,
          195,
          259,
          229.99,
          288.92,
          389.99,
          429,
          199.68,
          349,
          550,
          299,
          349,
          349,
          279,
          199.98,
          379,
          359,
          499,
          694.99,
          249,
          289,
          579,
          529,
          379,
          699,
          269.97,
          899.99,
          329.98,
          490,
          298,
          209.95,
          149.98,
          283.08,
          299,
          299,
          459.99,
          599,
          449,
          209.99,
          198.88,
          411.99,
          229.99,
          274.99,
          439.99,
          411.99,
          258.99,
          179.88,
          399.99,
          384.99,
          268.98,
          284,
          245.88,
          314.95,
          670.99,
          1100,
          378.95,
          389.99,
          308.95,
          289,
          100,
          409.99,
          308.28,
          307.93,
          299,
          903.99,
          923.99,
          379,
          279,
          159.98,
          259,
          279.99,
          510,
          524.99,
          179.95,
          1299,
          258.08,
          499.99,
          187.77,
          186.83,
          123,
          204,
          171.06,
          209.99,
          209.99,
          209.99,
          199.99,
          309.99,
          184.95,
          215.99,
          249.86,
          269.99,
          349.99,
          257.99,
          299.99,
          274.49,
          498.89,
          278.46,
          269.95,
          138.59,
          237.99,
          349.99,
          499.99,
          849.99,
          949.99,
          949.99,
          949.99,
          499.99,
          411.99,
          247.98,
          225.88,
          199.95,
          357,
          297.86,
          289.95,
          519.54,
          169.99,
          284.69,
          146.67,
          174.98,
          289.69,
          339.64,
          739.54,
          474.64,
          284.69,
          448.94,
          339.69,
          157.64,
          153.6,
          429.64,
          149.54,
          334.69,
          449.54,
          339.64,
          319.64,
          418.44,
          339.69,
          149.95,
          424.54,
          158.91,
          338.94,
          439.69,
          239.54,
          499.99,
          459.99,
          429.99,
          599.99,
          619.99,
          439.99,
          109.99,
          626.99,
          293.95,
          538.49,
          269.99,
          379.99,
          298.95,
          390.9,
          1199.99,
          399.99,
          664.99,
          184.68,
          328.23,
          244.89,
          298.69,
          429.99,
          588.95,
          308.46,
          234.95,
          410.76,
          1025,
          398.08,
          138.52,
          408.68,
          202.49,
          567.14,
          249.95,
          412.93,
          379.89,
          248.99,
          195,
          399.99,
          199,
          349.99,
          399.99,
          289.99,
          289.99,
          289.99,
          399.99,
          729.99,
          729.99,
          369,
          319,
          729.99,
          729.99,
          186.06,
          899.99,
          930,
          128.08,
          299,
          469,
          439.99,
          396.99,
          348.86,
          198.95,
          140,
          440,
          440,
          190,
          184.97,
          725,
          194.64,
          241.95,
          989.99,
          179.99,
          139.99,
          159.48,
          228.95,
          349.95,
          139.99,
          199.99,
          375,
          375,
          198.78,
          675,
          675,
          209.26,
          619.99,
          499.99,
          328.68,
          165.39,
          158.74,
          149.95,
          420.86,
          149.95,
          375,
          398.95,
          179.99,
          999.99,
          319.99,
          1059.99,
          859.99,
          159.99,
          219.99,
          389,
          159.99,
          159.99,
          319.99,
          247,
          267.95,
          309,
          315,
          325,
          269,
          289,
          655,
          875,
          645,
          269,
          249,
          325,
          195,
          245,
          245,
          285,
          279,
          325,
          398.63,
          499,
          285,
          245,
          279,
          1179,
          575,
          411.94,
          679,
          329,
          269,
          1035,
          289,
          319,
          499,
          499,
          98,
          279,
          279,
          525,
          319,
          315,
          359,
          129.99,
          308.89,
          499.99,
          199.99,
          149.99,
          156.06,
          134.04,
          449.99,
          299.99,
          149.99,
          299.99,
          699.99,
          179.99,
          399.99,
          499.99,
          189.99,
          249.99,
          299.99,
          749.99,
          299.99,
          169.99,
          299.99,
          179.99,
          888,
          159.99,
          879.95,
          899.99,
          209,
          1299,
          159.99,
          239.99,
          699.99,
          1399,
          199.99,
          268.88,
          299.99,
          1549.99,
          199.99,
          959.99,
          149.99,
          824.99,
          349.95,
          189.92,
          191.26,
          285.99,
          729.99,
          499.99,
          379.95,
          369.95,
          363.95,
          341.18,
          332.76,
          169.99,
          123.95,
          409,
          1619.99,
          1304.99,
          1529.99,
          388.86,
          854.99,
          337.95,
          333.95,
          287.46,
          285,
          245,
          309,
          245,
          148.54,
          189.86,
          249.97,
          1049.99,
          735.99,
          279.99,
          239.42,
          250,
          188.89,
          226.26,
          248.36,
          422.95,
          222.95,
          259.65,
          529,
          339.46,
          173.16,
          429.43,
          234.26,
          228.86,
          658.78,
          407.16,
          295.84,
          224.17,
          658.78,
          224.17,
          735.03,
          895.15,
          324.43,
          148.95,
          352.95,
          719.78,
          825,
          371,
          194,
          859.99
         ],
         "xaxis": "x",
         "yaxis": "y"
        }
       ],
       "layout": {
        "barmode": "relative",
        "legend": {
         "title": {
          "text": "Brand"
         },
         "tracegroupgap": 0
        },
        "margin": {
         "t": 60
        },
        "template": {
         "data": {
          "bar": [
           {
            "error_x": {
             "color": "#2a3f5f"
            },
            "error_y": {
             "color": "#2a3f5f"
            },
            "marker": {
             "line": {
              "color": "#E5ECF6",
              "width": 0.5
             }
            },
            "type": "bar"
           }
          ],
          "barpolar": [
           {
            "marker": {
             "line": {
              "color": "#E5ECF6",
              "width": 0.5
             }
            },
            "type": "barpolar"
           }
          ],
          "carpet": [
           {
            "aaxis": {
             "endlinecolor": "#2a3f5f",
             "gridcolor": "white",
             "linecolor": "white",
             "minorgridcolor": "white",
             "startlinecolor": "#2a3f5f"
            },
            "baxis": {
             "endlinecolor": "#2a3f5f",
             "gridcolor": "white",
             "linecolor": "white",
             "minorgridcolor": "white",
             "startlinecolor": "#2a3f5f"
            },
            "type": "carpet"
           }
          ],
          "choropleth": [
           {
            "colorbar": {
             "outlinewidth": 0,
             "ticks": ""
            },
            "type": "choropleth"
           }
          ],
          "contour": [
           {
            "colorbar": {
             "outlinewidth": 0,
             "ticks": ""
            },
            "colorscale": [
             [
              0,
              "#0d0887"
             ],
             [
              0.1111111111111111,
              "#46039f"
             ],
             [
              0.2222222222222222,
              "#7201a8"
             ],
             [
              0.3333333333333333,
              "#9c179e"
             ],
             [
              0.4444444444444444,
              "#bd3786"
             ],
             [
              0.5555555555555556,
              "#d8576b"
             ],
             [
              0.6666666666666666,
              "#ed7953"
             ],
             [
              0.7777777777777778,
              "#fb9f3a"
             ],
             [
              0.8888888888888888,
              "#fdca26"
             ],
             [
              1,
              "#f0f921"
             ]
            ],
            "type": "contour"
           }
          ],
          "contourcarpet": [
           {
            "colorbar": {
             "outlinewidth": 0,
             "ticks": ""
            },
            "type": "contourcarpet"
           }
          ],
          "heatmap": [
           {
            "colorbar": {
             "outlinewidth": 0,
             "ticks": ""
            },
            "colorscale": [
             [
              0,
              "#0d0887"
             ],
             [
              0.1111111111111111,
              "#46039f"
             ],
             [
              0.2222222222222222,
              "#7201a8"
             ],
             [
              0.3333333333333333,
              "#9c179e"
             ],
             [
              0.4444444444444444,
              "#bd3786"
             ],
             [
              0.5555555555555556,
              "#d8576b"
             ],
             [
              0.6666666666666666,
              "#ed7953"
             ],
             [
              0.7777777777777778,
              "#fb9f3a"
             ],
             [
              0.8888888888888888,
              "#fdca26"
             ],
             [
              1,
              "#f0f921"
             ]
            ],
            "type": "heatmap"
           }
          ],
          "heatmapgl": [
           {
            "colorbar": {
             "outlinewidth": 0,
             "ticks": ""
            },
            "colorscale": [
             [
              0,
              "#0d0887"
             ],
             [
              0.1111111111111111,
              "#46039f"
             ],
             [
              0.2222222222222222,
              "#7201a8"
             ],
             [
              0.3333333333333333,
              "#9c179e"
             ],
             [
              0.4444444444444444,
              "#bd3786"
             ],
             [
              0.5555555555555556,
              "#d8576b"
             ],
             [
              0.6666666666666666,
              "#ed7953"
             ],
             [
              0.7777777777777778,
              "#fb9f3a"
             ],
             [
              0.8888888888888888,
              "#fdca26"
             ],
             [
              1,
              "#f0f921"
             ]
            ],
            "type": "heatmapgl"
           }
          ],
          "histogram": [
           {
            "marker": {
             "colorbar": {
              "outlinewidth": 0,
              "ticks": ""
             }
            },
            "type": "histogram"
           }
          ],
          "histogram2d": [
           {
            "colorbar": {
             "outlinewidth": 0,
             "ticks": ""
            },
            "colorscale": [
             [
              0,
              "#0d0887"
             ],
             [
              0.1111111111111111,
              "#46039f"
             ],
             [
              0.2222222222222222,
              "#7201a8"
             ],
             [
              0.3333333333333333,
              "#9c179e"
             ],
             [
              0.4444444444444444,
              "#bd3786"
             ],
             [
              0.5555555555555556,
              "#d8576b"
             ],
             [
              0.6666666666666666,
              "#ed7953"
             ],
             [
              0.7777777777777778,
              "#fb9f3a"
             ],
             [
              0.8888888888888888,
              "#fdca26"
             ],
             [
              1,
              "#f0f921"
             ]
            ],
            "type": "histogram2d"
           }
          ],
          "histogram2dcontour": [
           {
            "colorbar": {
             "outlinewidth": 0,
             "ticks": ""
            },
            "colorscale": [
             [
              0,
              "#0d0887"
             ],
             [
              0.1111111111111111,
              "#46039f"
             ],
             [
              0.2222222222222222,
              "#7201a8"
             ],
             [
              0.3333333333333333,
              "#9c179e"
             ],
             [
              0.4444444444444444,
              "#bd3786"
             ],
             [
              0.5555555555555556,
              "#d8576b"
             ],
             [
              0.6666666666666666,
              "#ed7953"
             ],
             [
              0.7777777777777778,
              "#fb9f3a"
             ],
             [
              0.8888888888888888,
              "#fdca26"
             ],
             [
              1,
              "#f0f921"
             ]
            ],
            "type": "histogram2dcontour"
           }
          ],
          "mesh3d": [
           {
            "colorbar": {
             "outlinewidth": 0,
             "ticks": ""
            },
            "type": "mesh3d"
           }
          ],
          "parcoords": [
           {
            "line": {
             "colorbar": {
              "outlinewidth": 0,
              "ticks": ""
             }
            },
            "type": "parcoords"
           }
          ],
          "pie": [
           {
            "automargin": true,
            "type": "pie"
           }
          ],
          "scatter": [
           {
            "marker": {
             "colorbar": {
              "outlinewidth": 0,
              "ticks": ""
             }
            },
            "type": "scatter"
           }
          ],
          "scatter3d": [
           {
            "line": {
             "colorbar": {
              "outlinewidth": 0,
              "ticks": ""
             }
            },
            "marker": {
             "colorbar": {
              "outlinewidth": 0,
              "ticks": ""
             }
            },
            "type": "scatter3d"
           }
          ],
          "scattercarpet": [
           {
            "marker": {
             "colorbar": {
              "outlinewidth": 0,
              "ticks": ""
             }
            },
            "type": "scattercarpet"
           }
          ],
          "scattergeo": [
           {
            "marker": {
             "colorbar": {
              "outlinewidth": 0,
              "ticks": ""
             }
            },
            "type": "scattergeo"
           }
          ],
          "scattergl": [
           {
            "marker": {
             "colorbar": {
              "outlinewidth": 0,
              "ticks": ""
             }
            },
            "type": "scattergl"
           }
          ],
          "scattermapbox": [
           {
            "marker": {
             "colorbar": {
              "outlinewidth": 0,
              "ticks": ""
             }
            },
            "type": "scattermapbox"
           }
          ],
          "scatterpolar": [
           {
            "marker": {
             "colorbar": {
              "outlinewidth": 0,
              "ticks": ""
             }
            },
            "type": "scatterpolar"
           }
          ],
          "scatterpolargl": [
           {
            "marker": {
             "colorbar": {
              "outlinewidth": 0,
              "ticks": ""
             }
            },
            "type": "scatterpolargl"
           }
          ],
          "scatterternary": [
           {
            "marker": {
             "colorbar": {
              "outlinewidth": 0,
              "ticks": ""
             }
            },
            "type": "scatterternary"
           }
          ],
          "surface": [
           {
            "colorbar": {
             "outlinewidth": 0,
             "ticks": ""
            },
            "colorscale": [
             [
              0,
              "#0d0887"
             ],
             [
              0.1111111111111111,
              "#46039f"
             ],
             [
              0.2222222222222222,
              "#7201a8"
             ],
             [
              0.3333333333333333,
              "#9c179e"
             ],
             [
              0.4444444444444444,
              "#bd3786"
             ],
             [
              0.5555555555555556,
              "#d8576b"
             ],
             [
              0.6666666666666666,
              "#ed7953"
             ],
             [
              0.7777777777777778,
              "#fb9f3a"
             ],
             [
              0.8888888888888888,
              "#fdca26"
             ],
             [
              1,
              "#f0f921"
             ]
            ],
            "type": "surface"
           }
          ],
          "table": [
           {
            "cells": {
             "fill": {
              "color": "#EBF0F8"
             },
             "line": {
              "color": "white"
             }
            },
            "header": {
             "fill": {
              "color": "#C8D4E3"
             },
             "line": {
              "color": "white"
             }
            },
            "type": "table"
           }
          ]
         },
         "layout": {
          "annotationdefaults": {
           "arrowcolor": "#2a3f5f",
           "arrowhead": 0,
           "arrowwidth": 1
          },
          "coloraxis": {
           "colorbar": {
            "outlinewidth": 0,
            "ticks": ""
           }
          },
          "colorscale": {
           "diverging": [
            [
             0,
             "#8e0152"
            ],
            [
             0.1,
             "#c51b7d"
            ],
            [
             0.2,
             "#de77ae"
            ],
            [
             0.3,
             "#f1b6da"
            ],
            [
             0.4,
             "#fde0ef"
            ],
            [
             0.5,
             "#f7f7f7"
            ],
            [
             0.6,
             "#e6f5d0"
            ],
            [
             0.7,
             "#b8e186"
            ],
            [
             0.8,
             "#7fbc41"
            ],
            [
             0.9,
             "#4d9221"
            ],
            [
             1,
             "#276419"
            ]
           ],
           "sequential": [
            [
             0,
             "#0d0887"
            ],
            [
             0.1111111111111111,
             "#46039f"
            ],
            [
             0.2222222222222222,
             "#7201a8"
            ],
            [
             0.3333333333333333,
             "#9c179e"
            ],
            [
             0.4444444444444444,
             "#bd3786"
            ],
            [
             0.5555555555555556,
             "#d8576b"
            ],
            [
             0.6666666666666666,
             "#ed7953"
            ],
            [
             0.7777777777777778,
             "#fb9f3a"
            ],
            [
             0.8888888888888888,
             "#fdca26"
            ],
            [
             1,
             "#f0f921"
            ]
           ],
           "sequentialminus": [
            [
             0,
             "#0d0887"
            ],
            [
             0.1111111111111111,
             "#46039f"
            ],
            [
             0.2222222222222222,
             "#7201a8"
            ],
            [
             0.3333333333333333,
             "#9c179e"
            ],
            [
             0.4444444444444444,
             "#bd3786"
            ],
            [
             0.5555555555555556,
             "#d8576b"
            ],
            [
             0.6666666666666666,
             "#ed7953"
            ],
            [
             0.7777777777777778,
             "#fb9f3a"
            ],
            [
             0.8888888888888888,
             "#fdca26"
            ],
            [
             1,
             "#f0f921"
            ]
           ]
          },
          "colorway": [
           "#636efa",
           "#EF553B",
           "#00cc96",
           "#ab63fa",
           "#FFA15A",
           "#19d3f3",
           "#FF6692",
           "#B6E880",
           "#FF97FF",
           "#FECB52"
          ],
          "font": {
           "color": "#2a3f5f"
          },
          "geo": {
           "bgcolor": "white",
           "lakecolor": "white",
           "landcolor": "#E5ECF6",
           "showlakes": true,
           "showland": true,
           "subunitcolor": "white"
          },
          "hoverlabel": {
           "align": "left"
          },
          "hovermode": "closest",
          "mapbox": {
           "style": "light"
          },
          "paper_bgcolor": "white",
          "plot_bgcolor": "#E5ECF6",
          "polar": {
           "angularaxis": {
            "gridcolor": "white",
            "linecolor": "white",
            "ticks": ""
           },
           "bgcolor": "#E5ECF6",
           "radialaxis": {
            "gridcolor": "white",
            "linecolor": "white",
            "ticks": ""
           }
          },
          "scene": {
           "xaxis": {
            "backgroundcolor": "#E5ECF6",
            "gridcolor": "white",
            "gridwidth": 2,
            "linecolor": "white",
            "showbackground": true,
            "ticks": "",
            "zerolinecolor": "white"
           },
           "yaxis": {
            "backgroundcolor": "#E5ECF6",
            "gridcolor": "white",
            "gridwidth": 2,
            "linecolor": "white",
            "showbackground": true,
            "ticks": "",
            "zerolinecolor": "white"
           },
           "zaxis": {
            "backgroundcolor": "#E5ECF6",
            "gridcolor": "white",
            "gridwidth": 2,
            "linecolor": "white",
            "showbackground": true,
            "ticks": "",
            "zerolinecolor": "white"
           }
          },
          "shapedefaults": {
           "line": {
            "color": "#2a3f5f"
           }
          },
          "ternary": {
           "aaxis": {
            "gridcolor": "white",
            "linecolor": "white",
            "ticks": ""
           },
           "baxis": {
            "gridcolor": "white",
            "linecolor": "white",
            "ticks": ""
           },
           "bgcolor": "#E5ECF6",
           "caxis": {
            "gridcolor": "white",
            "linecolor": "white",
            "ticks": ""
           }
          },
          "title": {
           "x": 0.05
          },
          "xaxis": {
           "automargin": true,
           "gridcolor": "white",
           "linecolor": "white",
           "ticks": "",
           "title": {
            "standoff": 15
           },
           "zerolinecolor": "white",
           "zerolinewidth": 2
          },
          "yaxis": {
           "automargin": true,
           "gridcolor": "white",
           "linecolor": "white",
           "ticks": "",
           "title": {
            "standoff": 15
           },
           "zerolinecolor": "white",
           "zerolinewidth": 2
          }
         }
        },
        "xaxis": {
         "anchor": "y",
         "domain": [
          0,
          1
         ],
         "title": {
          "text": "Price(CAD)"
         }
        },
        "yaxis": {
         "anchor": "x",
         "domain": [
          0,
          1
         ],
         "title": {
          "text": "count"
         }
        }
       }
      },
      "text/html": [
       "<div>\n",
       "        \n",
       "        \n",
       "            <div id=\"9cc86142-e5b2-4a29-b528-dbe48d540204\" class=\"plotly-graph-div\" style=\"height:525px; width:100%;\"></div>\n",
       "            <script type=\"text/javascript\">\n",
       "                require([\"plotly\"], function(Plotly) {\n",
       "                    window.PLOTLYENV=window.PLOTLYENV || {};\n",
       "                    \n",
       "                if (document.getElementById(\"9cc86142-e5b2-4a29-b528-dbe48d540204\")) {\n",
       "                    Plotly.newPlot(\n",
       "                        '9cc86142-e5b2-4a29-b528-dbe48d540204',\n",
       "                        [{\"alignmentgroup\": \"True\", \"bingroup\": \"x\", \"hoverlabel\": {\"namelength\": 0}, \"hovertemplate\": \"Brand=SAMSUNG<br>Price(CAD)=%{x}<br>count=%{y}\", \"legendgroup\": \"SAMSUNG\", \"marker\": {\"color\": \"#636efa\"}, \"name\": \"SAMSUNG\", \"offsetgroup\": \"SAMSUNG\", \"orientation\": \"v\", \"showlegend\": true, \"type\": \"histogram\", \"x\": [179.99, 1849.99, 1319.99, 2109.99, 149.97, 939.99, 629.99, 1579.99, 449.95, 368.9, 1579.99, 399.95, 349.99, 639.99, 1459.99, 249.99, 163.0, 389.84, 344.0, 1129.99, 99.99, 979.99, 198.99, 1819.99, 279.99, 499.99, 198.99, 1259.99, 412.98, 1459.99, 191.0, 1259.99, 1129.99, 164.8, 419.99, 1399.99, 373.52, 379.99, 288.89, 378.18, 574.94, 798.4, 979.99, 168.85, 639.99, 628.99, 599.99, 436.0, 809.0, 999.99, 388.72, 281.0, 1779.99, 847.8, 224.99, 186.0, 689.99, 879.99, 1049.99, 829.99, 379.99, 338.0, 639.99, 408.0, 298.99, 149.99, 380.0, 698.0, 122.0, 199.89, 88.88, 779.0, 1299.99, 897.0, 398.0, 1819.99, 949.99, 610.0, 284.0, 222.42, 189.99, 899.0, 668.0, 610.0, 949.99, 169.99, 109.0, 177.99, 629.99, 649.0, 599.0, 179.99, 1149.99, 576.99, 899.99, 279.99, 798.89, 949.99, 149.09, 1149.99, 343.98, 378.34, 399.0, 347.5, 219.99, 1149.99, 401.9, 629.99, 399.99, 499.0, 108.0, 195.0, 699.0, 292.72, 371.49, 367.72, 102.72, 199.99, 79.99, 154.0, 111.99, 129.99, 149.0, 599.99, 714.99, 439.69, 399.72, 199.99, 869.99, 224.99, 809.99, 199.0, 152.02, 419.99, 197.0, 289.0, 729.49, 159.0, 349.99, 649.99, 299.99, 379.99, 229.0, 949.99, 279.99, 159.19, 144.0, 699.99, 164.98, 299.99, 340.0, 729.49, 879.0, 779.99, 534.0, 469.99, 144.99, 1349.99, 109.98, 419.99, 449.99, 699.72, 182.72, 949.99, 897.95, 147.99, 690.0, 119.89, 367.69, 400.0, 205.0, 379.99, 179.98, 369.72, 269.0, 149.98, 849.95, 999.99, 474.0, 535.88, 247.0, 149.99, 799.0, 124.97, 1029.99, 327.0, 599.99, 339.99, 899.0, 907.35, 159.99, 239.99, 420.0, 489.0, 399.0, 379.99, 1599.95, 199.99, 166.0, 173.65, 389.99, 534.0, 119.99, 289.0, 249.99, 397.72, 185.0, 1399.99, 370.0, 899.99, 799.99, 143.68, 319.0, 388.0, 189.0, 380.0, 128.9, 539.99, 349.0, 299.25, 379.0, 546.99, 699.99, 164.49, 599.99, 194.99, 179.72, 399.99, 359.72, 449.99, 149.99, 1049.99, 199.99, 299.99, 89.99, 229.99, 899.0, 185.72, 999.99, 429.84, 799.99, 399.84, 396.0, 729.99, 1199.0, 112.5, 346.0, 149.0, 559.0, 389.99, 399.84, 129.0, 532.45, 129.72, 699.99, 144.0, 299.99, 299.99, 1499.99, 194.49, 899.99, 328.0, 299.99, 449.0, 336.0, 690.0, 869.97, 165.0, 489.99, 689.0, 709.99, 239.99, 199.99, 598.0, 419.0, 189.99, 229.99, 399.99, 152.08, 749.99, 349.0, 399.0, 599.0, 189.99, 399.0, 370.0, 149.99, 589.99, 219.0, 519.99, 449.98, 248.0, 759.91, 197.99, 149.0, 859.43, 619.69, 899.95, 339.0, 199.99, 999.99, 308.0, 199.99, 789.99, 1149.97, 584.0, 227.98, 146.0, 129.99, 609.99, 349.0, 279.98, 399.0, 275.0, 399.0, 379.99, 229.99, 399.0, 250.0, 329.0, 239.0, 500.0, 179.0, 269.0, 259.0, 559.99, 259.99, 425.0, 259.0, 349.0, 239.0, 219.0, 175.0, 149.98, 139.72, 110.0, 149.0, 499.0, 299.0, 729.99, 559.99, 179.0, 249.0, 279.98, 699.0, 259.0, 219.99, 289.99, 359.99, 1589.99, 249.99, 449.99, 429.0, 149.99, 875.99, 1179.99, 299.99, 1199.99, 230.0, 349.98, 595.0, 429.0, 349.99, 329.99, 449.99, 649.99, 289.0, 199.99, 262.99, 1149.99, 249.99, 1249.99, 1239.99, 299.99, 210.0, 399.0, 239.0, 588.0, 149.72, 198.72, 611.99, 159.99, 469.0, 229.99, 1179.99, 159.0, 599.0, 229.9, 328.0, 379.72, 199.72, 367.72, 999.0, 179.0, 698.99, 875.99, 1239.96, 854.99, 759.99, 289.0, 220.0, 299.0, 199.99, 149.72, 189.0, 289.99, 149.72, 598.49, 259.0, 679.99, 99.99, 185.99, 199.0, 199.0, 120.0, 809.99, 149.0, 146.68, 899.0, 699.0, 449.0, 349.0, 449.0, 499.0, 149.0, 299.0, 589.0, 470.99, 197.99, 499.0, 689.0, 439.0, 439.0, 429.0, 599.0, 199.0, 499.0, 467.0, 319.99, 339.99, 589.99, 999.99, 799.99, 599.99, 699.99, 348.99, 189.99, 205.99, 139.99, 389.99, 949.99, 389.99, 229.99, 357.94, 218.89, 548.85, 429.64, 699.99, 649.99, 539.99, 589.99, 279.99, 347.69, 669.99, 549.0, 809.99, 579.99, 587.99, 369.99, 549.0, 319.0, 469.0, 235.0, 198.0, 299.9, 239.0, 229.99, 289.0, 199.99, 449.0, 399.99, 346.0, 399.99, 299.99, 299.99, 229.99, 159.99, 329.99, 199.0, 389.99, 249.99, 129.99, 679.0, 199.87, 519.99, 239.99, 1049.49, 599.99, 187.99, 489.99, 185.99, 399.0, 399.0, 449.99, 129.99, 789.99], \"xaxis\": \"x\", \"yaxis\": \"y\"}, {\"alignmentgroup\": \"True\", \"bingroup\": \"x\", \"hoverlabel\": {\"namelength\": 0}, \"hovertemplate\": \"Brand=APPLE<br>Price(CAD)=%{x}<br>count=%{y}\", \"legendgroup\": \"APPLE\", \"marker\": {\"color\": \"#EF553B\"}, \"name\": \"APPLE\", \"offsetgroup\": \"APPLE\", \"orientation\": \"v\", \"showlegend\": true, \"type\": \"histogram\", \"x\": [223.4, 354.1, 598.99, 979.99, 624.99, 609.0, 396.0, 979.99, 1519.99, 351.9, 799.99, 644.99, 699.99, 979.99, 399.0, 699.99, 499.99, 178.08, 599.99, 159.0, 1519.99, 159.08, 443.0, 1519.99, 334.5, 1049.99, 809.97, 647.98, 261.5, 899.99, 195.0, 373.93, 599.99, 283.03, 1259.99, 407.47, 299.98, 646.0, 1379.99, 699.99, 899.99, 799.95, 299.0, 334.0, 269.0, 979.99, 599.9, 1229.95, 1379.99, 348.0, 799.99, 379.99, 1049.99, 799.99, 1379.95, 579.99, 1399.99, 629.49, 699.0, 344.02, 359.09, 559.87, 628.99, 348.0, 221.02, 794.0, 407.16, 346.0, 899.99, 598.0, 792.0, 971.4, 699.99, 679.99, 1379.99, 895.59, 679.98, 1399.99, 854.99, 999.0, 374.04, 508.5, 899.99, 1169.99, 874.0, 744.99, 208.4, 419.0, 279.97, 244.95, 699.99, 144.04, 448.4, 167.02, 247.0, 1299.99, 137.07, 643.0, 1259.99, 1299.99, 138.06, 159.09, 809.0, 1049.99, 376.08, 399.99, 999.99, 178.08, 594.99, 935.0, 749.99, 449.97, 187.07, 1449.99, 599.99, 99.98, 326.06, 1099.99, 447.9, 1399.99, 559.79, 268.99, 475.0, 178.88, 809.98, 319.88, 399.98, 563.99, 199.95, 332.79, 1169.99, 749.99, 1169.99, 207.0, 224.95, 449.99, 1259.99, 287.0, 1299.99, 1204.99, 79.98, 154.04, 643.0, 999.99, 299.95, 1124.99, 259.09, 875.0, 1259.99, 229.99, 589.0, 1399.0, 449.97, 193.76, 999.0, 529.0, 649.99, 429.88, 352.0, 749.99, 257.9, 672.99, 435.3, 529.99, 1399.99, 619.99, 749.99, 719.99, 1099.99, 1299.99, 744.99, 98.08, 308.35, 679.99, 619.0, 328.2, 375.99, 139.98, 235.55, 109.68, 299.0, 244.95, 264.95, 379.99, 244.95, 799.99, 259.98, 699.98, 449.99, 549.99, 445.94, 340.99, 829.99, 739.79, 179.99, 895.15, 643.53, 699.99, 619.99, 159.98, 217.07, 699.99, 199.98, 93.99, 604.99, 1249.99, 629.99, 149.0, 149.98, 88.88, 1500.0, 136.06, 314.94, 80.0, 599.99, 458.99, 899.99, 229.08, 384.89, 617.9, 1089.99, 749.99, 388.08, 1199.99, 999.99, 157.08, 599.0, 443.97, 719.78, 289.9, 629.79, 121.0, 999.99, 692.99, 349.99, 185.0, 199.0, 854.99, 619.99, 799.99, 98.08, 80.0, 134.08, 1729.99, 119.99, 609.0, 1999.99, 265.95, 413.99, 389.0, 279.09, 880.99, 229.99, 98.0, 168.88, 1589.99, 1500.0, 199.98, 1169.99, 184.95, 162.39, 599.99, 156.0, 288.65, 499.0, 1300.0, 369.98, 156.08, 299.0, 328.86, 749.0, 1045.95, 750.0, 438.98, 798.99, 658.78, 469.99, 629.99, 979.97, 899.99, 139.99, 158.08, 499.99, 1789.49, 1379.99, 978.99, 299.99, 284.08, 854.99, 445.89, 289.99, 169.98, 209.99, 123.98, 359.99, 988.93, 899.99, 1259.99, 398.91, 262.0, 168.08, 158.06, 869.0, 287.99, 679.99, 949.99, 128.08, 699.99, 209.0, 1500.0, 879.0, 834.15, 1099.95, 234.04, 692.87, 138.0, 90.0, 429.19, 229.0, 999.99, 644.99, 179.99, 286.05, 499.98, 184.0, 1300.0, 168.88, 599.99, 1199.0, 99.99, 1199.99, 1000.0, 1259.99, 199.98, 695.05, 834.15, 639.99, 336.06, 834.15, 369.98, 266.95, 499.99, 349.98, 289.98, 569.89, 1469.0, 700.0, 659.0, 692.99, 169.99, 619.0, 506.29, 244.95, 248.0, 249.08, 262.0, 369.99, 1300.0, 219.88, 128.0, 109.24, 499.99, 249.99, 675.99, 138.36, 109.89, 196.0, 584.97, 924.0, 854.99, 299.95, 999.0, 935.0, 639.98, 138.88, 199.89, 188.95, 874.1, 298.98, 149.68, 296.99, 126.98, 409.99, 329.98, 348.88, 149.68, 388.98, 267.07, 362.18, 388.98, 288.68, 299.0, 90.0, 600.0, 399.98, 129.98, 359.0, 499.0, 319.98, 429.0, 399.0, 329.98, 385.99, 340.99, 384.99, 275.0, 802.99, 670.99, 719.99, 159.98, 599.0, 934.99, 670.99, 311.99, 398.68, 279.98, 329.0, 699.99, 299.0, 849.99, 249.0, 129.0, 335.95, 599.0, 339.0, 139.0, 369.0, 359.0, 298.68, 279.0, 399.0, 199.0, 318.99, 279.0, 359.0, 289.0, 399.0, 299.0, 379.0, 1277.99, 499.0, 429.0, 359.0, 295.0, 735.99, 411.99, 340.99, 758.99, 296.99, 692.99, 399.0, 179.0, 399.0, 329.0, 299.0, 448.99, 299.0, 168.89, 399.0, 349.0, 359.0, 392.95, 299.0, 169.68, 529.99, 349.0, 899.0, 299.99, 329.0, 189.99, 600.0, 458.99, 199.0, 934.99, 881.99, 729.0, 741.99, 384.99, 934.99, 439.99, 584.99, 296.99, 439.99, 439.99, 411.99, 758.99, 356.99, 199.95, 626.99, 875.99, 340.99, 279.0, 339.0, 199.0, 299.0, 295.99, 399.0, 289.0, 399.0, 349.0, 359.0, 384.99, 249.0, 399.0, 192.95, 179.95, 296.99, 824.99, 934.99, 356.99, 340.99, 252.99, 325.0, 399.0, 737.99, 758.99, 368.08, 494.99, 318.99, 325.0, 289.0, 289.98, 394.48, 128.88, 179.98, 449.99, 399.0, 299.0, 749.99, 295.95, 658.95, 418.71, 356.99, 380.99, 310.99, 299.0, 199.0, 934.99, 199.0, 849.94, 228.94, 180.0, 150.0, 799.0, 318.88, 268.68, 299.98, 549.99, 299.98, 399.98, 499.99, 199.0, 369.0, 289.0, 188.98, 339.98, 137.58, 249.98, 699.98, 169.98, 195.0, 259.0, 229.99, 288.92, 389.99, 429.0, 199.68, 349.0, 550.0, 299.0, 349.0, 349.0, 279.0, 199.98, 379.0, 359.0, 499.0, 694.99, 249.0, 289.0, 579.0, 529.0, 379.0, 699.0, 269.97, 899.99, 329.98, 490.0, 298.0, 209.95, 149.98, 283.08, 299.0, 299.0, 459.99, 599.0, 449.0, 209.99, 198.88, 411.99, 229.99, 274.99, 439.99, 411.99, 258.99, 179.88, 399.99, 384.99, 268.98, 284.0, 245.88, 314.95, 670.99, 1100.0, 378.95, 389.99, 308.95, 289.0, 100.0, 409.99, 308.28, 307.93, 299.0, 903.99, 923.99, 379.0, 279.0, 159.98, 259.0, 279.99, 510.0, 524.99, 179.95, 1299.0, 258.08, 499.99, 187.77, 186.83, 123.0, 204.0, 171.06, 209.99, 209.99, 209.99, 199.99, 309.99, 184.95, 215.99, 249.86, 269.99, 349.99, 257.99, 299.99, 274.49, 498.89, 278.46, 269.95, 138.59, 237.99, 349.99, 499.99, 849.99, 949.99, 949.99, 949.99, 499.99, 411.99, 247.98, 225.88, 199.95, 357.0, 297.86, 289.95, 519.54, 169.99, 284.69, 146.67, 174.98, 289.69, 339.64, 739.54, 474.64, 284.69, 448.94, 339.69, 157.64, 153.6, 429.64, 149.54, 334.69, 449.54, 339.64, 319.64, 418.44, 339.69, 149.95, 424.54, 158.91, 338.94, 439.69, 239.54, 499.99, 459.99, 429.99, 599.99, 619.99, 439.99, 109.99, 626.99, 293.95, 538.49, 269.99, 379.99, 298.95, 390.9, 1199.99, 399.99, 664.99, 184.68, 328.23, 244.89, 298.69, 429.99, 588.95, 308.46, 234.95, 410.76, 1025.0, 398.08, 138.52, 408.68, 202.49, 567.14, 249.95, 412.93, 379.89, 248.99, 195.0, 399.99, 199.0, 349.99, 399.99, 289.99, 289.99, 289.99, 399.99, 729.99, 729.99, 369.0, 319.0, 729.99, 729.99, 186.06, 899.99, 930.0, 128.08, 299.0, 469.0, 439.99, 396.99, 348.86, 198.95, 140.0, 440.0, 440.0, 190.0, 184.97, 725.0, 194.64, 241.95, 989.99, 179.99, 139.99, 159.48, 228.95, 349.95, 139.99, 199.99, 375.0, 375.0, 198.78, 675.0, 675.0, 209.26, 619.99, 499.99, 328.68, 165.39, 158.74, 149.95, 420.86, 149.95, 375.0, 398.95, 179.99, 999.99, 319.99, 1059.99, 859.99, 159.99, 219.99, 389.0, 159.99, 159.99, 319.99, 247.0, 267.95, 309.0, 315.0, 325.0, 269.0, 289.0, 655.0, 875.0, 645.0, 269.0, 249.0, 325.0, 195.0, 245.0, 245.0, 285.0, 279.0, 325.0, 398.63, 499.0, 285.0, 245.0, 279.0, 1179.0, 575.0, 411.94, 679.0, 329.0, 269.0, 1035.0, 289.0, 319.0, 499.0, 499.0, 98.0, 279.0, 279.0, 525.0, 319.0, 315.0, 359.0, 129.99, 308.89, 499.99, 199.99, 149.99, 156.06, 134.04, 449.99, 299.99, 149.99, 299.99, 699.99, 179.99, 399.99, 499.99, 189.99, 249.99, 299.99, 749.99, 299.99, 169.99, 299.99, 179.99, 888.0, 159.99, 879.95, 899.99, 209.0, 1299.0, 159.99, 239.99, 699.99, 1399.0, 199.99, 268.88, 299.99, 1549.99, 199.99, 959.99, 149.99, 824.99, 349.95, 189.92, 191.26, 285.99, 729.99, 499.99, 379.95, 369.95, 363.95, 341.18, 332.76, 169.99, 123.95, 409.0, 1619.99, 1304.99, 1529.99, 388.86, 854.99, 337.95, 333.95, 287.46, 285.0, 245.0, 309.0, 245.0, 148.54, 189.86, 249.97, 1049.99, 735.99, 279.99, 239.42, 250.0, 188.89, 226.26, 248.36, 422.95, 222.95, 259.65, 529.0, 339.46, 173.16, 429.43, 234.26, 228.86, 658.78, 407.16, 295.84, 224.17, 658.78, 224.17, 735.03, 895.15, 324.43, 148.95, 352.95, 719.78, 825.0, 371.0, 194.0, 859.99], \"xaxis\": \"x\", \"yaxis\": \"y\"}],\n",
       "                        {\"barmode\": \"relative\", \"legend\": {\"title\": {\"text\": \"Brand\"}, \"tracegroupgap\": 0}, \"margin\": {\"t\": 60}, \"template\": {\"data\": {\"bar\": [{\"error_x\": {\"color\": \"#2a3f5f\"}, \"error_y\": {\"color\": \"#2a3f5f\"}, \"marker\": {\"line\": {\"color\": \"#E5ECF6\", \"width\": 0.5}}, \"type\": \"bar\"}], \"barpolar\": [{\"marker\": {\"line\": {\"color\": \"#E5ECF6\", \"width\": 0.5}}, \"type\": \"barpolar\"}], \"carpet\": [{\"aaxis\": {\"endlinecolor\": \"#2a3f5f\", \"gridcolor\": \"white\", \"linecolor\": \"white\", \"minorgridcolor\": \"white\", \"startlinecolor\": \"#2a3f5f\"}, \"baxis\": {\"endlinecolor\": \"#2a3f5f\", \"gridcolor\": \"white\", \"linecolor\": \"white\", \"minorgridcolor\": \"white\", \"startlinecolor\": \"#2a3f5f\"}, \"type\": \"carpet\"}], \"choropleth\": [{\"colorbar\": {\"outlinewidth\": 0, \"ticks\": \"\"}, \"type\": \"choropleth\"}], \"contour\": [{\"colorbar\": {\"outlinewidth\": 0, \"ticks\": \"\"}, \"colorscale\": [[0.0, \"#0d0887\"], [0.1111111111111111, \"#46039f\"], [0.2222222222222222, \"#7201a8\"], [0.3333333333333333, \"#9c179e\"], [0.4444444444444444, \"#bd3786\"], [0.5555555555555556, \"#d8576b\"], [0.6666666666666666, \"#ed7953\"], [0.7777777777777778, \"#fb9f3a\"], [0.8888888888888888, \"#fdca26\"], [1.0, \"#f0f921\"]], \"type\": \"contour\"}], \"contourcarpet\": [{\"colorbar\": {\"outlinewidth\": 0, \"ticks\": \"\"}, \"type\": \"contourcarpet\"}], \"heatmap\": [{\"colorbar\": {\"outlinewidth\": 0, \"ticks\": \"\"}, \"colorscale\": [[0.0, \"#0d0887\"], [0.1111111111111111, \"#46039f\"], [0.2222222222222222, \"#7201a8\"], [0.3333333333333333, \"#9c179e\"], [0.4444444444444444, \"#bd3786\"], [0.5555555555555556, \"#d8576b\"], [0.6666666666666666, \"#ed7953\"], [0.7777777777777778, \"#fb9f3a\"], [0.8888888888888888, \"#fdca26\"], [1.0, \"#f0f921\"]], \"type\": \"heatmap\"}], \"heatmapgl\": [{\"colorbar\": {\"outlinewidth\": 0, \"ticks\": \"\"}, \"colorscale\": [[0.0, \"#0d0887\"], [0.1111111111111111, \"#46039f\"], [0.2222222222222222, \"#7201a8\"], [0.3333333333333333, \"#9c179e\"], [0.4444444444444444, \"#bd3786\"], [0.5555555555555556, \"#d8576b\"], [0.6666666666666666, \"#ed7953\"], [0.7777777777777778, \"#fb9f3a\"], [0.8888888888888888, \"#fdca26\"], [1.0, \"#f0f921\"]], \"type\": \"heatmapgl\"}], \"histogram\": [{\"marker\": {\"colorbar\": {\"outlinewidth\": 0, \"ticks\": \"\"}}, \"type\": \"histogram\"}], \"histogram2d\": [{\"colorbar\": {\"outlinewidth\": 0, \"ticks\": \"\"}, \"colorscale\": [[0.0, \"#0d0887\"], [0.1111111111111111, \"#46039f\"], [0.2222222222222222, \"#7201a8\"], [0.3333333333333333, \"#9c179e\"], [0.4444444444444444, \"#bd3786\"], [0.5555555555555556, \"#d8576b\"], [0.6666666666666666, \"#ed7953\"], [0.7777777777777778, \"#fb9f3a\"], [0.8888888888888888, \"#fdca26\"], [1.0, \"#f0f921\"]], \"type\": \"histogram2d\"}], \"histogram2dcontour\": [{\"colorbar\": {\"outlinewidth\": 0, \"ticks\": \"\"}, \"colorscale\": [[0.0, \"#0d0887\"], [0.1111111111111111, \"#46039f\"], [0.2222222222222222, \"#7201a8\"], [0.3333333333333333, \"#9c179e\"], [0.4444444444444444, \"#bd3786\"], [0.5555555555555556, \"#d8576b\"], [0.6666666666666666, \"#ed7953\"], [0.7777777777777778, \"#fb9f3a\"], [0.8888888888888888, \"#fdca26\"], [1.0, \"#f0f921\"]], \"type\": \"histogram2dcontour\"}], \"mesh3d\": [{\"colorbar\": {\"outlinewidth\": 0, \"ticks\": \"\"}, \"type\": \"mesh3d\"}], \"parcoords\": [{\"line\": {\"colorbar\": {\"outlinewidth\": 0, \"ticks\": \"\"}}, \"type\": \"parcoords\"}], \"pie\": [{\"automargin\": true, \"type\": \"pie\"}], \"scatter\": [{\"marker\": {\"colorbar\": {\"outlinewidth\": 0, \"ticks\": \"\"}}, \"type\": \"scatter\"}], \"scatter3d\": [{\"line\": {\"colorbar\": {\"outlinewidth\": 0, \"ticks\": \"\"}}, \"marker\": {\"colorbar\": {\"outlinewidth\": 0, \"ticks\": \"\"}}, \"type\": \"scatter3d\"}], \"scattercarpet\": [{\"marker\": {\"colorbar\": {\"outlinewidth\": 0, \"ticks\": \"\"}}, \"type\": \"scattercarpet\"}], \"scattergeo\": [{\"marker\": {\"colorbar\": {\"outlinewidth\": 0, \"ticks\": \"\"}}, \"type\": \"scattergeo\"}], \"scattergl\": [{\"marker\": {\"colorbar\": {\"outlinewidth\": 0, \"ticks\": \"\"}}, \"type\": \"scattergl\"}], \"scattermapbox\": [{\"marker\": {\"colorbar\": {\"outlinewidth\": 0, \"ticks\": \"\"}}, \"type\": \"scattermapbox\"}], \"scatterpolar\": [{\"marker\": {\"colorbar\": {\"outlinewidth\": 0, \"ticks\": \"\"}}, \"type\": \"scatterpolar\"}], \"scatterpolargl\": [{\"marker\": {\"colorbar\": {\"outlinewidth\": 0, \"ticks\": \"\"}}, \"type\": \"scatterpolargl\"}], \"scatterternary\": [{\"marker\": {\"colorbar\": {\"outlinewidth\": 0, \"ticks\": \"\"}}, \"type\": \"scatterternary\"}], \"surface\": [{\"colorbar\": {\"outlinewidth\": 0, \"ticks\": \"\"}, \"colorscale\": [[0.0, \"#0d0887\"], [0.1111111111111111, \"#46039f\"], [0.2222222222222222, \"#7201a8\"], [0.3333333333333333, \"#9c179e\"], [0.4444444444444444, \"#bd3786\"], [0.5555555555555556, \"#d8576b\"], [0.6666666666666666, \"#ed7953\"], [0.7777777777777778, \"#fb9f3a\"], [0.8888888888888888, \"#fdca26\"], [1.0, \"#f0f921\"]], \"type\": \"surface\"}], \"table\": [{\"cells\": {\"fill\": {\"color\": \"#EBF0F8\"}, \"line\": {\"color\": \"white\"}}, \"header\": {\"fill\": {\"color\": \"#C8D4E3\"}, \"line\": {\"color\": \"white\"}}, \"type\": \"table\"}]}, \"layout\": {\"annotationdefaults\": {\"arrowcolor\": \"#2a3f5f\", \"arrowhead\": 0, \"arrowwidth\": 1}, \"coloraxis\": {\"colorbar\": {\"outlinewidth\": 0, \"ticks\": \"\"}}, \"colorscale\": {\"diverging\": [[0, \"#8e0152\"], [0.1, \"#c51b7d\"], [0.2, \"#de77ae\"], [0.3, \"#f1b6da\"], [0.4, \"#fde0ef\"], [0.5, \"#f7f7f7\"], [0.6, \"#e6f5d0\"], [0.7, \"#b8e186\"], [0.8, \"#7fbc41\"], [0.9, \"#4d9221\"], [1, \"#276419\"]], \"sequential\": [[0.0, \"#0d0887\"], [0.1111111111111111, \"#46039f\"], [0.2222222222222222, \"#7201a8\"], [0.3333333333333333, \"#9c179e\"], [0.4444444444444444, \"#bd3786\"], [0.5555555555555556, \"#d8576b\"], [0.6666666666666666, \"#ed7953\"], [0.7777777777777778, \"#fb9f3a\"], [0.8888888888888888, \"#fdca26\"], [1.0, \"#f0f921\"]], \"sequentialminus\": [[0.0, \"#0d0887\"], [0.1111111111111111, \"#46039f\"], [0.2222222222222222, \"#7201a8\"], [0.3333333333333333, \"#9c179e\"], [0.4444444444444444, \"#bd3786\"], [0.5555555555555556, \"#d8576b\"], [0.6666666666666666, \"#ed7953\"], [0.7777777777777778, \"#fb9f3a\"], [0.8888888888888888, \"#fdca26\"], [1.0, \"#f0f921\"]]}, \"colorway\": [\"#636efa\", \"#EF553B\", \"#00cc96\", \"#ab63fa\", \"#FFA15A\", \"#19d3f3\", \"#FF6692\", \"#B6E880\", \"#FF97FF\", \"#FECB52\"], \"font\": {\"color\": \"#2a3f5f\"}, \"geo\": {\"bgcolor\": \"white\", \"lakecolor\": \"white\", \"landcolor\": \"#E5ECF6\", \"showlakes\": true, \"showland\": true, \"subunitcolor\": \"white\"}, \"hoverlabel\": {\"align\": \"left\"}, \"hovermode\": \"closest\", \"mapbox\": {\"style\": \"light\"}, \"paper_bgcolor\": \"white\", \"plot_bgcolor\": \"#E5ECF6\", \"polar\": {\"angularaxis\": {\"gridcolor\": \"white\", \"linecolor\": \"white\", \"ticks\": \"\"}, \"bgcolor\": \"#E5ECF6\", \"radialaxis\": {\"gridcolor\": \"white\", \"linecolor\": \"white\", \"ticks\": \"\"}}, \"scene\": {\"xaxis\": {\"backgroundcolor\": \"#E5ECF6\", \"gridcolor\": \"white\", \"gridwidth\": 2, \"linecolor\": \"white\", \"showbackground\": true, \"ticks\": \"\", \"zerolinecolor\": \"white\"}, \"yaxis\": {\"backgroundcolor\": \"#E5ECF6\", \"gridcolor\": \"white\", \"gridwidth\": 2, \"linecolor\": \"white\", \"showbackground\": true, \"ticks\": \"\", \"zerolinecolor\": \"white\"}, \"zaxis\": {\"backgroundcolor\": \"#E5ECF6\", \"gridcolor\": \"white\", \"gridwidth\": 2, \"linecolor\": \"white\", \"showbackground\": true, \"ticks\": \"\", \"zerolinecolor\": \"white\"}}, \"shapedefaults\": {\"line\": {\"color\": \"#2a3f5f\"}}, \"ternary\": {\"aaxis\": {\"gridcolor\": \"white\", \"linecolor\": \"white\", \"ticks\": \"\"}, \"baxis\": {\"gridcolor\": \"white\", \"linecolor\": \"white\", \"ticks\": \"\"}, \"bgcolor\": \"#E5ECF6\", \"caxis\": {\"gridcolor\": \"white\", \"linecolor\": \"white\", \"ticks\": \"\"}}, \"title\": {\"x\": 0.05}, \"xaxis\": {\"automargin\": true, \"gridcolor\": \"white\", \"linecolor\": \"white\", \"ticks\": \"\", \"title\": {\"standoff\": 15}, \"zerolinecolor\": \"white\", \"zerolinewidth\": 2}, \"yaxis\": {\"automargin\": true, \"gridcolor\": \"white\", \"linecolor\": \"white\", \"ticks\": \"\", \"title\": {\"standoff\": 15}, \"zerolinecolor\": \"white\", \"zerolinewidth\": 2}}}, \"xaxis\": {\"anchor\": \"y\", \"domain\": [0.0, 1.0], \"title\": {\"text\": \"Price(CAD)\"}}, \"yaxis\": {\"anchor\": \"x\", \"domain\": [0.0, 1.0], \"title\": {\"text\": \"count\"}}},\n",
       "                        {\"responsive\": true}\n",
       "                    ).then(function(){\n",
       "                            \n",
       "var gd = document.getElementById('9cc86142-e5b2-4a29-b528-dbe48d540204');\n",
       "var x = new MutationObserver(function (mutations, observer) {{\n",
       "        var display = window.getComputedStyle(gd).display;\n",
       "        if (!display || display === 'none') {{\n",
       "            console.log([gd, 'removed!']);\n",
       "            Plotly.purge(gd);\n",
       "            observer.disconnect();\n",
       "        }}\n",
       "}});\n",
       "\n",
       "// Listen for the removal of the full notebook cells\n",
       "var notebookContainer = gd.closest('#notebook-container');\n",
       "if (notebookContainer) {{\n",
       "    x.observe(notebookContainer, {childList: true});\n",
       "}}\n",
       "\n",
       "// Listen for the clearing of the current output cell\n",
       "var outputEl = gd.closest('.output');\n",
       "if (outputEl) {{\n",
       "    x.observe(outputEl, {childList: true});\n",
       "}}\n",
       "\n",
       "                        })\n",
       "                };\n",
       "                });\n",
       "            </script>\n",
       "        </div>"
      ]
     },
     "metadata": {},
     "output_type": "display_data"
    }
   ],
   "source": [
    "# ___Histogram of price for two brands\n",
    "fig = px.histogram(Samsung_Apple,x='Price(CAD)',color=\"Brand\")\n",
    "fig.show()\n"
   ]
  },
  {
   "cell_type": "code",
   "execution_count": 39,
   "metadata": {},
   "outputs": [
    {
     "data": {
      "text/html": [
       "<div>\n",
       "<style scoped>\n",
       "    .dataframe tbody tr th:only-of-type {\n",
       "        vertical-align: middle;\n",
       "    }\n",
       "\n",
       "    .dataframe tbody tr th {\n",
       "        vertical-align: top;\n",
       "    }\n",
       "\n",
       "    .dataframe thead th {\n",
       "        text-align: right;\n",
       "    }\n",
       "</style>\n",
       "<table border=\"1\" class=\"dataframe\">\n",
       "  <thead>\n",
       "    <tr style=\"text-align: right;\">\n",
       "      <th></th>\n",
       "      <th>Brand</th>\n",
       "      <th>Model</th>\n",
       "      <th>Price(CAD)</th>\n",
       "      <th>Price_save(CAD)</th>\n",
       "      <th>Memory-Built-in(GB)</th>\n",
       "      <th>Ram_size(GB)</th>\n",
       "      <th>Display_resolution(pixels)</th>\n",
       "      <th>Display_size(in)</th>\n",
       "      <th>Colour</th>\n",
       "      <th>CPU</th>\n",
       "      <th>Front-Facing Camera Resolution(MP)</th>\n",
       "      <th>Rear Camera Resolution(MP)</th>\n",
       "    </tr>\n",
       "  </thead>\n",
       "  <tbody>\n",
       "    <tr>\n",
       "      <th>1</th>\n",
       "      <td>SAMSUNG</td>\n",
       "      <td>GALAXY S20</td>\n",
       "      <td>1849.99</td>\n",
       "      <td>no sale</td>\n",
       "      <td>128.0</td>\n",
       "      <td>2.0</td>\n",
       "      <td>720 x 1560</td>\n",
       "      <td>5.8</td>\n",
       "      <td>Black</td>\n",
       "      <td>Octa-core Snapdragon 865</td>\n",
       "      <td>5.0</td>\n",
       "      <td>8.0</td>\n",
       "    </tr>\n",
       "    <tr>\n",
       "      <th>2</th>\n",
       "      <td>SAMSUNG</td>\n",
       "      <td>GALAXY S20</td>\n",
       "      <td>1319.99</td>\n",
       "      <td>no sale</td>\n",
       "      <td>128.0</td>\n",
       "      <td>2.0</td>\n",
       "      <td>720 x 1560</td>\n",
       "      <td>5.8</td>\n",
       "      <td>Black</td>\n",
       "      <td>Octa-core Snapdragon 865</td>\n",
       "      <td>5.0</td>\n",
       "      <td>8.0</td>\n",
       "    </tr>\n",
       "    <tr>\n",
       "      <th>4</th>\n",
       "      <td>SAMSUNG</td>\n",
       "      <td>GALAXY S20</td>\n",
       "      <td>2109.99</td>\n",
       "      <td>no sale</td>\n",
       "      <td>512.0</td>\n",
       "      <td>2.0</td>\n",
       "      <td>720 x 1560</td>\n",
       "      <td>5.8</td>\n",
       "      <td>Black</td>\n",
       "      <td>Octa-core Snapdragon 865</td>\n",
       "      <td>5.0</td>\n",
       "      <td>8.0</td>\n",
       "    </tr>\n",
       "  </tbody>\n",
       "</table>\n",
       "</div>"
      ],
      "text/plain": [
       "     Brand       Model  Price(CAD) Price_save(CAD)  Memory-Built-in(GB)  \\\n",
       "1  SAMSUNG  GALAXY S20     1849.99         no sale                128.0   \n",
       "2  SAMSUNG  GALAXY S20     1319.99         no sale                128.0   \n",
       "4  SAMSUNG  GALAXY S20     2109.99         no sale                512.0   \n",
       "\n",
       "   Ram_size(GB) Display_resolution(pixels)  Display_size(in) Colour  \\\n",
       "1           2.0                 720 x 1560               5.8  Black   \n",
       "2           2.0                 720 x 1560               5.8  Black   \n",
       "4           2.0                 720 x 1560               5.8  Black   \n",
       "\n",
       "                        CPU  Front-Facing Camera Resolution(MP)  \\\n",
       "1  Octa-core Snapdragon 865                                 5.0   \n",
       "2  Octa-core Snapdragon 865                                 5.0   \n",
       "4  Octa-core Snapdragon 865                                 5.0   \n",
       "\n",
       "   Rear Camera Resolution(MP)    \n",
       "1                           8.0  \n",
       "2                           8.0  \n",
       "4                           8.0  "
      ]
     },
     "execution_count": 39,
     "metadata": {},
     "output_type": "execute_result"
    }
   ],
   "source": [
    "Samsung_Apple[Samsung_Apple['Model']=='GALAXY S20']"
   ]
  },
  {
   "cell_type": "code",
   "execution_count": 40,
   "metadata": {},
   "outputs": [
    {
     "data": {
      "text/html": [
       "<div>\n",
       "<style scoped>\n",
       "    .dataframe tbody tr th:only-of-type {\n",
       "        vertical-align: middle;\n",
       "    }\n",
       "\n",
       "    .dataframe tbody tr th {\n",
       "        vertical-align: top;\n",
       "    }\n",
       "\n",
       "    .dataframe thead tr th {\n",
       "        text-align: left;\n",
       "    }\n",
       "\n",
       "    .dataframe thead tr:last-of-type th {\n",
       "        text-align: right;\n",
       "    }\n",
       "</style>\n",
       "<table border=\"1\" class=\"dataframe\">\n",
       "  <thead>\n",
       "    <tr>\n",
       "      <th></th>\n",
       "      <th></th>\n",
       "      <th colspan=\"2\" halign=\"left\">Front-Facing Camera Resolution(MP)</th>\n",
       "      <th colspan=\"2\" halign=\"left\">Memory-Built-in(GB)</th>\n",
       "      <th colspan=\"2\" halign=\"left\">Ram_size(GB)</th>\n",
       "      <th colspan=\"2\" halign=\"left\">Rear Camera Resolution(MP)</th>\n",
       "    </tr>\n",
       "    <tr>\n",
       "      <th></th>\n",
       "      <th></th>\n",
       "      <th>max</th>\n",
       "      <th>min</th>\n",
       "      <th>max</th>\n",
       "      <th>min</th>\n",
       "      <th>max</th>\n",
       "      <th>min</th>\n",
       "      <th>max</th>\n",
       "      <th>min</th>\n",
       "    </tr>\n",
       "    <tr>\n",
       "      <th>Brand</th>\n",
       "      <th>Price(CAD)</th>\n",
       "      <th></th>\n",
       "      <th></th>\n",
       "      <th></th>\n",
       "      <th></th>\n",
       "      <th></th>\n",
       "      <th></th>\n",
       "      <th></th>\n",
       "      <th></th>\n",
       "    </tr>\n",
       "  </thead>\n",
       "  <tbody>\n",
       "    <tr>\n",
       "      <th rowspan=\"4\" valign=\"top\">APPLE</th>\n",
       "      <th>(0, 500]</th>\n",
       "      <td>12.0</td>\n",
       "      <td>0.72</td>\n",
       "      <td>256.0</td>\n",
       "      <td>0.16</td>\n",
       "      <td>4.0</td>\n",
       "      <td>1.000</td>\n",
       "      <td>48.0</td>\n",
       "      <td>8.0</td>\n",
       "    </tr>\n",
       "    <tr>\n",
       "      <th>(500, 1000]</th>\n",
       "      <td>12.0</td>\n",
       "      <td>0.72</td>\n",
       "      <td>512.0</td>\n",
       "      <td>0.16</td>\n",
       "      <td>4.0</td>\n",
       "      <td>1.000</td>\n",
       "      <td>24.0</td>\n",
       "      <td>8.0</td>\n",
       "    </tr>\n",
       "    <tr>\n",
       "      <th>(1000, 1500]</th>\n",
       "      <td>12.0</td>\n",
       "      <td>5.00</td>\n",
       "      <td>512.0</td>\n",
       "      <td>64.00</td>\n",
       "      <td>4.0</td>\n",
       "      <td>2.000</td>\n",
       "      <td>48.0</td>\n",
       "      <td>12.0</td>\n",
       "    </tr>\n",
       "    <tr>\n",
       "      <th>(1500, 2000]</th>\n",
       "      <td>12.0</td>\n",
       "      <td>5.00</td>\n",
       "      <td>512.0</td>\n",
       "      <td>64.00</td>\n",
       "      <td>4.0</td>\n",
       "      <td>2.000</td>\n",
       "      <td>48.0</td>\n",
       "      <td>12.0</td>\n",
       "    </tr>\n",
       "    <tr>\n",
       "      <th rowspan=\"5\" valign=\"top\">SAMSUNG</th>\n",
       "      <th>(0, 500]</th>\n",
       "      <td>32.0</td>\n",
       "      <td>1.08</td>\n",
       "      <td>512.0</td>\n",
       "      <td>0.16</td>\n",
       "      <td>64.0</td>\n",
       "      <td>0.512</td>\n",
       "      <td>45.0</td>\n",
       "      <td>5.0</td>\n",
       "    </tr>\n",
       "    <tr>\n",
       "      <th>(500, 1000]</th>\n",
       "      <td>32.0</td>\n",
       "      <td>1.08</td>\n",
       "      <td>512.0</td>\n",
       "      <td>8.00</td>\n",
       "      <td>12.0</td>\n",
       "      <td>1.000</td>\n",
       "      <td>56.0</td>\n",
       "      <td>5.0</td>\n",
       "    </tr>\n",
       "    <tr>\n",
       "      <th>(1000, 1500]</th>\n",
       "      <td>16.0</td>\n",
       "      <td>5.00</td>\n",
       "      <td>512.0</td>\n",
       "      <td>32.00</td>\n",
       "      <td>12.0</td>\n",
       "      <td>2.000</td>\n",
       "      <td>48.0</td>\n",
       "      <td>8.0</td>\n",
       "    </tr>\n",
       "    <tr>\n",
       "      <th>(1500, 2000]</th>\n",
       "      <td>32.0</td>\n",
       "      <td>5.00</td>\n",
       "      <td>1000.0</td>\n",
       "      <td>128.00</td>\n",
       "      <td>12.0</td>\n",
       "      <td>2.000</td>\n",
       "      <td>40.0</td>\n",
       "      <td>8.0</td>\n",
       "    </tr>\n",
       "    <tr>\n",
       "      <th>(2000, 2500]</th>\n",
       "      <td>5.0</td>\n",
       "      <td>5.00</td>\n",
       "      <td>512.0</td>\n",
       "      <td>512.00</td>\n",
       "      <td>2.0</td>\n",
       "      <td>2.000</td>\n",
       "      <td>8.0</td>\n",
       "      <td>8.0</td>\n",
       "    </tr>\n",
       "  </tbody>\n",
       "</table>\n",
       "</div>"
      ],
      "text/plain": [
       "                     Front-Facing Camera Resolution(MP)        \\\n",
       "                                                    max   min   \n",
       "Brand   Price(CAD)                                              \n",
       "APPLE   (0, 500]                                   12.0  0.72   \n",
       "        (500, 1000]                                12.0  0.72   \n",
       "        (1000, 1500]                               12.0  5.00   \n",
       "        (1500, 2000]                               12.0  5.00   \n",
       "SAMSUNG (0, 500]                                   32.0  1.08   \n",
       "        (500, 1000]                                32.0  1.08   \n",
       "        (1000, 1500]                               16.0  5.00   \n",
       "        (1500, 2000]                               32.0  5.00   \n",
       "        (2000, 2500]                                5.0  5.00   \n",
       "\n",
       "                     Memory-Built-in(GB)         Ram_size(GB)         \\\n",
       "                                     max     min          max    min   \n",
       "Brand   Price(CAD)                                                     \n",
       "APPLE   (0, 500]                   256.0    0.16          4.0  1.000   \n",
       "        (500, 1000]                512.0    0.16          4.0  1.000   \n",
       "        (1000, 1500]               512.0   64.00          4.0  2.000   \n",
       "        (1500, 2000]               512.0   64.00          4.0  2.000   \n",
       "SAMSUNG (0, 500]                   512.0    0.16         64.0  0.512   \n",
       "        (500, 1000]                512.0    8.00         12.0  1.000   \n",
       "        (1000, 1500]               512.0   32.00         12.0  2.000   \n",
       "        (1500, 2000]              1000.0  128.00         12.0  2.000   \n",
       "        (2000, 2500]               512.0  512.00          2.0  2.000   \n",
       "\n",
       "                     Rear Camera Resolution(MP)          \n",
       "                                              max   min  \n",
       "Brand   Price(CAD)                                       \n",
       "APPLE   (0, 500]                             48.0   8.0  \n",
       "        (500, 1000]                          24.0   8.0  \n",
       "        (1000, 1500]                         48.0  12.0  \n",
       "        (1500, 2000]                         48.0  12.0  \n",
       "SAMSUNG (0, 500]                             45.0   5.0  \n",
       "        (500, 1000]                          56.0   5.0  \n",
       "        (1000, 1500]                         48.0   8.0  \n",
       "        (1500, 2000]                         40.0   8.0  \n",
       "        (2000, 2500]                          8.0   8.0  "
      ]
     },
     "execution_count": 40,
     "metadata": {},
     "output_type": "execute_result"
    }
   ],
   "source": [
    "       \n",
    "price_range = pd.cut(Samsung_Apple['Price(CAD)'], [0,500, 1000, 1500,2000,2500,3000])\n",
    "table = pd.pivot_table(Samsung_Apple, values=['Ram_size(GB)', 'Memory-Built-in(GB)','Front-Facing Camera Resolution(MP)','Rear Camera Resolution(MP)  '], index=['Brand', price_range],\n",
    "                    aggfunc={'Ram_size(GB)': [max,min],\n",
    "                         'Memory-Built-in(GB)' :[max,min], 'Front-Facing Camera Resolution(MP)' :[max,min], 'Rear Camera Resolution(MP)  ' :[max,min]\n",
    "                            })\n",
    "\n",
    "table"
   ]
  },
  {
   "cell_type": "code",
   "execution_count": 41,
   "metadata": {},
   "outputs": [
    {
     "data": {
      "text/plain": [
       "Black Onyx         14\n",
       "black              16\n",
       "Blue               18\n",
       "Lilac Purple       20\n",
       "Orchid Gray        20\n",
       "Titanium Grey      22\n",
       "Prism White        26\n",
       "Prism Black        37\n",
       "Midnight Black     51\n",
       "Black             115\n",
       "Name: Colour, dtype: int64"
      ]
     },
     "execution_count": 41,
     "metadata": {},
     "output_type": "execute_result"
    }
   ],
   "source": [
    "phone_colour=Samsung_pd['Colour'].value_counts().sort_values().tail(10)\n",
    "phone_colour\n"
   ]
  },
  {
   "cell_type": "code",
   "execution_count": 43,
   "metadata": {},
   "outputs": [],
   "source": [
    "\n",
    "# --- the distribution of phone based on the colour\n",
    "\n",
    "phone_colour=Samsung_pd['Colour'].value_counts().sort_values(ascending=False).head(20)\n",
    "m=phone_colour.index\n",
    "n=[]\n",
    "for i in m:\n",
    "    \n",
    "    if 'white' in i.lower():\n",
    "        i=\"white\"\n",
    "        n.append(i.lower())\n",
    "    \n",
    "    if 'blue' in i.lower():\n",
    "        i=\"blue\"\n",
    "        n.append(i.lower())\n",
    "        \n",
    "    if 'purple' in i.lower():\n",
    "        i=\"purple\"\n",
    "        n.append(i.lower())\n",
    "            \n",
    "                \n",
    "    \n",
    "    if 'black' == i.lower():\n",
    "        i=\"  #000000\"\n",
    "        n.append(i.lower())\n",
    "\n",
    "    if 'black onyx' == i.lower():\n",
    "        i=\" #333333\"\n",
    "        n.append(i.lower())\n",
    "        \n",
    "    if 'prism black' == i.lower():\n",
    "        i=\" #404040\"\n",
    "        n.append(i.lower())\n",
    "        \n",
    "    if 'aura black' == i.lower():\n",
    "        i=\" #0d0d0d\"\n",
    "        n.append(i.lower())\n",
    "        \n",
    "    if 'midnight black' == i.lower():\n",
    "        i=\"  #1a1a1a\"\n",
    "        n.append(i.lower())\n",
    "        \n",
    "    if 'red' in i.lower():\n",
    "        i=\"red\"\n",
    "        n.append(i.lower())\n",
    "        \n",
    "    if 'white' in i.lower():\n",
    "        i=\"white\"\n",
    "        n.append(i.lower())\n",
    "        \n",
    "    \n",
    "       \n",
    "    if 'grey'== i.lower():\n",
    "        i=\"hsl(30, 0%, 50%)\"\n",
    "        n.append(i.lower())\n",
    "        \n",
    "       \n",
    "    if 'space gray'== i.lower():\n",
    "        i= ' #8c8c8c'\n",
    "        n.append(i.lower())\n",
    "        \n",
    "    if 'space grey'== i.lower():\n",
    "        i= ' #8c8c8c'\n",
    "        n.append(i.lower())\n",
    "        \n",
    "    if 'Grey' in i.lower():\n",
    "        i=\"grey\"\n",
    "        n.append(i.lower())    \n",
    "        \n",
    "        \n",
    "    if 'black' in i.lower():\n",
    "        i=\"  #000000\"\n",
    "        n.append(i.lower())\n",
    "        \n",
    "\n",
    "        \n",
    "    if 'titanium grey'== i.lower():\n",
    "        i=\"grey\"\n",
    "        n.append(i.lower())\n",
    "        \n",
    "        \n",
    "    if 'silver' in i.lower():\n",
    "        i=\"silver\"\n",
    "        n.append(i.lower())\n",
    "        \n",
    "  \n",
    "        \n",
    "    if 'red' in i.lower():\n",
    "        i=\"red\"\n",
    "        n.append(i.lower())\n",
    "        \n",
    "    \n",
    "        \n",
    "    if 'rose gold' in i.lower():\n",
    "        i=\"pink\"\n",
    "        n.append(i)\n",
    "           \n",
    "        \n",
    "    if 'gold' in i.lower():\n",
    "        i='gold'\n",
    "        n.append(i)\n",
    "        \n",
    "    if 'green' in i.lower():\n",
    "        i=\"green\"\n",
    "        n.append(i.lower())\n",
    "        \n",
    "   "
   ]
  },
  {
   "cell_type": "markdown",
   "metadata": {},
   "source": [
    "#### Samsung color visualization"
   ]
  },
  {
   "cell_type": "code",
   "execution_count": 44,
   "metadata": {},
   "outputs": [
    {
     "data": {
      "application/vnd.plotly.v1+json": {
       "config": {
        "plotlyServerURL": "https://plot.ly"
       },
       "data": [
        {
         "marker": {
          "color": [
           "  #000000",
           "  #1a1a1a",
           " #404040",
           "white",
           "white",
           "grey",
           "purple",
           "blue",
           "  #000000",
           " #333333",
           "silver",
           "blue",
           "white",
           "white",
           "blue",
           "gold",
           "blue",
           " #0d0d0d",
           "gold",
           "  #000000"
          ]
         },
         "type": "bar",
         "x": [
          "Black",
          "Midnight Black",
          "Prism Black",
          "Prism White",
          "Titanium Grey",
          "Orchid Gray",
          "Lilac Purple",
          "Blue",
          "black",
          "Black Onyx",
          "Arctic Silver",
          "Ocean Blue",
          "Aura Glow",
          "White",
          "Prism Blue",
          "Gold",
          "Coral Blue",
          "Aura Black",
          "Gold Platinum",
          "Black Sapphire"
         ],
         "y": [
          115,
          51,
          37,
          26,
          22,
          20,
          20,
          18,
          16,
          14,
          12,
          11,
          11,
          10,
          10,
          9,
          8,
          8,
          7,
          7
         ]
        }
       ],
       "layout": {
        "template": {
         "data": {
          "bar": [
           {
            "error_x": {
             "color": "#2a3f5f"
            },
            "error_y": {
             "color": "#2a3f5f"
            },
            "marker": {
             "line": {
              "color": "#E5ECF6",
              "width": 0.5
             }
            },
            "type": "bar"
           }
          ],
          "barpolar": [
           {
            "marker": {
             "line": {
              "color": "#E5ECF6",
              "width": 0.5
             }
            },
            "type": "barpolar"
           }
          ],
          "carpet": [
           {
            "aaxis": {
             "endlinecolor": "#2a3f5f",
             "gridcolor": "white",
             "linecolor": "white",
             "minorgridcolor": "white",
             "startlinecolor": "#2a3f5f"
            },
            "baxis": {
             "endlinecolor": "#2a3f5f",
             "gridcolor": "white",
             "linecolor": "white",
             "minorgridcolor": "white",
             "startlinecolor": "#2a3f5f"
            },
            "type": "carpet"
           }
          ],
          "choropleth": [
           {
            "colorbar": {
             "outlinewidth": 0,
             "ticks": ""
            },
            "type": "choropleth"
           }
          ],
          "contour": [
           {
            "colorbar": {
             "outlinewidth": 0,
             "ticks": ""
            },
            "colorscale": [
             [
              0,
              "#0d0887"
             ],
             [
              0.1111111111111111,
              "#46039f"
             ],
             [
              0.2222222222222222,
              "#7201a8"
             ],
             [
              0.3333333333333333,
              "#9c179e"
             ],
             [
              0.4444444444444444,
              "#bd3786"
             ],
             [
              0.5555555555555556,
              "#d8576b"
             ],
             [
              0.6666666666666666,
              "#ed7953"
             ],
             [
              0.7777777777777778,
              "#fb9f3a"
             ],
             [
              0.8888888888888888,
              "#fdca26"
             ],
             [
              1,
              "#f0f921"
             ]
            ],
            "type": "contour"
           }
          ],
          "contourcarpet": [
           {
            "colorbar": {
             "outlinewidth": 0,
             "ticks": ""
            },
            "type": "contourcarpet"
           }
          ],
          "heatmap": [
           {
            "colorbar": {
             "outlinewidth": 0,
             "ticks": ""
            },
            "colorscale": [
             [
              0,
              "#0d0887"
             ],
             [
              0.1111111111111111,
              "#46039f"
             ],
             [
              0.2222222222222222,
              "#7201a8"
             ],
             [
              0.3333333333333333,
              "#9c179e"
             ],
             [
              0.4444444444444444,
              "#bd3786"
             ],
             [
              0.5555555555555556,
              "#d8576b"
             ],
             [
              0.6666666666666666,
              "#ed7953"
             ],
             [
              0.7777777777777778,
              "#fb9f3a"
             ],
             [
              0.8888888888888888,
              "#fdca26"
             ],
             [
              1,
              "#f0f921"
             ]
            ],
            "type": "heatmap"
           }
          ],
          "heatmapgl": [
           {
            "colorbar": {
             "outlinewidth": 0,
             "ticks": ""
            },
            "colorscale": [
             [
              0,
              "#0d0887"
             ],
             [
              0.1111111111111111,
              "#46039f"
             ],
             [
              0.2222222222222222,
              "#7201a8"
             ],
             [
              0.3333333333333333,
              "#9c179e"
             ],
             [
              0.4444444444444444,
              "#bd3786"
             ],
             [
              0.5555555555555556,
              "#d8576b"
             ],
             [
              0.6666666666666666,
              "#ed7953"
             ],
             [
              0.7777777777777778,
              "#fb9f3a"
             ],
             [
              0.8888888888888888,
              "#fdca26"
             ],
             [
              1,
              "#f0f921"
             ]
            ],
            "type": "heatmapgl"
           }
          ],
          "histogram": [
           {
            "marker": {
             "colorbar": {
              "outlinewidth": 0,
              "ticks": ""
             }
            },
            "type": "histogram"
           }
          ],
          "histogram2d": [
           {
            "colorbar": {
             "outlinewidth": 0,
             "ticks": ""
            },
            "colorscale": [
             [
              0,
              "#0d0887"
             ],
             [
              0.1111111111111111,
              "#46039f"
             ],
             [
              0.2222222222222222,
              "#7201a8"
             ],
             [
              0.3333333333333333,
              "#9c179e"
             ],
             [
              0.4444444444444444,
              "#bd3786"
             ],
             [
              0.5555555555555556,
              "#d8576b"
             ],
             [
              0.6666666666666666,
              "#ed7953"
             ],
             [
              0.7777777777777778,
              "#fb9f3a"
             ],
             [
              0.8888888888888888,
              "#fdca26"
             ],
             [
              1,
              "#f0f921"
             ]
            ],
            "type": "histogram2d"
           }
          ],
          "histogram2dcontour": [
           {
            "colorbar": {
             "outlinewidth": 0,
             "ticks": ""
            },
            "colorscale": [
             [
              0,
              "#0d0887"
             ],
             [
              0.1111111111111111,
              "#46039f"
             ],
             [
              0.2222222222222222,
              "#7201a8"
             ],
             [
              0.3333333333333333,
              "#9c179e"
             ],
             [
              0.4444444444444444,
              "#bd3786"
             ],
             [
              0.5555555555555556,
              "#d8576b"
             ],
             [
              0.6666666666666666,
              "#ed7953"
             ],
             [
              0.7777777777777778,
              "#fb9f3a"
             ],
             [
              0.8888888888888888,
              "#fdca26"
             ],
             [
              1,
              "#f0f921"
             ]
            ],
            "type": "histogram2dcontour"
           }
          ],
          "mesh3d": [
           {
            "colorbar": {
             "outlinewidth": 0,
             "ticks": ""
            },
            "type": "mesh3d"
           }
          ],
          "parcoords": [
           {
            "line": {
             "colorbar": {
              "outlinewidth": 0,
              "ticks": ""
             }
            },
            "type": "parcoords"
           }
          ],
          "pie": [
           {
            "automargin": true,
            "type": "pie"
           }
          ],
          "scatter": [
           {
            "marker": {
             "colorbar": {
              "outlinewidth": 0,
              "ticks": ""
             }
            },
            "type": "scatter"
           }
          ],
          "scatter3d": [
           {
            "line": {
             "colorbar": {
              "outlinewidth": 0,
              "ticks": ""
             }
            },
            "marker": {
             "colorbar": {
              "outlinewidth": 0,
              "ticks": ""
             }
            },
            "type": "scatter3d"
           }
          ],
          "scattercarpet": [
           {
            "marker": {
             "colorbar": {
              "outlinewidth": 0,
              "ticks": ""
             }
            },
            "type": "scattercarpet"
           }
          ],
          "scattergeo": [
           {
            "marker": {
             "colorbar": {
              "outlinewidth": 0,
              "ticks": ""
             }
            },
            "type": "scattergeo"
           }
          ],
          "scattergl": [
           {
            "marker": {
             "colorbar": {
              "outlinewidth": 0,
              "ticks": ""
             }
            },
            "type": "scattergl"
           }
          ],
          "scattermapbox": [
           {
            "marker": {
             "colorbar": {
              "outlinewidth": 0,
              "ticks": ""
             }
            },
            "type": "scattermapbox"
           }
          ],
          "scatterpolar": [
           {
            "marker": {
             "colorbar": {
              "outlinewidth": 0,
              "ticks": ""
             }
            },
            "type": "scatterpolar"
           }
          ],
          "scatterpolargl": [
           {
            "marker": {
             "colorbar": {
              "outlinewidth": 0,
              "ticks": ""
             }
            },
            "type": "scatterpolargl"
           }
          ],
          "scatterternary": [
           {
            "marker": {
             "colorbar": {
              "outlinewidth": 0,
              "ticks": ""
             }
            },
            "type": "scatterternary"
           }
          ],
          "surface": [
           {
            "colorbar": {
             "outlinewidth": 0,
             "ticks": ""
            },
            "colorscale": [
             [
              0,
              "#0d0887"
             ],
             [
              0.1111111111111111,
              "#46039f"
             ],
             [
              0.2222222222222222,
              "#7201a8"
             ],
             [
              0.3333333333333333,
              "#9c179e"
             ],
             [
              0.4444444444444444,
              "#bd3786"
             ],
             [
              0.5555555555555556,
              "#d8576b"
             ],
             [
              0.6666666666666666,
              "#ed7953"
             ],
             [
              0.7777777777777778,
              "#fb9f3a"
             ],
             [
              0.8888888888888888,
              "#fdca26"
             ],
             [
              1,
              "#f0f921"
             ]
            ],
            "type": "surface"
           }
          ],
          "table": [
           {
            "cells": {
             "fill": {
              "color": "#EBF0F8"
             },
             "line": {
              "color": "white"
             }
            },
            "header": {
             "fill": {
              "color": "#C8D4E3"
             },
             "line": {
              "color": "white"
             }
            },
            "type": "table"
           }
          ]
         },
         "layout": {
          "annotationdefaults": {
           "arrowcolor": "#2a3f5f",
           "arrowhead": 0,
           "arrowwidth": 1
          },
          "coloraxis": {
           "colorbar": {
            "outlinewidth": 0,
            "ticks": ""
           }
          },
          "colorscale": {
           "diverging": [
            [
             0,
             "#8e0152"
            ],
            [
             0.1,
             "#c51b7d"
            ],
            [
             0.2,
             "#de77ae"
            ],
            [
             0.3,
             "#f1b6da"
            ],
            [
             0.4,
             "#fde0ef"
            ],
            [
             0.5,
             "#f7f7f7"
            ],
            [
             0.6,
             "#e6f5d0"
            ],
            [
             0.7,
             "#b8e186"
            ],
            [
             0.8,
             "#7fbc41"
            ],
            [
             0.9,
             "#4d9221"
            ],
            [
             1,
             "#276419"
            ]
           ],
           "sequential": [
            [
             0,
             "#0d0887"
            ],
            [
             0.1111111111111111,
             "#46039f"
            ],
            [
             0.2222222222222222,
             "#7201a8"
            ],
            [
             0.3333333333333333,
             "#9c179e"
            ],
            [
             0.4444444444444444,
             "#bd3786"
            ],
            [
             0.5555555555555556,
             "#d8576b"
            ],
            [
             0.6666666666666666,
             "#ed7953"
            ],
            [
             0.7777777777777778,
             "#fb9f3a"
            ],
            [
             0.8888888888888888,
             "#fdca26"
            ],
            [
             1,
             "#f0f921"
            ]
           ],
           "sequentialminus": [
            [
             0,
             "#0d0887"
            ],
            [
             0.1111111111111111,
             "#46039f"
            ],
            [
             0.2222222222222222,
             "#7201a8"
            ],
            [
             0.3333333333333333,
             "#9c179e"
            ],
            [
             0.4444444444444444,
             "#bd3786"
            ],
            [
             0.5555555555555556,
             "#d8576b"
            ],
            [
             0.6666666666666666,
             "#ed7953"
            ],
            [
             0.7777777777777778,
             "#fb9f3a"
            ],
            [
             0.8888888888888888,
             "#fdca26"
            ],
            [
             1,
             "#f0f921"
            ]
           ]
          },
          "colorway": [
           "#636efa",
           "#EF553B",
           "#00cc96",
           "#ab63fa",
           "#FFA15A",
           "#19d3f3",
           "#FF6692",
           "#B6E880",
           "#FF97FF",
           "#FECB52"
          ],
          "font": {
           "color": "#2a3f5f"
          },
          "geo": {
           "bgcolor": "white",
           "lakecolor": "white",
           "landcolor": "#E5ECF6",
           "showlakes": true,
           "showland": true,
           "subunitcolor": "white"
          },
          "hoverlabel": {
           "align": "left"
          },
          "hovermode": "closest",
          "mapbox": {
           "style": "light"
          },
          "paper_bgcolor": "white",
          "plot_bgcolor": "#E5ECF6",
          "polar": {
           "angularaxis": {
            "gridcolor": "white",
            "linecolor": "white",
            "ticks": ""
           },
           "bgcolor": "#E5ECF6",
           "radialaxis": {
            "gridcolor": "white",
            "linecolor": "white",
            "ticks": ""
           }
          },
          "scene": {
           "xaxis": {
            "backgroundcolor": "#E5ECF6",
            "gridcolor": "white",
            "gridwidth": 2,
            "linecolor": "white",
            "showbackground": true,
            "ticks": "",
            "zerolinecolor": "white"
           },
           "yaxis": {
            "backgroundcolor": "#E5ECF6",
            "gridcolor": "white",
            "gridwidth": 2,
            "linecolor": "white",
            "showbackground": true,
            "ticks": "",
            "zerolinecolor": "white"
           },
           "zaxis": {
            "backgroundcolor": "#E5ECF6",
            "gridcolor": "white",
            "gridwidth": 2,
            "linecolor": "white",
            "showbackground": true,
            "ticks": "",
            "zerolinecolor": "white"
           }
          },
          "shapedefaults": {
           "line": {
            "color": "#2a3f5f"
           }
          },
          "ternary": {
           "aaxis": {
            "gridcolor": "white",
            "linecolor": "white",
            "ticks": ""
           },
           "baxis": {
            "gridcolor": "white",
            "linecolor": "white",
            "ticks": ""
           },
           "bgcolor": "#E5ECF6",
           "caxis": {
            "gridcolor": "white",
            "linecolor": "white",
            "ticks": ""
           }
          },
          "title": {
           "x": 0.05
          },
          "xaxis": {
           "automargin": true,
           "gridcolor": "white",
           "linecolor": "white",
           "ticks": "",
           "title": {
            "standoff": 15
           },
           "zerolinecolor": "white",
           "zerolinewidth": 2
          },
          "yaxis": {
           "automargin": true,
           "gridcolor": "white",
           "linecolor": "white",
           "ticks": "",
           "title": {
            "standoff": 15
           },
           "zerolinecolor": "white",
           "zerolinewidth": 2
          }
         }
        },
        "title": {
         "text": "Least Used Feature"
        }
       }
      },
      "text/html": [
       "<div>\n",
       "        \n",
       "        \n",
       "            <div id=\"6a557b87-ba8b-4b61-a0c2-99dc464712ab\" class=\"plotly-graph-div\" style=\"height:525px; width:100%;\"></div>\n",
       "            <script type=\"text/javascript\">\n",
       "                require([\"plotly\"], function(Plotly) {\n",
       "                    window.PLOTLYENV=window.PLOTLYENV || {};\n",
       "                    \n",
       "                if (document.getElementById(\"6a557b87-ba8b-4b61-a0c2-99dc464712ab\")) {\n",
       "                    Plotly.newPlot(\n",
       "                        '6a557b87-ba8b-4b61-a0c2-99dc464712ab',\n",
       "                        [{\"marker\": {\"color\": [\"  #000000\", \"  #1a1a1a\", \" #404040\", \"white\", \"white\", \"grey\", \"purple\", \"blue\", \"  #000000\", \" #333333\", \"silver\", \"blue\", \"white\", \"white\", \"blue\", \"gold\", \"blue\", \" #0d0d0d\", \"gold\", \"  #000000\"]}, \"type\": \"bar\", \"x\": [\"Black\", \"Midnight Black\", \"Prism Black\", \"Prism White\", \"Titanium Grey\", \"Orchid Gray\", \"Lilac Purple\", \"Blue\", \"black\", \"Black Onyx\", \"Arctic Silver\", \"Ocean Blue\", \"Aura Glow\", \"White\", \"Prism Blue\", \"Gold\", \"Coral Blue\", \"Aura Black\", \"Gold Platinum\", \"Black Sapphire\"], \"y\": [115, 51, 37, 26, 22, 20, 20, 18, 16, 14, 12, 11, 11, 10, 10, 9, 8, 8, 7, 7]}],\n",
       "                        {\"template\": {\"data\": {\"bar\": [{\"error_x\": {\"color\": \"#2a3f5f\"}, \"error_y\": {\"color\": \"#2a3f5f\"}, \"marker\": {\"line\": {\"color\": \"#E5ECF6\", \"width\": 0.5}}, \"type\": \"bar\"}], \"barpolar\": [{\"marker\": {\"line\": {\"color\": \"#E5ECF6\", \"width\": 0.5}}, \"type\": \"barpolar\"}], \"carpet\": [{\"aaxis\": {\"endlinecolor\": \"#2a3f5f\", \"gridcolor\": \"white\", \"linecolor\": \"white\", \"minorgridcolor\": \"white\", \"startlinecolor\": \"#2a3f5f\"}, \"baxis\": {\"endlinecolor\": \"#2a3f5f\", \"gridcolor\": \"white\", \"linecolor\": \"white\", \"minorgridcolor\": \"white\", \"startlinecolor\": \"#2a3f5f\"}, \"type\": \"carpet\"}], \"choropleth\": [{\"colorbar\": {\"outlinewidth\": 0, \"ticks\": \"\"}, \"type\": \"choropleth\"}], \"contour\": [{\"colorbar\": {\"outlinewidth\": 0, \"ticks\": \"\"}, \"colorscale\": [[0.0, \"#0d0887\"], [0.1111111111111111, \"#46039f\"], [0.2222222222222222, \"#7201a8\"], [0.3333333333333333, \"#9c179e\"], [0.4444444444444444, \"#bd3786\"], [0.5555555555555556, \"#d8576b\"], [0.6666666666666666, \"#ed7953\"], [0.7777777777777778, \"#fb9f3a\"], [0.8888888888888888, \"#fdca26\"], [1.0, \"#f0f921\"]], \"type\": \"contour\"}], \"contourcarpet\": [{\"colorbar\": {\"outlinewidth\": 0, \"ticks\": \"\"}, \"type\": \"contourcarpet\"}], \"heatmap\": [{\"colorbar\": {\"outlinewidth\": 0, \"ticks\": \"\"}, \"colorscale\": [[0.0, \"#0d0887\"], [0.1111111111111111, \"#46039f\"], [0.2222222222222222, \"#7201a8\"], [0.3333333333333333, \"#9c179e\"], [0.4444444444444444, \"#bd3786\"], [0.5555555555555556, \"#d8576b\"], [0.6666666666666666, \"#ed7953\"], [0.7777777777777778, \"#fb9f3a\"], [0.8888888888888888, \"#fdca26\"], [1.0, \"#f0f921\"]], \"type\": \"heatmap\"}], \"heatmapgl\": [{\"colorbar\": {\"outlinewidth\": 0, \"ticks\": \"\"}, \"colorscale\": [[0.0, \"#0d0887\"], [0.1111111111111111, \"#46039f\"], [0.2222222222222222, \"#7201a8\"], [0.3333333333333333, \"#9c179e\"], [0.4444444444444444, \"#bd3786\"], [0.5555555555555556, \"#d8576b\"], [0.6666666666666666, \"#ed7953\"], [0.7777777777777778, \"#fb9f3a\"], [0.8888888888888888, \"#fdca26\"], [1.0, \"#f0f921\"]], \"type\": \"heatmapgl\"}], \"histogram\": [{\"marker\": {\"colorbar\": {\"outlinewidth\": 0, \"ticks\": \"\"}}, \"type\": \"histogram\"}], \"histogram2d\": [{\"colorbar\": {\"outlinewidth\": 0, \"ticks\": \"\"}, \"colorscale\": [[0.0, \"#0d0887\"], [0.1111111111111111, \"#46039f\"], [0.2222222222222222, \"#7201a8\"], [0.3333333333333333, \"#9c179e\"], [0.4444444444444444, \"#bd3786\"], [0.5555555555555556, \"#d8576b\"], [0.6666666666666666, \"#ed7953\"], [0.7777777777777778, \"#fb9f3a\"], [0.8888888888888888, \"#fdca26\"], [1.0, \"#f0f921\"]], \"type\": \"histogram2d\"}], \"histogram2dcontour\": [{\"colorbar\": {\"outlinewidth\": 0, \"ticks\": \"\"}, \"colorscale\": [[0.0, \"#0d0887\"], [0.1111111111111111, \"#46039f\"], [0.2222222222222222, \"#7201a8\"], [0.3333333333333333, \"#9c179e\"], [0.4444444444444444, \"#bd3786\"], [0.5555555555555556, \"#d8576b\"], [0.6666666666666666, \"#ed7953\"], [0.7777777777777778, \"#fb9f3a\"], [0.8888888888888888, \"#fdca26\"], [1.0, \"#f0f921\"]], \"type\": \"histogram2dcontour\"}], \"mesh3d\": [{\"colorbar\": {\"outlinewidth\": 0, \"ticks\": \"\"}, \"type\": \"mesh3d\"}], \"parcoords\": [{\"line\": {\"colorbar\": {\"outlinewidth\": 0, \"ticks\": \"\"}}, \"type\": \"parcoords\"}], \"pie\": [{\"automargin\": true, \"type\": \"pie\"}], \"scatter\": [{\"marker\": {\"colorbar\": {\"outlinewidth\": 0, \"ticks\": \"\"}}, \"type\": \"scatter\"}], \"scatter3d\": [{\"line\": {\"colorbar\": {\"outlinewidth\": 0, \"ticks\": \"\"}}, \"marker\": {\"colorbar\": {\"outlinewidth\": 0, \"ticks\": \"\"}}, \"type\": \"scatter3d\"}], \"scattercarpet\": [{\"marker\": {\"colorbar\": {\"outlinewidth\": 0, \"ticks\": \"\"}}, \"type\": \"scattercarpet\"}], \"scattergeo\": [{\"marker\": {\"colorbar\": {\"outlinewidth\": 0, \"ticks\": \"\"}}, \"type\": \"scattergeo\"}], \"scattergl\": [{\"marker\": {\"colorbar\": {\"outlinewidth\": 0, \"ticks\": \"\"}}, \"type\": \"scattergl\"}], \"scattermapbox\": [{\"marker\": {\"colorbar\": {\"outlinewidth\": 0, \"ticks\": \"\"}}, \"type\": \"scattermapbox\"}], \"scatterpolar\": [{\"marker\": {\"colorbar\": {\"outlinewidth\": 0, \"ticks\": \"\"}}, \"type\": \"scatterpolar\"}], \"scatterpolargl\": [{\"marker\": {\"colorbar\": {\"outlinewidth\": 0, \"ticks\": \"\"}}, \"type\": \"scatterpolargl\"}], \"scatterternary\": [{\"marker\": {\"colorbar\": {\"outlinewidth\": 0, \"ticks\": \"\"}}, \"type\": \"scatterternary\"}], \"surface\": [{\"colorbar\": {\"outlinewidth\": 0, \"ticks\": \"\"}, \"colorscale\": [[0.0, \"#0d0887\"], [0.1111111111111111, \"#46039f\"], [0.2222222222222222, \"#7201a8\"], [0.3333333333333333, \"#9c179e\"], [0.4444444444444444, \"#bd3786\"], [0.5555555555555556, \"#d8576b\"], [0.6666666666666666, \"#ed7953\"], [0.7777777777777778, \"#fb9f3a\"], [0.8888888888888888, \"#fdca26\"], [1.0, \"#f0f921\"]], \"type\": \"surface\"}], \"table\": [{\"cells\": {\"fill\": {\"color\": \"#EBF0F8\"}, \"line\": {\"color\": \"white\"}}, \"header\": {\"fill\": {\"color\": \"#C8D4E3\"}, \"line\": {\"color\": \"white\"}}, \"type\": \"table\"}]}, \"layout\": {\"annotationdefaults\": {\"arrowcolor\": \"#2a3f5f\", \"arrowhead\": 0, \"arrowwidth\": 1}, \"coloraxis\": {\"colorbar\": {\"outlinewidth\": 0, \"ticks\": \"\"}}, \"colorscale\": {\"diverging\": [[0, \"#8e0152\"], [0.1, \"#c51b7d\"], [0.2, \"#de77ae\"], [0.3, \"#f1b6da\"], [0.4, \"#fde0ef\"], [0.5, \"#f7f7f7\"], [0.6, \"#e6f5d0\"], [0.7, \"#b8e186\"], [0.8, \"#7fbc41\"], [0.9, \"#4d9221\"], [1, \"#276419\"]], \"sequential\": [[0.0, \"#0d0887\"], [0.1111111111111111, \"#46039f\"], [0.2222222222222222, \"#7201a8\"], [0.3333333333333333, \"#9c179e\"], [0.4444444444444444, \"#bd3786\"], [0.5555555555555556, \"#d8576b\"], [0.6666666666666666, \"#ed7953\"], [0.7777777777777778, \"#fb9f3a\"], [0.8888888888888888, \"#fdca26\"], [1.0, \"#f0f921\"]], \"sequentialminus\": [[0.0, \"#0d0887\"], [0.1111111111111111, \"#46039f\"], [0.2222222222222222, \"#7201a8\"], [0.3333333333333333, \"#9c179e\"], [0.4444444444444444, \"#bd3786\"], [0.5555555555555556, \"#d8576b\"], [0.6666666666666666, \"#ed7953\"], [0.7777777777777778, \"#fb9f3a\"], [0.8888888888888888, \"#fdca26\"], [1.0, \"#f0f921\"]]}, \"colorway\": [\"#636efa\", \"#EF553B\", \"#00cc96\", \"#ab63fa\", \"#FFA15A\", \"#19d3f3\", \"#FF6692\", \"#B6E880\", \"#FF97FF\", \"#FECB52\"], \"font\": {\"color\": \"#2a3f5f\"}, \"geo\": {\"bgcolor\": \"white\", \"lakecolor\": \"white\", \"landcolor\": \"#E5ECF6\", \"showlakes\": true, \"showland\": true, \"subunitcolor\": \"white\"}, \"hoverlabel\": {\"align\": \"left\"}, \"hovermode\": \"closest\", \"mapbox\": {\"style\": \"light\"}, \"paper_bgcolor\": \"white\", \"plot_bgcolor\": \"#E5ECF6\", \"polar\": {\"angularaxis\": {\"gridcolor\": \"white\", \"linecolor\": \"white\", \"ticks\": \"\"}, \"bgcolor\": \"#E5ECF6\", \"radialaxis\": {\"gridcolor\": \"white\", \"linecolor\": \"white\", \"ticks\": \"\"}}, \"scene\": {\"xaxis\": {\"backgroundcolor\": \"#E5ECF6\", \"gridcolor\": \"white\", \"gridwidth\": 2, \"linecolor\": \"white\", \"showbackground\": true, \"ticks\": \"\", \"zerolinecolor\": \"white\"}, \"yaxis\": {\"backgroundcolor\": \"#E5ECF6\", \"gridcolor\": \"white\", \"gridwidth\": 2, \"linecolor\": \"white\", \"showbackground\": true, \"ticks\": \"\", \"zerolinecolor\": \"white\"}, \"zaxis\": {\"backgroundcolor\": \"#E5ECF6\", \"gridcolor\": \"white\", \"gridwidth\": 2, \"linecolor\": \"white\", \"showbackground\": true, \"ticks\": \"\", \"zerolinecolor\": \"white\"}}, \"shapedefaults\": {\"line\": {\"color\": \"#2a3f5f\"}}, \"ternary\": {\"aaxis\": {\"gridcolor\": \"white\", \"linecolor\": \"white\", \"ticks\": \"\"}, \"baxis\": {\"gridcolor\": \"white\", \"linecolor\": \"white\", \"ticks\": \"\"}, \"bgcolor\": \"#E5ECF6\", \"caxis\": {\"gridcolor\": \"white\", \"linecolor\": \"white\", \"ticks\": \"\"}}, \"title\": {\"x\": 0.05}, \"xaxis\": {\"automargin\": true, \"gridcolor\": \"white\", \"linecolor\": \"white\", \"ticks\": \"\", \"title\": {\"standoff\": 15}, \"zerolinecolor\": \"white\", \"zerolinewidth\": 2}, \"yaxis\": {\"automargin\": true, \"gridcolor\": \"white\", \"linecolor\": \"white\", \"ticks\": \"\", \"title\": {\"standoff\": 15}, \"zerolinecolor\": \"white\", \"zerolinewidth\": 2}}}, \"title\": {\"text\": \"Least Used Feature\"}},\n",
       "                        {\"responsive\": true}\n",
       "                    ).then(function(){\n",
       "                            \n",
       "var gd = document.getElementById('6a557b87-ba8b-4b61-a0c2-99dc464712ab');\n",
       "var x = new MutationObserver(function (mutations, observer) {{\n",
       "        var display = window.getComputedStyle(gd).display;\n",
       "        if (!display || display === 'none') {{\n",
       "            console.log([gd, 'removed!']);\n",
       "            Plotly.purge(gd);\n",
       "            observer.disconnect();\n",
       "        }}\n",
       "}});\n",
       "\n",
       "// Listen for the removal of the full notebook cells\n",
       "var notebookContainer = gd.closest('#notebook-container');\n",
       "if (notebookContainer) {{\n",
       "    x.observe(notebookContainer, {childList: true});\n",
       "}}\n",
       "\n",
       "// Listen for the clearing of the current output cell\n",
       "var outputEl = gd.closest('.output');\n",
       "if (outputEl) {{\n",
       "    x.observe(outputEl, {childList: true});\n",
       "}}\n",
       "\n",
       "                        })\n",
       "                };\n",
       "                });\n",
       "            </script>\n",
       "        </div>"
      ]
     },
     "metadata": {},
     "output_type": "display_data"
    }
   ],
   "source": [
    "colors = n\n",
    "\n",
    "\n",
    "fig = go.Figure(data=[go.Bar(\n",
    "    x=phone_colour.index,\n",
    "    y=phone_colour.values,\n",
    "    marker_color=colors # marker color can be a single color value or an iterable\n",
    ")])\n",
    "fig.update_layout(title_text='Least Used Feature')\n"
   ]
  },
  {
   "cell_type": "markdown",
   "metadata": {},
   "source": [
    "#### Apple color visualization"
   ]
  },
  {
   "cell_type": "code",
   "execution_count": 46,
   "metadata": {},
   "outputs": [
    {
     "data": {
      "application/vnd.plotly.v1+json": {
       "config": {
        "plotlyServerURL": "https://plot.ly"
       },
       "data": [
        {
         "marker": {
          "color": [
           "silver",
           "gold",
           "black",
           "pink",
           " #8c8c8c",
           "red",
           " #8c8c8c",
           " #8c8c8c",
           "hsl(30, 0%, 50%)",
           "black",
           "silver",
           "black",
           "white",
           "blue",
           "white",
           "yellow",
           "silver",
           "white",
           "hsl(30, 0%, 50%)"
          ]
         },
         "type": "bar",
         "x": [
          "Silver",
          "Gold",
          "Black",
          "Rose Gold",
          "Space Gray",
          "Red",
          "Space Grey",
          "Space grey",
          "Grey",
          "Jet Black",
          "Silver; White",
          "Grey; Black.",
          "White",
          "Blue",
          "Gold; White",
          "Yellow",
          "Silver; White.",
          "Coral",
          "Rose Gold; White",
          "Gray"
         ],
         "y": [
          174,
          169,
          101,
          86,
          73,
          60,
          32,
          26,
          26,
          26,
          25,
          23,
          23,
          21,
          18,
          12,
          12,
          11,
          11,
          8
         ]
        }
       ],
       "layout": {
        "template": {
         "data": {
          "bar": [
           {
            "error_x": {
             "color": "#2a3f5f"
            },
            "error_y": {
             "color": "#2a3f5f"
            },
            "marker": {
             "line": {
              "color": "#E5ECF6",
              "width": 0.5
             }
            },
            "type": "bar"
           }
          ],
          "barpolar": [
           {
            "marker": {
             "line": {
              "color": "#E5ECF6",
              "width": 0.5
             }
            },
            "type": "barpolar"
           }
          ],
          "carpet": [
           {
            "aaxis": {
             "endlinecolor": "#2a3f5f",
             "gridcolor": "white",
             "linecolor": "white",
             "minorgridcolor": "white",
             "startlinecolor": "#2a3f5f"
            },
            "baxis": {
             "endlinecolor": "#2a3f5f",
             "gridcolor": "white",
             "linecolor": "white",
             "minorgridcolor": "white",
             "startlinecolor": "#2a3f5f"
            },
            "type": "carpet"
           }
          ],
          "choropleth": [
           {
            "colorbar": {
             "outlinewidth": 0,
             "ticks": ""
            },
            "type": "choropleth"
           }
          ],
          "contour": [
           {
            "colorbar": {
             "outlinewidth": 0,
             "ticks": ""
            },
            "colorscale": [
             [
              0,
              "#0d0887"
             ],
             [
              0.1111111111111111,
              "#46039f"
             ],
             [
              0.2222222222222222,
              "#7201a8"
             ],
             [
              0.3333333333333333,
              "#9c179e"
             ],
             [
              0.4444444444444444,
              "#bd3786"
             ],
             [
              0.5555555555555556,
              "#d8576b"
             ],
             [
              0.6666666666666666,
              "#ed7953"
             ],
             [
              0.7777777777777778,
              "#fb9f3a"
             ],
             [
              0.8888888888888888,
              "#fdca26"
             ],
             [
              1,
              "#f0f921"
             ]
            ],
            "type": "contour"
           }
          ],
          "contourcarpet": [
           {
            "colorbar": {
             "outlinewidth": 0,
             "ticks": ""
            },
            "type": "contourcarpet"
           }
          ],
          "heatmap": [
           {
            "colorbar": {
             "outlinewidth": 0,
             "ticks": ""
            },
            "colorscale": [
             [
              0,
              "#0d0887"
             ],
             [
              0.1111111111111111,
              "#46039f"
             ],
             [
              0.2222222222222222,
              "#7201a8"
             ],
             [
              0.3333333333333333,
              "#9c179e"
             ],
             [
              0.4444444444444444,
              "#bd3786"
             ],
             [
              0.5555555555555556,
              "#d8576b"
             ],
             [
              0.6666666666666666,
              "#ed7953"
             ],
             [
              0.7777777777777778,
              "#fb9f3a"
             ],
             [
              0.8888888888888888,
              "#fdca26"
             ],
             [
              1,
              "#f0f921"
             ]
            ],
            "type": "heatmap"
           }
          ],
          "heatmapgl": [
           {
            "colorbar": {
             "outlinewidth": 0,
             "ticks": ""
            },
            "colorscale": [
             [
              0,
              "#0d0887"
             ],
             [
              0.1111111111111111,
              "#46039f"
             ],
             [
              0.2222222222222222,
              "#7201a8"
             ],
             [
              0.3333333333333333,
              "#9c179e"
             ],
             [
              0.4444444444444444,
              "#bd3786"
             ],
             [
              0.5555555555555556,
              "#d8576b"
             ],
             [
              0.6666666666666666,
              "#ed7953"
             ],
             [
              0.7777777777777778,
              "#fb9f3a"
             ],
             [
              0.8888888888888888,
              "#fdca26"
             ],
             [
              1,
              "#f0f921"
             ]
            ],
            "type": "heatmapgl"
           }
          ],
          "histogram": [
           {
            "marker": {
             "colorbar": {
              "outlinewidth": 0,
              "ticks": ""
             }
            },
            "type": "histogram"
           }
          ],
          "histogram2d": [
           {
            "colorbar": {
             "outlinewidth": 0,
             "ticks": ""
            },
            "colorscale": [
             [
              0,
              "#0d0887"
             ],
             [
              0.1111111111111111,
              "#46039f"
             ],
             [
              0.2222222222222222,
              "#7201a8"
             ],
             [
              0.3333333333333333,
              "#9c179e"
             ],
             [
              0.4444444444444444,
              "#bd3786"
             ],
             [
              0.5555555555555556,
              "#d8576b"
             ],
             [
              0.6666666666666666,
              "#ed7953"
             ],
             [
              0.7777777777777778,
              "#fb9f3a"
             ],
             [
              0.8888888888888888,
              "#fdca26"
             ],
             [
              1,
              "#f0f921"
             ]
            ],
            "type": "histogram2d"
           }
          ],
          "histogram2dcontour": [
           {
            "colorbar": {
             "outlinewidth": 0,
             "ticks": ""
            },
            "colorscale": [
             [
              0,
              "#0d0887"
             ],
             [
              0.1111111111111111,
              "#46039f"
             ],
             [
              0.2222222222222222,
              "#7201a8"
             ],
             [
              0.3333333333333333,
              "#9c179e"
             ],
             [
              0.4444444444444444,
              "#bd3786"
             ],
             [
              0.5555555555555556,
              "#d8576b"
             ],
             [
              0.6666666666666666,
              "#ed7953"
             ],
             [
              0.7777777777777778,
              "#fb9f3a"
             ],
             [
              0.8888888888888888,
              "#fdca26"
             ],
             [
              1,
              "#f0f921"
             ]
            ],
            "type": "histogram2dcontour"
           }
          ],
          "mesh3d": [
           {
            "colorbar": {
             "outlinewidth": 0,
             "ticks": ""
            },
            "type": "mesh3d"
           }
          ],
          "parcoords": [
           {
            "line": {
             "colorbar": {
              "outlinewidth": 0,
              "ticks": ""
             }
            },
            "type": "parcoords"
           }
          ],
          "pie": [
           {
            "automargin": true,
            "type": "pie"
           }
          ],
          "scatter": [
           {
            "marker": {
             "colorbar": {
              "outlinewidth": 0,
              "ticks": ""
             }
            },
            "type": "scatter"
           }
          ],
          "scatter3d": [
           {
            "line": {
             "colorbar": {
              "outlinewidth": 0,
              "ticks": ""
             }
            },
            "marker": {
             "colorbar": {
              "outlinewidth": 0,
              "ticks": ""
             }
            },
            "type": "scatter3d"
           }
          ],
          "scattercarpet": [
           {
            "marker": {
             "colorbar": {
              "outlinewidth": 0,
              "ticks": ""
             }
            },
            "type": "scattercarpet"
           }
          ],
          "scattergeo": [
           {
            "marker": {
             "colorbar": {
              "outlinewidth": 0,
              "ticks": ""
             }
            },
            "type": "scattergeo"
           }
          ],
          "scattergl": [
           {
            "marker": {
             "colorbar": {
              "outlinewidth": 0,
              "ticks": ""
             }
            },
            "type": "scattergl"
           }
          ],
          "scattermapbox": [
           {
            "marker": {
             "colorbar": {
              "outlinewidth": 0,
              "ticks": ""
             }
            },
            "type": "scattermapbox"
           }
          ],
          "scatterpolar": [
           {
            "marker": {
             "colorbar": {
              "outlinewidth": 0,
              "ticks": ""
             }
            },
            "type": "scatterpolar"
           }
          ],
          "scatterpolargl": [
           {
            "marker": {
             "colorbar": {
              "outlinewidth": 0,
              "ticks": ""
             }
            },
            "type": "scatterpolargl"
           }
          ],
          "scatterternary": [
           {
            "marker": {
             "colorbar": {
              "outlinewidth": 0,
              "ticks": ""
             }
            },
            "type": "scatterternary"
           }
          ],
          "surface": [
           {
            "colorbar": {
             "outlinewidth": 0,
             "ticks": ""
            },
            "colorscale": [
             [
              0,
              "#0d0887"
             ],
             [
              0.1111111111111111,
              "#46039f"
             ],
             [
              0.2222222222222222,
              "#7201a8"
             ],
             [
              0.3333333333333333,
              "#9c179e"
             ],
             [
              0.4444444444444444,
              "#bd3786"
             ],
             [
              0.5555555555555556,
              "#d8576b"
             ],
             [
              0.6666666666666666,
              "#ed7953"
             ],
             [
              0.7777777777777778,
              "#fb9f3a"
             ],
             [
              0.8888888888888888,
              "#fdca26"
             ],
             [
              1,
              "#f0f921"
             ]
            ],
            "type": "surface"
           }
          ],
          "table": [
           {
            "cells": {
             "fill": {
              "color": "#EBF0F8"
             },
             "line": {
              "color": "white"
             }
            },
            "header": {
             "fill": {
              "color": "#C8D4E3"
             },
             "line": {
              "color": "white"
             }
            },
            "type": "table"
           }
          ]
         },
         "layout": {
          "annotationdefaults": {
           "arrowcolor": "#2a3f5f",
           "arrowhead": 0,
           "arrowwidth": 1
          },
          "coloraxis": {
           "colorbar": {
            "outlinewidth": 0,
            "ticks": ""
           }
          },
          "colorscale": {
           "diverging": [
            [
             0,
             "#8e0152"
            ],
            [
             0.1,
             "#c51b7d"
            ],
            [
             0.2,
             "#de77ae"
            ],
            [
             0.3,
             "#f1b6da"
            ],
            [
             0.4,
             "#fde0ef"
            ],
            [
             0.5,
             "#f7f7f7"
            ],
            [
             0.6,
             "#e6f5d0"
            ],
            [
             0.7,
             "#b8e186"
            ],
            [
             0.8,
             "#7fbc41"
            ],
            [
             0.9,
             "#4d9221"
            ],
            [
             1,
             "#276419"
            ]
           ],
           "sequential": [
            [
             0,
             "#0d0887"
            ],
            [
             0.1111111111111111,
             "#46039f"
            ],
            [
             0.2222222222222222,
             "#7201a8"
            ],
            [
             0.3333333333333333,
             "#9c179e"
            ],
            [
             0.4444444444444444,
             "#bd3786"
            ],
            [
             0.5555555555555556,
             "#d8576b"
            ],
            [
             0.6666666666666666,
             "#ed7953"
            ],
            [
             0.7777777777777778,
             "#fb9f3a"
            ],
            [
             0.8888888888888888,
             "#fdca26"
            ],
            [
             1,
             "#f0f921"
            ]
           ],
           "sequentialminus": [
            [
             0,
             "#0d0887"
            ],
            [
             0.1111111111111111,
             "#46039f"
            ],
            [
             0.2222222222222222,
             "#7201a8"
            ],
            [
             0.3333333333333333,
             "#9c179e"
            ],
            [
             0.4444444444444444,
             "#bd3786"
            ],
            [
             0.5555555555555556,
             "#d8576b"
            ],
            [
             0.6666666666666666,
             "#ed7953"
            ],
            [
             0.7777777777777778,
             "#fb9f3a"
            ],
            [
             0.8888888888888888,
             "#fdca26"
            ],
            [
             1,
             "#f0f921"
            ]
           ]
          },
          "colorway": [
           "#636efa",
           "#EF553B",
           "#00cc96",
           "#ab63fa",
           "#FFA15A",
           "#19d3f3",
           "#FF6692",
           "#B6E880",
           "#FF97FF",
           "#FECB52"
          ],
          "font": {
           "color": "#2a3f5f"
          },
          "geo": {
           "bgcolor": "white",
           "lakecolor": "white",
           "landcolor": "#E5ECF6",
           "showlakes": true,
           "showland": true,
           "subunitcolor": "white"
          },
          "hoverlabel": {
           "align": "left"
          },
          "hovermode": "closest",
          "mapbox": {
           "style": "light"
          },
          "paper_bgcolor": "white",
          "plot_bgcolor": "#E5ECF6",
          "polar": {
           "angularaxis": {
            "gridcolor": "white",
            "linecolor": "white",
            "ticks": ""
           },
           "bgcolor": "#E5ECF6",
           "radialaxis": {
            "gridcolor": "white",
            "linecolor": "white",
            "ticks": ""
           }
          },
          "scene": {
           "xaxis": {
            "backgroundcolor": "#E5ECF6",
            "gridcolor": "white",
            "gridwidth": 2,
            "linecolor": "white",
            "showbackground": true,
            "ticks": "",
            "zerolinecolor": "white"
           },
           "yaxis": {
            "backgroundcolor": "#E5ECF6",
            "gridcolor": "white",
            "gridwidth": 2,
            "linecolor": "white",
            "showbackground": true,
            "ticks": "",
            "zerolinecolor": "white"
           },
           "zaxis": {
            "backgroundcolor": "#E5ECF6",
            "gridcolor": "white",
            "gridwidth": 2,
            "linecolor": "white",
            "showbackground": true,
            "ticks": "",
            "zerolinecolor": "white"
           }
          },
          "shapedefaults": {
           "line": {
            "color": "#2a3f5f"
           }
          },
          "ternary": {
           "aaxis": {
            "gridcolor": "white",
            "linecolor": "white",
            "ticks": ""
           },
           "baxis": {
            "gridcolor": "white",
            "linecolor": "white",
            "ticks": ""
           },
           "bgcolor": "#E5ECF6",
           "caxis": {
            "gridcolor": "white",
            "linecolor": "white",
            "ticks": ""
           }
          },
          "title": {
           "x": 0.05
          },
          "xaxis": {
           "automargin": true,
           "gridcolor": "white",
           "linecolor": "white",
           "ticks": "",
           "title": {
            "standoff": 15
           },
           "zerolinecolor": "white",
           "zerolinewidth": 2
          },
          "yaxis": {
           "automargin": true,
           "gridcolor": "white",
           "linecolor": "white",
           "ticks": "",
           "title": {
            "standoff": 15
           },
           "zerolinecolor": "white",
           "zerolinewidth": 2
          }
         }
        },
        "title": {
         "text": "Least Used Feature"
        }
       }
      },
      "text/html": [
       "<div>\n",
       "        \n",
       "        \n",
       "            <div id=\"785999db-22d6-4889-9cff-89cb966ab840\" class=\"plotly-graph-div\" style=\"height:525px; width:100%;\"></div>\n",
       "            <script type=\"text/javascript\">\n",
       "                require([\"plotly\"], function(Plotly) {\n",
       "                    window.PLOTLYENV=window.PLOTLYENV || {};\n",
       "                    \n",
       "                if (document.getElementById(\"785999db-22d6-4889-9cff-89cb966ab840\")) {\n",
       "                    Plotly.newPlot(\n",
       "                        '785999db-22d6-4889-9cff-89cb966ab840',\n",
       "                        [{\"marker\": {\"color\": [\"silver\", \"gold\", \"black\", \"pink\", \" #8c8c8c\", \"red\", \" #8c8c8c\", \" #8c8c8c\", \"hsl(30, 0%, 50%)\", \"black\", \"silver\", \"black\", \"white\", \"blue\", \"white\", \"yellow\", \"silver\", \"white\", \"hsl(30, 0%, 50%)\"]}, \"type\": \"bar\", \"x\": [\"Silver\", \"Gold\", \"Black\", \"Rose Gold\", \"Space Gray\", \"Red\", \"Space Grey\", \"Space grey\", \"Grey\", \"Jet Black\", \"Silver; White\", \"Grey; Black.\", \"White\", \"Blue\", \"Gold; White\", \"Yellow\", \"Silver; White.\", \"Coral\", \"Rose Gold; White\", \"Gray\"], \"y\": [174, 169, 101, 86, 73, 60, 32, 26, 26, 26, 25, 23, 23, 21, 18, 12, 12, 11, 11, 8]}],\n",
       "                        {\"template\": {\"data\": {\"bar\": [{\"error_x\": {\"color\": \"#2a3f5f\"}, \"error_y\": {\"color\": \"#2a3f5f\"}, \"marker\": {\"line\": {\"color\": \"#E5ECF6\", \"width\": 0.5}}, \"type\": \"bar\"}], \"barpolar\": [{\"marker\": {\"line\": {\"color\": \"#E5ECF6\", \"width\": 0.5}}, \"type\": \"barpolar\"}], \"carpet\": [{\"aaxis\": {\"endlinecolor\": \"#2a3f5f\", \"gridcolor\": \"white\", \"linecolor\": \"white\", \"minorgridcolor\": \"white\", \"startlinecolor\": \"#2a3f5f\"}, \"baxis\": {\"endlinecolor\": \"#2a3f5f\", \"gridcolor\": \"white\", \"linecolor\": \"white\", \"minorgridcolor\": \"white\", \"startlinecolor\": \"#2a3f5f\"}, \"type\": \"carpet\"}], \"choropleth\": [{\"colorbar\": {\"outlinewidth\": 0, \"ticks\": \"\"}, \"type\": \"choropleth\"}], \"contour\": [{\"colorbar\": {\"outlinewidth\": 0, \"ticks\": \"\"}, \"colorscale\": [[0.0, \"#0d0887\"], [0.1111111111111111, \"#46039f\"], [0.2222222222222222, \"#7201a8\"], [0.3333333333333333, \"#9c179e\"], [0.4444444444444444, \"#bd3786\"], [0.5555555555555556, \"#d8576b\"], [0.6666666666666666, \"#ed7953\"], [0.7777777777777778, \"#fb9f3a\"], [0.8888888888888888, \"#fdca26\"], [1.0, \"#f0f921\"]], \"type\": \"contour\"}], \"contourcarpet\": [{\"colorbar\": {\"outlinewidth\": 0, \"ticks\": \"\"}, \"type\": \"contourcarpet\"}], \"heatmap\": [{\"colorbar\": {\"outlinewidth\": 0, \"ticks\": \"\"}, \"colorscale\": [[0.0, \"#0d0887\"], [0.1111111111111111, \"#46039f\"], [0.2222222222222222, \"#7201a8\"], [0.3333333333333333, \"#9c179e\"], [0.4444444444444444, \"#bd3786\"], [0.5555555555555556, \"#d8576b\"], [0.6666666666666666, \"#ed7953\"], [0.7777777777777778, \"#fb9f3a\"], [0.8888888888888888, \"#fdca26\"], [1.0, \"#f0f921\"]], \"type\": \"heatmap\"}], \"heatmapgl\": [{\"colorbar\": {\"outlinewidth\": 0, \"ticks\": \"\"}, \"colorscale\": [[0.0, \"#0d0887\"], [0.1111111111111111, \"#46039f\"], [0.2222222222222222, \"#7201a8\"], [0.3333333333333333, \"#9c179e\"], [0.4444444444444444, \"#bd3786\"], [0.5555555555555556, \"#d8576b\"], [0.6666666666666666, \"#ed7953\"], [0.7777777777777778, \"#fb9f3a\"], [0.8888888888888888, \"#fdca26\"], [1.0, \"#f0f921\"]], \"type\": \"heatmapgl\"}], \"histogram\": [{\"marker\": {\"colorbar\": {\"outlinewidth\": 0, \"ticks\": \"\"}}, \"type\": \"histogram\"}], \"histogram2d\": [{\"colorbar\": {\"outlinewidth\": 0, \"ticks\": \"\"}, \"colorscale\": [[0.0, \"#0d0887\"], [0.1111111111111111, \"#46039f\"], [0.2222222222222222, \"#7201a8\"], [0.3333333333333333, \"#9c179e\"], [0.4444444444444444, \"#bd3786\"], [0.5555555555555556, \"#d8576b\"], [0.6666666666666666, \"#ed7953\"], [0.7777777777777778, \"#fb9f3a\"], [0.8888888888888888, \"#fdca26\"], [1.0, \"#f0f921\"]], \"type\": \"histogram2d\"}], \"histogram2dcontour\": [{\"colorbar\": {\"outlinewidth\": 0, \"ticks\": \"\"}, \"colorscale\": [[0.0, \"#0d0887\"], [0.1111111111111111, \"#46039f\"], [0.2222222222222222, \"#7201a8\"], [0.3333333333333333, \"#9c179e\"], [0.4444444444444444, \"#bd3786\"], [0.5555555555555556, \"#d8576b\"], [0.6666666666666666, \"#ed7953\"], [0.7777777777777778, \"#fb9f3a\"], [0.8888888888888888, \"#fdca26\"], [1.0, \"#f0f921\"]], \"type\": \"histogram2dcontour\"}], \"mesh3d\": [{\"colorbar\": {\"outlinewidth\": 0, \"ticks\": \"\"}, \"type\": \"mesh3d\"}], \"parcoords\": [{\"line\": {\"colorbar\": {\"outlinewidth\": 0, \"ticks\": \"\"}}, \"type\": \"parcoords\"}], \"pie\": [{\"automargin\": true, \"type\": \"pie\"}], \"scatter\": [{\"marker\": {\"colorbar\": {\"outlinewidth\": 0, \"ticks\": \"\"}}, \"type\": \"scatter\"}], \"scatter3d\": [{\"line\": {\"colorbar\": {\"outlinewidth\": 0, \"ticks\": \"\"}}, \"marker\": {\"colorbar\": {\"outlinewidth\": 0, \"ticks\": \"\"}}, \"type\": \"scatter3d\"}], \"scattercarpet\": [{\"marker\": {\"colorbar\": {\"outlinewidth\": 0, \"ticks\": \"\"}}, \"type\": \"scattercarpet\"}], \"scattergeo\": [{\"marker\": {\"colorbar\": {\"outlinewidth\": 0, \"ticks\": \"\"}}, \"type\": \"scattergeo\"}], \"scattergl\": [{\"marker\": {\"colorbar\": {\"outlinewidth\": 0, \"ticks\": \"\"}}, \"type\": \"scattergl\"}], \"scattermapbox\": [{\"marker\": {\"colorbar\": {\"outlinewidth\": 0, \"ticks\": \"\"}}, \"type\": \"scattermapbox\"}], \"scatterpolar\": [{\"marker\": {\"colorbar\": {\"outlinewidth\": 0, \"ticks\": \"\"}}, \"type\": \"scatterpolar\"}], \"scatterpolargl\": [{\"marker\": {\"colorbar\": {\"outlinewidth\": 0, \"ticks\": \"\"}}, \"type\": \"scatterpolargl\"}], \"scatterternary\": [{\"marker\": {\"colorbar\": {\"outlinewidth\": 0, \"ticks\": \"\"}}, \"type\": \"scatterternary\"}], \"surface\": [{\"colorbar\": {\"outlinewidth\": 0, \"ticks\": \"\"}, \"colorscale\": [[0.0, \"#0d0887\"], [0.1111111111111111, \"#46039f\"], [0.2222222222222222, \"#7201a8\"], [0.3333333333333333, \"#9c179e\"], [0.4444444444444444, \"#bd3786\"], [0.5555555555555556, \"#d8576b\"], [0.6666666666666666, \"#ed7953\"], [0.7777777777777778, \"#fb9f3a\"], [0.8888888888888888, \"#fdca26\"], [1.0, \"#f0f921\"]], \"type\": \"surface\"}], \"table\": [{\"cells\": {\"fill\": {\"color\": \"#EBF0F8\"}, \"line\": {\"color\": \"white\"}}, \"header\": {\"fill\": {\"color\": \"#C8D4E3\"}, \"line\": {\"color\": \"white\"}}, \"type\": \"table\"}]}, \"layout\": {\"annotationdefaults\": {\"arrowcolor\": \"#2a3f5f\", \"arrowhead\": 0, \"arrowwidth\": 1}, \"coloraxis\": {\"colorbar\": {\"outlinewidth\": 0, \"ticks\": \"\"}}, \"colorscale\": {\"diverging\": [[0, \"#8e0152\"], [0.1, \"#c51b7d\"], [0.2, \"#de77ae\"], [0.3, \"#f1b6da\"], [0.4, \"#fde0ef\"], [0.5, \"#f7f7f7\"], [0.6, \"#e6f5d0\"], [0.7, \"#b8e186\"], [0.8, \"#7fbc41\"], [0.9, \"#4d9221\"], [1, \"#276419\"]], \"sequential\": [[0.0, \"#0d0887\"], [0.1111111111111111, \"#46039f\"], [0.2222222222222222, \"#7201a8\"], [0.3333333333333333, \"#9c179e\"], [0.4444444444444444, \"#bd3786\"], [0.5555555555555556, \"#d8576b\"], [0.6666666666666666, \"#ed7953\"], [0.7777777777777778, \"#fb9f3a\"], [0.8888888888888888, \"#fdca26\"], [1.0, \"#f0f921\"]], \"sequentialminus\": [[0.0, \"#0d0887\"], [0.1111111111111111, \"#46039f\"], [0.2222222222222222, \"#7201a8\"], [0.3333333333333333, \"#9c179e\"], [0.4444444444444444, \"#bd3786\"], [0.5555555555555556, \"#d8576b\"], [0.6666666666666666, \"#ed7953\"], [0.7777777777777778, \"#fb9f3a\"], [0.8888888888888888, \"#fdca26\"], [1.0, \"#f0f921\"]]}, \"colorway\": [\"#636efa\", \"#EF553B\", \"#00cc96\", \"#ab63fa\", \"#FFA15A\", \"#19d3f3\", \"#FF6692\", \"#B6E880\", \"#FF97FF\", \"#FECB52\"], \"font\": {\"color\": \"#2a3f5f\"}, \"geo\": {\"bgcolor\": \"white\", \"lakecolor\": \"white\", \"landcolor\": \"#E5ECF6\", \"showlakes\": true, \"showland\": true, \"subunitcolor\": \"white\"}, \"hoverlabel\": {\"align\": \"left\"}, \"hovermode\": \"closest\", \"mapbox\": {\"style\": \"light\"}, \"paper_bgcolor\": \"white\", \"plot_bgcolor\": \"#E5ECF6\", \"polar\": {\"angularaxis\": {\"gridcolor\": \"white\", \"linecolor\": \"white\", \"ticks\": \"\"}, \"bgcolor\": \"#E5ECF6\", \"radialaxis\": {\"gridcolor\": \"white\", \"linecolor\": \"white\", \"ticks\": \"\"}}, \"scene\": {\"xaxis\": {\"backgroundcolor\": \"#E5ECF6\", \"gridcolor\": \"white\", \"gridwidth\": 2, \"linecolor\": \"white\", \"showbackground\": true, \"ticks\": \"\", \"zerolinecolor\": \"white\"}, \"yaxis\": {\"backgroundcolor\": \"#E5ECF6\", \"gridcolor\": \"white\", \"gridwidth\": 2, \"linecolor\": \"white\", \"showbackground\": true, \"ticks\": \"\", \"zerolinecolor\": \"white\"}, \"zaxis\": {\"backgroundcolor\": \"#E5ECF6\", \"gridcolor\": \"white\", \"gridwidth\": 2, \"linecolor\": \"white\", \"showbackground\": true, \"ticks\": \"\", \"zerolinecolor\": \"white\"}}, \"shapedefaults\": {\"line\": {\"color\": \"#2a3f5f\"}}, \"ternary\": {\"aaxis\": {\"gridcolor\": \"white\", \"linecolor\": \"white\", \"ticks\": \"\"}, \"baxis\": {\"gridcolor\": \"white\", \"linecolor\": \"white\", \"ticks\": \"\"}, \"bgcolor\": \"#E5ECF6\", \"caxis\": {\"gridcolor\": \"white\", \"linecolor\": \"white\", \"ticks\": \"\"}}, \"title\": {\"x\": 0.05}, \"xaxis\": {\"automargin\": true, \"gridcolor\": \"white\", \"linecolor\": \"white\", \"ticks\": \"\", \"title\": {\"standoff\": 15}, \"zerolinecolor\": \"white\", \"zerolinewidth\": 2}, \"yaxis\": {\"automargin\": true, \"gridcolor\": \"white\", \"linecolor\": \"white\", \"ticks\": \"\", \"title\": {\"standoff\": 15}, \"zerolinecolor\": \"white\", \"zerolinewidth\": 2}}}, \"title\": {\"text\": \"Least Used Feature\"}},\n",
       "                        {\"responsive\": true}\n",
       "                    ).then(function(){\n",
       "                            \n",
       "var gd = document.getElementById('785999db-22d6-4889-9cff-89cb966ab840');\n",
       "var x = new MutationObserver(function (mutations, observer) {{\n",
       "        var display = window.getComputedStyle(gd).display;\n",
       "        if (!display || display === 'none') {{\n",
       "            console.log([gd, 'removed!']);\n",
       "            Plotly.purge(gd);\n",
       "            observer.disconnect();\n",
       "        }}\n",
       "}});\n",
       "\n",
       "// Listen for the removal of the full notebook cells\n",
       "var notebookContainer = gd.closest('#notebook-container');\n",
       "if (notebookContainer) {{\n",
       "    x.observe(notebookContainer, {childList: true});\n",
       "}}\n",
       "\n",
       "// Listen for the clearing of the current output cell\n",
       "var outputEl = gd.closest('.output');\n",
       "if (outputEl) {{\n",
       "    x.observe(outputEl, {childList: true});\n",
       "}}\n",
       "\n",
       "                        })\n",
       "                };\n",
       "                });\n",
       "            </script>\n",
       "        </div>"
      ]
     },
     "metadata": {},
     "output_type": "display_data"
    }
   ],
   "source": [
    "Apple_colour =Apple_pd['Colour'].value_counts().sort_values(ascending=False).head(20)\n",
    "\n",
    "\n",
    "m=Apple_colour.index\n",
    "n=[]\n",
    "for i in m:\n",
    "    \n",
    "    if 'black' in i.lower():\n",
    "        i=\"black\"\n",
    "        n.append(i.lower())\n",
    "\n",
    "       \n",
    "    if 'green' in i.lower():\n",
    "        i=\"green\"\n",
    "        n.append(i.lower())\n",
    "        \n",
    "       \n",
    "    if 'gray'== i.lower():\n",
    "        i=\"hsl(30, 0%, 50%)\"\n",
    "        n.append(i.lower())\n",
    "        \n",
    "       \n",
    "    if 'space gray'== i.lower():\n",
    "        i= ' #8c8c8c'\n",
    "        n.append(i.lower())\n",
    "        \n",
    "    if 'space grey'== i.lower():\n",
    "        i= ' #8c8c8c'\n",
    "        n.append(i.lower())\n",
    "\n",
    "        \n",
    "    if 'grey'==i.lower():\n",
    "        i=\"hsl(30, 0%, 50%)\"\n",
    "        n.append(i.lower())\n",
    "        \n",
    "        \n",
    "    if 'silver' in i.lower():\n",
    "        i=\"silver\"\n",
    "        n.append(i.lower())\n",
    "        \n",
    "    if 'purple' in i.lower():\n",
    "        i=\"purple\"\n",
    "        n.append(i.lower())\n",
    "        \n",
    "    if 'red' in i.lower():\n",
    "        i=\"red\"\n",
    "        n.append(i.lower())\n",
    "        \n",
    "    if 'white' in i.lower():\n",
    "        i=\"white\"\n",
    "        n.append(i.lower())\n",
    "        \n",
    "    if 'rose gold' in i.lower():\n",
    "        i=\"pink\"\n",
    "        n.append(i)\n",
    "           \n",
    "        \n",
    "    if 'gold'==i.lower():\n",
    "        i='gold'\n",
    "        n.append(i)\n",
    "        \n",
    "        \n",
    "    if 'blue' in i.lower():\n",
    "        i='blue'\n",
    "        n.append(i)\n",
    "        \n",
    "    if 'yellow' in i.lower():\n",
    "        i='yellow'\n",
    "        n.append(i)\n",
    "        \n",
    "    if 'green'==i.lower():\n",
    "        i='green'\n",
    "        n.append(i)\n",
    "        \n",
    "    if 'gold white'==i.lower():\n",
    "        i='gold'\n",
    "        n.append(i)\n",
    "    if 'rose'==i.lower():\n",
    "        i='pink'\n",
    "        n.append(i)\n",
    "         \n",
    "        \n",
    "colors = n\n",
    "\n",
    "\n",
    "fig = go.Figure(data=[go.Bar(\n",
    "    x=Apple_colour.index,\n",
    "    y=Apple_colour.values,\n",
    "    marker_color=colors # marker color can be a single color value or an iterable\n",
    ")])\n",
    "fig.update_layout(title_text='Least Used Feature')"
   ]
  },
  {
   "cell_type": "markdown",
   "metadata": {},
   "source": [
    "#### Price descriptive analysis"
   ]
  },
  {
   "cell_type": "code",
   "execution_count": 47,
   "metadata": {},
   "outputs": [
    {
     "data": {
      "text/html": [
       "<div>\n",
       "<style scoped>\n",
       "    .dataframe tbody tr th:only-of-type {\n",
       "        vertical-align: middle;\n",
       "    }\n",
       "\n",
       "    .dataframe tbody tr th {\n",
       "        vertical-align: top;\n",
       "    }\n",
       "\n",
       "    .dataframe thead th {\n",
       "        text-align: right;\n",
       "    }\n",
       "</style>\n",
       "<table border=\"1\" class=\"dataframe\">\n",
       "  <thead>\n",
       "    <tr style=\"text-align: right;\">\n",
       "      <th></th>\n",
       "      <th>count</th>\n",
       "      <th>mean</th>\n",
       "      <th>std</th>\n",
       "      <th>min</th>\n",
       "      <th>25%</th>\n",
       "      <th>50%</th>\n",
       "      <th>75%</th>\n",
       "      <th>max</th>\n",
       "    </tr>\n",
       "    <tr>\n",
       "      <th>Brand</th>\n",
       "      <th></th>\n",
       "      <th></th>\n",
       "      <th></th>\n",
       "      <th></th>\n",
       "      <th></th>\n",
       "      <th></th>\n",
       "      <th></th>\n",
       "      <th></th>\n",
       "    </tr>\n",
       "  </thead>\n",
       "  <tbody>\n",
       "    <tr>\n",
       "      <th>APPLE</th>\n",
       "      <td>950.0</td>\n",
       "      <td>477.334884</td>\n",
       "      <td>326.487653</td>\n",
       "      <td>79.98</td>\n",
       "      <td>249.275</td>\n",
       "      <td>359.00</td>\n",
       "      <td>644.99</td>\n",
       "      <td>1999.99</td>\n",
       "    </tr>\n",
       "    <tr>\n",
       "      <th>SAMSUNG</th>\n",
       "      <td>506.0</td>\n",
       "      <td>476.687055</td>\n",
       "      <td>342.393208</td>\n",
       "      <td>79.99</td>\n",
       "      <td>219.990</td>\n",
       "      <td>379.99</td>\n",
       "      <td>629.74</td>\n",
       "      <td>2109.99</td>\n",
       "    </tr>\n",
       "  </tbody>\n",
       "</table>\n",
       "</div>"
      ],
      "text/plain": [
       "         count        mean         std    min      25%     50%     75%  \\\n",
       "Brand                                                                    \n",
       "APPLE    950.0  477.334884  326.487653  79.98  249.275  359.00  644.99   \n",
       "SAMSUNG  506.0  476.687055  342.393208  79.99  219.990  379.99  629.74   \n",
       "\n",
       "             max  \n",
       "Brand             \n",
       "APPLE    1999.99  \n",
       "SAMSUNG  2109.99  "
      ]
     },
     "execution_count": 47,
     "metadata": {},
     "output_type": "execute_result"
    }
   ],
   "source": [
    "Samsung_Apple.groupby(\"Brand\")['Price(CAD)'].describe()"
   ]
  },
  {
   "cell_type": "code",
   "execution_count": 48,
   "metadata": {},
   "outputs": [
    {
     "data": {
      "text/html": [
       "<div>\n",
       "<style scoped>\n",
       "    .dataframe tbody tr th:only-of-type {\n",
       "        vertical-align: middle;\n",
       "    }\n",
       "\n",
       "    .dataframe tbody tr th {\n",
       "        vertical-align: top;\n",
       "    }\n",
       "\n",
       "    .dataframe thead th {\n",
       "        text-align: right;\n",
       "    }\n",
       "</style>\n",
       "<table border=\"1\" class=\"dataframe\">\n",
       "  <thead>\n",
       "    <tr style=\"text-align: right;\">\n",
       "      <th></th>\n",
       "      <th>Brand</th>\n",
       "      <th>Model</th>\n",
       "      <th>Price(CAD)</th>\n",
       "      <th>Price_save(CAD)</th>\n",
       "      <th>Memory-Built-in(GB)</th>\n",
       "      <th>Ram_size(GB)</th>\n",
       "      <th>Display_resolution(pixels)</th>\n",
       "      <th>Display_size(in)</th>\n",
       "      <th>Colour</th>\n",
       "      <th>CPU</th>\n",
       "      <th>Front-Facing Camera Resolution(MP)</th>\n",
       "      <th>Rear Camera Resolution(MP)</th>\n",
       "    </tr>\n",
       "  </thead>\n",
       "  <tbody>\n",
       "    <tr>\n",
       "      <th>0</th>\n",
       "      <td>SAMSUNG</td>\n",
       "      <td>GALAXY A10E</td>\n",
       "      <td>179.99</td>\n",
       "      <td>20</td>\n",
       "      <td>32.0</td>\n",
       "      <td>2.0</td>\n",
       "      <td>720 x 1560</td>\n",
       "      <td>5.8</td>\n",
       "      <td>Black</td>\n",
       "      <td>Octa-core Snapdragon 855</td>\n",
       "      <td>5.0</td>\n",
       "      <td>8.0</td>\n",
       "    </tr>\n",
       "    <tr>\n",
       "      <th>5</th>\n",
       "      <td>SAMSUNG</td>\n",
       "      <td>GALAXY A20</td>\n",
       "      <td>149.97</td>\n",
       "      <td>200</td>\n",
       "      <td>512.0</td>\n",
       "      <td>3.0</td>\n",
       "      <td>720 x 1560</td>\n",
       "      <td>5.8</td>\n",
       "      <td>Black</td>\n",
       "      <td>Octa-core Snapdragon 865</td>\n",
       "      <td>8.0</td>\n",
       "      <td>13.0</td>\n",
       "    </tr>\n",
       "    <tr>\n",
       "      <th>6</th>\n",
       "      <td>SAMSUNG</td>\n",
       "      <td>GALAXY NOTE10+</td>\n",
       "      <td>939.99</td>\n",
       "      <td>560</td>\n",
       "      <td>256.0</td>\n",
       "      <td>12.0</td>\n",
       "      <td>3040 x 1440</td>\n",
       "      <td>6.8</td>\n",
       "      <td>Aura Black</td>\n",
       "      <td>Snapdragon 855</td>\n",
       "      <td>10.0</td>\n",
       "      <td>12.0</td>\n",
       "    </tr>\n",
       "    <tr>\n",
       "      <th>10</th>\n",
       "      <td>SAMSUNG</td>\n",
       "      <td>GALAXY A51</td>\n",
       "      <td>368.90</td>\n",
       "      <td>131</td>\n",
       "      <td>64.0</td>\n",
       "      <td>4.0</td>\n",
       "      <td>1080 x 2340</td>\n",
       "      <td>6.4</td>\n",
       "      <td>Black</td>\n",
       "      <td>Octa-core Snapdragon 865</td>\n",
       "      <td>25.0</td>\n",
       "      <td>25.0</td>\n",
       "    </tr>\n",
       "    <tr>\n",
       "      <th>14</th>\n",
       "      <td>SAMSUNG</td>\n",
       "      <td>GALAXY S10</td>\n",
       "      <td>639.99</td>\n",
       "      <td>360</td>\n",
       "      <td>128.0</td>\n",
       "      <td>8.0</td>\n",
       "      <td>3040 x 1440</td>\n",
       "      <td>6.1</td>\n",
       "      <td>Prism Black</td>\n",
       "      <td>Octa-core Snapdragon 855</td>\n",
       "      <td>10.0</td>\n",
       "      <td>16.0</td>\n",
       "    </tr>\n",
       "    <tr>\n",
       "      <th>...</th>\n",
       "      <td>...</td>\n",
       "      <td>...</td>\n",
       "      <td>...</td>\n",
       "      <td>...</td>\n",
       "      <td>...</td>\n",
       "      <td>...</td>\n",
       "      <td>...</td>\n",
       "      <td>...</td>\n",
       "      <td>...</td>\n",
       "      <td>...</td>\n",
       "      <td>...</td>\n",
       "      <td>...</td>\n",
       "    </tr>\n",
       "    <tr>\n",
       "      <th>1036</th>\n",
       "      <td>APPLE</td>\n",
       "      <td>IPHONE XR</td>\n",
       "      <td>719.78</td>\n",
       "      <td>39</td>\n",
       "      <td>128.0</td>\n",
       "      <td>2.0</td>\n",
       "      <td>1792 x 828-pixel resolution at 326 ppi</td>\n",
       "      <td>6.1</td>\n",
       "      <td>Blue</td>\n",
       "      <td>A12 Bionic chip</td>\n",
       "      <td>7.0</td>\n",
       "      <td>12.0</td>\n",
       "    </tr>\n",
       "    <tr>\n",
       "      <th>1038</th>\n",
       "      <td>APPLE</td>\n",
       "      <td>IPHONE X</td>\n",
       "      <td>825.00</td>\n",
       "      <td>704</td>\n",
       "      <td>256.0</td>\n",
       "      <td>3.0</td>\n",
       "      <td>2436 x 1125</td>\n",
       "      <td>5.8</td>\n",
       "      <td>Silver</td>\n",
       "      <td>Apple A11 Bionic</td>\n",
       "      <td>7.0</td>\n",
       "      <td>12.0</td>\n",
       "    </tr>\n",
       "    <tr>\n",
       "      <th>1039</th>\n",
       "      <td>APPLE</td>\n",
       "      <td>IPHONE 6S</td>\n",
       "      <td>371.00</td>\n",
       "      <td>6</td>\n",
       "      <td>256.0</td>\n",
       "      <td>2.0</td>\n",
       "      <td>1920 x 1080</td>\n",
       "      <td>5.5</td>\n",
       "      <td>Rose Gold</td>\n",
       "      <td>Dual-core 1.84 GHz Twister</td>\n",
       "      <td>5.0</td>\n",
       "      <td>12.0</td>\n",
       "    </tr>\n",
       "    <tr>\n",
       "      <th>1040</th>\n",
       "      <td>APPLE</td>\n",
       "      <td>IPHONE 6</td>\n",
       "      <td>194.00</td>\n",
       "      <td>105</td>\n",
       "      <td>256.0</td>\n",
       "      <td>2.0</td>\n",
       "      <td>1920 x 1080</td>\n",
       "      <td>5.5</td>\n",
       "      <td>Rose Gold</td>\n",
       "      <td>Dual-core 1.84 GHz Twister</td>\n",
       "      <td>5.0</td>\n",
       "      <td>12.0</td>\n",
       "    </tr>\n",
       "    <tr>\n",
       "      <th>1041</th>\n",
       "      <td>APPLE</td>\n",
       "      <td>IPHONE XS</td>\n",
       "      <td>859.99</td>\n",
       "      <td>460</td>\n",
       "      <td>64.0</td>\n",
       "      <td>4.0</td>\n",
       "      <td>2688 x 1242</td>\n",
       "      <td>6.5</td>\n",
       "      <td>Gold</td>\n",
       "      <td>Apple A12 Bionic</td>\n",
       "      <td>7.0</td>\n",
       "      <td>24.0</td>\n",
       "    </tr>\n",
       "  </tbody>\n",
       "</table>\n",
       "<p>1057 rows × 12 columns</p>\n",
       "</div>"
      ],
      "text/plain": [
       "        Brand           Model  Price(CAD) Price_save(CAD)  \\\n",
       "0     SAMSUNG     GALAXY A10E      179.99              20   \n",
       "5     SAMSUNG      GALAXY A20      149.97             200   \n",
       "6     SAMSUNG  GALAXY NOTE10+      939.99             560   \n",
       "10    SAMSUNG      GALAXY A51      368.90             131   \n",
       "14    SAMSUNG      GALAXY S10      639.99             360   \n",
       "...       ...             ...         ...             ...   \n",
       "1036    APPLE       IPHONE XR      719.78              39   \n",
       "1038    APPLE        IPHONE X      825.00             704   \n",
       "1039    APPLE       IPHONE 6S      371.00               6   \n",
       "1040    APPLE        IPHONE 6      194.00             105   \n",
       "1041    APPLE       IPHONE XS      859.99             460   \n",
       "\n",
       "      Memory-Built-in(GB)  Ram_size(GB)  \\\n",
       "0                    32.0           2.0   \n",
       "5                   512.0           3.0   \n",
       "6                   256.0          12.0   \n",
       "10                   64.0           4.0   \n",
       "14                  128.0           8.0   \n",
       "...                   ...           ...   \n",
       "1036                128.0           2.0   \n",
       "1038                256.0           3.0   \n",
       "1039                256.0           2.0   \n",
       "1040                256.0           2.0   \n",
       "1041                 64.0           4.0   \n",
       "\n",
       "                  Display_resolution(pixels)  Display_size(in)       Colour  \\\n",
       "0                                 720 x 1560               5.8        Black   \n",
       "5                                 720 x 1560               5.8        Black   \n",
       "6                                3040 x 1440               6.8   Aura Black   \n",
       "10                               1080 x 2340               6.4        Black   \n",
       "14                               3040 x 1440               6.1  Prism Black   \n",
       "...                                      ...               ...          ...   \n",
       "1036  1792 x 828-pixel resolution at 326 ppi               6.1         Blue   \n",
       "1038                             2436 x 1125               5.8       Silver   \n",
       "1039                             1920 x 1080               5.5    Rose Gold   \n",
       "1040                             1920 x 1080               5.5    Rose Gold   \n",
       "1041                             2688 x 1242               6.5         Gold   \n",
       "\n",
       "                             CPU  Front-Facing Camera Resolution(MP)  \\\n",
       "0       Octa-core Snapdragon 855                                 5.0   \n",
       "5       Octa-core Snapdragon 865                                 8.0   \n",
       "6                 Snapdragon 855                                10.0   \n",
       "10      Octa-core Snapdragon 865                                25.0   \n",
       "14      Octa-core Snapdragon 855                                10.0   \n",
       "...                          ...                                 ...   \n",
       "1036             A12 Bionic chip                                 7.0   \n",
       "1038            Apple A11 Bionic                                 7.0   \n",
       "1039  Dual-core 1.84 GHz Twister                                 5.0   \n",
       "1040  Dual-core 1.84 GHz Twister                                 5.0   \n",
       "1041            Apple A12 Bionic                                 7.0   \n",
       "\n",
       "      Rear Camera Resolution(MP)    \n",
       "0                              8.0  \n",
       "5                             13.0  \n",
       "6                             12.0  \n",
       "10                            25.0  \n",
       "14                            16.0  \n",
       "...                            ...  \n",
       "1036                          12.0  \n",
       "1038                          12.0  \n",
       "1039                          12.0  \n",
       "1040                          12.0  \n",
       "1041                          24.0  \n",
       "\n",
       "[1057 rows x 12 columns]"
      ]
     },
     "execution_count": 48,
     "metadata": {},
     "output_type": "execute_result"
    }
   ],
   "source": [
    "# --Phones with discout\n",
    "Samsung_Apple[Samsung_Apple['Price_save(CAD)']!='no sale']"
   ]
  },
  {
   "cell_type": "markdown",
   "metadata": {},
   "source": [
    "#### Average,max,min price"
   ]
  },
  {
   "cell_type": "code",
   "execution_count": 49,
   "metadata": {},
   "outputs": [
    {
     "data": {
      "application/vnd.plotly.v1+json": {
       "config": {
        "plotlyServerURL": "https://plot.ly"
       },
       "data": [
        {
         "name": "Samsung Phone",
         "type": "bar",
         "x": [
          "Max",
          "Min",
          "Avg"
         ],
         "y": [
          749.99,
          79.99,
          413.23333333333335
         ]
        },
        {
         "name": "Apple Phone",
         "type": "bar",
         "x": [
          "Max",
          "Min",
          "Avg"
         ],
         "y": [
          1999.99,
          79.98,
          508.6915956151015
         ]
        }
       ],
       "layout": {
        "barmode": "stack",
        "template": {
         "data": {
          "bar": [
           {
            "error_x": {
             "color": "#2a3f5f"
            },
            "error_y": {
             "color": "#2a3f5f"
            },
            "marker": {
             "line": {
              "color": "#E5ECF6",
              "width": 0.5
             }
            },
            "type": "bar"
           }
          ],
          "barpolar": [
           {
            "marker": {
             "line": {
              "color": "#E5ECF6",
              "width": 0.5
             }
            },
            "type": "barpolar"
           }
          ],
          "carpet": [
           {
            "aaxis": {
             "endlinecolor": "#2a3f5f",
             "gridcolor": "white",
             "linecolor": "white",
             "minorgridcolor": "white",
             "startlinecolor": "#2a3f5f"
            },
            "baxis": {
             "endlinecolor": "#2a3f5f",
             "gridcolor": "white",
             "linecolor": "white",
             "minorgridcolor": "white",
             "startlinecolor": "#2a3f5f"
            },
            "type": "carpet"
           }
          ],
          "choropleth": [
           {
            "colorbar": {
             "outlinewidth": 0,
             "ticks": ""
            },
            "type": "choropleth"
           }
          ],
          "contour": [
           {
            "colorbar": {
             "outlinewidth": 0,
             "ticks": ""
            },
            "colorscale": [
             [
              0,
              "#0d0887"
             ],
             [
              0.1111111111111111,
              "#46039f"
             ],
             [
              0.2222222222222222,
              "#7201a8"
             ],
             [
              0.3333333333333333,
              "#9c179e"
             ],
             [
              0.4444444444444444,
              "#bd3786"
             ],
             [
              0.5555555555555556,
              "#d8576b"
             ],
             [
              0.6666666666666666,
              "#ed7953"
             ],
             [
              0.7777777777777778,
              "#fb9f3a"
             ],
             [
              0.8888888888888888,
              "#fdca26"
             ],
             [
              1,
              "#f0f921"
             ]
            ],
            "type": "contour"
           }
          ],
          "contourcarpet": [
           {
            "colorbar": {
             "outlinewidth": 0,
             "ticks": ""
            },
            "type": "contourcarpet"
           }
          ],
          "heatmap": [
           {
            "colorbar": {
             "outlinewidth": 0,
             "ticks": ""
            },
            "colorscale": [
             [
              0,
              "#0d0887"
             ],
             [
              0.1111111111111111,
              "#46039f"
             ],
             [
              0.2222222222222222,
              "#7201a8"
             ],
             [
              0.3333333333333333,
              "#9c179e"
             ],
             [
              0.4444444444444444,
              "#bd3786"
             ],
             [
              0.5555555555555556,
              "#d8576b"
             ],
             [
              0.6666666666666666,
              "#ed7953"
             ],
             [
              0.7777777777777778,
              "#fb9f3a"
             ],
             [
              0.8888888888888888,
              "#fdca26"
             ],
             [
              1,
              "#f0f921"
             ]
            ],
            "type": "heatmap"
           }
          ],
          "heatmapgl": [
           {
            "colorbar": {
             "outlinewidth": 0,
             "ticks": ""
            },
            "colorscale": [
             [
              0,
              "#0d0887"
             ],
             [
              0.1111111111111111,
              "#46039f"
             ],
             [
              0.2222222222222222,
              "#7201a8"
             ],
             [
              0.3333333333333333,
              "#9c179e"
             ],
             [
              0.4444444444444444,
              "#bd3786"
             ],
             [
              0.5555555555555556,
              "#d8576b"
             ],
             [
              0.6666666666666666,
              "#ed7953"
             ],
             [
              0.7777777777777778,
              "#fb9f3a"
             ],
             [
              0.8888888888888888,
              "#fdca26"
             ],
             [
              1,
              "#f0f921"
             ]
            ],
            "type": "heatmapgl"
           }
          ],
          "histogram": [
           {
            "marker": {
             "colorbar": {
              "outlinewidth": 0,
              "ticks": ""
             }
            },
            "type": "histogram"
           }
          ],
          "histogram2d": [
           {
            "colorbar": {
             "outlinewidth": 0,
             "ticks": ""
            },
            "colorscale": [
             [
              0,
              "#0d0887"
             ],
             [
              0.1111111111111111,
              "#46039f"
             ],
             [
              0.2222222222222222,
              "#7201a8"
             ],
             [
              0.3333333333333333,
              "#9c179e"
             ],
             [
              0.4444444444444444,
              "#bd3786"
             ],
             [
              0.5555555555555556,
              "#d8576b"
             ],
             [
              0.6666666666666666,
              "#ed7953"
             ],
             [
              0.7777777777777778,
              "#fb9f3a"
             ],
             [
              0.8888888888888888,
              "#fdca26"
             ],
             [
              1,
              "#f0f921"
             ]
            ],
            "type": "histogram2d"
           }
          ],
          "histogram2dcontour": [
           {
            "colorbar": {
             "outlinewidth": 0,
             "ticks": ""
            },
            "colorscale": [
             [
              0,
              "#0d0887"
             ],
             [
              0.1111111111111111,
              "#46039f"
             ],
             [
              0.2222222222222222,
              "#7201a8"
             ],
             [
              0.3333333333333333,
              "#9c179e"
             ],
             [
              0.4444444444444444,
              "#bd3786"
             ],
             [
              0.5555555555555556,
              "#d8576b"
             ],
             [
              0.6666666666666666,
              "#ed7953"
             ],
             [
              0.7777777777777778,
              "#fb9f3a"
             ],
             [
              0.8888888888888888,
              "#fdca26"
             ],
             [
              1,
              "#f0f921"
             ]
            ],
            "type": "histogram2dcontour"
           }
          ],
          "mesh3d": [
           {
            "colorbar": {
             "outlinewidth": 0,
             "ticks": ""
            },
            "type": "mesh3d"
           }
          ],
          "parcoords": [
           {
            "line": {
             "colorbar": {
              "outlinewidth": 0,
              "ticks": ""
             }
            },
            "type": "parcoords"
           }
          ],
          "pie": [
           {
            "automargin": true,
            "type": "pie"
           }
          ],
          "scatter": [
           {
            "marker": {
             "colorbar": {
              "outlinewidth": 0,
              "ticks": ""
             }
            },
            "type": "scatter"
           }
          ],
          "scatter3d": [
           {
            "line": {
             "colorbar": {
              "outlinewidth": 0,
              "ticks": ""
             }
            },
            "marker": {
             "colorbar": {
              "outlinewidth": 0,
              "ticks": ""
             }
            },
            "type": "scatter3d"
           }
          ],
          "scattercarpet": [
           {
            "marker": {
             "colorbar": {
              "outlinewidth": 0,
              "ticks": ""
             }
            },
            "type": "scattercarpet"
           }
          ],
          "scattergeo": [
           {
            "marker": {
             "colorbar": {
              "outlinewidth": 0,
              "ticks": ""
             }
            },
            "type": "scattergeo"
           }
          ],
          "scattergl": [
           {
            "marker": {
             "colorbar": {
              "outlinewidth": 0,
              "ticks": ""
             }
            },
            "type": "scattergl"
           }
          ],
          "scattermapbox": [
           {
            "marker": {
             "colorbar": {
              "outlinewidth": 0,
              "ticks": ""
             }
            },
            "type": "scattermapbox"
           }
          ],
          "scatterpolar": [
           {
            "marker": {
             "colorbar": {
              "outlinewidth": 0,
              "ticks": ""
             }
            },
            "type": "scatterpolar"
           }
          ],
          "scatterpolargl": [
           {
            "marker": {
             "colorbar": {
              "outlinewidth": 0,
              "ticks": ""
             }
            },
            "type": "scatterpolargl"
           }
          ],
          "scatterternary": [
           {
            "marker": {
             "colorbar": {
              "outlinewidth": 0,
              "ticks": ""
             }
            },
            "type": "scatterternary"
           }
          ],
          "surface": [
           {
            "colorbar": {
             "outlinewidth": 0,
             "ticks": ""
            },
            "colorscale": [
             [
              0,
              "#0d0887"
             ],
             [
              0.1111111111111111,
              "#46039f"
             ],
             [
              0.2222222222222222,
              "#7201a8"
             ],
             [
              0.3333333333333333,
              "#9c179e"
             ],
             [
              0.4444444444444444,
              "#bd3786"
             ],
             [
              0.5555555555555556,
              "#d8576b"
             ],
             [
              0.6666666666666666,
              "#ed7953"
             ],
             [
              0.7777777777777778,
              "#fb9f3a"
             ],
             [
              0.8888888888888888,
              "#fdca26"
             ],
             [
              1,
              "#f0f921"
             ]
            ],
            "type": "surface"
           }
          ],
          "table": [
           {
            "cells": {
             "fill": {
              "color": "#EBF0F8"
             },
             "line": {
              "color": "white"
             }
            },
            "header": {
             "fill": {
              "color": "#C8D4E3"
             },
             "line": {
              "color": "white"
             }
            },
            "type": "table"
           }
          ]
         },
         "layout": {
          "annotationdefaults": {
           "arrowcolor": "#2a3f5f",
           "arrowhead": 0,
           "arrowwidth": 1
          },
          "coloraxis": {
           "colorbar": {
            "outlinewidth": 0,
            "ticks": ""
           }
          },
          "colorscale": {
           "diverging": [
            [
             0,
             "#8e0152"
            ],
            [
             0.1,
             "#c51b7d"
            ],
            [
             0.2,
             "#de77ae"
            ],
            [
             0.3,
             "#f1b6da"
            ],
            [
             0.4,
             "#fde0ef"
            ],
            [
             0.5,
             "#f7f7f7"
            ],
            [
             0.6,
             "#e6f5d0"
            ],
            [
             0.7,
             "#b8e186"
            ],
            [
             0.8,
             "#7fbc41"
            ],
            [
             0.9,
             "#4d9221"
            ],
            [
             1,
             "#276419"
            ]
           ],
           "sequential": [
            [
             0,
             "#0d0887"
            ],
            [
             0.1111111111111111,
             "#46039f"
            ],
            [
             0.2222222222222222,
             "#7201a8"
            ],
            [
             0.3333333333333333,
             "#9c179e"
            ],
            [
             0.4444444444444444,
             "#bd3786"
            ],
            [
             0.5555555555555556,
             "#d8576b"
            ],
            [
             0.6666666666666666,
             "#ed7953"
            ],
            [
             0.7777777777777778,
             "#fb9f3a"
            ],
            [
             0.8888888888888888,
             "#fdca26"
            ],
            [
             1,
             "#f0f921"
            ]
           ],
           "sequentialminus": [
            [
             0,
             "#0d0887"
            ],
            [
             0.1111111111111111,
             "#46039f"
            ],
            [
             0.2222222222222222,
             "#7201a8"
            ],
            [
             0.3333333333333333,
             "#9c179e"
            ],
            [
             0.4444444444444444,
             "#bd3786"
            ],
            [
             0.5555555555555556,
             "#d8576b"
            ],
            [
             0.6666666666666666,
             "#ed7953"
            ],
            [
             0.7777777777777778,
             "#fb9f3a"
            ],
            [
             0.8888888888888888,
             "#fdca26"
            ],
            [
             1,
             "#f0f921"
            ]
           ]
          },
          "colorway": [
           "#636efa",
           "#EF553B",
           "#00cc96",
           "#ab63fa",
           "#FFA15A",
           "#19d3f3",
           "#FF6692",
           "#B6E880",
           "#FF97FF",
           "#FECB52"
          ],
          "font": {
           "color": "#2a3f5f"
          },
          "geo": {
           "bgcolor": "white",
           "lakecolor": "white",
           "landcolor": "#E5ECF6",
           "showlakes": true,
           "showland": true,
           "subunitcolor": "white"
          },
          "hoverlabel": {
           "align": "left"
          },
          "hovermode": "closest",
          "mapbox": {
           "style": "light"
          },
          "paper_bgcolor": "white",
          "plot_bgcolor": "#E5ECF6",
          "polar": {
           "angularaxis": {
            "gridcolor": "white",
            "linecolor": "white",
            "ticks": ""
           },
           "bgcolor": "#E5ECF6",
           "radialaxis": {
            "gridcolor": "white",
            "linecolor": "white",
            "ticks": ""
           }
          },
          "scene": {
           "xaxis": {
            "backgroundcolor": "#E5ECF6",
            "gridcolor": "white",
            "gridwidth": 2,
            "linecolor": "white",
            "showbackground": true,
            "ticks": "",
            "zerolinecolor": "white"
           },
           "yaxis": {
            "backgroundcolor": "#E5ECF6",
            "gridcolor": "white",
            "gridwidth": 2,
            "linecolor": "white",
            "showbackground": true,
            "ticks": "",
            "zerolinecolor": "white"
           },
           "zaxis": {
            "backgroundcolor": "#E5ECF6",
            "gridcolor": "white",
            "gridwidth": 2,
            "linecolor": "white",
            "showbackground": true,
            "ticks": "",
            "zerolinecolor": "white"
           }
          },
          "shapedefaults": {
           "line": {
            "color": "#2a3f5f"
           }
          },
          "ternary": {
           "aaxis": {
            "gridcolor": "white",
            "linecolor": "white",
            "ticks": ""
           },
           "baxis": {
            "gridcolor": "white",
            "linecolor": "white",
            "ticks": ""
           },
           "bgcolor": "#E5ECF6",
           "caxis": {
            "gridcolor": "white",
            "linecolor": "white",
            "ticks": ""
           }
          },
          "title": {
           "x": 0.05
          },
          "xaxis": {
           "automargin": true,
           "gridcolor": "white",
           "linecolor": "white",
           "ticks": "",
           "title": {
            "standoff": 15
           },
           "zerolinecolor": "white",
           "zerolinewidth": 2
          },
          "yaxis": {
           "automargin": true,
           "gridcolor": "white",
           "linecolor": "white",
           "ticks": "",
           "title": {
            "standoff": 15
           },
           "zerolinecolor": "white",
           "zerolinewidth": 2
          }
         }
        }
       }
      },
      "text/html": [
       "<div>\n",
       "        \n",
       "        \n",
       "            <div id=\"4726ed77-e213-4982-9c94-f79326b7cf7e\" class=\"plotly-graph-div\" style=\"height:525px; width:100%;\"></div>\n",
       "            <script type=\"text/javascript\">\n",
       "                require([\"plotly\"], function(Plotly) {\n",
       "                    window.PLOTLYENV=window.PLOTLYENV || {};\n",
       "                    \n",
       "                if (document.getElementById(\"4726ed77-e213-4982-9c94-f79326b7cf7e\")) {\n",
       "                    Plotly.newPlot(\n",
       "                        '4726ed77-e213-4982-9c94-f79326b7cf7e',\n",
       "                        [{\"name\": \"Samsung Phone\", \"type\": \"bar\", \"x\": [\"Max\", \"Min\", \"Avg\"], \"y\": [749.99, 79.99, 413.23333333333335]}, {\"name\": \"Apple Phone\", \"type\": \"bar\", \"x\": [\"Max\", \"Min\", \"Avg\"], \"y\": [1999.99, 79.98, 508.6915956151015]}],\n",
       "                        {\"barmode\": \"stack\", \"template\": {\"data\": {\"bar\": [{\"error_x\": {\"color\": \"#2a3f5f\"}, \"error_y\": {\"color\": \"#2a3f5f\"}, \"marker\": {\"line\": {\"color\": \"#E5ECF6\", \"width\": 0.5}}, \"type\": \"bar\"}], \"barpolar\": [{\"marker\": {\"line\": {\"color\": \"#E5ECF6\", \"width\": 0.5}}, \"type\": \"barpolar\"}], \"carpet\": [{\"aaxis\": {\"endlinecolor\": \"#2a3f5f\", \"gridcolor\": \"white\", \"linecolor\": \"white\", \"minorgridcolor\": \"white\", \"startlinecolor\": \"#2a3f5f\"}, \"baxis\": {\"endlinecolor\": \"#2a3f5f\", \"gridcolor\": \"white\", \"linecolor\": \"white\", \"minorgridcolor\": \"white\", \"startlinecolor\": \"#2a3f5f\"}, \"type\": \"carpet\"}], \"choropleth\": [{\"colorbar\": {\"outlinewidth\": 0, \"ticks\": \"\"}, \"type\": \"choropleth\"}], \"contour\": [{\"colorbar\": {\"outlinewidth\": 0, \"ticks\": \"\"}, \"colorscale\": [[0.0, \"#0d0887\"], [0.1111111111111111, \"#46039f\"], [0.2222222222222222, \"#7201a8\"], [0.3333333333333333, \"#9c179e\"], [0.4444444444444444, \"#bd3786\"], [0.5555555555555556, \"#d8576b\"], [0.6666666666666666, \"#ed7953\"], [0.7777777777777778, \"#fb9f3a\"], [0.8888888888888888, \"#fdca26\"], [1.0, \"#f0f921\"]], \"type\": \"contour\"}], \"contourcarpet\": [{\"colorbar\": {\"outlinewidth\": 0, \"ticks\": \"\"}, \"type\": \"contourcarpet\"}], \"heatmap\": [{\"colorbar\": {\"outlinewidth\": 0, \"ticks\": \"\"}, \"colorscale\": [[0.0, \"#0d0887\"], [0.1111111111111111, \"#46039f\"], [0.2222222222222222, \"#7201a8\"], [0.3333333333333333, \"#9c179e\"], [0.4444444444444444, \"#bd3786\"], [0.5555555555555556, \"#d8576b\"], [0.6666666666666666, \"#ed7953\"], [0.7777777777777778, \"#fb9f3a\"], [0.8888888888888888, \"#fdca26\"], [1.0, \"#f0f921\"]], \"type\": \"heatmap\"}], \"heatmapgl\": [{\"colorbar\": {\"outlinewidth\": 0, \"ticks\": \"\"}, \"colorscale\": [[0.0, \"#0d0887\"], [0.1111111111111111, \"#46039f\"], [0.2222222222222222, \"#7201a8\"], [0.3333333333333333, \"#9c179e\"], [0.4444444444444444, \"#bd3786\"], [0.5555555555555556, \"#d8576b\"], [0.6666666666666666, \"#ed7953\"], [0.7777777777777778, \"#fb9f3a\"], [0.8888888888888888, \"#fdca26\"], [1.0, \"#f0f921\"]], \"type\": \"heatmapgl\"}], \"histogram\": [{\"marker\": {\"colorbar\": {\"outlinewidth\": 0, \"ticks\": \"\"}}, \"type\": \"histogram\"}], \"histogram2d\": [{\"colorbar\": {\"outlinewidth\": 0, \"ticks\": \"\"}, \"colorscale\": [[0.0, \"#0d0887\"], [0.1111111111111111, \"#46039f\"], [0.2222222222222222, \"#7201a8\"], [0.3333333333333333, \"#9c179e\"], [0.4444444444444444, \"#bd3786\"], [0.5555555555555556, \"#d8576b\"], [0.6666666666666666, \"#ed7953\"], [0.7777777777777778, \"#fb9f3a\"], [0.8888888888888888, \"#fdca26\"], [1.0, \"#f0f921\"]], \"type\": \"histogram2d\"}], \"histogram2dcontour\": [{\"colorbar\": {\"outlinewidth\": 0, \"ticks\": \"\"}, \"colorscale\": [[0.0, \"#0d0887\"], [0.1111111111111111, \"#46039f\"], [0.2222222222222222, \"#7201a8\"], [0.3333333333333333, \"#9c179e\"], [0.4444444444444444, \"#bd3786\"], [0.5555555555555556, \"#d8576b\"], [0.6666666666666666, \"#ed7953\"], [0.7777777777777778, \"#fb9f3a\"], [0.8888888888888888, \"#fdca26\"], [1.0, \"#f0f921\"]], \"type\": \"histogram2dcontour\"}], \"mesh3d\": [{\"colorbar\": {\"outlinewidth\": 0, \"ticks\": \"\"}, \"type\": \"mesh3d\"}], \"parcoords\": [{\"line\": {\"colorbar\": {\"outlinewidth\": 0, \"ticks\": \"\"}}, \"type\": \"parcoords\"}], \"pie\": [{\"automargin\": true, \"type\": \"pie\"}], \"scatter\": [{\"marker\": {\"colorbar\": {\"outlinewidth\": 0, \"ticks\": \"\"}}, \"type\": \"scatter\"}], \"scatter3d\": [{\"line\": {\"colorbar\": {\"outlinewidth\": 0, \"ticks\": \"\"}}, \"marker\": {\"colorbar\": {\"outlinewidth\": 0, \"ticks\": \"\"}}, \"type\": \"scatter3d\"}], \"scattercarpet\": [{\"marker\": {\"colorbar\": {\"outlinewidth\": 0, \"ticks\": \"\"}}, \"type\": \"scattercarpet\"}], \"scattergeo\": [{\"marker\": {\"colorbar\": {\"outlinewidth\": 0, \"ticks\": \"\"}}, \"type\": \"scattergeo\"}], \"scattergl\": [{\"marker\": {\"colorbar\": {\"outlinewidth\": 0, \"ticks\": \"\"}}, \"type\": \"scattergl\"}], \"scattermapbox\": [{\"marker\": {\"colorbar\": {\"outlinewidth\": 0, \"ticks\": \"\"}}, \"type\": \"scattermapbox\"}], \"scatterpolar\": [{\"marker\": {\"colorbar\": {\"outlinewidth\": 0, \"ticks\": \"\"}}, \"type\": \"scatterpolar\"}], \"scatterpolargl\": [{\"marker\": {\"colorbar\": {\"outlinewidth\": 0, \"ticks\": \"\"}}, \"type\": \"scatterpolargl\"}], \"scatterternary\": [{\"marker\": {\"colorbar\": {\"outlinewidth\": 0, \"ticks\": \"\"}}, \"type\": \"scatterternary\"}], \"surface\": [{\"colorbar\": {\"outlinewidth\": 0, \"ticks\": \"\"}, \"colorscale\": [[0.0, \"#0d0887\"], [0.1111111111111111, \"#46039f\"], [0.2222222222222222, \"#7201a8\"], [0.3333333333333333, \"#9c179e\"], [0.4444444444444444, \"#bd3786\"], [0.5555555555555556, \"#d8576b\"], [0.6666666666666666, \"#ed7953\"], [0.7777777777777778, \"#fb9f3a\"], [0.8888888888888888, \"#fdca26\"], [1.0, \"#f0f921\"]], \"type\": \"surface\"}], \"table\": [{\"cells\": {\"fill\": {\"color\": \"#EBF0F8\"}, \"line\": {\"color\": \"white\"}}, \"header\": {\"fill\": {\"color\": \"#C8D4E3\"}, \"line\": {\"color\": \"white\"}}, \"type\": \"table\"}]}, \"layout\": {\"annotationdefaults\": {\"arrowcolor\": \"#2a3f5f\", \"arrowhead\": 0, \"arrowwidth\": 1}, \"coloraxis\": {\"colorbar\": {\"outlinewidth\": 0, \"ticks\": \"\"}}, \"colorscale\": {\"diverging\": [[0, \"#8e0152\"], [0.1, \"#c51b7d\"], [0.2, \"#de77ae\"], [0.3, \"#f1b6da\"], [0.4, \"#fde0ef\"], [0.5, \"#f7f7f7\"], [0.6, \"#e6f5d0\"], [0.7, \"#b8e186\"], [0.8, \"#7fbc41\"], [0.9, \"#4d9221\"], [1, \"#276419\"]], \"sequential\": [[0.0, \"#0d0887\"], [0.1111111111111111, \"#46039f\"], [0.2222222222222222, \"#7201a8\"], [0.3333333333333333, \"#9c179e\"], [0.4444444444444444, \"#bd3786\"], [0.5555555555555556, \"#d8576b\"], [0.6666666666666666, \"#ed7953\"], [0.7777777777777778, \"#fb9f3a\"], [0.8888888888888888, \"#fdca26\"], [1.0, \"#f0f921\"]], \"sequentialminus\": [[0.0, \"#0d0887\"], [0.1111111111111111, \"#46039f\"], [0.2222222222222222, \"#7201a8\"], [0.3333333333333333, \"#9c179e\"], [0.4444444444444444, \"#bd3786\"], [0.5555555555555556, \"#d8576b\"], [0.6666666666666666, \"#ed7953\"], [0.7777777777777778, \"#fb9f3a\"], [0.8888888888888888, \"#fdca26\"], [1.0, \"#f0f921\"]]}, \"colorway\": [\"#636efa\", \"#EF553B\", \"#00cc96\", \"#ab63fa\", \"#FFA15A\", \"#19d3f3\", \"#FF6692\", \"#B6E880\", \"#FF97FF\", \"#FECB52\"], \"font\": {\"color\": \"#2a3f5f\"}, \"geo\": {\"bgcolor\": \"white\", \"lakecolor\": \"white\", \"landcolor\": \"#E5ECF6\", \"showlakes\": true, \"showland\": true, \"subunitcolor\": \"white\"}, \"hoverlabel\": {\"align\": \"left\"}, \"hovermode\": \"closest\", \"mapbox\": {\"style\": \"light\"}, \"paper_bgcolor\": \"white\", \"plot_bgcolor\": \"#E5ECF6\", \"polar\": {\"angularaxis\": {\"gridcolor\": \"white\", \"linecolor\": \"white\", \"ticks\": \"\"}, \"bgcolor\": \"#E5ECF6\", \"radialaxis\": {\"gridcolor\": \"white\", \"linecolor\": \"white\", \"ticks\": \"\"}}, \"scene\": {\"xaxis\": {\"backgroundcolor\": \"#E5ECF6\", \"gridcolor\": \"white\", \"gridwidth\": 2, \"linecolor\": \"white\", \"showbackground\": true, \"ticks\": \"\", \"zerolinecolor\": \"white\"}, \"yaxis\": {\"backgroundcolor\": \"#E5ECF6\", \"gridcolor\": \"white\", \"gridwidth\": 2, \"linecolor\": \"white\", \"showbackground\": true, \"ticks\": \"\", \"zerolinecolor\": \"white\"}, \"zaxis\": {\"backgroundcolor\": \"#E5ECF6\", \"gridcolor\": \"white\", \"gridwidth\": 2, \"linecolor\": \"white\", \"showbackground\": true, \"ticks\": \"\", \"zerolinecolor\": \"white\"}}, \"shapedefaults\": {\"line\": {\"color\": \"#2a3f5f\"}}, \"ternary\": {\"aaxis\": {\"gridcolor\": \"white\", \"linecolor\": \"white\", \"ticks\": \"\"}, \"baxis\": {\"gridcolor\": \"white\", \"linecolor\": \"white\", \"ticks\": \"\"}, \"bgcolor\": \"#E5ECF6\", \"caxis\": {\"gridcolor\": \"white\", \"linecolor\": \"white\", \"ticks\": \"\"}}, \"title\": {\"x\": 0.05}, \"xaxis\": {\"automargin\": true, \"gridcolor\": \"white\", \"linecolor\": \"white\", \"ticks\": \"\", \"title\": {\"standoff\": 15}, \"zerolinecolor\": \"white\", \"zerolinewidth\": 2}, \"yaxis\": {\"automargin\": true, \"gridcolor\": \"white\", \"linecolor\": \"white\", \"ticks\": \"\", \"title\": {\"standoff\": 15}, \"zerolinecolor\": \"white\", \"zerolinewidth\": 2}}}},\n",
       "                        {\"responsive\": true}\n",
       "                    ).then(function(){\n",
       "                            \n",
       "var gd = document.getElementById('4726ed77-e213-4982-9c94-f79326b7cf7e');\n",
       "var x = new MutationObserver(function (mutations, observer) {{\n",
       "        var display = window.getComputedStyle(gd).display;\n",
       "        if (!display || display === 'none') {{\n",
       "            console.log([gd, 'removed!']);\n",
       "            Plotly.purge(gd);\n",
       "            observer.disconnect();\n",
       "        }}\n",
       "}});\n",
       "\n",
       "// Listen for the removal of the full notebook cells\n",
       "var notebookContainer = gd.closest('#notebook-container');\n",
       "if (notebookContainer) {{\n",
       "    x.observe(notebookContainer, {childList: true});\n",
       "}}\n",
       "\n",
       "// Listen for the clearing of the current output cell\n",
       "var outputEl = gd.closest('.output');\n",
       "if (outputEl) {{\n",
       "    x.observe(outputEl, {childList: true});\n",
       "}}\n",
       "\n",
       "                        })\n",
       "                };\n",
       "                });\n",
       "            </script>\n",
       "        </div>"
      ]
     },
     "metadata": {},
     "output_type": "display_data"
    }
   ],
   "source": [
    "\n",
    "stat=['Max', 'Min', 'Avg']\n",
    "YS=Samsung_pd.groupby(['Brand'],as_index=False).agg({'Price(CAD)':['max','min','mean']})\n",
    "YA=Apple_pd.groupby(['Brand'],as_index=False).agg({'Price(CAD)':['max','min','mean']})\n",
    "YS.values[0][1:4]\n",
    "\n",
    "fig = go.Figure(data=[\n",
    "    go.Bar(name='Samsung Phone', x=stat, y=[YS.values[0][1], YS.values[0][2],YS.values[0][3]]),\n",
    "    go.Bar(name='Apple Phone', x=stat, y=[YA.values[0][1], YA.values[0][2],YA.values[0][3]])\n",
    "])\n",
    "# Change the bar mode\n",
    "fig.update_layout(barmode='stack')\n",
    "fig.show()\n"
   ]
  },
  {
   "cell_type": "markdown",
   "metadata": {},
   "source": [
    "#### Compare the Most Expensive Smart Phones"
   ]
  },
  {
   "cell_type": "code",
   "execution_count": null,
   "metadata": {},
   "outputs": [],
   "source": [
    "# --The details and specefication of the most expensive phones\n",
    "x=Samsung_pd[Samsung_pd['Price(CAD)']==Samsung_pd['Price(CAD)'].max()]\n",
    "x['Rear Camera Resolution(MP)  ']='12MP f/2.2 Ultra Wide, 108MP f/1.8 Wide, 48MP f/3.5 Telephoto, Depth Vision (ToF)'\n",
    "x['Front-Facing Camera Resolution(MP)']='40MP f2.2'\n",
    "x['Ram_size(GB)']=16\n",
    "x['Display_resolution(pixels)']='3200 x 1440 WQHD+'\n",
    "\n",
    "\n",
    "y=Apple_pd[Apple_pd['Price(CAD)']==Apple_pd['Price(CAD)'].max()]\n",
    "y['Rear Camera Resolution(MP)  ']='3 x 12'\n",
    "y['Front-Facing Camera Resolution(MP)']='12 MP, f/2.2, 23mm (wide); SL 3D camera'\n",
    "y['Ram_size(GB)']=8\n",
    "y['Display_resolution(pixels)']='2688 x 1242'\n",
    "\n",
    "\n",
    "MAX_SA=pd.concat([x, y])\n",
    "\n",
    "\n"
   ]
  },
  {
   "cell_type": "markdown",
   "metadata": {},
   "source": [
    "#### Compare the cheapest Smart Phones"
   ]
  },
  {
   "cell_type": "code",
   "execution_count": null,
   "metadata": {},
   "outputs": [],
   "source": [
    "# --The details and specefication of the cheapest phones\n",
    "\n",
    "x=Samsung_pd[Samsung_pd['Price(CAD)']==Samsung_pd['Price(CAD)'].min()]\n",
    "x['Display_resolution(pixels)']='480 x 800'\n",
    "y=Apple_pd[Apple_pd['Price(CAD)']==Apple_pd['Price(CAD)'].min()]\n",
    "MIN_SA=pd.concat([x, y])\n",
    "MIN_SA.tail(2)"
   ]
  },
  {
   "cell_type": "markdown",
   "metadata": {},
   "source": [
    "#### Apple pair plot"
   ]
  },
  {
   "cell_type": "code",
   "execution_count": 67,
   "metadata": {},
   "outputs": [
    {
     "data": {
      "text/plain": [
       "<seaborn.axisgrid.PairGrid at 0x7f8c834fcf90>"
      ]
     },
     "execution_count": 67,
     "metadata": {},
     "output_type": "execute_result"
    },
    {
     "data": {
      "image/png": "[encoded data removed]",
      "text/plain": [
       "<Figure size 540x540 with 12 Axes>"
      ]
     },
     "metadata": {
      "needs_background": "light"
     },
     "output_type": "display_data"
    }
   ],
   "source": [
    "sns.pairplot(Apple_pd);"
   ]
  },
  {
   "cell_type": "markdown",
   "metadata": {},
   "source": [
    "#### Samsung model distribution"
   ]
  },
  {
   "cell_type": "code",
   "execution_count": 74,
   "metadata": {},
   "outputs": [
    {
     "data": {
      "application/vnd.plotly.v1+json": {
       "config": {
        "linkText": "Export to plot.ly",
        "plotlyServerURL": "https://plot.ly",
        "showLink": false
       },
       "data": [
        {
         "marker": {
          "color": "rgba(200,150,180,0.8)"
         },
         "type": "bar",
         "x": [
          "GALAXY NOTE",
          "GALAXY S7",
          "GALAXY S8",
          "GALAXY S10",
          "GALAXY J3",
          "GALAXY S6",
          "GALAXY S9",
          "GALAXY S9+",
          "GALAXY S8+",
          "GALAXY S10+",
          "GALAXY S10E",
          "GALAXY A50",
          "GALAXY NOTE9",
          "SAMSUNG GALAXY",
          "GALAXY A10",
          "GALAXY NOTE10",
          "GALAXY A8",
          "GALAXY A70",
          "GALAXY A5",
          "GALAXY NOTE10+",
          "GALAXY A20",
          "GALAXY S5",
          "GALAXY J7",
          "GALAXY A51",
          "GALAXY A30",
          "GALAXY A10S",
          "GALAXY A10E",
          "GALAXY J2",
          "GALAXY A20S",
          "GALAXY S20",
          "A50 128GB",
          "GALAXY S20+",
          "GALAXY J1",
          "GALAXY J4",
          "GALAXY A80",
          "GALAXY A01",
          "GALAXY&NBSP;NOTE&NBSP;10+ DUAL",
          "GALAXY A30S",
          "GALAXY Z",
          "GALAXY M20",
          "GALAXY M30",
          "REFURBISHED SAMSUNG",
          "A20S 32GB",
          "GALAXY A7",
          "S5 16GB",
          "OPEN BOX-SAMSUNG",
          "SAMSUNG XCOVER",
          "A8 (2018)",
          "SAMSUNG RUGBY",
          "GALAXY AMP",
          "SAMSUNG A997",
          "GALAXY&NBSP;NOTE&NBSP;10&NBSP;DUAL SIM",
          "GALAXY A30S-",
          "GALAXY UNLOCKED",
          "NOTE 5",
          "GALAXY J6",
          "A5 (2017)",
          "GALAXY A6",
          "- SAMSUNG",
          "GALAXY GRAND",
          "S8 PLUS",
          "J3 PRIME",
          "A20 32GB",
          "GALAXY NOTE8",
          "GALAXY J3/",
          "GALAXY ON5",
          "GALAXY RUGBY",
          "GALAXY A8S",
          "SM-G960WA64 GALAXY",
          "X COVER",
          "SAMSUNG S7",
          "GALAXY S4",
          "S7 EDGE",
          "GALAXY XCOVER4",
          "GALAXY XCOVER",
          "GALAXY J8",
          "REFURBISHED -",
          "OPEN BOX",
          "A10S 32GB",
          "GALAXY M30/",
          "GALAXY A71",
          "GALAXY A2",
          "GALAXY A5(2017)",
          "GALAXY G900W8",
          "BOX UNLOCKED",
          "NOTE 4",
          "GALAXY S3"
         ],
         "y": [
          41,
          40,
          29,
          25,
          24,
          23,
          22,
          21,
          21,
          21,
          21,
          20,
          15,
          15,
          13,
          10,
          10,
          10,
          9,
          9,
          7,
          7,
          7,
          6,
          6,
          6,
          4,
          4,
          3,
          3,
          3,
          3,
          3,
          3,
          3,
          3,
          2,
          2,
          2,
          2,
          2,
          2,
          2,
          2,
          1,
          1,
          1,
          1,
          1,
          1,
          1,
          1,
          1,
          1,
          1,
          1,
          1,
          1,
          1,
          1,
          1,
          1,
          1,
          1,
          1,
          1,
          1,
          1,
          1,
          1,
          1,
          1,
          1,
          1,
          1,
          1,
          1,
          1,
          1,
          1,
          1,
          1,
          1,
          1,
          1,
          1,
          1
         ]
        }
       ],
       "layout": {
        "template": {
         "data": {
          "bar": [
           {
            "error_x": {
             "color": "#2a3f5f"
            },
            "error_y": {
             "color": "#2a3f5f"
            },
            "marker": {
             "line": {
              "color": "#E5ECF6",
              "width": 0.5
             }
            },
            "type": "bar"
           }
          ],
          "barpolar": [
           {
            "marker": {
             "line": {
              "color": "#E5ECF6",
              "width": 0.5
             }
            },
            "type": "barpolar"
           }
          ],
          "carpet": [
           {
            "aaxis": {
             "endlinecolor": "#2a3f5f",
             "gridcolor": "white",
             "linecolor": "white",
             "minorgridcolor": "white",
             "startlinecolor": "#2a3f5f"
            },
            "baxis": {
             "endlinecolor": "#2a3f5f",
             "gridcolor": "white",
             "linecolor": "white",
             "minorgridcolor": "white",
             "startlinecolor": "#2a3f5f"
            },
            "type": "carpet"
           }
          ],
          "choropleth": [
           {
            "colorbar": {
             "outlinewidth": 0,
             "ticks": ""
            },
            "type": "choropleth"
           }
          ],
          "contour": [
           {
            "colorbar": {
             "outlinewidth": 0,
             "ticks": ""
            },
            "colorscale": [
             [
              0,
              "#0d0887"
             ],
             [
              0.1111111111111111,
              "#46039f"
             ],
             [
              0.2222222222222222,
              "#7201a8"
             ],
             [
              0.3333333333333333,
              "#9c179e"
             ],
             [
              0.4444444444444444,
              "#bd3786"
             ],
             [
              0.5555555555555556,
              "#d8576b"
             ],
             [
              0.6666666666666666,
              "#ed7953"
             ],
             [
              0.7777777777777778,
              "#fb9f3a"
             ],
             [
              0.8888888888888888,
              "#fdca26"
             ],
             [
              1,
              "#f0f921"
             ]
            ],
            "type": "contour"
           }
          ],
          "contourcarpet": [
           {
            "colorbar": {
             "outlinewidth": 0,
             "ticks": ""
            },
            "type": "contourcarpet"
           }
          ],
          "heatmap": [
           {
            "colorbar": {
             "outlinewidth": 0,
             "ticks": ""
            },
            "colorscale": [
             [
              0,
              "#0d0887"
             ],
             [
              0.1111111111111111,
              "#46039f"
             ],
             [
              0.2222222222222222,
              "#7201a8"
             ],
             [
              0.3333333333333333,
              "#9c179e"
             ],
             [
              0.4444444444444444,
              "#bd3786"
             ],
             [
              0.5555555555555556,
              "#d8576b"
             ],
             [
              0.6666666666666666,
              "#ed7953"
             ],
             [
              0.7777777777777778,
              "#fb9f3a"
             ],
             [
              0.8888888888888888,
              "#fdca26"
             ],
             [
              1,
              "#f0f921"
             ]
            ],
            "type": "heatmap"
           }
          ],
          "heatmapgl": [
           {
            "colorbar": {
             "outlinewidth": 0,
             "ticks": ""
            },
            "colorscale": [
             [
              0,
              "#0d0887"
             ],
             [
              0.1111111111111111,
              "#46039f"
             ],
             [
              0.2222222222222222,
              "#7201a8"
             ],
             [
              0.3333333333333333,
              "#9c179e"
             ],
             [
              0.4444444444444444,
              "#bd3786"
             ],
             [
              0.5555555555555556,
              "#d8576b"
             ],
             [
              0.6666666666666666,
              "#ed7953"
             ],
             [
              0.7777777777777778,
              "#fb9f3a"
             ],
             [
              0.8888888888888888,
              "#fdca26"
             ],
             [
              1,
              "#f0f921"
             ]
            ],
            "type": "heatmapgl"
           }
          ],
          "histogram": [
           {
            "marker": {
             "colorbar": {
              "outlinewidth": 0,
              "ticks": ""
             }
            },
            "type": "histogram"
           }
          ],
          "histogram2d": [
           {
            "colorbar": {
             "outlinewidth": 0,
             "ticks": ""
            },
            "colorscale": [
             [
              0,
              "#0d0887"
             ],
             [
              0.1111111111111111,
              "#46039f"
             ],
             [
              0.2222222222222222,
              "#7201a8"
             ],
             [
              0.3333333333333333,
              "#9c179e"
             ],
             [
              0.4444444444444444,
              "#bd3786"
             ],
             [
              0.5555555555555556,
              "#d8576b"
             ],
             [
              0.6666666666666666,
              "#ed7953"
             ],
             [
              0.7777777777777778,
              "#fb9f3a"
             ],
             [
              0.8888888888888888,
              "#fdca26"
             ],
             [
              1,
              "#f0f921"
             ]
            ],
            "type": "histogram2d"
           }
          ],
          "histogram2dcontour": [
           {
            "colorbar": {
             "outlinewidth": 0,
             "ticks": ""
            },
            "colorscale": [
             [
              0,
              "#0d0887"
             ],
             [
              0.1111111111111111,
              "#46039f"
             ],
             [
              0.2222222222222222,
              "#7201a8"
             ],
             [
              0.3333333333333333,
              "#9c179e"
             ],
             [
              0.4444444444444444,
              "#bd3786"
             ],
             [
              0.5555555555555556,
              "#d8576b"
             ],
             [
              0.6666666666666666,
              "#ed7953"
             ],
             [
              0.7777777777777778,
              "#fb9f3a"
             ],
             [
              0.8888888888888888,
              "#fdca26"
             ],
             [
              1,
              "#f0f921"
             ]
            ],
            "type": "histogram2dcontour"
           }
          ],
          "mesh3d": [
           {
            "colorbar": {
             "outlinewidth": 0,
             "ticks": ""
            },
            "type": "mesh3d"
           }
          ],
          "parcoords": [
           {
            "line": {
             "colorbar": {
              "outlinewidth": 0,
              "ticks": ""
             }
            },
            "type": "parcoords"
           }
          ],
          "pie": [
           {
            "automargin": true,
            "type": "pie"
           }
          ],
          "scatter": [
           {
            "marker": {
             "colorbar": {
              "outlinewidth": 0,
              "ticks": ""
             }
            },
            "type": "scatter"
           }
          ],
          "scatter3d": [
           {
            "line": {
             "colorbar": {
              "outlinewidth": 0,
              "ticks": ""
             }
            },
            "marker": {
             "colorbar": {
              "outlinewidth": 0,
              "ticks": ""
             }
            },
            "type": "scatter3d"
           }
          ],
          "scattercarpet": [
           {
            "marker": {
             "colorbar": {
              "outlinewidth": 0,
              "ticks": ""
             }
            },
            "type": "scattercarpet"
           }
          ],
          "scattergeo": [
           {
            "marker": {
             "colorbar": {
              "outlinewidth": 0,
              "ticks": ""
             }
            },
            "type": "scattergeo"
           }
          ],
          "scattergl": [
           {
            "marker": {
             "colorbar": {
              "outlinewidth": 0,
              "ticks": ""
             }
            },
            "type": "scattergl"
           }
          ],
          "scattermapbox": [
           {
            "marker": {
             "colorbar": {
              "outlinewidth": 0,
              "ticks": ""
             }
            },
            "type": "scattermapbox"
           }
          ],
          "scatterpolar": [
           {
            "marker": {
             "colorbar": {
              "outlinewidth": 0,
              "ticks": ""
             }
            },
            "type": "scatterpolar"
           }
          ],
          "scatterpolargl": [
           {
            "marker": {
             "colorbar": {
              "outlinewidth": 0,
              "ticks": ""
             }
            },
            "type": "scatterpolargl"
           }
          ],
          "scatterternary": [
           {
            "marker": {
             "colorbar": {
              "outlinewidth": 0,
              "ticks": ""
             }
            },
            "type": "scatterternary"
           }
          ],
          "surface": [
           {
            "colorbar": {
             "outlinewidth": 0,
             "ticks": ""
            },
            "colorscale": [
             [
              0,
              "#0d0887"
             ],
             [
              0.1111111111111111,
              "#46039f"
             ],
             [
              0.2222222222222222,
              "#7201a8"
             ],
             [
              0.3333333333333333,
              "#9c179e"
             ],
             [
              0.4444444444444444,
              "#bd3786"
             ],
             [
              0.5555555555555556,
              "#d8576b"
             ],
             [
              0.6666666666666666,
              "#ed7953"
             ],
             [
              0.7777777777777778,
              "#fb9f3a"
             ],
             [
              0.8888888888888888,
              "#fdca26"
             ],
             [
              1,
              "#f0f921"
             ]
            ],
            "type": "surface"
           }
          ],
          "table": [
           {
            "cells": {
             "fill": {
              "color": "#EBF0F8"
             },
             "line": {
              "color": "white"
             }
            },
            "header": {
             "fill": {
              "color": "#C8D4E3"
             },
             "line": {
              "color": "white"
             }
            },
            "type": "table"
           }
          ]
         },
         "layout": {
          "annotationdefaults": {
           "arrowcolor": "#2a3f5f",
           "arrowhead": 0,
           "arrowwidth": 1
          },
          "coloraxis": {
           "colorbar": {
            "outlinewidth": 0,
            "ticks": ""
           }
          },
          "colorscale": {
           "diverging": [
            [
             0,
             "#8e0152"
            ],
            [
             0.1,
             "#c51b7d"
            ],
            [
             0.2,
             "#de77ae"
            ],
            [
             0.3,
             "#f1b6da"
            ],
            [
             0.4,
             "#fde0ef"
            ],
            [
             0.5,
             "#f7f7f7"
            ],
            [
             0.6,
             "#e6f5d0"
            ],
            [
             0.7,
             "#b8e186"
            ],
            [
             0.8,
             "#7fbc41"
            ],
            [
             0.9,
             "#4d9221"
            ],
            [
             1,
             "#276419"
            ]
           ],
           "sequential": [
            [
             0,
             "#0d0887"
            ],
            [
             0.1111111111111111,
             "#46039f"
            ],
            [
             0.2222222222222222,
             "#7201a8"
            ],
            [
             0.3333333333333333,
             "#9c179e"
            ],
            [
             0.4444444444444444,
             "#bd3786"
            ],
            [
             0.5555555555555556,
             "#d8576b"
            ],
            [
             0.6666666666666666,
             "#ed7953"
            ],
            [
             0.7777777777777778,
             "#fb9f3a"
            ],
            [
             0.8888888888888888,
             "#fdca26"
            ],
            [
             1,
             "#f0f921"
            ]
           ],
           "sequentialminus": [
            [
             0,
             "#0d0887"
            ],
            [
             0.1111111111111111,
             "#46039f"
            ],
            [
             0.2222222222222222,
             "#7201a8"
            ],
            [
             0.3333333333333333,
             "#9c179e"
            ],
            [
             0.4444444444444444,
             "#bd3786"
            ],
            [
             0.5555555555555556,
             "#d8576b"
            ],
            [
             0.6666666666666666,
             "#ed7953"
            ],
            [
             0.7777777777777778,
             "#fb9f3a"
            ],
            [
             0.8888888888888888,
             "#fdca26"
            ],
            [
             1,
             "#f0f921"
            ]
           ]
          },
          "colorway": [
           "#636efa",
           "#EF553B",
           "#00cc96",
           "#ab63fa",
           "#FFA15A",
           "#19d3f3",
           "#FF6692",
           "#B6E880",
           "#FF97FF",
           "#FECB52"
          ],
          "font": {
           "color": "#2a3f5f"
          },
          "geo": {
           "bgcolor": "white",
           "lakecolor": "white",
           "landcolor": "#E5ECF6",
           "showlakes": true,
           "showland": true,
           "subunitcolor": "white"
          },
          "hoverlabel": {
           "align": "left"
          },
          "hovermode": "closest",
          "mapbox": {
           "style": "light"
          },
          "paper_bgcolor": "white",
          "plot_bgcolor": "#E5ECF6",
          "polar": {
           "angularaxis": {
            "gridcolor": "white",
            "linecolor": "white",
            "ticks": ""
           },
           "bgcolor": "#E5ECF6",
           "radialaxis": {
            "gridcolor": "white",
            "linecolor": "white",
            "ticks": ""
           }
          },
          "scene": {
           "xaxis": {
            "backgroundcolor": "#E5ECF6",
            "gridcolor": "white",
            "gridwidth": 2,
            "linecolor": "white",
            "showbackground": true,
            "ticks": "",
            "zerolinecolor": "white"
           },
           "yaxis": {
            "backgroundcolor": "#E5ECF6",
            "gridcolor": "white",
            "gridwidth": 2,
            "linecolor": "white",
            "showbackground": true,
            "ticks": "",
            "zerolinecolor": "white"
           },
           "zaxis": {
            "backgroundcolor": "#E5ECF6",
            "gridcolor": "white",
            "gridwidth": 2,
            "linecolor": "white",
            "showbackground": true,
            "ticks": "",
            "zerolinecolor": "white"
           }
          },
          "shapedefaults": {
           "line": {
            "color": "#2a3f5f"
           }
          },
          "ternary": {
           "aaxis": {
            "gridcolor": "white",
            "linecolor": "white",
            "ticks": ""
           },
           "baxis": {
            "gridcolor": "white",
            "linecolor": "white",
            "ticks": ""
           },
           "bgcolor": "#E5ECF6",
           "caxis": {
            "gridcolor": "white",
            "linecolor": "white",
            "ticks": ""
           }
          },
          "title": {
           "x": 0.05
          },
          "xaxis": {
           "automargin": true,
           "gridcolor": "white",
           "linecolor": "white",
           "ticks": "",
           "title": {
            "standoff": 15
           },
           "zerolinecolor": "white",
           "zerolinewidth": 2
          },
          "yaxis": {
           "automargin": true,
           "gridcolor": "white",
           "linecolor": "white",
           "ticks": "",
           "title": {
            "standoff": 15
           },
           "zerolinecolor": "white",
           "zerolinewidth": 2
          }
         }
        },
        "title": {
         "text": "Model Type Counts Samsung"
        }
       }
      },
      "text/html": [
       "<div>\n",
       "        \n",
       "        \n",
       "            <div id=\"8ee9c0fb-78fc-414c-a53f-5960a74a8f59\" class=\"plotly-graph-div\" style=\"height:525px; width:100%;\"></div>\n",
       "            <script type=\"text/javascript\">\n",
       "                require([\"plotly\"], function(Plotly) {\n",
       "                    window.PLOTLYENV=window.PLOTLYENV || {};\n",
       "                    \n",
       "                if (document.getElementById(\"8ee9c0fb-78fc-414c-a53f-5960a74a8f59\")) {\n",
       "                    Plotly.newPlot(\n",
       "                        '8ee9c0fb-78fc-414c-a53f-5960a74a8f59',\n",
       "                        [{\"marker\": {\"color\": \"rgba(200,150,180,0.8)\"}, \"type\": \"bar\", \"x\": [\"GALAXY NOTE\", \"GALAXY S7\", \"GALAXY S8\", \"GALAXY S10\", \"GALAXY J3\", \"GALAXY S6\", \"GALAXY S9\", \"GALAXY S9+\", \"GALAXY S8+\", \"GALAXY S10+\", \"GALAXY S10E\", \"GALAXY A50\", \"GALAXY NOTE9\", \"SAMSUNG GALAXY\", \"GALAXY A10\", \"GALAXY NOTE10\", \"GALAXY A8\", \"GALAXY A70\", \"GALAXY A5\", \"GALAXY NOTE10+\", \"GALAXY A20\", \"GALAXY S5\", \"GALAXY J7\", \"GALAXY A51\", \"GALAXY A30\", \"GALAXY A10S\", \"GALAXY A10E\", \"GALAXY J2\", \"GALAXY A20S\", \"GALAXY S20\", \"A50 128GB\", \"GALAXY S20+\", \"GALAXY J1\", \"GALAXY J4\", \"GALAXY A80\", \"GALAXY A01\", \"GALAXY&NBSP;NOTE&NBSP;10+ DUAL\", \"GALAXY A30S\", \"GALAXY Z\", \"GALAXY M20\", \"GALAXY M30\", \"REFURBISHED SAMSUNG\", \"A20S 32GB\", \"GALAXY A7\", \"S5 16GB\", \"OPEN BOX-SAMSUNG\", \"SAMSUNG XCOVER\", \"A8 (2018)\", \"SAMSUNG RUGBY\", \"GALAXY AMP\", \"SAMSUNG A997\", \"GALAXY&NBSP;NOTE&NBSP;10&NBSP;DUAL SIM\", \"GALAXY A30S-\", \"GALAXY UNLOCKED\", \"NOTE 5\", \"GALAXY J6\", \"A5 (2017)\", \"GALAXY A6\", \"- SAMSUNG\", \"GALAXY GRAND\", \"S8 PLUS\", \"J3 PRIME\", \"A20 32GB\", \"GALAXY NOTE8\", \"GALAXY J3/\", \"GALAXY ON5\", \"GALAXY RUGBY\", \"GALAXY A8S\", \"SM-G960WA64 GALAXY\", \"X COVER\", \"SAMSUNG S7\", \"GALAXY S4\", \"S7 EDGE\", \"GALAXY XCOVER4\", \"GALAXY XCOVER\", \"GALAXY J8\", \"REFURBISHED -\", \"OPEN BOX\", \"A10S 32GB\", \"GALAXY M30/\", \"GALAXY A71\", \"GALAXY A2\", \"GALAXY A5(2017)\", \"GALAXY G900W8\", \"BOX UNLOCKED\", \"NOTE 4\", \"GALAXY S3\"], \"y\": [41, 40, 29, 25, 24, 23, 22, 21, 21, 21, 21, 20, 15, 15, 13, 10, 10, 10, 9, 9, 7, 7, 7, 6, 6, 6, 4, 4, 3, 3, 3, 3, 3, 3, 3, 3, 2, 2, 2, 2, 2, 2, 2, 2, 1, 1, 1, 1, 1, 1, 1, 1, 1, 1, 1, 1, 1, 1, 1, 1, 1, 1, 1, 1, 1, 1, 1, 1, 1, 1, 1, 1, 1, 1, 1, 1, 1, 1, 1, 1, 1, 1, 1, 1, 1, 1, 1]}],\n",
       "                        {\"template\": {\"data\": {\"bar\": [{\"error_x\": {\"color\": \"#2a3f5f\"}, \"error_y\": {\"color\": \"#2a3f5f\"}, \"marker\": {\"line\": {\"color\": \"#E5ECF6\", \"width\": 0.5}}, \"type\": \"bar\"}], \"barpolar\": [{\"marker\": {\"line\": {\"color\": \"#E5ECF6\", \"width\": 0.5}}, \"type\": \"barpolar\"}], \"carpet\": [{\"aaxis\": {\"endlinecolor\": \"#2a3f5f\", \"gridcolor\": \"white\", \"linecolor\": \"white\", \"minorgridcolor\": \"white\", \"startlinecolor\": \"#2a3f5f\"}, \"baxis\": {\"endlinecolor\": \"#2a3f5f\", \"gridcolor\": \"white\", \"linecolor\": \"white\", \"minorgridcolor\": \"white\", \"startlinecolor\": \"#2a3f5f\"}, \"type\": \"carpet\"}], \"choropleth\": [{\"colorbar\": {\"outlinewidth\": 0, \"ticks\": \"\"}, \"type\": \"choropleth\"}], \"contour\": [{\"colorbar\": {\"outlinewidth\": 0, \"ticks\": \"\"}, \"colorscale\": [[0.0, \"#0d0887\"], [0.1111111111111111, \"#46039f\"], [0.2222222222222222, \"#7201a8\"], [0.3333333333333333, \"#9c179e\"], [0.4444444444444444, \"#bd3786\"], [0.5555555555555556, \"#d8576b\"], [0.6666666666666666, \"#ed7953\"], [0.7777777777777778, \"#fb9f3a\"], [0.8888888888888888, \"#fdca26\"], [1.0, \"#f0f921\"]], \"type\": \"contour\"}], \"contourcarpet\": [{\"colorbar\": {\"outlinewidth\": 0, \"ticks\": \"\"}, \"type\": \"contourcarpet\"}], \"heatmap\": [{\"colorbar\": {\"outlinewidth\": 0, \"ticks\": \"\"}, \"colorscale\": [[0.0, \"#0d0887\"], [0.1111111111111111, \"#46039f\"], [0.2222222222222222, \"#7201a8\"], [0.3333333333333333, \"#9c179e\"], [0.4444444444444444, \"#bd3786\"], [0.5555555555555556, \"#d8576b\"], [0.6666666666666666, \"#ed7953\"], [0.7777777777777778, \"#fb9f3a\"], [0.8888888888888888, \"#fdca26\"], [1.0, \"#f0f921\"]], \"type\": \"heatmap\"}], \"heatmapgl\": [{\"colorbar\": {\"outlinewidth\": 0, \"ticks\": \"\"}, \"colorscale\": [[0.0, \"#0d0887\"], [0.1111111111111111, \"#46039f\"], [0.2222222222222222, \"#7201a8\"], [0.3333333333333333, \"#9c179e\"], [0.4444444444444444, \"#bd3786\"], [0.5555555555555556, \"#d8576b\"], [0.6666666666666666, \"#ed7953\"], [0.7777777777777778, \"#fb9f3a\"], [0.8888888888888888, \"#fdca26\"], [1.0, \"#f0f921\"]], \"type\": \"heatmapgl\"}], \"histogram\": [{\"marker\": {\"colorbar\": {\"outlinewidth\": 0, \"ticks\": \"\"}}, \"type\": \"histogram\"}], \"histogram2d\": [{\"colorbar\": {\"outlinewidth\": 0, \"ticks\": \"\"}, \"colorscale\": [[0.0, \"#0d0887\"], [0.1111111111111111, \"#46039f\"], [0.2222222222222222, \"#7201a8\"], [0.3333333333333333, \"#9c179e\"], [0.4444444444444444, \"#bd3786\"], [0.5555555555555556, \"#d8576b\"], [0.6666666666666666, \"#ed7953\"], [0.7777777777777778, \"#fb9f3a\"], [0.8888888888888888, \"#fdca26\"], [1.0, \"#f0f921\"]], \"type\": \"histogram2d\"}], \"histogram2dcontour\": [{\"colorbar\": {\"outlinewidth\": 0, \"ticks\": \"\"}, \"colorscale\": [[0.0, \"#0d0887\"], [0.1111111111111111, \"#46039f\"], [0.2222222222222222, \"#7201a8\"], [0.3333333333333333, \"#9c179e\"], [0.4444444444444444, \"#bd3786\"], [0.5555555555555556, \"#d8576b\"], [0.6666666666666666, \"#ed7953\"], [0.7777777777777778, \"#fb9f3a\"], [0.8888888888888888, \"#fdca26\"], [1.0, \"#f0f921\"]], \"type\": \"histogram2dcontour\"}], \"mesh3d\": [{\"colorbar\": {\"outlinewidth\": 0, \"ticks\": \"\"}, \"type\": \"mesh3d\"}], \"parcoords\": [{\"line\": {\"colorbar\": {\"outlinewidth\": 0, \"ticks\": \"\"}}, \"type\": \"parcoords\"}], \"pie\": [{\"automargin\": true, \"type\": \"pie\"}], \"scatter\": [{\"marker\": {\"colorbar\": {\"outlinewidth\": 0, \"ticks\": \"\"}}, \"type\": \"scatter\"}], \"scatter3d\": [{\"line\": {\"colorbar\": {\"outlinewidth\": 0, \"ticks\": \"\"}}, \"marker\": {\"colorbar\": {\"outlinewidth\": 0, \"ticks\": \"\"}}, \"type\": \"scatter3d\"}], \"scattercarpet\": [{\"marker\": {\"colorbar\": {\"outlinewidth\": 0, \"ticks\": \"\"}}, \"type\": \"scattercarpet\"}], \"scattergeo\": [{\"marker\": {\"colorbar\": {\"outlinewidth\": 0, \"ticks\": \"\"}}, \"type\": \"scattergeo\"}], \"scattergl\": [{\"marker\": {\"colorbar\": {\"outlinewidth\": 0, \"ticks\": \"\"}}, \"type\": \"scattergl\"}], \"scattermapbox\": [{\"marker\": {\"colorbar\": {\"outlinewidth\": 0, \"ticks\": \"\"}}, \"type\": \"scattermapbox\"}], \"scatterpolar\": [{\"marker\": {\"colorbar\": {\"outlinewidth\": 0, \"ticks\": \"\"}}, \"type\": \"scatterpolar\"}], \"scatterpolargl\": [{\"marker\": {\"colorbar\": {\"outlinewidth\": 0, \"ticks\": \"\"}}, \"type\": \"scatterpolargl\"}], \"scatterternary\": [{\"marker\": {\"colorbar\": {\"outlinewidth\": 0, \"ticks\": \"\"}}, \"type\": \"scatterternary\"}], \"surface\": [{\"colorbar\": {\"outlinewidth\": 0, \"ticks\": \"\"}, \"colorscale\": [[0.0, \"#0d0887\"], [0.1111111111111111, \"#46039f\"], [0.2222222222222222, \"#7201a8\"], [0.3333333333333333, \"#9c179e\"], [0.4444444444444444, \"#bd3786\"], [0.5555555555555556, \"#d8576b\"], [0.6666666666666666, \"#ed7953\"], [0.7777777777777778, \"#fb9f3a\"], [0.8888888888888888, \"#fdca26\"], [1.0, \"#f0f921\"]], \"type\": \"surface\"}], \"table\": [{\"cells\": {\"fill\": {\"color\": \"#EBF0F8\"}, \"line\": {\"color\": \"white\"}}, \"header\": {\"fill\": {\"color\": \"#C8D4E3\"}, \"line\": {\"color\": \"white\"}}, \"type\": \"table\"}]}, \"layout\": {\"annotationdefaults\": {\"arrowcolor\": \"#2a3f5f\", \"arrowhead\": 0, \"arrowwidth\": 1}, \"coloraxis\": {\"colorbar\": {\"outlinewidth\": 0, \"ticks\": \"\"}}, \"colorscale\": {\"diverging\": [[0, \"#8e0152\"], [0.1, \"#c51b7d\"], [0.2, \"#de77ae\"], [0.3, \"#f1b6da\"], [0.4, \"#fde0ef\"], [0.5, \"#f7f7f7\"], [0.6, \"#e6f5d0\"], [0.7, \"#b8e186\"], [0.8, \"#7fbc41\"], [0.9, \"#4d9221\"], [1, \"#276419\"]], \"sequential\": [[0.0, \"#0d0887\"], [0.1111111111111111, \"#46039f\"], [0.2222222222222222, \"#7201a8\"], [0.3333333333333333, \"#9c179e\"], [0.4444444444444444, \"#bd3786\"], [0.5555555555555556, \"#d8576b\"], [0.6666666666666666, \"#ed7953\"], [0.7777777777777778, \"#fb9f3a\"], [0.8888888888888888, \"#fdca26\"], [1.0, \"#f0f921\"]], \"sequentialminus\": [[0.0, \"#0d0887\"], [0.1111111111111111, \"#46039f\"], [0.2222222222222222, \"#7201a8\"], [0.3333333333333333, \"#9c179e\"], [0.4444444444444444, \"#bd3786\"], [0.5555555555555556, \"#d8576b\"], [0.6666666666666666, \"#ed7953\"], [0.7777777777777778, \"#fb9f3a\"], [0.8888888888888888, \"#fdca26\"], [1.0, \"#f0f921\"]]}, \"colorway\": [\"#636efa\", \"#EF553B\", \"#00cc96\", \"#ab63fa\", \"#FFA15A\", \"#19d3f3\", \"#FF6692\", \"#B6E880\", \"#FF97FF\", \"#FECB52\"], \"font\": {\"color\": \"#2a3f5f\"}, \"geo\": {\"bgcolor\": \"white\", \"lakecolor\": \"white\", \"landcolor\": \"#E5ECF6\", \"showlakes\": true, \"showland\": true, \"subunitcolor\": \"white\"}, \"hoverlabel\": {\"align\": \"left\"}, \"hovermode\": \"closest\", \"mapbox\": {\"style\": \"light\"}, \"paper_bgcolor\": \"white\", \"plot_bgcolor\": \"#E5ECF6\", \"polar\": {\"angularaxis\": {\"gridcolor\": \"white\", \"linecolor\": \"white\", \"ticks\": \"\"}, \"bgcolor\": \"#E5ECF6\", \"radialaxis\": {\"gridcolor\": \"white\", \"linecolor\": \"white\", \"ticks\": \"\"}}, \"scene\": {\"xaxis\": {\"backgroundcolor\": \"#E5ECF6\", \"gridcolor\": \"white\", \"gridwidth\": 2, \"linecolor\": \"white\", \"showbackground\": true, \"ticks\": \"\", \"zerolinecolor\": \"white\"}, \"yaxis\": {\"backgroundcolor\": \"#E5ECF6\", \"gridcolor\": \"white\", \"gridwidth\": 2, \"linecolor\": \"white\", \"showbackground\": true, \"ticks\": \"\", \"zerolinecolor\": \"white\"}, \"zaxis\": {\"backgroundcolor\": \"#E5ECF6\", \"gridcolor\": \"white\", \"gridwidth\": 2, \"linecolor\": \"white\", \"showbackground\": true, \"ticks\": \"\", \"zerolinecolor\": \"white\"}}, \"shapedefaults\": {\"line\": {\"color\": \"#2a3f5f\"}}, \"ternary\": {\"aaxis\": {\"gridcolor\": \"white\", \"linecolor\": \"white\", \"ticks\": \"\"}, \"baxis\": {\"gridcolor\": \"white\", \"linecolor\": \"white\", \"ticks\": \"\"}, \"bgcolor\": \"#E5ECF6\", \"caxis\": {\"gridcolor\": \"white\", \"linecolor\": \"white\", \"ticks\": \"\"}}, \"title\": {\"x\": 0.05}, \"xaxis\": {\"automargin\": true, \"gridcolor\": \"white\", \"linecolor\": \"white\", \"ticks\": \"\", \"title\": {\"standoff\": 15}, \"zerolinecolor\": \"white\", \"zerolinewidth\": 2}, \"yaxis\": {\"automargin\": true, \"gridcolor\": \"white\", \"linecolor\": \"white\", \"ticks\": \"\", \"title\": {\"standoff\": 15}, \"zerolinecolor\": \"white\", \"zerolinewidth\": 2}}}, \"title\": {\"text\": \"Model Type Counts Samsung\"}},\n",
       "                        {\"responsive\": true}\n",
       "                    ).then(function(){\n",
       "                            \n",
       "var gd = document.getElementById('8ee9c0fb-78fc-414c-a53f-5960a74a8f59');\n",
       "var x = new MutationObserver(function (mutations, observer) {{\n",
       "        var display = window.getComputedStyle(gd).display;\n",
       "        if (!display || display === 'none') {{\n",
       "            console.log([gd, 'removed!']);\n",
       "            Plotly.purge(gd);\n",
       "            observer.disconnect();\n",
       "        }}\n",
       "}});\n",
       "\n",
       "// Listen for the removal of the full notebook cells\n",
       "var notebookContainer = gd.closest('#notebook-container');\n",
       "if (notebookContainer) {{\n",
       "    x.observe(notebookContainer, {childList: true});\n",
       "}}\n",
       "\n",
       "// Listen for the clearing of the current output cell\n",
       "var outputEl = gd.closest('.output');\n",
       "if (outputEl) {{\n",
       "    x.observe(outputEl, {childList: true});\n",
       "}}\n",
       "\n",
       "                        })\n",
       "                };\n",
       "                });\n",
       "            </script>\n",
       "        </div>"
      ]
     },
     "metadata": {},
     "output_type": "display_data"
    }
   ],
   "source": [
    "Model = Samsung_pd['Model'].value_counts()\n",
    "data = go.Bar(\n",
    "    x=Model.index,\n",
    "    y=Model.values,\n",
    "    marker={\n",
    "        'color':'rgba(200,150,180,0.8)'\n",
    "    }\n",
    ")\n",
    "\n",
    "layout = go.Layout(\n",
    "    title='Model Type Counts Samsung',\n",
    ")\n",
    "\n",
    "fig = go.Figure(data=[data], layout=layout)\n",
    "\n",
    "py.iplot(fig)"
   ]
  },
  {
   "cell_type": "markdown",
   "metadata": {},
   "source": [
    "#### Apple model distribution"
   ]
  },
  {
   "cell_type": "code",
   "execution_count": 75,
   "metadata": {},
   "outputs": [
    {
     "data": {
      "application/vnd.plotly.v1+json": {
       "config": {
        "linkText": "Export to plot.ly",
        "plotlyServerURL": "https://plot.ly",
        "showLink": false
       },
       "data": [
        {
         "marker": {
          "color": "rgba(65,33,180,120)"
         },
         "type": "bar",
         "x": [
          "IPHONE 7",
          "IPHONE 6S",
          "IPHONE XR",
          "IPHONE 8",
          "IPHONE 6",
          "IPHONE XS",
          "IPHONE SE",
          "IPHONE 11",
          "- APPLE",
          "IPHONE 5S",
          "IPHONE X",
          "6S PLUS",
          "6 PLUS",
          "SE 16GB",
          "6S 128GB",
          "6S 16GB",
          "SE 64GB",
          "6S 32GB",
          "5S 16GB",
          "6 16GB",
          "6S 64GB",
          "NO MODEL",
          "SE 32GB",
          "6 128GB",
          "5S 32GB",
          "6 64GB",
          "IPHONE 5C",
          "6S -",
          "IPHONE 4S",
          "7 PLUS",
          "5S 64GB",
          "7 32GB",
          "-APPLE IPHONE",
          "IPHONE7 128GB",
          "7 256GB",
          "8 64GB",
          "- IPHONE",
          "7 128GB",
          "BOX UNLOCKED",
          "IPHONE7 PLUS",
          "5S-16GB BUILT",
          "6S-16GB BUILT",
          "IPHONE7PLUS 32GB",
          "6S PLUS-16GB",
          "IPHONESE 128GB",
          "IPHONESE 16GB",
          "4S 8GB",
          "IPHONE SE/",
          "5 16GB",
          "6 UNLOCKED",
          "6-16GB BUILT",
          "IPHONE 5",
          "IPHONE7 32GB",
          "SE -",
          "IPHONE7 256GB",
          "IPHONE® 8",
          "7 -",
          "6 PLUS-16GB",
          "X 64GB",
          "5S -"
         ],
         "y": [
          180,
          144,
          85,
          85,
          84,
          80,
          55,
          54,
          40,
          24,
          24,
          22,
          17,
          10,
          8,
          7,
          7,
          6,
          6,
          6,
          6,
          5,
          4,
          4,
          4,
          3,
          3,
          3,
          2,
          2,
          2,
          2,
          2,
          2,
          2,
          1,
          1,
          1,
          1,
          1,
          1,
          1,
          1,
          1,
          1,
          1,
          1,
          1,
          1,
          1,
          1,
          1,
          1,
          1,
          1,
          1,
          1,
          1,
          1,
          1
         ]
        }
       ],
       "layout": {
        "template": {
         "data": {
          "bar": [
           {
            "error_x": {
             "color": "#2a3f5f"
            },
            "error_y": {
             "color": "#2a3f5f"
            },
            "marker": {
             "line": {
              "color": "#E5ECF6",
              "width": 0.5
             }
            },
            "type": "bar"
           }
          ],
          "barpolar": [
           {
            "marker": {
             "line": {
              "color": "#E5ECF6",
              "width": 0.5
             }
            },
            "type": "barpolar"
           }
          ],
          "carpet": [
           {
            "aaxis": {
             "endlinecolor": "#2a3f5f",
             "gridcolor": "white",
             "linecolor": "white",
             "minorgridcolor": "white",
             "startlinecolor": "#2a3f5f"
            },
            "baxis": {
             "endlinecolor": "#2a3f5f",
             "gridcolor": "white",
             "linecolor": "white",
             "minorgridcolor": "white",
             "startlinecolor": "#2a3f5f"
            },
            "type": "carpet"
           }
          ],
          "choropleth": [
           {
            "colorbar": {
             "outlinewidth": 0,
             "ticks": ""
            },
            "type": "choropleth"
           }
          ],
          "contour": [
           {
            "colorbar": {
             "outlinewidth": 0,
             "ticks": ""
            },
            "colorscale": [
             [
              0,
              "#0d0887"
             ],
             [
              0.1111111111111111,
              "#46039f"
             ],
             [
              0.2222222222222222,
              "#7201a8"
             ],
             [
              0.3333333333333333,
              "#9c179e"
             ],
             [
              0.4444444444444444,
              "#bd3786"
             ],
             [
              0.5555555555555556,
              "#d8576b"
             ],
             [
              0.6666666666666666,
              "#ed7953"
             ],
             [
              0.7777777777777778,
              "#fb9f3a"
             ],
             [
              0.8888888888888888,
              "#fdca26"
             ],
             [
              1,
              "#f0f921"
             ]
            ],
            "type": "contour"
           }
          ],
          "contourcarpet": [
           {
            "colorbar": {
             "outlinewidth": 0,
             "ticks": ""
            },
            "type": "contourcarpet"
           }
          ],
          "heatmap": [
           {
            "colorbar": {
             "outlinewidth": 0,
             "ticks": ""
            },
            "colorscale": [
             [
              0,
              "#0d0887"
             ],
             [
              0.1111111111111111,
              "#46039f"
             ],
             [
              0.2222222222222222,
              "#7201a8"
             ],
             [
              0.3333333333333333,
              "#9c179e"
             ],
             [
              0.4444444444444444,
              "#bd3786"
             ],
             [
              0.5555555555555556,
              "#d8576b"
             ],
             [
              0.6666666666666666,
              "#ed7953"
             ],
             [
              0.7777777777777778,
              "#fb9f3a"
             ],
             [
              0.8888888888888888,
              "#fdca26"
             ],
             [
              1,
              "#f0f921"
             ]
            ],
            "type": "heatmap"
           }
          ],
          "heatmapgl": [
           {
            "colorbar": {
             "outlinewidth": 0,
             "ticks": ""
            },
            "colorscale": [
             [
              0,
              "#0d0887"
             ],
             [
              0.1111111111111111,
              "#46039f"
             ],
             [
              0.2222222222222222,
              "#7201a8"
             ],
             [
              0.3333333333333333,
              "#9c179e"
             ],
             [
              0.4444444444444444,
              "#bd3786"
             ],
             [
              0.5555555555555556,
              "#d8576b"
             ],
             [
              0.6666666666666666,
              "#ed7953"
             ],
             [
              0.7777777777777778,
              "#fb9f3a"
             ],
             [
              0.8888888888888888,
              "#fdca26"
             ],
             [
              1,
              "#f0f921"
             ]
            ],
            "type": "heatmapgl"
           }
          ],
          "histogram": [
           {
            "marker": {
             "colorbar": {
              "outlinewidth": 0,
              "ticks": ""
             }
            },
            "type": "histogram"
           }
          ],
          "histogram2d": [
           {
            "colorbar": {
             "outlinewidth": 0,
             "ticks": ""
            },
            "colorscale": [
             [
              0,
              "#0d0887"
             ],
             [
              0.1111111111111111,
              "#46039f"
             ],
             [
              0.2222222222222222,
              "#7201a8"
             ],
             [
              0.3333333333333333,
              "#9c179e"
             ],
             [
              0.4444444444444444,
              "#bd3786"
             ],
             [
              0.5555555555555556,
              "#d8576b"
             ],
             [
              0.6666666666666666,
              "#ed7953"
             ],
             [
              0.7777777777777778,
              "#fb9f3a"
             ],
             [
              0.8888888888888888,
              "#fdca26"
             ],
             [
              1,
              "#f0f921"
             ]
            ],
            "type": "histogram2d"
           }
          ],
          "histogram2dcontour": [
           {
            "colorbar": {
             "outlinewidth": 0,
             "ticks": ""
            },
            "colorscale": [
             [
              0,
              "#0d0887"
             ],
             [
              0.1111111111111111,
              "#46039f"
             ],
             [
              0.2222222222222222,
              "#7201a8"
             ],
             [
              0.3333333333333333,
              "#9c179e"
             ],
             [
              0.4444444444444444,
              "#bd3786"
             ],
             [
              0.5555555555555556,
              "#d8576b"
             ],
             [
              0.6666666666666666,
              "#ed7953"
             ],
             [
              0.7777777777777778,
              "#fb9f3a"
             ],
             [
              0.8888888888888888,
              "#fdca26"
             ],
             [
              1,
              "#f0f921"
             ]
            ],
            "type": "histogram2dcontour"
           }
          ],
          "mesh3d": [
           {
            "colorbar": {
             "outlinewidth": 0,
             "ticks": ""
            },
            "type": "mesh3d"
           }
          ],
          "parcoords": [
           {
            "line": {
             "colorbar": {
              "outlinewidth": 0,
              "ticks": ""
             }
            },
            "type": "parcoords"
           }
          ],
          "pie": [
           {
            "automargin": true,
            "type": "pie"
           }
          ],
          "scatter": [
           {
            "marker": {
             "colorbar": {
              "outlinewidth": 0,
              "ticks": ""
             }
            },
            "type": "scatter"
           }
          ],
          "scatter3d": [
           {
            "line": {
             "colorbar": {
              "outlinewidth": 0,
              "ticks": ""
             }
            },
            "marker": {
             "colorbar": {
              "outlinewidth": 0,
              "ticks": ""
             }
            },
            "type": "scatter3d"
           }
          ],
          "scattercarpet": [
           {
            "marker": {
             "colorbar": {
              "outlinewidth": 0,
              "ticks": ""
             }
            },
            "type": "scattercarpet"
           }
          ],
          "scattergeo": [
           {
            "marker": {
             "colorbar": {
              "outlinewidth": 0,
              "ticks": ""
             }
            },
            "type": "scattergeo"
           }
          ],
          "scattergl": [
           {
            "marker": {
             "colorbar": {
              "outlinewidth": 0,
              "ticks": ""
             }
            },
            "type": "scattergl"
           }
          ],
          "scattermapbox": [
           {
            "marker": {
             "colorbar": {
              "outlinewidth": 0,
              "ticks": ""
             }
            },
            "type": "scattermapbox"
           }
          ],
          "scatterpolar": [
           {
            "marker": {
             "colorbar": {
              "outlinewidth": 0,
              "ticks": ""
             }
            },
            "type": "scatterpolar"
           }
          ],
          "scatterpolargl": [
           {
            "marker": {
             "colorbar": {
              "outlinewidth": 0,
              "ticks": ""
             }
            },
            "type": "scatterpolargl"
           }
          ],
          "scatterternary": [
           {
            "marker": {
             "colorbar": {
              "outlinewidth": 0,
              "ticks": ""
             }
            },
            "type": "scatterternary"
           }
          ],
          "surface": [
           {
            "colorbar": {
             "outlinewidth": 0,
             "ticks": ""
            },
            "colorscale": [
             [
              0,
              "#0d0887"
             ],
             [
              0.1111111111111111,
              "#46039f"
             ],
             [
              0.2222222222222222,
              "#7201a8"
             ],
             [
              0.3333333333333333,
              "#9c179e"
             ],
             [
              0.4444444444444444,
              "#bd3786"
             ],
             [
              0.5555555555555556,
              "#d8576b"
             ],
             [
              0.6666666666666666,
              "#ed7953"
             ],
             [
              0.7777777777777778,
              "#fb9f3a"
             ],
             [
              0.8888888888888888,
              "#fdca26"
             ],
             [
              1,
              "#f0f921"
             ]
            ],
            "type": "surface"
           }
          ],
          "table": [
           {
            "cells": {
             "fill": {
              "color": "#EBF0F8"
             },
             "line": {
              "color": "white"
             }
            },
            "header": {
             "fill": {
              "color": "#C8D4E3"
             },
             "line": {
              "color": "white"
             }
            },
            "type": "table"
           }
          ]
         },
         "layout": {
          "annotationdefaults": {
           "arrowcolor": "#2a3f5f",
           "arrowhead": 0,
           "arrowwidth": 1
          },
          "coloraxis": {
           "colorbar": {
            "outlinewidth": 0,
            "ticks": ""
           }
          },
          "colorscale": {
           "diverging": [
            [
             0,
             "#8e0152"
            ],
            [
             0.1,
             "#c51b7d"
            ],
            [
             0.2,
             "#de77ae"
            ],
            [
             0.3,
             "#f1b6da"
            ],
            [
             0.4,
             "#fde0ef"
            ],
            [
             0.5,
             "#f7f7f7"
            ],
            [
             0.6,
             "#e6f5d0"
            ],
            [
             0.7,
             "#b8e186"
            ],
            [
             0.8,
             "#7fbc41"
            ],
            [
             0.9,
             "#4d9221"
            ],
            [
             1,
             "#276419"
            ]
           ],
           "sequential": [
            [
             0,
             "#0d0887"
            ],
            [
             0.1111111111111111,
             "#46039f"
            ],
            [
             0.2222222222222222,
             "#7201a8"
            ],
            [
             0.3333333333333333,
             "#9c179e"
            ],
            [
             0.4444444444444444,
             "#bd3786"
            ],
            [
             0.5555555555555556,
             "#d8576b"
            ],
            [
             0.6666666666666666,
             "#ed7953"
            ],
            [
             0.7777777777777778,
             "#fb9f3a"
            ],
            [
             0.8888888888888888,
             "#fdca26"
            ],
            [
             1,
             "#f0f921"
            ]
           ],
           "sequentialminus": [
            [
             0,
             "#0d0887"
            ],
            [
             0.1111111111111111,
             "#46039f"
            ],
            [
             0.2222222222222222,
             "#7201a8"
            ],
            [
             0.3333333333333333,
             "#9c179e"
            ],
            [
             0.4444444444444444,
             "#bd3786"
            ],
            [
             0.5555555555555556,
             "#d8576b"
            ],
            [
             0.6666666666666666,
             "#ed7953"
            ],
            [
             0.7777777777777778,
             "#fb9f3a"
            ],
            [
             0.8888888888888888,
             "#fdca26"
            ],
            [
             1,
             "#f0f921"
            ]
           ]
          },
          "colorway": [
           "#636efa",
           "#EF553B",
           "#00cc96",
           "#ab63fa",
           "#FFA15A",
           "#19d3f3",
           "#FF6692",
           "#B6E880",
           "#FF97FF",
           "#FECB52"
          ],
          "font": {
           "color": "#2a3f5f"
          },
          "geo": {
           "bgcolor": "white",
           "lakecolor": "white",
           "landcolor": "#E5ECF6",
           "showlakes": true,
           "showland": true,
           "subunitcolor": "white"
          },
          "hoverlabel": {
           "align": "left"
          },
          "hovermode": "closest",
          "mapbox": {
           "style": "light"
          },
          "paper_bgcolor": "white",
          "plot_bgcolor": "#E5ECF6",
          "polar": {
           "angularaxis": {
            "gridcolor": "white",
            "linecolor": "white",
            "ticks": ""
           },
           "bgcolor": "#E5ECF6",
           "radialaxis": {
            "gridcolor": "white",
            "linecolor": "white",
            "ticks": ""
           }
          },
          "scene": {
           "xaxis": {
            "backgroundcolor": "#E5ECF6",
            "gridcolor": "white",
            "gridwidth": 2,
            "linecolor": "white",
            "showbackground": true,
            "ticks": "",
            "zerolinecolor": "white"
           },
           "yaxis": {
            "backgroundcolor": "#E5ECF6",
            "gridcolor": "white",
            "gridwidth": 2,
            "linecolor": "white",
            "showbackground": true,
            "ticks": "",
            "zerolinecolor": "white"
           },
           "zaxis": {
            "backgroundcolor": "#E5ECF6",
            "gridcolor": "white",
            "gridwidth": 2,
            "linecolor": "white",
            "showbackground": true,
            "ticks": "",
            "zerolinecolor": "white"
           }
          },
          "shapedefaults": {
           "line": {
            "color": "#2a3f5f"
           }
          },
          "ternary": {
           "aaxis": {
            "gridcolor": "white",
            "linecolor": "white",
            "ticks": ""
           },
           "baxis": {
            "gridcolor": "white",
            "linecolor": "white",
            "ticks": ""
           },
           "bgcolor": "#E5ECF6",
           "caxis": {
            "gridcolor": "white",
            "linecolor": "white",
            "ticks": ""
           }
          },
          "title": {
           "x": 0.05
          },
          "xaxis": {
           "automargin": true,
           "gridcolor": "white",
           "linecolor": "white",
           "ticks": "",
           "title": {
            "standoff": 15
           },
           "zerolinecolor": "white",
           "zerolinewidth": 2
          },
          "yaxis": {
           "automargin": true,
           "gridcolor": "white",
           "linecolor": "white",
           "ticks": "",
           "title": {
            "standoff": 15
           },
           "zerolinecolor": "white",
           "zerolinewidth": 2
          }
         }
        },
        "title": {
         "text": "Model Type Counts Apple"
        }
       }
      },
      "text/html": [
       "<div>\n",
       "        \n",
       "        \n",
       "            <div id=\"d1e641cb-bc14-4192-aa90-9adb8f741300\" class=\"plotly-graph-div\" style=\"height:525px; width:100%;\"></div>\n",
       "            <script type=\"text/javascript\">\n",
       "                require([\"plotly\"], function(Plotly) {\n",
       "                    window.PLOTLYENV=window.PLOTLYENV || {};\n",
       "                    \n",
       "                if (document.getElementById(\"d1e641cb-bc14-4192-aa90-9adb8f741300\")) {\n",
       "                    Plotly.newPlot(\n",
       "                        'd1e641cb-bc14-4192-aa90-9adb8f741300',\n",
       "                        [{\"marker\": {\"color\": \"rgba(65,33,180,120)\"}, \"type\": \"bar\", \"x\": [\"IPHONE 7\", \"IPHONE 6S\", \"IPHONE XR\", \"IPHONE 8\", \"IPHONE 6\", \"IPHONE XS\", \"IPHONE SE\", \"IPHONE 11\", \"- APPLE\", \"IPHONE 5S\", \"IPHONE X\", \"6S PLUS\", \"6 PLUS\", \"SE 16GB\", \"6S 128GB\", \"6S 16GB\", \"SE 64GB\", \"6S 32GB\", \"5S 16GB\", \"6 16GB\", \"6S 64GB\", \"NO MODEL\", \"SE 32GB\", \"6 128GB\", \"5S 32GB\", \"6 64GB\", \"IPHONE 5C\", \"6S -\", \"IPHONE 4S\", \"7 PLUS\", \"5S 64GB\", \"7 32GB\", \"-APPLE IPHONE\", \"IPHONE7 128GB\", \"7 256GB\", \"8 64GB\", \"- IPHONE\", \"7 128GB\", \"BOX UNLOCKED\", \"IPHONE7 PLUS\", \"5S-16GB BUILT\", \"6S-16GB BUILT\", \"IPHONE7PLUS 32GB\", \"6S PLUS-16GB\", \"IPHONESE 128GB\", \"IPHONESE 16GB\", \"4S 8GB\", \"IPHONE SE/\", \"5 16GB\", \"6 UNLOCKED\", \"6-16GB BUILT\", \"IPHONE 5\", \"IPHONE7 32GB\", \"SE -\", \"IPHONE7 256GB\", \"IPHONE\\u00ae 8\", \"7 -\", \"6 PLUS-16GB\", \"X 64GB\", \"5S -\"], \"y\": [180, 144, 85, 85, 84, 80, 55, 54, 40, 24, 24, 22, 17, 10, 8, 7, 7, 6, 6, 6, 6, 5, 4, 4, 4, 3, 3, 3, 2, 2, 2, 2, 2, 2, 2, 1, 1, 1, 1, 1, 1, 1, 1, 1, 1, 1, 1, 1, 1, 1, 1, 1, 1, 1, 1, 1, 1, 1, 1, 1]}],\n",
       "                        {\"template\": {\"data\": {\"bar\": [{\"error_x\": {\"color\": \"#2a3f5f\"}, \"error_y\": {\"color\": \"#2a3f5f\"}, \"marker\": {\"line\": {\"color\": \"#E5ECF6\", \"width\": 0.5}}, \"type\": \"bar\"}], \"barpolar\": [{\"marker\": {\"line\": {\"color\": \"#E5ECF6\", \"width\": 0.5}}, \"type\": \"barpolar\"}], \"carpet\": [{\"aaxis\": {\"endlinecolor\": \"#2a3f5f\", \"gridcolor\": \"white\", \"linecolor\": \"white\", \"minorgridcolor\": \"white\", \"startlinecolor\": \"#2a3f5f\"}, \"baxis\": {\"endlinecolor\": \"#2a3f5f\", \"gridcolor\": \"white\", \"linecolor\": \"white\", \"minorgridcolor\": \"white\", \"startlinecolor\": \"#2a3f5f\"}, \"type\": \"carpet\"}], \"choropleth\": [{\"colorbar\": {\"outlinewidth\": 0, \"ticks\": \"\"}, \"type\": \"choropleth\"}], \"contour\": [{\"colorbar\": {\"outlinewidth\": 0, \"ticks\": \"\"}, \"colorscale\": [[0.0, \"#0d0887\"], [0.1111111111111111, \"#46039f\"], [0.2222222222222222, \"#7201a8\"], [0.3333333333333333, \"#9c179e\"], [0.4444444444444444, \"#bd3786\"], [0.5555555555555556, \"#d8576b\"], [0.6666666666666666, \"#ed7953\"], [0.7777777777777778, \"#fb9f3a\"], [0.8888888888888888, \"#fdca26\"], [1.0, \"#f0f921\"]], \"type\": \"contour\"}], \"contourcarpet\": [{\"colorbar\": {\"outlinewidth\": 0, \"ticks\": \"\"}, \"type\": \"contourcarpet\"}], \"heatmap\": [{\"colorbar\": {\"outlinewidth\": 0, \"ticks\": \"\"}, \"colorscale\": [[0.0, \"#0d0887\"], [0.1111111111111111, \"#46039f\"], [0.2222222222222222, \"#7201a8\"], [0.3333333333333333, \"#9c179e\"], [0.4444444444444444, \"#bd3786\"], [0.5555555555555556, \"#d8576b\"], [0.6666666666666666, \"#ed7953\"], [0.7777777777777778, \"#fb9f3a\"], [0.8888888888888888, \"#fdca26\"], [1.0, \"#f0f921\"]], \"type\": \"heatmap\"}], \"heatmapgl\": [{\"colorbar\": {\"outlinewidth\": 0, \"ticks\": \"\"}, \"colorscale\": [[0.0, \"#0d0887\"], [0.1111111111111111, \"#46039f\"], [0.2222222222222222, \"#7201a8\"], [0.3333333333333333, \"#9c179e\"], [0.4444444444444444, \"#bd3786\"], [0.5555555555555556, \"#d8576b\"], [0.6666666666666666, \"#ed7953\"], [0.7777777777777778, \"#fb9f3a\"], [0.8888888888888888, \"#fdca26\"], [1.0, \"#f0f921\"]], \"type\": \"heatmapgl\"}], \"histogram\": [{\"marker\": {\"colorbar\": {\"outlinewidth\": 0, \"ticks\": \"\"}}, \"type\": \"histogram\"}], \"histogram2d\": [{\"colorbar\": {\"outlinewidth\": 0, \"ticks\": \"\"}, \"colorscale\": [[0.0, \"#0d0887\"], [0.1111111111111111, \"#46039f\"], [0.2222222222222222, \"#7201a8\"], [0.3333333333333333, \"#9c179e\"], [0.4444444444444444, \"#bd3786\"], [0.5555555555555556, \"#d8576b\"], [0.6666666666666666, \"#ed7953\"], [0.7777777777777778, \"#fb9f3a\"], [0.8888888888888888, \"#fdca26\"], [1.0, \"#f0f921\"]], \"type\": \"histogram2d\"}], \"histogram2dcontour\": [{\"colorbar\": {\"outlinewidth\": 0, \"ticks\": \"\"}, \"colorscale\": [[0.0, \"#0d0887\"], [0.1111111111111111, \"#46039f\"], [0.2222222222222222, \"#7201a8\"], [0.3333333333333333, \"#9c179e\"], [0.4444444444444444, \"#bd3786\"], [0.5555555555555556, \"#d8576b\"], [0.6666666666666666, \"#ed7953\"], [0.7777777777777778, \"#fb9f3a\"], [0.8888888888888888, \"#fdca26\"], [1.0, \"#f0f921\"]], \"type\": \"histogram2dcontour\"}], \"mesh3d\": [{\"colorbar\": {\"outlinewidth\": 0, \"ticks\": \"\"}, \"type\": \"mesh3d\"}], \"parcoords\": [{\"line\": {\"colorbar\": {\"outlinewidth\": 0, \"ticks\": \"\"}}, \"type\": \"parcoords\"}], \"pie\": [{\"automargin\": true, \"type\": \"pie\"}], \"scatter\": [{\"marker\": {\"colorbar\": {\"outlinewidth\": 0, \"ticks\": \"\"}}, \"type\": \"scatter\"}], \"scatter3d\": [{\"line\": {\"colorbar\": {\"outlinewidth\": 0, \"ticks\": \"\"}}, \"marker\": {\"colorbar\": {\"outlinewidth\": 0, \"ticks\": \"\"}}, \"type\": \"scatter3d\"}], \"scattercarpet\": [{\"marker\": {\"colorbar\": {\"outlinewidth\": 0, \"ticks\": \"\"}}, \"type\": \"scattercarpet\"}], \"scattergeo\": [{\"marker\": {\"colorbar\": {\"outlinewidth\": 0, \"ticks\": \"\"}}, \"type\": \"scattergeo\"}], \"scattergl\": [{\"marker\": {\"colorbar\": {\"outlinewidth\": 0, \"ticks\": \"\"}}, \"type\": \"scattergl\"}], \"scattermapbox\": [{\"marker\": {\"colorbar\": {\"outlinewidth\": 0, \"ticks\": \"\"}}, \"type\": \"scattermapbox\"}], \"scatterpolar\": [{\"marker\": {\"colorbar\": {\"outlinewidth\": 0, \"ticks\": \"\"}}, \"type\": \"scatterpolar\"}], \"scatterpolargl\": [{\"marker\": {\"colorbar\": {\"outlinewidth\": 0, \"ticks\": \"\"}}, \"type\": \"scatterpolargl\"}], \"scatterternary\": [{\"marker\": {\"colorbar\": {\"outlinewidth\": 0, \"ticks\": \"\"}}, \"type\": \"scatterternary\"}], \"surface\": [{\"colorbar\": {\"outlinewidth\": 0, \"ticks\": \"\"}, \"colorscale\": [[0.0, \"#0d0887\"], [0.1111111111111111, \"#46039f\"], [0.2222222222222222, \"#7201a8\"], [0.3333333333333333, \"#9c179e\"], [0.4444444444444444, \"#bd3786\"], [0.5555555555555556, \"#d8576b\"], [0.6666666666666666, \"#ed7953\"], [0.7777777777777778, \"#fb9f3a\"], [0.8888888888888888, \"#fdca26\"], [1.0, \"#f0f921\"]], \"type\": \"surface\"}], \"table\": [{\"cells\": {\"fill\": {\"color\": \"#EBF0F8\"}, \"line\": {\"color\": \"white\"}}, \"header\": {\"fill\": {\"color\": \"#C8D4E3\"}, \"line\": {\"color\": \"white\"}}, \"type\": \"table\"}]}, \"layout\": {\"annotationdefaults\": {\"arrowcolor\": \"#2a3f5f\", \"arrowhead\": 0, \"arrowwidth\": 1}, \"coloraxis\": {\"colorbar\": {\"outlinewidth\": 0, \"ticks\": \"\"}}, \"colorscale\": {\"diverging\": [[0, \"#8e0152\"], [0.1, \"#c51b7d\"], [0.2, \"#de77ae\"], [0.3, \"#f1b6da\"], [0.4, \"#fde0ef\"], [0.5, \"#f7f7f7\"], [0.6, \"#e6f5d0\"], [0.7, \"#b8e186\"], [0.8, \"#7fbc41\"], [0.9, \"#4d9221\"], [1, \"#276419\"]], \"sequential\": [[0.0, \"#0d0887\"], [0.1111111111111111, \"#46039f\"], [0.2222222222222222, \"#7201a8\"], [0.3333333333333333, \"#9c179e\"], [0.4444444444444444, \"#bd3786\"], [0.5555555555555556, \"#d8576b\"], [0.6666666666666666, \"#ed7953\"], [0.7777777777777778, \"#fb9f3a\"], [0.8888888888888888, \"#fdca26\"], [1.0, \"#f0f921\"]], \"sequentialminus\": [[0.0, \"#0d0887\"], [0.1111111111111111, \"#46039f\"], [0.2222222222222222, \"#7201a8\"], [0.3333333333333333, \"#9c179e\"], [0.4444444444444444, \"#bd3786\"], [0.5555555555555556, \"#d8576b\"], [0.6666666666666666, \"#ed7953\"], [0.7777777777777778, \"#fb9f3a\"], [0.8888888888888888, \"#fdca26\"], [1.0, \"#f0f921\"]]}, \"colorway\": [\"#636efa\", \"#EF553B\", \"#00cc96\", \"#ab63fa\", \"#FFA15A\", \"#19d3f3\", \"#FF6692\", \"#B6E880\", \"#FF97FF\", \"#FECB52\"], \"font\": {\"color\": \"#2a3f5f\"}, \"geo\": {\"bgcolor\": \"white\", \"lakecolor\": \"white\", \"landcolor\": \"#E5ECF6\", \"showlakes\": true, \"showland\": true, \"subunitcolor\": \"white\"}, \"hoverlabel\": {\"align\": \"left\"}, \"hovermode\": \"closest\", \"mapbox\": {\"style\": \"light\"}, \"paper_bgcolor\": \"white\", \"plot_bgcolor\": \"#E5ECF6\", \"polar\": {\"angularaxis\": {\"gridcolor\": \"white\", \"linecolor\": \"white\", \"ticks\": \"\"}, \"bgcolor\": \"#E5ECF6\", \"radialaxis\": {\"gridcolor\": \"white\", \"linecolor\": \"white\", \"ticks\": \"\"}}, \"scene\": {\"xaxis\": {\"backgroundcolor\": \"#E5ECF6\", \"gridcolor\": \"white\", \"gridwidth\": 2, \"linecolor\": \"white\", \"showbackground\": true, \"ticks\": \"\", \"zerolinecolor\": \"white\"}, \"yaxis\": {\"backgroundcolor\": \"#E5ECF6\", \"gridcolor\": \"white\", \"gridwidth\": 2, \"linecolor\": \"white\", \"showbackground\": true, \"ticks\": \"\", \"zerolinecolor\": \"white\"}, \"zaxis\": {\"backgroundcolor\": \"#E5ECF6\", \"gridcolor\": \"white\", \"gridwidth\": 2, \"linecolor\": \"white\", \"showbackground\": true, \"ticks\": \"\", \"zerolinecolor\": \"white\"}}, \"shapedefaults\": {\"line\": {\"color\": \"#2a3f5f\"}}, \"ternary\": {\"aaxis\": {\"gridcolor\": \"white\", \"linecolor\": \"white\", \"ticks\": \"\"}, \"baxis\": {\"gridcolor\": \"white\", \"linecolor\": \"white\", \"ticks\": \"\"}, \"bgcolor\": \"#E5ECF6\", \"caxis\": {\"gridcolor\": \"white\", \"linecolor\": \"white\", \"ticks\": \"\"}}, \"title\": {\"x\": 0.05}, \"xaxis\": {\"automargin\": true, \"gridcolor\": \"white\", \"linecolor\": \"white\", \"ticks\": \"\", \"title\": {\"standoff\": 15}, \"zerolinecolor\": \"white\", \"zerolinewidth\": 2}, \"yaxis\": {\"automargin\": true, \"gridcolor\": \"white\", \"linecolor\": \"white\", \"ticks\": \"\", \"title\": {\"standoff\": 15}, \"zerolinecolor\": \"white\", \"zerolinewidth\": 2}}}, \"title\": {\"text\": \"Model Type Counts Apple\"}},\n",
       "                        {\"responsive\": true}\n",
       "                    ).then(function(){\n",
       "                            \n",
       "var gd = document.getElementById('d1e641cb-bc14-4192-aa90-9adb8f741300');\n",
       "var x = new MutationObserver(function (mutations, observer) {{\n",
       "        var display = window.getComputedStyle(gd).display;\n",
       "        if (!display || display === 'none') {{\n",
       "            console.log([gd, 'removed!']);\n",
       "            Plotly.purge(gd);\n",
       "            observer.disconnect();\n",
       "        }}\n",
       "}});\n",
       "\n",
       "// Listen for the removal of the full notebook cells\n",
       "var notebookContainer = gd.closest('#notebook-container');\n",
       "if (notebookContainer) {{\n",
       "    x.observe(notebookContainer, {childList: true});\n",
       "}}\n",
       "\n",
       "// Listen for the clearing of the current output cell\n",
       "var outputEl = gd.closest('.output');\n",
       "if (outputEl) {{\n",
       "    x.observe(outputEl, {childList: true});\n",
       "}}\n",
       "\n",
       "                        })\n",
       "                };\n",
       "                });\n",
       "            </script>\n",
       "        </div>"
      ]
     },
     "metadata": {},
     "output_type": "display_data"
    }
   ],
   "source": [
    "Model = Apple_pd['Model'].value_counts()\n",
    "data = go.Bar(\n",
    "    x=Model.index,\n",
    "    y=Model.values,\n",
    "    marker={\n",
    "        'color':'rgba(65,33,180,120)'\n",
    "    }\n",
    ")\n",
    "\n",
    "layout = go.Layout(\n",
    "    title='Model Type Counts Apple',\n",
    ")\n",
    "\n",
    "fig = go.Figure(data=[data], layout=layout)\n",
    "\n",
    "py.iplot(fig)"
   ]
  }
 ],
 "metadata": {
  "kernelspec": {
   "display_name": "Python 3",
   "language": "python",
   "name": "python3"
  },
  "language_info": {
   "codemirror_mode": {
    "name": "ipython",
    "version": 3
   },
   "file_extension": ".py",
   "mimetype": "text/x-python",
   "name": "python",
   "nbconvert_exporter": "python",
   "pygments_lexer": "ipython3",
   "version": "3.7.4"
  }
 },
 "nbformat": 4,
 "nbformat_minor": 2
}

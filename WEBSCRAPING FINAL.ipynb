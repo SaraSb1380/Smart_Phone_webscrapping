{
 "cells": [
  {
   "cell_type": "code",
   "execution_count": 1,
   "metadata": {},
   "outputs": [],
   "source": [
    "# imports\n",
    "\n",
    "from bs4 import BeautifulSoup as soup # For HTML parsing\n",
    "import requests # Website connections\n",
    "from time import sleep # To prevent overwhelming the server between connections\n",
    "from collections import Counter # Keep track of our term counts\n",
    "import pandas as pd # For converting results to a dataframe and bar chart plots\n",
    "import json # For parsing json\n",
    "%matplotlib inline\n",
    "from urllib.request import urlopen as ureq\n",
    "import tqdm\n",
    "import re\n",
    "\n",
    "\n",
    "\n",
    "from selenium import webdriver\n",
    "from selenium.webdriver.common.keys import Keys\n",
    "\n",
    "\n",
    "\n",
    "from time import sleep"
   ]
  },
  {
   "cell_type": "code",
   "execution_count": 2,
   "metadata": {},
   "outputs": [],
   "source": [
    "# _____Webscrapping Sumsung phones\n",
    "\n",
    "file_name='Sumsung_phones_group_project_Final.csv'\n",
    "f=open(file_name,'w')\n",
    "headers=\"Brand,Model,Price(CAD),Price_save(CAD),Memory-Built-in(GB),Ram_size(GB),Display_resolution(pixels),Display_size(in),Colour,CPU,Front-Facing Camera Resolution(MP),Rear Camera Resolution(MP)  \\n\"\n",
    "f.write(headers)\n",
    "driver = webdriver.Chrome('C:\\\\Users\\\\AZ\\\\Desktop\\\\bootcamp\\\\Python\\\\webscraping\\\\chromedriver.exe')\n",
    "my_url = 'https://www.bestbuy.ca/en-ca/category/unlocked-samsung-phones/12535387'\n",
    "driver.get(my_url)"
   ]
  },
  {
   "cell_type": "code",
   "execution_count": null,
   "metadata": {},
   "outputs": [],
   "source": [
    "for i in range(24):\n",
    "    try:\n",
    "        element = driver.find_element_by_xpath(\"//*[@id='root']/div/div/div[2]/div[2]/a/div/button/span\")\n",
    "        sleep(2)\n",
    "        element.click()\n",
    "#       HTML parsing\n",
    "    except:\n",
    "        pass\n",
    "html=driver.page_source\n",
    "page_soup=soup(html,\"html.parser\")\n",
    "\n",
    "sumsung_phones= page_soup.findAll(\"div\", {\"class\":\"col-xs-12_1GBy8 col-sm-4_NwItf col-lg-3_2V2hX x-productListItem productLine_2N9kG\"})\n",
    "    \n",
    "    \n",
    "driver2 = webdriver.Chrome('C:\\\\Users\\\\AZ\\\\Desktop\\\\bootcamp\\\\Python\\\\webscraping\\\\chromedriver.exe')\n",
    "\n",
    "\n",
    "\n",
    "\n",
    "for phone in sumsung_phones[1:]:\n",
    "    \n",
    "  \n",
    "    sumsung_links= phone.div.a.get('href')\n",
    "    link='https://www.bestbuy.ca{}'.format(sumsung_links)\n",
    "    driver2.get(link)\n",
    "    html=driver2.page_source\n",
    "\n",
    "    sleep(2)  \n",
    "    link_soup=soup(html,\"html.parser\")\n",
    "    \n",
    "    try:\n",
    "        price_container=phone.findAll(\"div\", {\"class\":\"productPricingContainer_3gTS3\"})\n",
    "        price=price_container[0].span.div.text\n",
    "        price=price.replace(\",\",\"\")\n",
    "        price=price.replace(\"$\",\"\")\n",
    "    except:\n",
    "        price='no price'\n",
    "   \n",
    "     \n",
    "    try:\n",
    "        price_sale_container=phone.findAll(\"span\", {\"class\":\"productSaving_3YmNX undefined\"})\n",
    "        price_save=price_sale_container[0].text\n",
    "        price_save=price_save.replace(\",\",\"\")\n",
    "        price_save=price_save.replace(\"SAVE\",\"\")\n",
    "        price_save=price_save.replace(\"$\",\"\")\n",
    "        \n",
    "\n",
    "    except:\n",
    "        price_save = 'no sale'\n",
    "    \n",
    "    try:\n",
    "        product_name_container=link_soup.findAll(\"h1\",{\"class\":\"productName_19xJx\"})\n",
    "        product_name=product_name_container[0].text\n",
    "        product_name=product_name.replace(\",\" , \"/\")\n",
    "        brand=product_name.split(\" \",3)[0]\n",
    "        model=product_name.split(\" \",3)[1]+\" \" +product_name.split(\" \",3)[2]\n",
    "    except:\n",
    "        brand='no brand'\n",
    "        model='no model'\n",
    "\n",
    "    try:    \n",
    "        element3 = driver2.find_element_by_xpath(\"//*[@id='detailsAndSpecs']\")\n",
    "        element3.click()\n",
    "    except:\n",
    "        pass\n",
    "    sleep(2)\n",
    "    \n",
    "    html=driver2.page_source\n",
    "    link_soup=soup(html,\"html.parser\")\n",
    "   \n",
    "    try:\n",
    "        element4 = driver2.find_element_by_xpath(\"//*[@id='detailsAndSpecs']/div[1]/div[2]/button\")\n",
    "        element4.click()\n",
    "\n",
    "    except:\n",
    "        pass\n",
    "\n",
    "    sleep(2)\n",
    "    \n",
    "    html=driver2.page_source\n",
    "    link_soup=soup(html,\"html.parser\")\n",
    "\n",
    "    try:\n",
    "        price_container=phone.findAll(\"div\", {\"class\":\"productPricingContainer_3gTS3\"})\n",
    "        price=price_container[0].span.div.text\n",
    "        price=price.replace(\",\",\"\")\n",
    "        price=price.replace(\"$\",\"\")\n",
    "    except:\n",
    "        price='no price'\n",
    "   \n",
    "     \n",
    "    try:\n",
    "        price_sale_container=phone.findAll(\"span\", {\"class\":\"productSaving_3YmNX undefined\"})\n",
    "        price_save=price_sale_container[0].text\n",
    "        price_save=price_save.replace(\",\",\"\")\n",
    "        price_save=price_save.replace(\"SAVE\",\"\")\n",
    "        price_save=price_save.replace(\"$\",\"\")\n",
    "        \n",
    "\n",
    "    except:\n",
    "        price_save = 'no sale'\n",
    "    \n",
    "    try:\n",
    "        product_name_container=link_soup.findAll(\"h1\",{\"class\":\"productName_19xJx\"})\n",
    "        product_name=product_name_container[0].text\n",
    "        product_name=product_name.replace(\",\" , \"/\")\n",
    "        brand=product_name.split(\" \",3)[0]\n",
    "        model=product_name.split(\" \",3)[1]+\" \" +product_name.split(\" \",3)[2]\n",
    "    except:\n",
    "        brand='no brand'\n",
    "        model='no model'\n",
    "\n",
    "    try:    \n",
    "        element3 = driver2.find_element_by_xpath(\"//*[@id='detailsAndSpecs']\")\n",
    "        element3.click()\n",
    "    except:\n",
    "        pass\n",
    "\n",
    "    sleep(2)\n",
    "    \n",
    "    html=driver2.page_source\n",
    "    link_soup=soup(html,\"html.parser\")\n",
    "   \n",
    "    try:\n",
    "        element4 = driver2.find_element_by_xpath(\"//*[@id='detailsAndSpecs']/div[1]/div[2]/button\")\n",
    "        element4.click()\n",
    "\n",
    "    except:\n",
    "        pass\n",
    "\n",
    "    sleep(2)\n",
    "    \n",
    "    html=driver2.page_source\n",
    "    link_soup=soup(html,\"html.parser\")\n",
    "    \n",
    "    try:\n",
    "        item_container=link_soup.findAll(\"div\",{\"class\":\"itemContainer_RJI-h\"})\n",
    "    except:\n",
    "        pass\n",
    "\n",
    "\n",
    "# phone_container_model=driver2.find_element_by_xpath(\"//*[@id='detailsAndSpecs']/div[1]/div[2]\")\n",
    "\n",
    "\n",
    "    \n",
    "       \n",
    "    for tag in item_container:\n",
    "        try:             \n",
    "            #         \n",
    "            if list(tag.children)[0].text == 'Memory - Built-in':\n",
    "                mem = list(tag.children)[1].text\n",
    "                mem=mem.replace(\"GB\", \"\")\n",
    "                mem=mem.replace(\"gb\", \"\")\n",
    "                mem=mem.replace(\",\",\"\")\n",
    "                mem=mem.strip()\n",
    "        except:\n",
    "            pass\n",
    "        \n",
    "        try:            \n",
    "            if list(tag.children)[0].text == 'RAM Size':\n",
    "                ram_size = list(tag.children)[1].text\n",
    "                ram_size = ram_size.replace(\"GB\", \"\")\n",
    "                ram_size = ram_size.replace(\"gb\", \"\")\n",
    "                ram_size=ram_size.replace(\",\",\"\")\n",
    "                ram_size=ram_size.strip()\n",
    "        except:\n",
    "            pass\n",
    "        \n",
    "        try:\n",
    "           \n",
    "            if list(tag.children)[0].text == 'Display Resolution':\n",
    "                display_resolution = list(tag.children)[1].text\n",
    "                display_resolution=display_resolution.replace(\",\", \"\")\n",
    "                display_resolution=display_resolution.replace(\"pixels\",\"\")\n",
    "                display_resolution=display_resolution.lower().split(\"(\", 1)[0]\n",
    "                display_resolution=display_resolution.replace(\"wqhd+\", \"\")\n",
    "                display_resolution=display_resolution.replace(\"quad hd+\",\"\")\n",
    "                \n",
    "                display_resolution=display_resolution.strip()\n",
    "        except:\n",
    "            pass\n",
    "                \n",
    "        try:\n",
    "            if list(tag.children)[0].text == 'Display Size':\n",
    "                display_size = list(tag.children)[1].text\n",
    "                display_size = display_size.replace(\",\", \"\")\n",
    "                display_size=display_size.replace(\"in\", \"\")\n",
    "                display_size=display_size.replace(\"IN\",\"\")\n",
    "                display_size=display_size.strip()\n",
    "        except:\n",
    "            pass \n",
    "        \n",
    "        try:\n",
    "            if list(tag.children)[0].text == 'Colour':\n",
    "                colour = list(tag.children)[1].text\n",
    "                colour=colour.replace(\",\",\"\")\n",
    "        except:\n",
    "            pass\n",
    "        \n",
    "        try:\n",
    "            if list(tag.children)[0].text == 'CPU':\n",
    "                cpu_n = list(tag.children)[1].text\n",
    "                cpu_n =cpu_n.replace(\",\", \"\")\n",
    "        except:\n",
    "            pass\n",
    "        \n",
    "        try:\n",
    "            if list(tag.children)[0].text == 'Front-Facing Camera Resolution':\n",
    "                f_camera = list(tag.children)[1].text\n",
    "                f_camera=f_camera.replace(\",\", \"\")\n",
    "                f_camera=f_camera.lower().split(\"mp\", 1)[0]\n",
    "                f_camera=f_camera.lower().split(\"-\", 1)[0]\n",
    "                f_camera=f_camera.replace(\"-megapixel\", \"\")\n",
    "                f_camera=f_camera.strip()\n",
    "                \n",
    "                \n",
    "        except:\n",
    "            pass\n",
    "        try:\n",
    "            if list(tag.children)[0].text == 'Rear Camera Resolution':\n",
    "                r_camera = list(tag.children)[1].text\n",
    "                r_camera=r_camera.replace(\",\", \"\")\n",
    "                r_camera=r_camera.lower().split(\"mp\", 1)[0]\n",
    "                r_camera=r_camera.lower().split(\"-\", 1)[0]\n",
    "\n",
    "\n",
    "                r_camera=r_camera.replace(\"MP\",\"\")\n",
    "                r_camera=r_camera.replace(\"mp\", \"\")\n",
    "                r_camera=r_camera.replace(\"Wide-Angle & Telephoto Cameras\", \"\")\n",
    "                r_camera=r_camera.replace(\"super speed dual pixel \",\"\")\n",
    "                r_camera=r_camera.strip()\n",
    "                \n",
    "        except:\n",
    "            pass\n",
    "        \n",
    "        \n",
    "        \n",
    "        \n",
    "        \n",
    "        \n",
    "        \n",
    "#                 if list(tag.children)[0].text == 'CPU':\n",
    "#                      cpu_n = list(tag.children)[1].text\n",
    "                        \n",
    "                        \n",
    "                        \n",
    "        \n",
    "                \n",
    "#                 mdl='missing'\n",
    "#             wc='missing'\n",
    "#             mem='missing'\n",
    "#             ram_size='missing'\n",
    "#             display_resolution='missing'\n",
    "#             display_size='missing'\n",
    "#             colour='missing'\n",
    "#                 cpu_n='missing'\n",
    "\n",
    "\n",
    "#     print(\"Price:\", price)\n",
    "#     print(\"price_save:\", price_save)\n",
    "#     print(\"brand:\",brand)\n",
    "#     print(\"model:\", model)\n",
    "#     print(\"mem:\", mem)\n",
    "# #     print(\"display_resolution\",display_resolution)\n",
    "#     print(\"ram_size:\", ram_size)\n",
    "# #     print(\"cpu_n:\", cpu_n)\n",
    "#     print(\"front camera: \",f_camera)\n",
    "#     print(\"rear camera: \", r_camera)\n",
    "    f.write(brand + \",\" + model + \",\" + price + \",\" + price_save + \",\" + mem + \",\" + ram_size + \",\" + display_resolution + \",\" + display_size + \",\" + colour + \",\" + cpu_n + \",\"  + f_camera + \",\" + r_camera + \"\\n\")\n",
    "\n",
    "\n",
    "f.close()\n",
    "   \n",
    "\n",
    "\n",
    "\n"
   ]
  },
  {
   "cell_type": "code",
   "execution_count": 7,
   "metadata": {},
   "outputs": [],
   "source": [
    "# WEBSCRAPING APPLE PHONES\n",
    "file_name='Apple_phones_group_Final2.csv'\n",
    "f=open(file_name,'w')\n",
    "headers=\"Brand,Model,Price(CAD),Price_save(CAD),Memory-Built-in(GB),Ram_size(GB),Display_resolution(pixels),Display_size(in),Colour,CPU,Front-Facing Camera Resolution(MP),Rear Camera Resolution(MP)  \\n\"\n",
    "f.write(headers)\n",
    "driver = webdriver.Chrome('C:\\\\Users\\\\AZ\\\\Desktop\\\\bootcamp\\\\Python\\\\webscraping\\\\chromedriver.exe')\n",
    "my_url = 'https://www.bestbuy.ca/en-ca/category/unlocked-iphones/743358'\n",
    "driver.get(my_url)"
   ]
  },
  {
   "cell_type": "code",
   "execution_count": null,
   "metadata": {},
   "outputs": [],
   "source": [
    "for i in range(1100):\n",
    "    try:\n",
    "        element = driver.find_element_by_xpath(\"//*[@id='root']/div/div/div[2]/div[2]/a/div/button/span\")\n",
    "        sleep(3)\n",
    "        element.click()\n",
    "#       HTML parsing\n",
    "    except:\n",
    "        pass\n",
    "    \n",
    "\n",
    "html=driver.page_source\n",
    "page_soup=soup(html,\"html.parser\")\n",
    "\n",
    "apple_phones= page_soup.findAll(\"div\", {\"class\":\"col-xs-12_1GBy8 col-sm-4_NwItf col-lg-3_2V2hX x-productListItem productLine_2N9kG\"})\n",
    "    \n",
    "    \n",
    "driver2 = webdriver.Chrome('C:\\\\Users\\\\AZ\\\\Desktop\\\\bootcamp\\\\Python\\\\webscraping\\\\chromedriver.exe')\n",
    "\n",
    "\n",
    "\n",
    "\n",
    "for phone in apple_phones[1:]:\n",
    "    \n",
    "  \n",
    "    apple_links= phone.div.a.get('href')\n",
    "    link='https://www.bestbuy.ca{}'.format(apple_links)\n",
    "    driver2.get(link)\n",
    "    html=driver2.page_source\n",
    "\n",
    "    sleep(3)  \n",
    "    link_soup=soup(html,\"html.parser\")\n",
    "    \n",
    "    try:\n",
    "        price_container=phone.findAll(\"div\", {\"class\":\"productPricingContainer_3gTS3\"})\n",
    "        price=price_container[0].span.div.text\n",
    "        price=price.replace(\",\",\"\")\n",
    "        price=price.replace(\"$\",\"\")\n",
    "    except:\n",
    "        price='no price'\n",
    "   \n",
    "     \n",
    "    try:\n",
    "        price_sale_container=phone.findAll(\"span\", {\"class\":\"productSaving_3YmNX undefined\"})\n",
    "        price_save=price_sale_container[0].text\n",
    "        price_save=price_save.replace(\",\",\"\")\n",
    "        price_save=price_save.replace(\"SAVE\",\"\")\n",
    "        price_save=price_save.replace(\"$\",\"\")\n",
    "        \n",
    "\n",
    "    except:\n",
    "        price_save = 'no sale'\n",
    "    \n",
    "    try:\n",
    "        product_name_container=link_soup.findAll(\"h1\",{\"class\":\"productName_19xJx\"})\n",
    "        product_name=product_name_container[0].text\n",
    "        product_name=product_name.replace(\",\" , \"/\")\n",
    "        brand=product_name.split(\" \",3)[0]\n",
    "        model=product_name.split(\" \",3)[1]+\" \" +product_name.split(\" \",3)[2]\n",
    "    except:\n",
    "        brand='no brand'\n",
    "        model='no model'\n",
    "\n",
    "    try:    \n",
    "        element3 = driver2.find_element_by_xpath(\"//*[@id='detailsAndSpecs']\")\n",
    "        element3.click()\n",
    "    except:\n",
    "        pass\n",
    "\n",
    "    sleep(5)\n",
    "    \n",
    "    html=driver2.page_source\n",
    "    link_soup=soup(html,\"html.parser\")\n",
    "   \n",
    "    try:\n",
    "        element4 = driver2.find_element_by_xpath(\"//*[@id='detailsAndSpecs']/div[1]/div[2]/button\")\n",
    "        element4.click()\n",
    "\n",
    "    except:\n",
    "        pass\n",
    "\n",
    "    sleep(5)\n",
    "    \n",
    "    html=driver2.page_source\n",
    "    link_soup=soup(html,\"html.parser\")\n",
    "    \n",
    "    try:\n",
    "        item_container=link_soup.findAll(\"div\",{\"class\":\"itemContainer_RJI-h\"})\n",
    "    except:\n",
    "        pass\n",
    "\n",
    "\n",
    "# phone_container_model=driver2.find_element_by_xpath(\"//*[@id='detailsAndSpecs']/div[1]/div[2]\")\n",
    "\n",
    "\n",
    "    \n",
    "       \n",
    "    for tag in item_container:\n",
    "        try:             \n",
    "            #         \n",
    "            if list(tag.children)[0].text == 'Memory - Built-in':\n",
    "                mem = list(tag.children)[1].text\n",
    "                mem=mem.replace(\"GB\", \"\")\n",
    "                mem=mem.replace(\"gb\", \"\")\n",
    "                mem=mem.replace(\",\",\"\")\n",
    "                mem=mem.strip()\n",
    "        except:\n",
    "            pass\n",
    "        \n",
    "        try:            \n",
    "            if list(tag.children)[0].text == 'RAM Size':\n",
    "                ram_size = list(tag.children)[1].text\n",
    "                ram_size = ram_size.replace(\"GB\", \"\")\n",
    "                ram_size = ram_size.replace(\"gb\", \"\")\n",
    "                ram_size=ram_size.replace(\",\",\"\")\n",
    "                ram_size=ram_size.strip()\n",
    "        except:\n",
    "            pass\n",
    "        \n",
    "        try:\n",
    "           \n",
    "            if list(tag.children)[0].text == 'Display Resolution':\n",
    "                display_resolution = list(tag.children)[1].text\n",
    "                display_resolution=display_resolution.replace(\",\", \"\")\n",
    "                display_resolution=display_resolution.replace(\"pixels\",\"\")\n",
    "                display_resolution=display_resolution.lower().split(\"(\", 1)[0]\n",
    "                display_resolution=display_resolution.strip()\n",
    "        except:\n",
    "            pass\n",
    "                \n",
    "        try:\n",
    "            if list(tag.children)[0].text == 'Display Size':\n",
    "                display_size = list(tag.children)[1].text\n",
    "                display_size = display_size.replace(\",\", \"\")\n",
    "                display_size=display_size.replace(\"in\", \"\")\n",
    "                display_size=display_size.replace(\"IN\",\"\")\n",
    "                display_size=display_size.strip()\n",
    "        except:\n",
    "            pass \n",
    "        \n",
    "        try:\n",
    "            if list(tag.children)[0].text == 'Colour':\n",
    "                colour = list(tag.children)[1].text\n",
    "                colour=colour.replace(\",\",\"\")\n",
    "        except:\n",
    "            pass\n",
    "        \n",
    "        try:\n",
    "            if list(tag.children)[0].text == 'CPU':\n",
    "                cpu_n = list(tag.children)[1].text\n",
    "                cpu_n =cpu_n.replace(\",\", \"\")\n",
    "        except:\n",
    "            pass\n",
    "        \n",
    "        try:\n",
    "            if list(tag.children)[0].text == 'Front-Facing Camera Resolution':\n",
    "                f_camera = list(tag.children)[1].text\n",
    "                f_camera=f_camera.replace(\",\", \"\")\n",
    "                f_camera=f_camera.lower().split(\"mp\", 1)[0]\n",
    "                f_camera=f_camera.lower().split(\"-\", 1)[0]\n",
    "                f_camera=f_camera.replace(\"-megapixel\", \"\")\n",
    "                f_camera=f_camera.strip()\n",
    "                \n",
    "                \n",
    "        except:\n",
    "            pass\n",
    "        try:\n",
    "            if list(tag.children)[0].text == 'Rear Camera Resolution':\n",
    "                r_camera = list(tag.children)[1].text\n",
    "                r_camera=r_camera.replace(\",\", \"\")\n",
    "                r_camera=r_camera.lower().split(\"mp\", 1)[0]\n",
    "                r_camera=r_camera.lower().split(\"-\", 1)[0]\n",
    "\n",
    "\n",
    "                r_camera=r_camera.replace(\"MP\",\"\")\n",
    "                r_camera=r_camera.replace(\"mp\", \"\")\n",
    "                r_camera=r_camera.replace(\"Wide-Angle & Telephoto Cameras\", \"\")\n",
    "                r_camera=r_camera.replace(\"3 x \",\"\")\n",
    "                r_camera=r_camera.strip()\n",
    "                \n",
    "        except:\n",
    "            pass\n",
    "        \n",
    "        \n",
    "        \n",
    "        \n",
    "        \n",
    "        \n",
    "#                 if list(tag.children)[0].text == 'CPU':\n",
    "#                      cpu_n = list(tag.children)[1].text\n",
    "                        \n",
    "                        \n",
    "                        \n",
    "        \n",
    "                \n",
    "#                 mdl='missing'\n",
    "#             wc='missing'\n",
    "#             mem='missing'\n",
    "#             ram_size='missing'\n",
    "#             display_resolution='missing'\n",
    "#             display_size='missing'\n",
    "#             colour='missing'\n",
    "#                 cpu_n='missing'\n",
    "\n",
    "    f.write(brand + \",\" + model + \",\" + price + \",\" + price_save + \",\" + mem + \",\" + ram_size + \",\" + display_resolution + \",\" + display_size + \",\" + colour + \",\" + cpu_n + \",\"  + f_camera + \",\" + r_camera + \"\\n\")\n",
    "\n",
    "f.close()\n",
    "   \n",
    "\n"
   ]
  },
  {
   "cell_type": "markdown",
   "metadata": {},
   "source": [
    "# Visualization"
   ]
  },
  {
   "cell_type": "code",
   "execution_count": 2,
   "metadata": {
    "scrolled": true
   },
   "outputs": [
    {
     "data": {
      "text/html": [
       "        <script type=\"text/javascript\">\n",
       "        window.PlotlyConfig = {MathJaxConfig: 'local'};\n",
       "        if (window.MathJax) {MathJax.Hub.Config({SVG: {font: \"STIX-Web\"}});}\n",
       "        if (typeof require !== 'undefined') {\n",
       "        require.undef(\"plotly\");\n",
       "        requirejs.config({\n",
       "            paths: {\n",
       "                'plotly': ['https://cdn.plot.ly/plotly-latest.min']\n",
       "            }\n",
       "        });\n",
       "        require(['plotly'], function(Plotly) {\n",
       "            window._Plotly = Plotly;\n",
       "        });\n",
       "        }\n",
       "        </script>\n",
       "        "
      ]
     },
     "metadata": {},
     "output_type": "display_data"
    }
   ],
   "source": [
    "import pandas as pd\n",
    "import numpy as np\n",
    "import random \n",
    "\n",
    "import matplotlib.pyplot as plt\n",
    "%matplotlib inline\n",
    "import plotly.offline as py\n",
    "import plotly.graph_objs as go \n",
    "import plotly.express as px\n",
    "\n",
    "\n",
    "py.init_notebook_mode(connected=True)\n"
   ]
  },
  {
   "cell_type": "code",
   "execution_count": 43,
   "metadata": {
    "scrolled": false
   },
   "outputs": [
    {
     "data": {
      "text/html": [
       "<div>\n",
       "<style scoped>\n",
       "    .dataframe tbody tr th:only-of-type {\n",
       "        vertical-align: middle;\n",
       "    }\n",
       "\n",
       "    .dataframe tbody tr th {\n",
       "        vertical-align: top;\n",
       "    }\n",
       "\n",
       "    .dataframe thead th {\n",
       "        text-align: right;\n",
       "    }\n",
       "</style>\n",
       "<table border=\"1\" class=\"dataframe\">\n",
       "  <thead>\n",
       "    <tr style=\"text-align: right;\">\n",
       "      <th></th>\n",
       "      <th>Brand</th>\n",
       "      <th>Model</th>\n",
       "      <th>Price(CAD)</th>\n",
       "      <th>Price_save(CAD)</th>\n",
       "      <th>Memory-Built-in(GB)</th>\n",
       "      <th>Ram_size(GB)</th>\n",
       "      <th>Display_resolution(pixels)</th>\n",
       "      <th>Display_size(in)</th>\n",
       "      <th>Colour</th>\n",
       "      <th>CPU</th>\n",
       "      <th>Front-Facing Camera Resolution(MP)</th>\n",
       "      <th>Rear Camera Resolution(MP)</th>\n",
       "    </tr>\n",
       "  </thead>\n",
       "  <tbody>\n",
       "    <tr>\n",
       "      <th>0</th>\n",
       "      <td>SAMSUNG</td>\n",
       "      <td>Galaxy A10e</td>\n",
       "      <td>179.99</td>\n",
       "      <td>20</td>\n",
       "      <td>32</td>\n",
       "      <td>2</td>\n",
       "      <td>720 x 1560</td>\n",
       "      <td>5.8</td>\n",
       "      <td>Black</td>\n",
       "      <td>Octa-core Snapdragon 855</td>\n",
       "      <td>5</td>\n",
       "      <td>8</td>\n",
       "    </tr>\n",
       "    <tr>\n",
       "      <th>1</th>\n",
       "      <td>SAMSUNG</td>\n",
       "      <td>Galaxy S20</td>\n",
       "      <td>1849.99</td>\n",
       "      <td>no sale</td>\n",
       "      <td>128</td>\n",
       "      <td>2</td>\n",
       "      <td>720 x 1560</td>\n",
       "      <td>5.8</td>\n",
       "      <td>Black</td>\n",
       "      <td>Octa-core Snapdragon 865</td>\n",
       "      <td>5</td>\n",
       "      <td>8</td>\n",
       "    </tr>\n",
       "    <tr>\n",
       "      <th>2</th>\n",
       "      <td>SAMSUNG</td>\n",
       "      <td>Galaxy S20</td>\n",
       "      <td>1319.99</td>\n",
       "      <td>no sale</td>\n",
       "      <td>128</td>\n",
       "      <td>2</td>\n",
       "      <td>720 x 1560</td>\n",
       "      <td>5.8</td>\n",
       "      <td>Black</td>\n",
       "      <td>Octa-core Snapdragon 865</td>\n",
       "      <td>5</td>\n",
       "      <td>8</td>\n",
       "    </tr>\n",
       "    <tr>\n",
       "      <th>3</th>\n",
       "      <td>SAMSUNG</td>\n",
       "      <td>Galaxy S20</td>\n",
       "      <td>1319.99</td>\n",
       "      <td>no sale</td>\n",
       "      <td>128</td>\n",
       "      <td>2</td>\n",
       "      <td>720 x 1560</td>\n",
       "      <td>5.8</td>\n",
       "      <td>Black</td>\n",
       "      <td>Octa-core Snapdragon 865</td>\n",
       "      <td>5</td>\n",
       "      <td>8</td>\n",
       "    </tr>\n",
       "    <tr>\n",
       "      <th>4</th>\n",
       "      <td>SAMSUNG</td>\n",
       "      <td>Galaxy S20</td>\n",
       "      <td>2109.99</td>\n",
       "      <td>no sale</td>\n",
       "      <td>512</td>\n",
       "      <td>2</td>\n",
       "      <td>720 x 1560</td>\n",
       "      <td>5.8</td>\n",
       "      <td>Black</td>\n",
       "      <td>Octa-core Snapdragon 865</td>\n",
       "      <td>5</td>\n",
       "      <td>8</td>\n",
       "    </tr>\n",
       "    <tr>\n",
       "      <th>...</th>\n",
       "      <td>...</td>\n",
       "      <td>...</td>\n",
       "      <td>...</td>\n",
       "      <td>...</td>\n",
       "      <td>...</td>\n",
       "      <td>...</td>\n",
       "      <td>...</td>\n",
       "      <td>...</td>\n",
       "      <td>...</td>\n",
       "      <td>...</td>\n",
       "      <td>...</td>\n",
       "      <td>...</td>\n",
       "    </tr>\n",
       "    <tr>\n",
       "      <th>528</th>\n",
       "      <td>SAMSUNG</td>\n",
       "      <td>Galaxy S9</td>\n",
       "      <td>399.00</td>\n",
       "      <td>300</td>\n",
       "      <td>64</td>\n",
       "      <td>4</td>\n",
       "      <td>samoled</td>\n",
       "      <td>5.8</td>\n",
       "      <td>Titanium Grey</td>\n",
       "      <td>Qualcomm MSM8998 Snapdragon 845</td>\n",
       "      <td>8</td>\n",
       "      <td>12</td>\n",
       "    </tr>\n",
       "    <tr>\n",
       "      <th>529</th>\n",
       "      <td>SAMSUNG</td>\n",
       "      <td>GALAXY S8</td>\n",
       "      <td>399.00</td>\n",
       "      <td>no sale</td>\n",
       "      <td>64</td>\n",
       "      <td>4</td>\n",
       "      <td>samoled</td>\n",
       "      <td>5.8</td>\n",
       "      <td>Titanium Grey</td>\n",
       "      <td>Qualcomm MSM8998 Snapdragon 845</td>\n",
       "      <td>8</td>\n",
       "      <td>12</td>\n",
       "    </tr>\n",
       "    <tr>\n",
       "      <th>530</th>\n",
       "      <td>SAMSUNG</td>\n",
       "      <td>Galaxy S9+</td>\n",
       "      <td>449.99</td>\n",
       "      <td>250</td>\n",
       "      <td>64</td>\n",
       "      <td>6</td>\n",
       "      <td>samoled</td>\n",
       "      <td>6.2</td>\n",
       "      <td>Midnight Black</td>\n",
       "      <td>Qualcomm MSM8998 Snapdragon 845</td>\n",
       "      <td>8</td>\n",
       "      <td>12</td>\n",
       "    </tr>\n",
       "    <tr>\n",
       "      <th>531</th>\n",
       "      <td>SAMSUNG</td>\n",
       "      <td>Galaxy J3</td>\n",
       "      <td>129.99</td>\n",
       "      <td>69</td>\n",
       "      <td>16</td>\n",
       "      <td>6</td>\n",
       "      <td>samoled</td>\n",
       "      <td>6.2</td>\n",
       "      <td>Midnight Black</td>\n",
       "      <td>1.4GHz</td>\n",
       "      <td>8</td>\n",
       "      <td>8</td>\n",
       "    </tr>\n",
       "    <tr>\n",
       "      <th>532</th>\n",
       "      <td>SAMSUNG</td>\n",
       "      <td>Galaxy S10e</td>\n",
       "      <td>789.99</td>\n",
       "      <td>no sale</td>\n",
       "      <td>128</td>\n",
       "      <td>6</td>\n",
       "      <td>2280 x 1080 full hd+</td>\n",
       "      <td>5.8</td>\n",
       "      <td>Midnight Black</td>\n",
       "      <td>Octa-core Snapdragon 855</td>\n",
       "      <td>10</td>\n",
       "      <td>16</td>\n",
       "    </tr>\n",
       "  </tbody>\n",
       "</table>\n",
       "<p>533 rows × 12 columns</p>\n",
       "</div>"
      ],
      "text/plain": [
       "       Brand        Model  Price(CAD) Price_save(CAD) Memory-Built-in(GB)  \\\n",
       "0    SAMSUNG  Galaxy A10e      179.99              20                  32   \n",
       "1    SAMSUNG   Galaxy S20     1849.99         no sale                 128   \n",
       "2    SAMSUNG   Galaxy S20     1319.99         no sale                 128   \n",
       "3    SAMSUNG   Galaxy S20     1319.99         no sale                 128   \n",
       "4    SAMSUNG   Galaxy S20     2109.99         no sale                 512   \n",
       "..       ...          ...         ...             ...                 ...   \n",
       "528  SAMSUNG    Galaxy S9      399.00             300                  64   \n",
       "529  SAMSUNG    GALAXY S8      399.00         no sale                  64   \n",
       "530  SAMSUNG   Galaxy S9+      449.99             250                  64   \n",
       "531  SAMSUNG    Galaxy J3      129.99              69                  16   \n",
       "532  SAMSUNG  Galaxy S10e      789.99         no sale                 128   \n",
       "\n",
       "    Ram_size(GB) Display_resolution(pixels)  Display_size(in)          Colour  \\\n",
       "0              2                 720 x 1560               5.8           Black   \n",
       "1              2                 720 x 1560               5.8           Black   \n",
       "2              2                 720 x 1560               5.8           Black   \n",
       "3              2                 720 x 1560               5.8           Black   \n",
       "4              2                 720 x 1560               5.8           Black   \n",
       "..           ...                        ...               ...             ...   \n",
       "528            4                    samoled               5.8   Titanium Grey   \n",
       "529            4                    samoled               5.8   Titanium Grey   \n",
       "530            6                    samoled               6.2  Midnight Black   \n",
       "531            6                    samoled               6.2  Midnight Black   \n",
       "532            6       2280 x 1080 full hd+               5.8  Midnight Black   \n",
       "\n",
       "                                 CPU Front-Facing Camera Resolution(MP)  \\\n",
       "0           Octa-core Snapdragon 855                                  5   \n",
       "1           Octa-core Snapdragon 865                                  5   \n",
       "2           Octa-core Snapdragon 865                                  5   \n",
       "3           Octa-core Snapdragon 865                                  5   \n",
       "4           Octa-core Snapdragon 865                                  5   \n",
       "..                               ...                                ...   \n",
       "528  Qualcomm MSM8998 Snapdragon 845                                  8   \n",
       "529  Qualcomm MSM8998 Snapdragon 845                                  8   \n",
       "530  Qualcomm MSM8998 Snapdragon 845                                  8   \n",
       "531                           1.4GHz                                  8   \n",
       "532         Octa-core Snapdragon 855                                 10   \n",
       "\n",
       "    Rear Camera Resolution(MP)    \n",
       "0                              8  \n",
       "1                              8  \n",
       "2                              8  \n",
       "3                              8  \n",
       "4                              8  \n",
       "..                           ...  \n",
       "528                           12  \n",
       "529                           12  \n",
       "530                           12  \n",
       "531                            8  \n",
       "532                           16  \n",
       "\n",
       "[533 rows x 12 columns]"
      ]
     },
     "execution_count": 43,
     "metadata": {},
     "output_type": "execute_result"
    }
   ],
   "source": [
    "Samsung_pd = pd.read_csv('C:/Users/mehdi/Downloads/Sumsung_phones_group_project_Database.csv',sep=\",\",index_col=False)\n",
    "Samsung_pd.head(5)\n",
    "Samsung_pd['Brand']=[t.upper() for t in Samsung_pd['Brand']]\n",
    "Samsung_pd\n"
   ]
  },
  {
   "cell_type": "code",
   "execution_count": 44,
   "metadata": {
    "scrolled": false
   },
   "outputs": [
    {
     "data": {
      "text/html": [
       "<div>\n",
       "<style scoped>\n",
       "    .dataframe tbody tr th:only-of-type {\n",
       "        vertical-align: middle;\n",
       "    }\n",
       "\n",
       "    .dataframe tbody tr th {\n",
       "        vertical-align: top;\n",
       "    }\n",
       "\n",
       "    .dataframe thead th {\n",
       "        text-align: right;\n",
       "    }\n",
       "</style>\n",
       "<table border=\"1\" class=\"dataframe\">\n",
       "  <thead>\n",
       "    <tr style=\"text-align: right;\">\n",
       "      <th></th>\n",
       "      <th>Brand</th>\n",
       "      <th>Model</th>\n",
       "      <th>Price(CAD)</th>\n",
       "      <th>Price_save(CAD)</th>\n",
       "      <th>Memory-Built-in(GB)</th>\n",
       "      <th>Ram_size(GB)</th>\n",
       "      <th>Display_resolution(pixels)</th>\n",
       "      <th>Display_size(in)</th>\n",
       "      <th>Colour</th>\n",
       "      <th>CPU</th>\n",
       "      <th>Front-Facing Camera Resolution(MP)</th>\n",
       "      <th>Rear Camera Resolution(MP)</th>\n",
       "    </tr>\n",
       "  </thead>\n",
       "  <tbody>\n",
       "    <tr>\n",
       "      <th>0</th>\n",
       "      <td>APPLE</td>\n",
       "      <td>iPhone 7</td>\n",
       "      <td>223.40</td>\n",
       "      <td>270</td>\n",
       "      <td>32</td>\n",
       "      <td>2</td>\n",
       "      <td>750 x 1334</td>\n",
       "      <td>4.7</td>\n",
       "      <td>Black</td>\n",
       "      <td>Apple A10 Fusion</td>\n",
       "      <td>7</td>\n",
       "      <td>12</td>\n",
       "    </tr>\n",
       "    <tr>\n",
       "      <th>1</th>\n",
       "      <td>APPLE</td>\n",
       "      <td>iPhone 8</td>\n",
       "      <td>354.10</td>\n",
       "      <td>245</td>\n",
       "      <td>64</td>\n",
       "      <td>2</td>\n",
       "      <td>1334 x 750</td>\n",
       "      <td>4.7</td>\n",
       "      <td>Grey</td>\n",
       "      <td>Apple A11 Bionic</td>\n",
       "      <td>7</td>\n",
       "      <td>12</td>\n",
       "    </tr>\n",
       "    <tr>\n",
       "      <th>2</th>\n",
       "      <td>APPLE</td>\n",
       "      <td>iPhone XR</td>\n",
       "      <td>598.99</td>\n",
       "      <td>101</td>\n",
       "      <td>64</td>\n",
       "      <td>3</td>\n",
       "      <td>1792 x 828</td>\n",
       "      <td>6.1</td>\n",
       "      <td>Black</td>\n",
       "      <td>Apple A12 Bionic</td>\n",
       "      <td>7</td>\n",
       "      <td>12</td>\n",
       "    </tr>\n",
       "    <tr>\n",
       "      <th>3</th>\n",
       "      <td>APPLE</td>\n",
       "      <td>iPhone 11</td>\n",
       "      <td>979.99</td>\n",
       "      <td>no sale</td>\n",
       "      <td>64</td>\n",
       "      <td>3</td>\n",
       "      <td>1792 x 828</td>\n",
       "      <td>6.1</td>\n",
       "      <td>Black</td>\n",
       "      <td>A13 Bionic Chip</td>\n",
       "      <td>7</td>\n",
       "      <td>12</td>\n",
       "    </tr>\n",
       "    <tr>\n",
       "      <th>4</th>\n",
       "      <td>APPLE</td>\n",
       "      <td>iPhone X</td>\n",
       "      <td>624.99</td>\n",
       "      <td>575</td>\n",
       "      <td>256</td>\n",
       "      <td>3</td>\n",
       "      <td>2436 x 1125</td>\n",
       "      <td>5.8</td>\n",
       "      <td>Silver</td>\n",
       "      <td>Apple A11 Bionic</td>\n",
       "      <td>7</td>\n",
       "      <td>12</td>\n",
       "    </tr>\n",
       "    <tr>\n",
       "      <th>...</th>\n",
       "      <td>...</td>\n",
       "      <td>...</td>\n",
       "      <td>...</td>\n",
       "      <td>...</td>\n",
       "      <td>...</td>\n",
       "      <td>...</td>\n",
       "      <td>...</td>\n",
       "      <td>...</td>\n",
       "      <td>...</td>\n",
       "      <td>...</td>\n",
       "      <td>...</td>\n",
       "      <td>...</td>\n",
       "    </tr>\n",
       "    <tr>\n",
       "      <th>983</th>\n",
       "      <td>APPLE</td>\n",
       "      <td>iPhone XR</td>\n",
       "      <td>719.78</td>\n",
       "      <td>39</td>\n",
       "      <td>128</td>\n",
       "      <td>3</td>\n",
       "      <td>1792 x 828</td>\n",
       "      <td>6.1</td>\n",
       "      <td>Blue</td>\n",
       "      <td>Apple A12 Bionic</td>\n",
       "      <td>7</td>\n",
       "      <td>12</td>\n",
       "    </tr>\n",
       "    <tr>\n",
       "      <th>984</th>\n",
       "      <td>APPLE</td>\n",
       "      <td>iPhone X</td>\n",
       "      <td>825.00</td>\n",
       "      <td>704</td>\n",
       "      <td>256</td>\n",
       "      <td>3</td>\n",
       "      <td>2436 x 1125</td>\n",
       "      <td>5.8</td>\n",
       "      <td>Silver</td>\n",
       "      <td>Apple A11 Bionic</td>\n",
       "      <td>7</td>\n",
       "      <td>12</td>\n",
       "    </tr>\n",
       "    <tr>\n",
       "      <th>985</th>\n",
       "      <td>APPLE</td>\n",
       "      <td>iPhone 6s</td>\n",
       "      <td>371.00</td>\n",
       "      <td>6</td>\n",
       "      <td>256</td>\n",
       "      <td>2</td>\n",
       "      <td>1920 x 1080</td>\n",
       "      <td>5.5</td>\n",
       "      <td>Rose Gold</td>\n",
       "      <td>Dual-core 1.84 GHz Twister</td>\n",
       "      <td>5</td>\n",
       "      <td>12</td>\n",
       "    </tr>\n",
       "    <tr>\n",
       "      <th>986</th>\n",
       "      <td>APPLE</td>\n",
       "      <td>iPhone 6</td>\n",
       "      <td>194.00</td>\n",
       "      <td>105</td>\n",
       "      <td>256</td>\n",
       "      <td>2</td>\n",
       "      <td>1920 x 1080</td>\n",
       "      <td>5.5</td>\n",
       "      <td>Rose Gold</td>\n",
       "      <td>Dual-core 1.84 GHz Twister</td>\n",
       "      <td>5</td>\n",
       "      <td>12</td>\n",
       "    </tr>\n",
       "    <tr>\n",
       "      <th>987</th>\n",
       "      <td>APPLE</td>\n",
       "      <td>iPhone XS</td>\n",
       "      <td>859.99</td>\n",
       "      <td>460</td>\n",
       "      <td>64</td>\n",
       "      <td>4</td>\n",
       "      <td>2688 x 1242</td>\n",
       "      <td>6.5</td>\n",
       "      <td>Gold</td>\n",
       "      <td>Apple A12 Bionic</td>\n",
       "      <td>7</td>\n",
       "      <td>dual 12</td>\n",
       "    </tr>\n",
       "  </tbody>\n",
       "</table>\n",
       "<p>988 rows × 12 columns</p>\n",
       "</div>"
      ],
      "text/plain": [
       "     Brand      Model  Price(CAD) Price_save(CAD) Memory-Built-in(GB)  \\\n",
       "0    APPLE   iPhone 7      223.40             270                  32   \n",
       "1    APPLE   iPhone 8      354.10             245                  64   \n",
       "2    APPLE  iPhone XR      598.99             101                  64   \n",
       "3    APPLE  iPhone 11      979.99         no sale                  64   \n",
       "4    APPLE   iPhone X      624.99             575                 256   \n",
       "..     ...        ...         ...             ...                 ...   \n",
       "983  APPLE  iPhone XR      719.78              39                 128   \n",
       "984  APPLE   iPhone X      825.00             704                 256   \n",
       "985  APPLE  iPhone 6s      371.00               6                 256   \n",
       "986  APPLE   iPhone 6      194.00             105                 256   \n",
       "987  APPLE  iPhone XS      859.99             460                  64   \n",
       "\n",
       "     Ram_size(GB) Display_resolution(pixels)  Display_size(in)     Colour  \\\n",
       "0               2                 750 x 1334               4.7      Black   \n",
       "1               2                 1334 x 750               4.7       Grey   \n",
       "2               3                 1792 x 828               6.1      Black   \n",
       "3               3                 1792 x 828               6.1      Black   \n",
       "4               3                2436 x 1125               5.8     Silver   \n",
       "..            ...                        ...               ...        ...   \n",
       "983             3                 1792 x 828               6.1       Blue   \n",
       "984             3                2436 x 1125               5.8     Silver   \n",
       "985             2                1920 x 1080               5.5  Rose Gold   \n",
       "986             2                1920 x 1080               5.5  Rose Gold   \n",
       "987             4                2688 x 1242               6.5       Gold   \n",
       "\n",
       "                            CPU Front-Facing Camera Resolution(MP)  \\\n",
       "0              Apple A10 Fusion                                  7   \n",
       "1              Apple A11 Bionic                                  7   \n",
       "2              Apple A12 Bionic                                  7   \n",
       "3               A13 Bionic Chip                                  7   \n",
       "4              Apple A11 Bionic                                  7   \n",
       "..                          ...                                ...   \n",
       "983            Apple A12 Bionic                                  7   \n",
       "984            Apple A11 Bionic                                  7   \n",
       "985  Dual-core 1.84 GHz Twister                                  5   \n",
       "986  Dual-core 1.84 GHz Twister                                  5   \n",
       "987            Apple A12 Bionic                                  7   \n",
       "\n",
       "    Rear Camera Resolution(MP)    \n",
       "0                             12  \n",
       "1                             12  \n",
       "2                             12  \n",
       "3                             12  \n",
       "4                             12  \n",
       "..                           ...  \n",
       "983                           12  \n",
       "984                           12  \n",
       "985                           12  \n",
       "986                           12  \n",
       "987                      dual 12  \n",
       "\n",
       "[988 rows x 12 columns]"
      ]
     },
     "execution_count": 44,
     "metadata": {},
     "output_type": "execute_result"
    }
   ],
   "source": [
    "Apple_pd = pd.read_csv('C:/Users/mehdi/Downloads/Apple_phones_group_Final2.csv',sep=\",\",index_col=False, encoding='latin-1')\n",
    "Apple_pd.head(5)\n",
    "Apple_pd['Brand']=[t.upper() for t in Apple_pd['Brand']]\n",
    "Apple_pd\n",
    "\n"
   ]
  },
  {
   "cell_type": "code",
   "execution_count": null,
   "metadata": {},
   "outputs": [],
   "source": [
    "x=Apple_pd.groupby('Model').count()\n",
    "x\n",
    "x.plot(kind='bar');\n",
    "\n"
   ]
  },
  {
   "cell_type": "code",
   "execution_count": 45,
   "metadata": {},
   "outputs": [
    {
     "data": {
      "text/html": [
       "<div>\n",
       "<style scoped>\n",
       "    .dataframe tbody tr th:only-of-type {\n",
       "        vertical-align: middle;\n",
       "    }\n",
       "\n",
       "    .dataframe tbody tr th {\n",
       "        vertical-align: top;\n",
       "    }\n",
       "\n",
       "    .dataframe thead th {\n",
       "        text-align: right;\n",
       "    }\n",
       "</style>\n",
       "<table border=\"1\" class=\"dataframe\">\n",
       "  <thead>\n",
       "    <tr style=\"text-align: right;\">\n",
       "      <th></th>\n",
       "      <th>Brand</th>\n",
       "      <th>Model</th>\n",
       "      <th>Price(CAD)</th>\n",
       "      <th>Price_save(CAD)</th>\n",
       "      <th>Memory-Built-in(GB)</th>\n",
       "      <th>Ram_size(GB)</th>\n",
       "      <th>Display_resolution(pixels)</th>\n",
       "      <th>Display_size(in)</th>\n",
       "      <th>Colour</th>\n",
       "      <th>CPU</th>\n",
       "      <th>Front-Facing Camera Resolution(MP)</th>\n",
       "      <th>Rear Camera Resolution(MP)</th>\n",
       "    </tr>\n",
       "  </thead>\n",
       "  <tbody>\n",
       "    <tr>\n",
       "      <th>1</th>\n",
       "      <td>SAMSUNG</td>\n",
       "      <td>Galaxy S20</td>\n",
       "      <td>1849.99</td>\n",
       "      <td>no sale</td>\n",
       "      <td>128</td>\n",
       "      <td>2</td>\n",
       "      <td>720 x 1560</td>\n",
       "      <td>5.8</td>\n",
       "      <td>Black</td>\n",
       "      <td>Octa-core Snapdragon 865</td>\n",
       "      <td>5</td>\n",
       "      <td>8</td>\n",
       "    </tr>\n",
       "    <tr>\n",
       "      <th>2</th>\n",
       "      <td>SAMSUNG</td>\n",
       "      <td>Galaxy S20</td>\n",
       "      <td>1319.99</td>\n",
       "      <td>no sale</td>\n",
       "      <td>128</td>\n",
       "      <td>2</td>\n",
       "      <td>720 x 1560</td>\n",
       "      <td>5.8</td>\n",
       "      <td>Black</td>\n",
       "      <td>Octa-core Snapdragon 865</td>\n",
       "      <td>5</td>\n",
       "      <td>8</td>\n",
       "    </tr>\n",
       "    <tr>\n",
       "      <th>3</th>\n",
       "      <td>SAMSUNG</td>\n",
       "      <td>Galaxy S20</td>\n",
       "      <td>1319.99</td>\n",
       "      <td>no sale</td>\n",
       "      <td>128</td>\n",
       "      <td>2</td>\n",
       "      <td>720 x 1560</td>\n",
       "      <td>5.8</td>\n",
       "      <td>Black</td>\n",
       "      <td>Octa-core Snapdragon 865</td>\n",
       "      <td>5</td>\n",
       "      <td>8</td>\n",
       "    </tr>\n",
       "    <tr>\n",
       "      <th>4</th>\n",
       "      <td>SAMSUNG</td>\n",
       "      <td>Galaxy S20</td>\n",
       "      <td>2109.99</td>\n",
       "      <td>no sale</td>\n",
       "      <td>512</td>\n",
       "      <td>2</td>\n",
       "      <td>720 x 1560</td>\n",
       "      <td>5.8</td>\n",
       "      <td>Black</td>\n",
       "      <td>Octa-core Snapdragon 865</td>\n",
       "      <td>5</td>\n",
       "      <td>8</td>\n",
       "    </tr>\n",
       "    <tr>\n",
       "      <th>5</th>\n",
       "      <td>SAMSUNG</td>\n",
       "      <td>Galaxy A20</td>\n",
       "      <td>149.97</td>\n",
       "      <td>200</td>\n",
       "      <td>512</td>\n",
       "      <td>3</td>\n",
       "      <td>720 x 1560</td>\n",
       "      <td>5.8</td>\n",
       "      <td>Black</td>\n",
       "      <td>Octa-core Snapdragon 865</td>\n",
       "      <td>8</td>\n",
       "      <td>13</td>\n",
       "    </tr>\n",
       "    <tr>\n",
       "      <th>...</th>\n",
       "      <td>...</td>\n",
       "      <td>...</td>\n",
       "      <td>...</td>\n",
       "      <td>...</td>\n",
       "      <td>...</td>\n",
       "      <td>...</td>\n",
       "      <td>...</td>\n",
       "      <td>...</td>\n",
       "      <td>...</td>\n",
       "      <td>...</td>\n",
       "      <td>...</td>\n",
       "      <td>...</td>\n",
       "    </tr>\n",
       "    <tr>\n",
       "      <th>983</th>\n",
       "      <td>APPLE</td>\n",
       "      <td>iPhone XR</td>\n",
       "      <td>719.78</td>\n",
       "      <td>39</td>\n",
       "      <td>128</td>\n",
       "      <td>3</td>\n",
       "      <td>1792 x 828</td>\n",
       "      <td>6.1</td>\n",
       "      <td>Blue</td>\n",
       "      <td>Apple A12 Bionic</td>\n",
       "      <td>7</td>\n",
       "      <td>12</td>\n",
       "    </tr>\n",
       "    <tr>\n",
       "      <th>984</th>\n",
       "      <td>APPLE</td>\n",
       "      <td>iPhone X</td>\n",
       "      <td>825.00</td>\n",
       "      <td>704</td>\n",
       "      <td>256</td>\n",
       "      <td>3</td>\n",
       "      <td>2436 x 1125</td>\n",
       "      <td>5.8</td>\n",
       "      <td>Silver</td>\n",
       "      <td>Apple A11 Bionic</td>\n",
       "      <td>7</td>\n",
       "      <td>12</td>\n",
       "    </tr>\n",
       "    <tr>\n",
       "      <th>985</th>\n",
       "      <td>APPLE</td>\n",
       "      <td>iPhone 6s</td>\n",
       "      <td>371.00</td>\n",
       "      <td>6</td>\n",
       "      <td>256</td>\n",
       "      <td>2</td>\n",
       "      <td>1920 x 1080</td>\n",
       "      <td>5.5</td>\n",
       "      <td>Rose Gold</td>\n",
       "      <td>Dual-core 1.84 GHz Twister</td>\n",
       "      <td>5</td>\n",
       "      <td>12</td>\n",
       "    </tr>\n",
       "    <tr>\n",
       "      <th>986</th>\n",
       "      <td>APPLE</td>\n",
       "      <td>iPhone 6</td>\n",
       "      <td>194.00</td>\n",
       "      <td>105</td>\n",
       "      <td>256</td>\n",
       "      <td>2</td>\n",
       "      <td>1920 x 1080</td>\n",
       "      <td>5.5</td>\n",
       "      <td>Rose Gold</td>\n",
       "      <td>Dual-core 1.84 GHz Twister</td>\n",
       "      <td>5</td>\n",
       "      <td>12</td>\n",
       "    </tr>\n",
       "    <tr>\n",
       "      <th>987</th>\n",
       "      <td>APPLE</td>\n",
       "      <td>iPhone XS</td>\n",
       "      <td>859.99</td>\n",
       "      <td>460</td>\n",
       "      <td>64</td>\n",
       "      <td>4</td>\n",
       "      <td>2688 x 1242</td>\n",
       "      <td>6.5</td>\n",
       "      <td>Gold</td>\n",
       "      <td>Apple A12 Bionic</td>\n",
       "      <td>7</td>\n",
       "      <td>dual 12</td>\n",
       "    </tr>\n",
       "  </tbody>\n",
       "</table>\n",
       "<p>1519 rows × 12 columns</p>\n",
       "</div>"
      ],
      "text/plain": [
       "       Brand       Model  Price(CAD) Price_save(CAD) Memory-Built-in(GB)  \\\n",
       "1    SAMSUNG  Galaxy S20     1849.99         no sale                 128   \n",
       "2    SAMSUNG  Galaxy S20     1319.99         no sale                 128   \n",
       "3    SAMSUNG  Galaxy S20     1319.99         no sale                 128   \n",
       "4    SAMSUNG  Galaxy S20     2109.99         no sale                 512   \n",
       "5    SAMSUNG  Galaxy A20      149.97             200                 512   \n",
       "..       ...         ...         ...             ...                 ...   \n",
       "983    APPLE   iPhone XR      719.78              39                 128   \n",
       "984    APPLE    iPhone X      825.00             704                 256   \n",
       "985    APPLE   iPhone 6s      371.00               6                 256   \n",
       "986    APPLE    iPhone 6      194.00             105                 256   \n",
       "987    APPLE   iPhone XS      859.99             460                  64   \n",
       "\n",
       "    Ram_size(GB) Display_resolution(pixels)  Display_size(in)     Colour  \\\n",
       "1              2                 720 x 1560               5.8      Black   \n",
       "2              2                 720 x 1560               5.8      Black   \n",
       "3              2                 720 x 1560               5.8      Black   \n",
       "4              2                 720 x 1560               5.8      Black   \n",
       "5              3                 720 x 1560               5.8      Black   \n",
       "..           ...                        ...               ...        ...   \n",
       "983            3                 1792 x 828               6.1       Blue   \n",
       "984            3                2436 x 1125               5.8     Silver   \n",
       "985            2                1920 x 1080               5.5  Rose Gold   \n",
       "986            2                1920 x 1080               5.5  Rose Gold   \n",
       "987            4                2688 x 1242               6.5       Gold   \n",
       "\n",
       "                            CPU Front-Facing Camera Resolution(MP)  \\\n",
       "1      Octa-core Snapdragon 865                                  5   \n",
       "2      Octa-core Snapdragon 865                                  5   \n",
       "3      Octa-core Snapdragon 865                                  5   \n",
       "4      Octa-core Snapdragon 865                                  5   \n",
       "5      Octa-core Snapdragon 865                                  8   \n",
       "..                          ...                                ...   \n",
       "983            Apple A12 Bionic                                  7   \n",
       "984            Apple A11 Bionic                                  7   \n",
       "985  Dual-core 1.84 GHz Twister                                  5   \n",
       "986  Dual-core 1.84 GHz Twister                                  5   \n",
       "987            Apple A12 Bionic                                  7   \n",
       "\n",
       "    Rear Camera Resolution(MP)    \n",
       "1                              8  \n",
       "2                              8  \n",
       "3                              8  \n",
       "4                              8  \n",
       "5                             13  \n",
       "..                           ...  \n",
       "983                           12  \n",
       "984                           12  \n",
       "985                           12  \n",
       "986                           12  \n",
       "987                      dual 12  \n",
       "\n",
       "[1519 rows x 12 columns]"
      ]
     },
     "execution_count": 45,
     "metadata": {},
     "output_type": "execute_result"
    }
   ],
   "source": [
    "Samsung_Apple=pd.concat([Samsung_pd, Apple_pd])\n",
    "Samsung_Apple\n",
    "Samsung_Apple.drop(Samsung_Apple['Brand']=='certified')\n",
    "Samsung_Apple.drop(Samsung_Apple['Brand']=='Unlocked')\n"
   ]
  },
  {
   "cell_type": "code",
   "execution_count": 15,
   "metadata": {
    "scrolled": true
   },
   "outputs": [
    {
     "data": {
      "text/plain": [
       "Index(['Brand', 'Model', 'Price(CAD)', 'Price_save(CAD)',\n",
       "       'Memory-Built-in(GB)', 'Ram_size(GB)', 'Display_resolution(pixels)',\n",
       "       'Display_size(in)', 'Colour', 'CPU',\n",
       "       'Front-Facing Camera Resolution(MP)', 'Rear Camera Resolution(MP)  '],\n",
       "      dtype='object')"
      ]
     },
     "execution_count": 15,
     "metadata": {},
     "output_type": "execute_result"
    }
   ],
   "source": [
    "Samsung_Apple.columns"
   ]
  },
  {
   "cell_type": "code",
   "execution_count": 46,
   "metadata": {
    "collapsed": true
   },
   "outputs": [
    {
     "data": {
      "application/vnd.plotly.v1+json": {
       "config": {
        "plotlyServerURL": "https://plot.ly"
       },
       "data": [
        {
         "alignmentgroup": "True",
         "bingroup": "x",
         "hoverlabel": {
          "namelength": 0
         },
         "hovertemplate": "Brand=SAMSUNG<br>Price(CAD)=%{x}<br>count=%{y}",
         "legendgroup": "SAMSUNG",
         "marker": {
          "color": "#636efa"
         },
         "name": "SAMSUNG",
         "offsetgroup": "SAMSUNG",
         "orientation": "v",
         "showlegend": true,
         "type": "histogram",
         "x": [
          179.99,
          1849.99,
          1319.99,
          1319.99,
          2109.99,
          149.97,
          939.99,
          629.99,
          1579.99,
          449.95,
          368.9,
          1579.99,
          399.95,
          349.99,
          639.99,
          1459.99,
          249.99,
          163,
          389.84,
          344,
          1129.99,
          99.99,
          979.99,
          198.99,
          1819.99,
          279.99,
          499.99,
          198.99,
          1259.99,
          412.98,
          1459.99,
          191,
          1259.99,
          1129.99,
          164.8,
          419.99,
          1399.99,
          373.52,
          379.99,
          288.89,
          378.18,
          574.94,
          798.4,
          979.99,
          168.85,
          639.99,
          628.99,
          599.99,
          436,
          809,
          999.99,
          388.72,
          281,
          1779.99,
          847.8,
          224.99,
          186,
          689.99,
          879.99,
          1049.99,
          829.99,
          379.99,
          338,
          639.99,
          408,
          298.99,
          149.99,
          380,
          698,
          122,
          199.89,
          88.88,
          779,
          1299.99,
          897,
          398,
          1819.99,
          949.99,
          610,
          284,
          222.42,
          189.99,
          899,
          668,
          610,
          949.99,
          169.99,
          109,
          177.99,
          629.99,
          649,
          599,
          179.99,
          1149.99,
          576.99,
          999.99,
          899.99,
          1299.99,
          279.99,
          798.89,
          949.99,
          149.09,
          1149.99,
          343.98,
          378.34,
          399,
          347.5,
          219.99,
          1149.99,
          1149.99,
          401.9,
          629.99,
          399.99,
          499,
          108,
          195,
          699,
          292.72,
          371.49,
          367.72,
          102.72,
          199.99,
          79.99,
          154,
          111.99,
          129.99,
          149,
          599.99,
          714.99,
          439.69,
          399.72,
          199.99,
          869.99,
          224.99,
          809.99,
          199,
          152.02,
          419.99,
          197,
          289,
          729.49,
          159,
          349.99,
          649.99,
          299.99,
          379.99,
          229,
          949.99,
          279.99,
          159.19,
          144,
          699.99,
          164.98,
          299.99,
          340,
          729.49,
          879,
          779.99,
          534,
          469.99,
          144.99,
          1349.99,
          109.98,
          419.99,
          449.99,
          699.72,
          182.72,
          949.99,
          897.95,
          147.99,
          690,
          200,
          119.89,
          367.69,
          400,
          205,
          379.99,
          179.98,
          369.72,
          269,
          149.98,
          849.95,
          999.99,
          474,
          535.88,
          247,
          149.99,
          799,
          124.97,
          1029.99,
          327,
          599.99,
          339.99,
          899,
          907.35,
          239.99,
          420,
          489,
          399,
          379.99,
          1599.95,
          199.99,
          166,
          173.65,
          389.99,
          534,
          119.99,
          289,
          249.99,
          397.72,
          185,
          1399.99,
          370,
          899.99,
          799.99,
          143.68,
          319,
          388,
          189,
          380,
          128.9,
          539.99,
          349,
          299.25,
          379,
          546.99,
          699.99,
          164.49,
          599.99,
          194.99,
          179.72,
          399.99,
          359.72,
          449.99,
          149.99,
          1049.99,
          199.99,
          299.99,
          89.99,
          229.99,
          899,
          185.72,
          999.99,
          429.84,
          799.99,
          399.84,
          396,
          729.99,
          1199,
          112.5,
          346,
          149,
          559,
          389.99,
          399.84,
          129,
          532.45,
          129.72,
          907.35,
          699.99,
          144,
          299.99,
          299.99,
          1499.99,
          194.49,
          899.99,
          328,
          299.99,
          449,
          336,
          690,
          869.97,
          165,
          489.99,
          689,
          709.99,
          239.99,
          199.99,
          165,
          598,
          419,
          189.99,
          229.99,
          399.99,
          152.08,
          749.99,
          349,
          399,
          599,
          189.99,
          399,
          370,
          149.99,
          589.99,
          219,
          519.99,
          449.98,
          248,
          759.91,
          197.99,
          149,
          859.43,
          619.69,
          899.95,
          339,
          199.99,
          999.99,
          308,
          199.99,
          789.99,
          1149.97,
          584,
          227.98,
          146,
          129.99,
          609.99,
          349,
          279.98,
          399,
          275,
          399,
          379.99,
          229.99,
          399,
          250,
          329,
          239,
          500,
          179,
          269,
          259,
          559.99,
          259.99,
          425,
          259,
          349,
          275,
          710,
          239,
          219,
          175,
          149.98,
          139.72,
          110,
          149,
          499,
          299,
          729.99,
          559.99,
          179,
          249,
          279.98,
          699,
          259,
          219.99,
          289.99,
          359.99,
          1589.99,
          399.99,
          249.99,
          449.99,
          429,
          149.99,
          400,
          875.99,
          380,
          1179.99,
          299.99,
          1199.99,
          230,
          349.98,
          595,
          429,
          349.99,
          370,
          329.99,
          449.99,
          649.99,
          289,
          199.99,
          262.99,
          1149.99,
          249.99,
          1249.99,
          1239.99,
          299.99,
          210,
          399,
          239,
          588,
          149.72,
          198.72,
          611.99,
          159.99,
          469,
          229.99,
          1179.99,
          159,
          599,
          229.9,
          449.99,
          328,
          379.72,
          199.72,
          367.72,
          999,
          690,
          698.99,
          875.99,
          1239.96,
          854.99,
          759.99,
          690,
          289,
          220,
          299,
          199.99,
          149.72,
          189,
          289.99,
          149.72,
          598.49,
          380,
          259,
          679.99,
          99.99,
          185.99,
          199,
          199,
          120,
          809.99,
          149,
          146.68,
          899,
          699,
          449,
          349,
          449,
          499,
          149,
          299,
          589,
          470.99,
          197.99,
          499,
          689,
          439,
          439,
          429,
          599,
          599,
          199,
          499,
          467,
          319.99,
          319.99,
          339.99,
          339.99,
          367.99,
          249.99,
          249.99,
          589.99,
          999.99,
          799.99,
          599.99,
          699.99,
          348.99,
          189.99,
          205.99,
          139.99,
          389.99,
          949.99,
          389.99,
          229.99,
          357.94,
          218.89,
          548.85,
          429.64,
          699.99,
          649.99,
          539.99,
          589.99,
          279.99,
          347.69,
          669.99,
          549,
          399.99,
          399.99,
          809.99,
          579.99,
          587.99,
          369.99,
          549,
          319,
          549,
          469,
          319,
          235,
          319,
          690,
          198,
          299.9,
          239,
          229.99,
          289,
          199.99,
          449,
          399.99,
          346,
          399.99,
          299.99,
          299.99,
          229.99,
          159.99,
          329.99,
          199,
          389.99,
          249.99,
          129.99,
          679,
          199.87,
          519.99,
          239.99,
          1049.49,
          599.99,
          187.99,
          489.99,
          185.99,
          399,
          399,
          449.99,
          129.99,
          789.99
         ],
         "xaxis": "x",
         "yaxis": "y"
        },
        {
         "alignmentgroup": "True",
         "bingroup": "x",
         "hoverlabel": {
          "namelength": 0
         },
         "hovertemplate": "Brand=APPLE<br>Price(CAD)=%{x}<br>count=%{y}",
         "legendgroup": "APPLE",
         "marker": {
          "color": "#EF553B"
         },
         "name": "APPLE",
         "offsetgroup": "APPLE",
         "orientation": "v",
         "showlegend": true,
         "type": "histogram",
         "x": [
          223.4,
          354.1,
          598.99,
          979.99,
          624.99,
          609,
          396,
          979.99,
          1519.99,
          351.9,
          799.99,
          644.99,
          699.99,
          979.99,
          399,
          699.99,
          499.99,
          178.08,
          599.99,
          159,
          1519.99,
          159.08,
          443,
          1519.99,
          334.5,
          1049.99,
          809.97,
          647.98,
          261.5,
          899.99,
          195,
          373.93,
          599.99,
          283.03,
          1259.99,
          407.47,
          299.98,
          646,
          1379.99,
          699.99,
          899.99,
          799.95,
          299,
          334,
          269,
          979.99,
          599.9,
          1229.95,
          1379.99,
          348,
          799.99,
          379.99,
          1049.99,
          799.99,
          1379.95,
          579.99,
          1399.99,
          629.49,
          699,
          344.02,
          359.09,
          559.87,
          628.99,
          348,
          221.02,
          794,
          407.16,
          346,
          899.99,
          598,
          792,
          971.4,
          699.99,
          679.99,
          1379.99,
          895.59,
          679.98,
          1399.99,
          854.99,
          999,
          374.04,
          508.5,
          899.99,
          1169.99,
          874,
          744.99,
          208.4,
          419,
          279.97,
          244.95,
          699.99,
          144.04,
          448.4,
          167.02,
          247,
          1299.99,
          137.07,
          643,
          1259.99,
          1299.99,
          138.06,
          159.09,
          809,
          1049.99,
          376.08,
          399.99,
          999.99,
          178.08,
          594.99,
          935,
          749.99,
          449.97,
          187.07,
          1449.99,
          599.99,
          99.98,
          326.06,
          1099.99,
          447.9,
          1399.99,
          559.79,
          268.99,
          475,
          178.88,
          809.98,
          319.88,
          399.98,
          563.99,
          199.95,
          332.79,
          1169.99,
          749.99,
          1169.99,
          207,
          224.95,
          449.99,
          1259.99,
          287,
          1299.99,
          1204.99,
          79.98,
          154.04,
          643,
          999.99,
          299.95,
          1124.99,
          259.09,
          875,
          1259.99,
          229.99,
          589,
          1399,
          449.97,
          193.76,
          999,
          529,
          649.99,
          429.88,
          352,
          749.99,
          257.9,
          672.99,
          435.3,
          529.99,
          1399.99,
          619.99,
          749.99,
          719.99,
          1099.99,
          1299.99,
          744.99,
          98.08,
          308.35,
          679.99,
          619,
          328.2,
          375.99,
          139.98,
          235.55,
          109.68,
          299,
          244.95,
          264.95,
          379.99,
          244.95,
          799.99,
          699.98,
          449.99,
          549.99,
          445.94,
          340.99,
          829.99,
          739.79,
          179.99,
          895.15,
          643.53,
          699.99,
          619.99,
          159.98,
          217.07,
          699.99,
          199.98,
          93.99,
          604.99,
          1249.99,
          629.99,
          149,
          149.98,
          88.88,
          1500,
          136.06,
          314.94,
          80,
          599.99,
          458.99,
          899.99,
          229.08,
          384.89,
          617.9,
          1089.99,
          749.99,
          388.08,
          1199.99,
          999.99,
          157.08,
          599,
          443.97,
          719.78,
          289.9,
          629.79,
          121,
          999.99,
          692.99,
          349.99,
          185,
          199,
          854.99,
          619.99,
          799.99,
          98.08,
          1729.99,
          119.99,
          609,
          1999.99,
          413.99,
          389,
          279.09,
          880.99,
          229.99,
          98,
          1589.99,
          1500,
          199.98,
          1169.99,
          184.95,
          599.99,
          156,
          288.65,
          499,
          1300,
          369.98,
          156.08,
          299,
          328.86,
          749,
          1045.95,
          750,
          438.98,
          798.99,
          658.78,
          469.99,
          629.99,
          979.97,
          899.99,
          139.99,
          158.08,
          499.99,
          1789.49,
          1379.99,
          978.99,
          299.99,
          284.08,
          854.99,
          445.89,
          289.99,
          169.98,
          209.99,
          123.98,
          359.99,
          988.93,
          899.99,
          1259.99,
          398.91,
          262,
          168.08,
          158.06,
          869,
          287.99,
          679.99,
          949.99,
          699.99,
          209,
          1500,
          879,
          834.15,
          1099.95,
          234.04,
          692.87,
          138,
          90,
          429.19,
          229,
          999.99,
          644.99,
          179.99,
          286.05,
          499.98,
          184,
          1300,
          168.88,
          599.99,
          1199,
          99.99,
          1199.99,
          1000,
          1259.99,
          199.98,
          99.98,
          695.05,
          834.15,
          639.99,
          336.06,
          834.15,
          369.98,
          266.95,
          499.99,
          349.98,
          289.98,
          569.89,
          1469,
          700,
          659,
          692.99,
          169.99,
          619,
          506.29,
          244.95,
          248,
          249.08,
          262,
          369.99,
          1300,
          219.88,
          128,
          109.24,
          499.99,
          249.99,
          675.99,
          138.36,
          109.89,
          196,
          584.97,
          924,
          854.99,
          299.95,
          999,
          935,
          639.98,
          138.88,
          199.89,
          188.95,
          874.1,
          298.98,
          149.68,
          296.99,
          126.98,
          409.99,
          329.98,
          348.88,
          149.68,
          388.98,
          267.07,
          362.18,
          388.98,
          288.68,
          299,
          90,
          600,
          399.98,
          129.98,
          359,
          499,
          319.98,
          429,
          399,
          329.98,
          385.99,
          340.99,
          384.99,
          275,
          1099,
          802.99,
          670.99,
          719.99,
          159.98,
          599,
          934.99,
          670.99,
          311.99,
          398.68,
          279.98,
          329,
          699.99,
          299,
          849.99,
          249,
          129,
          335.95,
          599,
          339,
          139,
          369,
          359,
          298.68,
          279,
          399,
          199,
          318.99,
          279,
          359,
          289,
          399,
          299,
          379,
          1277.99,
          499,
          429,
          359,
          295,
          735.99,
          411.99,
          340.99,
          758.99,
          296.99,
          692.99,
          399,
          179,
          399,
          329,
          299,
          448.99,
          299,
          168.89,
          399,
          349,
          359,
          359,
          392.95,
          299,
          169.68,
          299,
          529.99,
          349,
          899,
          299.99,
          329,
          189.99,
          600,
          458.99,
          199,
          934.99,
          881.99,
          729,
          741.99,
          384.99,
          934.99,
          439.99,
          584.99,
          296.99,
          439.99,
          439.99,
          411.99,
          758.99,
          356.99,
          199.95,
          626.99,
          875.99,
          340.99,
          279,
          299,
          339,
          199,
          299,
          295.99,
          399,
          289,
          399,
          349,
          604.99,
          359,
          384.99,
          249,
          399,
          192.95,
          179.95,
          296.99,
          824.99,
          934.99,
          356.99,
          340.99,
          252.99,
          325,
          399,
          737.99,
          758.99,
          368.08,
          494.99,
          318.99,
          325,
          289,
          289,
          139,
          170,
          120,
          199.99,
          499,
          459,
          399,
          289.98,
          394.48,
          128.88,
          179.98,
          449.99,
          399,
          299,
          749.99,
          295.95,
          295.95,
          139,
          299,
          658.95,
          418.71,
          356.99,
          380.99,
          310.99,
          299,
          199,
          934.99,
          199,
          849.94,
          228.94,
          180,
          150,
          799,
          318.88,
          268.68,
          299.98,
          549.99,
          299.98,
          399.98,
          499.99,
          199,
          369,
          289,
          188.98,
          339.98,
          137.58,
          249.98,
          699.98,
          169.98,
          195,
          259,
          229.99,
          288.92,
          389.99,
          429,
          199.68,
          349,
          550,
          299,
          349,
          349,
          279,
          199.98,
          379,
          359,
          499,
          694.99,
          249,
          289,
          579,
          529,
          379,
          699,
          269.97,
          899.99,
          329.98,
          490,
          298,
          209.95,
          379,
          149.98,
          283.08,
          299,
          299,
          459.99,
          599,
          449,
          209.99,
          198.88,
          411.99,
          229.99,
          274.99,
          439.99,
          411.99,
          258.99,
          179.88,
          399.99,
          384.99,
          268.98,
          284,
          245.88,
          314.95,
          670.99,
          1100,
          378.95,
          389.99,
          308.95,
          289,
          100,
          409.99,
          308.28,
          307.93,
          299,
          903.99,
          923.99,
          379,
          379,
          279,
          159.98,
          259,
          279.99,
          510,
          524.99,
          179.95,
          1299,
          258.08,
          499.99,
          187.77,
          186.83,
          123,
          204,
          171.06,
          209.99,
          209.99,
          209.99,
          209.99,
          209.99,
          199.99,
          309.99,
          184.95,
          215.99,
          249.86,
          269.99,
          349.99,
          257.99,
          299.99,
          274.49,
          498.89,
          278.46,
          269.95,
          138.59,
          237.99,
          349.99,
          499.99,
          849.99,
          949.99,
          949.99,
          949.99,
          849.99,
          499.99,
          411.99,
          247.98,
          225.88,
          199.95,
          357,
          297.86,
          289.95,
          519.54,
          169.99,
          284.69,
          146.67,
          174.98,
          289.69,
          339.64,
          739.54,
          474.64,
          284.69,
          448.94,
          339.69,
          157.64,
          153.6,
          429.64,
          149.54,
          334.69,
          449.54,
          339.64,
          319.64,
          418.44,
          339.69,
          149.95,
          424.54,
          158.91,
          338.94,
          439.69,
          239.54,
          499.99,
          139.29,
          459.99,
          429.99,
          599.99,
          619.99,
          439.99,
          109.99,
          626.99,
          293.95,
          538.49,
          269.99,
          379.99,
          298.95,
          390.9,
          1199.99,
          399.99,
          664.99,
          184.68,
          328.23,
          244.89,
          298.69,
          429.99,
          588.95,
          308.46,
          234.95,
          410.76,
          1025,
          398.08,
          138.52,
          408.68,
          202.49,
          567.14,
          249.95,
          412.93,
          379.89,
          249.95,
          399.95,
          248.99,
          195,
          399.99,
          199,
          349.99,
          399.99,
          289.99,
          289.99,
          289.99,
          399.99,
          729.99,
          729.99,
          369,
          319,
          729.99,
          729.99,
          186.06,
          899.99,
          930,
          128.08,
          299,
          469,
          439.99,
          396.99,
          348.86,
          198.95,
          140,
          440,
          440,
          190,
          184.97,
          725,
          194.64,
          241.95,
          989.99,
          179.99,
          139.99,
          159.48,
          228.95,
          349.95,
          139.99,
          199.99,
          375,
          375,
          198.78,
          675,
          675,
          209.26,
          619.99,
          499.99,
          328.68,
          165.39,
          158.74,
          149.95,
          420.86,
          149.95,
          375,
          398.95,
          179.99,
          999.99,
          319.99,
          1059.99,
          859.99,
          159.99,
          219.99,
          389,
          159.99,
          159.99,
          319.99,
          247,
          267.95,
          309,
          315,
          325,
          309,
          269,
          289,
          655,
          875,
          325,
          645,
          269,
          249,
          325,
          195,
          245,
          279,
          245,
          285,
          279,
          325,
          325,
          398.63,
          499,
          285,
          935,
          245,
          279,
          229,
          279,
          289,
          1179,
          279,
          575,
          411.94,
          285,
          679,
          329,
          269,
          1035,
          935,
          325,
          289,
          319,
          499,
          499,
          98,
          279,
          315,
          279,
          525,
          319,
          315,
          359,
          315,
          129.99,
          308.89,
          499.99,
          199.99,
          149.99,
          156.06,
          134.04,
          449.99,
          299.99,
          149.99,
          299.99,
          699.99,
          179.99,
          399.99,
          499.99,
          189.99,
          159.99,
          249.99,
          299.99,
          749.99,
          299.99,
          169.99,
          299.99,
          179.99,
          888,
          599.99,
          159.99,
          879.95,
          899.99,
          209,
          1299,
          159.99,
          239.99,
          699.99,
          1399,
          199.99,
          268.88,
          299.99,
          1549.99,
          199.99,
          959.99,
          149.99,
          824.99,
          349.95,
          189.92,
          191.26,
          285.99,
          729.99,
          499.99,
          379.95,
          369.95,
          363.95,
          341.18,
          332.76,
          169.99,
          123.95,
          409,
          1619.99,
          1304.99,
          1529.99,
          388.86,
          854.99,
          337.95,
          333.95,
          287.46,
          285,
          245,
          309,
          285,
          245,
          148.54,
          189.86,
          249.97,
          1049.99,
          735.99,
          279.99,
          239.42,
          250,
          188.89,
          226.26,
          248.36,
          422.95,
          222.95,
          259.65,
          529,
          339.46,
          173.16,
          429.43,
          234.26,
          228.86,
          658.78,
          407.16,
          295.84,
          224.17,
          224.17,
          658.78,
          224.17,
          735.03,
          895.15,
          295.84,
          324.43,
          148.95,
          352.95,
          719.78,
          719.78,
          825,
          371,
          194,
          859.99
         ],
         "xaxis": "x",
         "yaxis": "y"
        }
       ],
       "layout": {
        "barmode": "relative",
        "legend": {
         "title": {
          "text": "Brand"
         },
         "tracegroupgap": 0
        },
        "margin": {
         "t": 60
        },
        "template": {
         "data": {
          "bar": [
           {
            "error_x": {
             "color": "#2a3f5f"
            },
            "error_y": {
             "color": "#2a3f5f"
            },
            "marker": {
             "line": {
              "color": "#E5ECF6",
              "width": 0.5
             }
            },
            "type": "bar"
           }
          ],
          "barpolar": [
           {
            "marker": {
             "line": {
              "color": "#E5ECF6",
              "width": 0.5
             }
            },
            "type": "barpolar"
           }
          ],
          "carpet": [
           {
            "aaxis": {
             "endlinecolor": "#2a3f5f",
             "gridcolor": "white",
             "linecolor": "white",
             "minorgridcolor": "white",
             "startlinecolor": "#2a3f5f"
            },
            "baxis": {
             "endlinecolor": "#2a3f5f",
             "gridcolor": "white",
             "linecolor": "white",
             "minorgridcolor": "white",
             "startlinecolor": "#2a3f5f"
            },
            "type": "carpet"
           }
          ],
          "choropleth": [
           {
            "colorbar": {
             "outlinewidth": 0,
             "ticks": ""
            },
            "type": "choropleth"
           }
          ],
          "contour": [
           {
            "colorbar": {
             "outlinewidth": 0,
             "ticks": ""
            },
            "colorscale": [
             [
              0,
              "#0d0887"
             ],
             [
              0.1111111111111111,
              "#46039f"
             ],
             [
              0.2222222222222222,
              "#7201a8"
             ],
             [
              0.3333333333333333,
              "#9c179e"
             ],
             [
              0.4444444444444444,
              "#bd3786"
             ],
             [
              0.5555555555555556,
              "#d8576b"
             ],
             [
              0.6666666666666666,
              "#ed7953"
             ],
             [
              0.7777777777777778,
              "#fb9f3a"
             ],
             [
              0.8888888888888888,
              "#fdca26"
             ],
             [
              1,
              "#f0f921"
             ]
            ],
            "type": "contour"
           }
          ],
          "contourcarpet": [
           {
            "colorbar": {
             "outlinewidth": 0,
             "ticks": ""
            },
            "type": "contourcarpet"
           }
          ],
          "heatmap": [
           {
            "colorbar": {
             "outlinewidth": 0,
             "ticks": ""
            },
            "colorscale": [
             [
              0,
              "#0d0887"
             ],
             [
              0.1111111111111111,
              "#46039f"
             ],
             [
              0.2222222222222222,
              "#7201a8"
             ],
             [
              0.3333333333333333,
              "#9c179e"
             ],
             [
              0.4444444444444444,
              "#bd3786"
             ],
             [
              0.5555555555555556,
              "#d8576b"
             ],
             [
              0.6666666666666666,
              "#ed7953"
             ],
             [
              0.7777777777777778,
              "#fb9f3a"
             ],
             [
              0.8888888888888888,
              "#fdca26"
             ],
             [
              1,
              "#f0f921"
             ]
            ],
            "type": "heatmap"
           }
          ],
          "heatmapgl": [
           {
            "colorbar": {
             "outlinewidth": 0,
             "ticks": ""
            },
            "colorscale": [
             [
              0,
              "#0d0887"
             ],
             [
              0.1111111111111111,
              "#46039f"
             ],
             [
              0.2222222222222222,
              "#7201a8"
             ],
             [
              0.3333333333333333,
              "#9c179e"
             ],
             [
              0.4444444444444444,
              "#bd3786"
             ],
             [
              0.5555555555555556,
              "#d8576b"
             ],
             [
              0.6666666666666666,
              "#ed7953"
             ],
             [
              0.7777777777777778,
              "#fb9f3a"
             ],
             [
              0.8888888888888888,
              "#fdca26"
             ],
             [
              1,
              "#f0f921"
             ]
            ],
            "type": "heatmapgl"
           }
          ],
          "histogram": [
           {
            "marker": {
             "colorbar": {
              "outlinewidth": 0,
              "ticks": ""
             }
            },
            "type": "histogram"
           }
          ],
          "histogram2d": [
           {
            "colorbar": {
             "outlinewidth": 0,
             "ticks": ""
            },
            "colorscale": [
             [
              0,
              "#0d0887"
             ],
             [
              0.1111111111111111,
              "#46039f"
             ],
             [
              0.2222222222222222,
              "#7201a8"
             ],
             [
              0.3333333333333333,
              "#9c179e"
             ],
             [
              0.4444444444444444,
              "#bd3786"
             ],
             [
              0.5555555555555556,
              "#d8576b"
             ],
             [
              0.6666666666666666,
              "#ed7953"
             ],
             [
              0.7777777777777778,
              "#fb9f3a"
             ],
             [
              0.8888888888888888,
              "#fdca26"
             ],
             [
              1,
              "#f0f921"
             ]
            ],
            "type": "histogram2d"
           }
          ],
          "histogram2dcontour": [
           {
            "colorbar": {
             "outlinewidth": 0,
             "ticks": ""
            },
            "colorscale": [
             [
              0,
              "#0d0887"
             ],
             [
              0.1111111111111111,
              "#46039f"
             ],
             [
              0.2222222222222222,
              "#7201a8"
             ],
             [
              0.3333333333333333,
              "#9c179e"
             ],
             [
              0.4444444444444444,
              "#bd3786"
             ],
             [
              0.5555555555555556,
              "#d8576b"
             ],
             [
              0.6666666666666666,
              "#ed7953"
             ],
             [
              0.7777777777777778,
              "#fb9f3a"
             ],
             [
              0.8888888888888888,
              "#fdca26"
             ],
             [
              1,
              "#f0f921"
             ]
            ],
            "type": "histogram2dcontour"
           }
          ],
          "mesh3d": [
           {
            "colorbar": {
             "outlinewidth": 0,
             "ticks": ""
            },
            "type": "mesh3d"
           }
          ],
          "parcoords": [
           {
            "line": {
             "colorbar": {
              "outlinewidth": 0,
              "ticks": ""
             }
            },
            "type": "parcoords"
           }
          ],
          "pie": [
           {
            "automargin": true,
            "type": "pie"
           }
          ],
          "scatter": [
           {
            "marker": {
             "colorbar": {
              "outlinewidth": 0,
              "ticks": ""
             }
            },
            "type": "scatter"
           }
          ],
          "scatter3d": [
           {
            "line": {
             "colorbar": {
              "outlinewidth": 0,
              "ticks": ""
             }
            },
            "marker": {
             "colorbar": {
              "outlinewidth": 0,
              "ticks": ""
             }
            },
            "type": "scatter3d"
           }
          ],
          "scattercarpet": [
           {
            "marker": {
             "colorbar": {
              "outlinewidth": 0,
              "ticks": ""
             }
            },
            "type": "scattercarpet"
           }
          ],
          "scattergeo": [
           {
            "marker": {
             "colorbar": {
              "outlinewidth": 0,
              "ticks": ""
             }
            },
            "type": "scattergeo"
           }
          ],
          "scattergl": [
           {
            "marker": {
             "colorbar": {
              "outlinewidth": 0,
              "ticks": ""
             }
            },
            "type": "scattergl"
           }
          ],
          "scattermapbox": [
           {
            "marker": {
             "colorbar": {
              "outlinewidth": 0,
              "ticks": ""
             }
            },
            "type": "scattermapbox"
           }
          ],
          "scatterpolar": [
           {
            "marker": {
             "colorbar": {
              "outlinewidth": 0,
              "ticks": ""
             }
            },
            "type": "scatterpolar"
           }
          ],
          "scatterpolargl": [
           {
            "marker": {
             "colorbar": {
              "outlinewidth": 0,
              "ticks": ""
             }
            },
            "type": "scatterpolargl"
           }
          ],
          "scatterternary": [
           {
            "marker": {
             "colorbar": {
              "outlinewidth": 0,
              "ticks": ""
             }
            },
            "type": "scatterternary"
           }
          ],
          "surface": [
           {
            "colorbar": {
             "outlinewidth": 0,
             "ticks": ""
            },
            "colorscale": [
             [
              0,
              "#0d0887"
             ],
             [
              0.1111111111111111,
              "#46039f"
             ],
             [
              0.2222222222222222,
              "#7201a8"
             ],
             [
              0.3333333333333333,
              "#9c179e"
             ],
             [
              0.4444444444444444,
              "#bd3786"
             ],
             [
              0.5555555555555556,
              "#d8576b"
             ],
             [
              0.6666666666666666,
              "#ed7953"
             ],
             [
              0.7777777777777778,
              "#fb9f3a"
             ],
             [
              0.8888888888888888,
              "#fdca26"
             ],
             [
              1,
              "#f0f921"
             ]
            ],
            "type": "surface"
           }
          ],
          "table": [
           {
            "cells": {
             "fill": {
              "color": "#EBF0F8"
             },
             "line": {
              "color": "white"
             }
            },
            "header": {
             "fill": {
              "color": "#C8D4E3"
             },
             "line": {
              "color": "white"
             }
            },
            "type": "table"
           }
          ]
         },
         "layout": {
          "annotationdefaults": {
           "arrowcolor": "#2a3f5f",
           "arrowhead": 0,
           "arrowwidth": 1
          },
          "coloraxis": {
           "colorbar": {
            "outlinewidth": 0,
            "ticks": ""
           }
          },
          "colorscale": {
           "diverging": [
            [
             0,
             "#8e0152"
            ],
            [
             0.1,
             "#c51b7d"
            ],
            [
             0.2,
             "#de77ae"
            ],
            [
             0.3,
             "#f1b6da"
            ],
            [
             0.4,
             "#fde0ef"
            ],
            [
             0.5,
             "#f7f7f7"
            ],
            [
             0.6,
             "#e6f5d0"
            ],
            [
             0.7,
             "#b8e186"
            ],
            [
             0.8,
             "#7fbc41"
            ],
            [
             0.9,
             "#4d9221"
            ],
            [
             1,
             "#276419"
            ]
           ],
           "sequential": [
            [
             0,
             "#0d0887"
            ],
            [
             0.1111111111111111,
             "#46039f"
            ],
            [
             0.2222222222222222,
             "#7201a8"
            ],
            [
             0.3333333333333333,
             "#9c179e"
            ],
            [
             0.4444444444444444,
             "#bd3786"
            ],
            [
             0.5555555555555556,
             "#d8576b"
            ],
            [
             0.6666666666666666,
             "#ed7953"
            ],
            [
             0.7777777777777778,
             "#fb9f3a"
            ],
            [
             0.8888888888888888,
             "#fdca26"
            ],
            [
             1,
             "#f0f921"
            ]
           ],
           "sequentialminus": [
            [
             0,
             "#0d0887"
            ],
            [
             0.1111111111111111,
             "#46039f"
            ],
            [
             0.2222222222222222,
             "#7201a8"
            ],
            [
             0.3333333333333333,
             "#9c179e"
            ],
            [
             0.4444444444444444,
             "#bd3786"
            ],
            [
             0.5555555555555556,
             "#d8576b"
            ],
            [
             0.6666666666666666,
             "#ed7953"
            ],
            [
             0.7777777777777778,
             "#fb9f3a"
            ],
            [
             0.8888888888888888,
             "#fdca26"
            ],
            [
             1,
             "#f0f921"
            ]
           ]
          },
          "colorway": [
           "#636efa",
           "#EF553B",
           "#00cc96",
           "#ab63fa",
           "#FFA15A",
           "#19d3f3",
           "#FF6692",
           "#B6E880",
           "#FF97FF",
           "#FECB52"
          ],
          "font": {
           "color": "#2a3f5f"
          },
          "geo": {
           "bgcolor": "white",
           "lakecolor": "white",
           "landcolor": "#E5ECF6",
           "showlakes": true,
           "showland": true,
           "subunitcolor": "white"
          },
          "hoverlabel": {
           "align": "left"
          },
          "hovermode": "closest",
          "mapbox": {
           "style": "light"
          },
          "paper_bgcolor": "white",
          "plot_bgcolor": "#E5ECF6",
          "polar": {
           "angularaxis": {
            "gridcolor": "white",
            "linecolor": "white",
            "ticks": ""
           },
           "bgcolor": "#E5ECF6",
           "radialaxis": {
            "gridcolor": "white",
            "linecolor": "white",
            "ticks": ""
           }
          },
          "scene": {
           "xaxis": {
            "backgroundcolor": "#E5ECF6",
            "gridcolor": "white",
            "gridwidth": 2,
            "linecolor": "white",
            "showbackground": true,
            "ticks": "",
            "zerolinecolor": "white"
           },
           "yaxis": {
            "backgroundcolor": "#E5ECF6",
            "gridcolor": "white",
            "gridwidth": 2,
            "linecolor": "white",
            "showbackground": true,
            "ticks": "",
            "zerolinecolor": "white"
           },
           "zaxis": {
            "backgroundcolor": "#E5ECF6",
            "gridcolor": "white",
            "gridwidth": 2,
            "linecolor": "white",
            "showbackground": true,
            "ticks": "",
            "zerolinecolor": "white"
           }
          },
          "shapedefaults": {
           "line": {
            "color": "#2a3f5f"
           }
          },
          "ternary": {
           "aaxis": {
            "gridcolor": "white",
            "linecolor": "white",
            "ticks": ""
           },
           "baxis": {
            "gridcolor": "white",
            "linecolor": "white",
            "ticks": ""
           },
           "bgcolor": "#E5ECF6",
           "caxis": {
            "gridcolor": "white",
            "linecolor": "white",
            "ticks": ""
           }
          },
          "title": {
           "x": 0.05
          },
          "xaxis": {
           "automargin": true,
           "gridcolor": "white",
           "linecolor": "white",
           "ticks": "",
           "title": {
            "standoff": 15
           },
           "zerolinecolor": "white",
           "zerolinewidth": 2
          },
          "yaxis": {
           "automargin": true,
           "gridcolor": "white",
           "linecolor": "white",
           "ticks": "",
           "title": {
            "standoff": 15
           },
           "zerolinecolor": "white",
           "zerolinewidth": 2
          }
         }
        },
        "xaxis": {
         "anchor": "y",
         "domain": [
          0,
          1
         ],
         "title": {
          "text": "Price(CAD)"
         }
        },
        "yaxis": {
         "anchor": "x",
         "domain": [
          0,
          1
         ],
         "title": {
          "text": "count"
         }
        }
       }
      },
      "text/html": [
       "<div>\n",
       "        \n",
       "        \n",
       "            <div id=\"dfe84943-ec6d-4b87-a7f3-87dd49a7ffd3\" class=\"plotly-graph-div\" style=\"height:525px; width:100%;\"></div>\n",
       "            <script type=\"text/javascript\">\n",
       "                require([\"plotly\"], function(Plotly) {\n",
       "                    window.PLOTLYENV=window.PLOTLYENV || {};\n",
       "                    \n",
       "                if (document.getElementById(\"dfe84943-ec6d-4b87-a7f3-87dd49a7ffd3\")) {\n",
       "                    Plotly.newPlot(\n",
       "                        'dfe84943-ec6d-4b87-a7f3-87dd49a7ffd3',\n",
       "                        [{\"alignmentgroup\": \"True\", \"bingroup\": \"x\", \"hoverlabel\": {\"namelength\": 0}, \"hovertemplate\": \"Brand=SAMSUNG<br>Price(CAD)=%{x}<br>count=%{y}\", \"legendgroup\": \"SAMSUNG\", \"marker\": {\"color\": \"#636efa\"}, \"name\": \"SAMSUNG\", \"offsetgroup\": \"SAMSUNG\", \"orientation\": \"v\", \"showlegend\": true, \"type\": \"histogram\", \"x\": [179.99, 1849.99, 1319.99, 1319.99, 2109.99, 149.97, 939.99, 629.99, 1579.99, 449.95, 368.9, 1579.99, 399.95, 349.99, 639.99, 1459.99, 249.99, 163.0, 389.84, 344.0, 1129.99, 99.99, 979.99, 198.99, 1819.99, 279.99, 499.99, 198.99, 1259.99, 412.98, 1459.99, 191.0, 1259.99, 1129.99, 164.8, 419.99, 1399.99, 373.52, 379.99, 288.89, 378.18, 574.94, 798.4, 979.99, 168.85, 639.99, 628.99, 599.99, 436.0, 809.0, 999.99, 388.72, 281.0, 1779.99, 847.8, 224.99, 186.0, 689.99, 879.99, 1049.99, 829.99, 379.99, 338.0, 639.99, 408.0, 298.99, 149.99, 380.0, 698.0, 122.0, 199.89, 88.88, 779.0, 1299.99, 897.0, 398.0, 1819.99, 949.99, 610.0, 284.0, 222.42, 189.99, 899.0, 668.0, 610.0, 949.99, 169.99, 109.0, 177.99, 629.99, 649.0, 599.0, 179.99, 1149.99, 576.99, 999.99, 899.99, 1299.99, 279.99, 798.89, 949.99, 149.09, 1149.99, 343.98, 378.34, 399.0, 347.5, 219.99, 1149.99, 1149.99, 401.9, 629.99, 399.99, 499.0, 108.0, 195.0, 699.0, 292.72, 371.49, 367.72, 102.72, 199.99, 79.99, 154.0, 111.99, 129.99, 149.0, 599.99, 714.99, 439.69, 399.72, 199.99, 869.99, 224.99, 809.99, 199.0, 152.02, 419.99, 197.0, 289.0, 729.49, 159.0, 349.99, 649.99, 299.99, 379.99, 229.0, 949.99, 279.99, 159.19, 144.0, 699.99, 164.98, 299.99, 340.0, 729.49, 879.0, 779.99, 534.0, 469.99, 144.99, 1349.99, 109.98, 419.99, 449.99, 699.72, 182.72, 949.99, 897.95, 147.99, 690.0, 200.0, 119.89, 367.69, 400.0, 205.0, 379.99, 179.98, 369.72, 269.0, 149.98, 849.95, 999.99, 474.0, 535.88, 247.0, 149.99, 799.0, 124.97, 1029.99, 327.0, 599.99, 339.99, 899.0, 907.35, 239.99, 420.0, 489.0, 399.0, 379.99, 1599.95, 199.99, 166.0, 173.65, 389.99, 534.0, 119.99, 289.0, 249.99, 397.72, 185.0, 1399.99, 370.0, 899.99, 799.99, 143.68, 319.0, 388.0, 189.0, 380.0, 128.9, 539.99, 349.0, 299.25, 379.0, 546.99, 699.99, 164.49, 599.99, 194.99, 179.72, 399.99, 359.72, 449.99, 149.99, 1049.99, 199.99, 299.99, 89.99, 229.99, 899.0, 185.72, 999.99, 429.84, 799.99, 399.84, 396.0, 729.99, 1199.0, 112.5, 346.0, 149.0, 559.0, 389.99, 399.84, 129.0, 532.45, 129.72, 907.35, 699.99, 144.0, 299.99, 299.99, 1499.99, 194.49, 899.99, 328.0, 299.99, 449.0, 336.0, 690.0, 869.97, 165.0, 489.99, 689.0, 709.99, 239.99, 199.99, 165.0, 598.0, 419.0, 189.99, 229.99, 399.99, 152.08, 749.99, 349.0, 399.0, 599.0, 189.99, 399.0, 370.0, 149.99, 589.99, 219.0, 519.99, 449.98, 248.0, 759.91, 197.99, 149.0, 859.43, 619.69, 899.95, 339.0, 199.99, 999.99, 308.0, 199.99, 789.99, 1149.97, 584.0, 227.98, 146.0, 129.99, 609.99, 349.0, 279.98, 399.0, 275.0, 399.0, 379.99, 229.99, 399.0, 250.0, 329.0, 239.0, 500.0, 179.0, 269.0, 259.0, 559.99, 259.99, 425.0, 259.0, 349.0, 275.0, 710.0, 239.0, 219.0, 175.0, 149.98, 139.72, 110.0, 149.0, 499.0, 299.0, 729.99, 559.99, 179.0, 249.0, 279.98, 699.0, 259.0, 219.99, 289.99, 359.99, 1589.99, 399.99, 249.99, 449.99, 429.0, 149.99, 400.0, 875.99, 380.0, 1179.99, 299.99, 1199.99, 230.0, 349.98, 595.0, 429.0, 349.99, 370.0, 329.99, 449.99, 649.99, 289.0, 199.99, 262.99, 1149.99, 249.99, 1249.99, 1239.99, 299.99, 210.0, 399.0, 239.0, 588.0, 149.72, 198.72, 611.99, 159.99, 469.0, 229.99, 1179.99, 159.0, 599.0, 229.9, 449.99, 328.0, 379.72, 199.72, 367.72, 999.0, 690.0, 698.99, 875.99, 1239.96, 854.99, 759.99, 690.0, 289.0, 220.0, 299.0, 199.99, 149.72, 189.0, 289.99, 149.72, 598.49, 380.0, 259.0, 679.99, 99.99, 185.99, 199.0, 199.0, 120.0, 809.99, 149.0, 146.68, 899.0, 699.0, 449.0, 349.0, 449.0, 499.0, 149.0, 299.0, 589.0, 470.99, 197.99, 499.0, 689.0, 439.0, 439.0, 429.0, 599.0, 599.0, 199.0, 499.0, 467.0, 319.99, 319.99, 339.99, 339.99, 367.99, 249.99, 249.99, 589.99, 999.99, 799.99, 599.99, 699.99, 348.99, 189.99, 205.99, 139.99, 389.99, 949.99, 389.99, 229.99, 357.94, 218.89, 548.85, 429.64, 699.99, 649.99, 539.99, 589.99, 279.99, 347.69, 669.99, 549.0, 399.99, 399.99, 809.99, 579.99, 587.99, 369.99, 549.0, 319.0, 549.0, 469.0, 319.0, 235.0, 319.0, 690.0, 198.0, 299.9, 239.0, 229.99, 289.0, 199.99, 449.0, 399.99, 346.0, 399.99, 299.99, 299.99, 229.99, 159.99, 329.99, 199.0, 389.99, 249.99, 129.99, 679.0, 199.87, 519.99, 239.99, 1049.49, 599.99, 187.99, 489.99, 185.99, 399.0, 399.0, 449.99, 129.99, 789.99], \"xaxis\": \"x\", \"yaxis\": \"y\"}, {\"alignmentgroup\": \"True\", \"bingroup\": \"x\", \"hoverlabel\": {\"namelength\": 0}, \"hovertemplate\": \"Brand=APPLE<br>Price(CAD)=%{x}<br>count=%{y}\", \"legendgroup\": \"APPLE\", \"marker\": {\"color\": \"#EF553B\"}, \"name\": \"APPLE\", \"offsetgroup\": \"APPLE\", \"orientation\": \"v\", \"showlegend\": true, \"type\": \"histogram\", \"x\": [223.4, 354.1, 598.99, 979.99, 624.99, 609.0, 396.0, 979.99, 1519.99, 351.9, 799.99, 644.99, 699.99, 979.99, 399.0, 699.99, 499.99, 178.08, 599.99, 159.0, 1519.99, 159.08, 443.0, 1519.99, 334.5, 1049.99, 809.97, 647.98, 261.5, 899.99, 195.0, 373.93, 599.99, 283.03, 1259.99, 407.47, 299.98, 646.0, 1379.99, 699.99, 899.99, 799.95, 299.0, 334.0, 269.0, 979.99, 599.9, 1229.95, 1379.99, 348.0, 799.99, 379.99, 1049.99, 799.99, 1379.95, 579.99, 1399.99, 629.49, 699.0, 344.02, 359.09, 559.87, 628.99, 348.0, 221.02, 794.0, 407.16, 346.0, 899.99, 598.0, 792.0, 971.4, 699.99, 679.99, 1379.99, 895.59, 679.98, 1399.99, 854.99, 999.0, 374.04, 508.5, 899.99, 1169.99, 874.0, 744.99, 208.4, 419.0, 279.97, 244.95, 699.99, 144.04, 448.4, 167.02, 247.0, 1299.99, 137.07, 643.0, 1259.99, 1299.99, 138.06, 159.09, 809.0, 1049.99, 376.08, 399.99, 999.99, 178.08, 594.99, 935.0, 749.99, 449.97, 187.07, 1449.99, 599.99, 99.98, 326.06, 1099.99, 447.9, 1399.99, 559.79, 268.99, 475.0, 178.88, 809.98, 319.88, 399.98, 563.99, 199.95, 332.79, 1169.99, 749.99, 1169.99, 207.0, 224.95, 449.99, 1259.99, 287.0, 1299.99, 1204.99, 79.98, 154.04, 643.0, 999.99, 299.95, 1124.99, 259.09, 875.0, 1259.99, 229.99, 589.0, 1399.0, 449.97, 193.76, 999.0, 529.0, 649.99, 429.88, 352.0, 749.99, 257.9, 672.99, 435.3, 529.99, 1399.99, 619.99, 749.99, 719.99, 1099.99, 1299.99, 744.99, 98.08, 308.35, 679.99, 619.0, 328.2, 375.99, 139.98, 235.55, 109.68, 299.0, 244.95, 264.95, 379.99, 244.95, 799.99, 699.98, 449.99, 549.99, 445.94, 340.99, 829.99, 739.79, 179.99, 895.15, 643.53, 699.99, 619.99, 159.98, 217.07, 699.99, 199.98, 93.99, 604.99, 1249.99, 629.99, 149.0, 149.98, 88.88, 1500.0, 136.06, 314.94, 80.0, 599.99, 458.99, 899.99, 229.08, 384.89, 617.9, 1089.99, 749.99, 388.08, 1199.99, 999.99, 157.08, 599.0, 443.97, 719.78, 289.9, 629.79, 121.0, 999.99, 692.99, 349.99, 185.0, 199.0, 854.99, 619.99, 799.99, 98.08, 1729.99, 119.99, 609.0, 1999.99, 413.99, 389.0, 279.09, 880.99, 229.99, 98.0, 1589.99, 1500.0, 199.98, 1169.99, 184.95, 599.99, 156.0, 288.65, 499.0, 1300.0, 369.98, 156.08, 299.0, 328.86, 749.0, 1045.95, 750.0, 438.98, 798.99, 658.78, 469.99, 629.99, 979.97, 899.99, 139.99, 158.08, 499.99, 1789.49, 1379.99, 978.99, 299.99, 284.08, 854.99, 445.89, 289.99, 169.98, 209.99, 123.98, 359.99, 988.93, 899.99, 1259.99, 398.91, 262.0, 168.08, 158.06, 869.0, 287.99, 679.99, 949.99, 699.99, 209.0, 1500.0, 879.0, 834.15, 1099.95, 234.04, 692.87, 138.0, 90.0, 429.19, 229.0, 999.99, 644.99, 179.99, 286.05, 499.98, 184.0, 1300.0, 168.88, 599.99, 1199.0, 99.99, 1199.99, 1000.0, 1259.99, 199.98, 99.98, 695.05, 834.15, 639.99, 336.06, 834.15, 369.98, 266.95, 499.99, 349.98, 289.98, 569.89, 1469.0, 700.0, 659.0, 692.99, 169.99, 619.0, 506.29, 244.95, 248.0, 249.08, 262.0, 369.99, 1300.0, 219.88, 128.0, 109.24, 499.99, 249.99, 675.99, 138.36, 109.89, 196.0, 584.97, 924.0, 854.99, 299.95, 999.0, 935.0, 639.98, 138.88, 199.89, 188.95, 874.1, 298.98, 149.68, 296.99, 126.98, 409.99, 329.98, 348.88, 149.68, 388.98, 267.07, 362.18, 388.98, 288.68, 299.0, 90.0, 600.0, 399.98, 129.98, 359.0, 499.0, 319.98, 429.0, 399.0, 329.98, 385.99, 340.99, 384.99, 275.0, 1099.0, 802.99, 670.99, 719.99, 159.98, 599.0, 934.99, 670.99, 311.99, 398.68, 279.98, 329.0, 699.99, 299.0, 849.99, 249.0, 129.0, 335.95, 599.0, 339.0, 139.0, 369.0, 359.0, 298.68, 279.0, 399.0, 199.0, 318.99, 279.0, 359.0, 289.0, 399.0, 299.0, 379.0, 1277.99, 499.0, 429.0, 359.0, 295.0, 735.99, 411.99, 340.99, 758.99, 296.99, 692.99, 399.0, 179.0, 399.0, 329.0, 299.0, 448.99, 299.0, 168.89, 399.0, 349.0, 359.0, 359.0, 392.95, 299.0, 169.68, 299.0, 529.99, 349.0, 899.0, 299.99, 329.0, 189.99, 600.0, 458.99, 199.0, 934.99, 881.99, 729.0, 741.99, 384.99, 934.99, 439.99, 584.99, 296.99, 439.99, 439.99, 411.99, 758.99, 356.99, 199.95, 626.99, 875.99, 340.99, 279.0, 299.0, 339.0, 199.0, 299.0, 295.99, 399.0, 289.0, 399.0, 349.0, 604.99, 359.0, 384.99, 249.0, 399.0, 192.95, 179.95, 296.99, 824.99, 934.99, 356.99, 340.99, 252.99, 325.0, 399.0, 737.99, 758.99, 368.08, 494.99, 318.99, 325.0, 289.0, 289.0, 139.0, 170.0, 120.0, 199.99, 499.0, 459.0, 399.0, 289.98, 394.48, 128.88, 179.98, 449.99, 399.0, 299.0, 749.99, 295.95, 295.95, 139.0, 299.0, 658.95, 418.71, 356.99, 380.99, 310.99, 299.0, 199.0, 934.99, 199.0, 849.94, 228.94, 180.0, 150.0, 799.0, 318.88, 268.68, 299.98, 549.99, 299.98, 399.98, 499.99, 199.0, 369.0, 289.0, 188.98, 339.98, 137.58, 249.98, 699.98, 169.98, 195.0, 259.0, 229.99, 288.92, 389.99, 429.0, 199.68, 349.0, 550.0, 299.0, 349.0, 349.0, 279.0, 199.98, 379.0, 359.0, 499.0, 694.99, 249.0, 289.0, 579.0, 529.0, 379.0, 699.0, 269.97, 899.99, 329.98, 490.0, 298.0, 209.95, 379.0, 149.98, 283.08, 299.0, 299.0, 459.99, 599.0, 449.0, 209.99, 198.88, 411.99, 229.99, 274.99, 439.99, 411.99, 258.99, 179.88, 399.99, 384.99, 268.98, 284.0, 245.88, 314.95, 670.99, 1100.0, 378.95, 389.99, 308.95, 289.0, 100.0, 409.99, 308.28, 307.93, 299.0, 903.99, 923.99, 379.0, 379.0, 279.0, 159.98, 259.0, 279.99, 510.0, 524.99, 179.95, 1299.0, 258.08, 499.99, 187.77, 186.83, 123.0, 204.0, 171.06, 209.99, 209.99, 209.99, 209.99, 209.99, 199.99, 309.99, 184.95, 215.99, 249.86, 269.99, 349.99, 257.99, 299.99, 274.49, 498.89, 278.46, 269.95, 138.59, 237.99, 349.99, 499.99, 849.99, 949.99, 949.99, 949.99, 849.99, 499.99, 411.99, 247.98, 225.88, 199.95, 357.0, 297.86, 289.95, 519.54, 169.99, 284.69, 146.67, 174.98, 289.69, 339.64, 739.54, 474.64, 284.69, 448.94, 339.69, 157.64, 153.6, 429.64, 149.54, 334.69, 449.54, 339.64, 319.64, 418.44, 339.69, 149.95, 424.54, 158.91, 338.94, 439.69, 239.54, 499.99, 139.29, 459.99, 429.99, 599.99, 619.99, 439.99, 109.99, 626.99, 293.95, 538.49, 269.99, 379.99, 298.95, 390.9, 1199.99, 399.99, 664.99, 184.68, 328.23, 244.89, 298.69, 429.99, 588.95, 308.46, 234.95, 410.76, 1025.0, 398.08, 138.52, 408.68, 202.49, 567.14, 249.95, 412.93, 379.89, 249.95, 399.95, 248.99, 195.0, 399.99, 199.0, 349.99, 399.99, 289.99, 289.99, 289.99, 399.99, 729.99, 729.99, 369.0, 319.0, 729.99, 729.99, 186.06, 899.99, 930.0, 128.08, 299.0, 469.0, 439.99, 396.99, 348.86, 198.95, 140.0, 440.0, 440.0, 190.0, 184.97, 725.0, 194.64, 241.95, 989.99, 179.99, 139.99, 159.48, 228.95, 349.95, 139.99, 199.99, 375.0, 375.0, 198.78, 675.0, 675.0, 209.26, 619.99, 499.99, 328.68, 165.39, 158.74, 149.95, 420.86, 149.95, 375.0, 398.95, 179.99, 999.99, 319.99, 1059.99, 859.99, 159.99, 219.99, 389.0, 159.99, 159.99, 319.99, 247.0, 267.95, 309.0, 315.0, 325.0, 309.0, 269.0, 289.0, 655.0, 875.0, 325.0, 645.0, 269.0, 249.0, 325.0, 195.0, 245.0, 279.0, 245.0, 285.0, 279.0, 325.0, 325.0, 398.63, 499.0, 285.0, 935.0, 245.0, 279.0, 229.0, 279.0, 289.0, 1179.0, 279.0, 575.0, 411.94, 285.0, 679.0, 329.0, 269.0, 1035.0, 935.0, 325.0, 289.0, 319.0, 499.0, 499.0, 98.0, 279.0, 315.0, 279.0, 525.0, 319.0, 315.0, 359.0, 315.0, 129.99, 308.89, 499.99, 199.99, 149.99, 156.06, 134.04, 449.99, 299.99, 149.99, 299.99, 699.99, 179.99, 399.99, 499.99, 189.99, 159.99, 249.99, 299.99, 749.99, 299.99, 169.99, 299.99, 179.99, 888.0, 599.99, 159.99, 879.95, 899.99, 209.0, 1299.0, 159.99, 239.99, 699.99, 1399.0, 199.99, 268.88, 299.99, 1549.99, 199.99, 959.99, 149.99, 824.99, 349.95, 189.92, 191.26, 285.99, 729.99, 499.99, 379.95, 369.95, 363.95, 341.18, 332.76, 169.99, 123.95, 409.0, 1619.99, 1304.99, 1529.99, 388.86, 854.99, 337.95, 333.95, 287.46, 285.0, 245.0, 309.0, 285.0, 245.0, 148.54, 189.86, 249.97, 1049.99, 735.99, 279.99, 239.42, 250.0, 188.89, 226.26, 248.36, 422.95, 222.95, 259.65, 529.0, 339.46, 173.16, 429.43, 234.26, 228.86, 658.78, 407.16, 295.84, 224.17, 224.17, 658.78, 224.17, 735.03, 895.15, 295.84, 324.43, 148.95, 352.95, 719.78, 719.78, 825.0, 371.0, 194.0, 859.99], \"xaxis\": \"x\", \"yaxis\": \"y\"}],\n",
       "                        {\"barmode\": \"relative\", \"legend\": {\"title\": {\"text\": \"Brand\"}, \"tracegroupgap\": 0}, \"margin\": {\"t\": 60}, \"template\": {\"data\": {\"bar\": [{\"error_x\": {\"color\": \"#2a3f5f\"}, \"error_y\": {\"color\": \"#2a3f5f\"}, \"marker\": {\"line\": {\"color\": \"#E5ECF6\", \"width\": 0.5}}, \"type\": \"bar\"}], \"barpolar\": [{\"marker\": {\"line\": {\"color\": \"#E5ECF6\", \"width\": 0.5}}, \"type\": \"barpolar\"}], \"carpet\": [{\"aaxis\": {\"endlinecolor\": \"#2a3f5f\", \"gridcolor\": \"white\", \"linecolor\": \"white\", \"minorgridcolor\": \"white\", \"startlinecolor\": \"#2a3f5f\"}, \"baxis\": {\"endlinecolor\": \"#2a3f5f\", \"gridcolor\": \"white\", \"linecolor\": \"white\", \"minorgridcolor\": \"white\", \"startlinecolor\": \"#2a3f5f\"}, \"type\": \"carpet\"}], \"choropleth\": [{\"colorbar\": {\"outlinewidth\": 0, \"ticks\": \"\"}, \"type\": \"choropleth\"}], \"contour\": [{\"colorbar\": {\"outlinewidth\": 0, \"ticks\": \"\"}, \"colorscale\": [[0.0, \"#0d0887\"], [0.1111111111111111, \"#46039f\"], [0.2222222222222222, \"#7201a8\"], [0.3333333333333333, \"#9c179e\"], [0.4444444444444444, \"#bd3786\"], [0.5555555555555556, \"#d8576b\"], [0.6666666666666666, \"#ed7953\"], [0.7777777777777778, \"#fb9f3a\"], [0.8888888888888888, \"#fdca26\"], [1.0, \"#f0f921\"]], \"type\": \"contour\"}], \"contourcarpet\": [{\"colorbar\": {\"outlinewidth\": 0, \"ticks\": \"\"}, \"type\": \"contourcarpet\"}], \"heatmap\": [{\"colorbar\": {\"outlinewidth\": 0, \"ticks\": \"\"}, \"colorscale\": [[0.0, \"#0d0887\"], [0.1111111111111111, \"#46039f\"], [0.2222222222222222, \"#7201a8\"], [0.3333333333333333, \"#9c179e\"], [0.4444444444444444, \"#bd3786\"], [0.5555555555555556, \"#d8576b\"], [0.6666666666666666, \"#ed7953\"], [0.7777777777777778, \"#fb9f3a\"], [0.8888888888888888, \"#fdca26\"], [1.0, \"#f0f921\"]], \"type\": \"heatmap\"}], \"heatmapgl\": [{\"colorbar\": {\"outlinewidth\": 0, \"ticks\": \"\"}, \"colorscale\": [[0.0, \"#0d0887\"], [0.1111111111111111, \"#46039f\"], [0.2222222222222222, \"#7201a8\"], [0.3333333333333333, \"#9c179e\"], [0.4444444444444444, \"#bd3786\"], [0.5555555555555556, \"#d8576b\"], [0.6666666666666666, \"#ed7953\"], [0.7777777777777778, \"#fb9f3a\"], [0.8888888888888888, \"#fdca26\"], [1.0, \"#f0f921\"]], \"type\": \"heatmapgl\"}], \"histogram\": [{\"marker\": {\"colorbar\": {\"outlinewidth\": 0, \"ticks\": \"\"}}, \"type\": \"histogram\"}], \"histogram2d\": [{\"colorbar\": {\"outlinewidth\": 0, \"ticks\": \"\"}, \"colorscale\": [[0.0, \"#0d0887\"], [0.1111111111111111, \"#46039f\"], [0.2222222222222222, \"#7201a8\"], [0.3333333333333333, \"#9c179e\"], [0.4444444444444444, \"#bd3786\"], [0.5555555555555556, \"#d8576b\"], [0.6666666666666666, \"#ed7953\"], [0.7777777777777778, \"#fb9f3a\"], [0.8888888888888888, \"#fdca26\"], [1.0, \"#f0f921\"]], \"type\": \"histogram2d\"}], \"histogram2dcontour\": [{\"colorbar\": {\"outlinewidth\": 0, \"ticks\": \"\"}, \"colorscale\": [[0.0, \"#0d0887\"], [0.1111111111111111, \"#46039f\"], [0.2222222222222222, \"#7201a8\"], [0.3333333333333333, \"#9c179e\"], [0.4444444444444444, \"#bd3786\"], [0.5555555555555556, \"#d8576b\"], [0.6666666666666666, \"#ed7953\"], [0.7777777777777778, \"#fb9f3a\"], [0.8888888888888888, \"#fdca26\"], [1.0, \"#f0f921\"]], \"type\": \"histogram2dcontour\"}], \"mesh3d\": [{\"colorbar\": {\"outlinewidth\": 0, \"ticks\": \"\"}, \"type\": \"mesh3d\"}], \"parcoords\": [{\"line\": {\"colorbar\": {\"outlinewidth\": 0, \"ticks\": \"\"}}, \"type\": \"parcoords\"}], \"pie\": [{\"automargin\": true, \"type\": \"pie\"}], \"scatter\": [{\"marker\": {\"colorbar\": {\"outlinewidth\": 0, \"ticks\": \"\"}}, \"type\": \"scatter\"}], \"scatter3d\": [{\"line\": {\"colorbar\": {\"outlinewidth\": 0, \"ticks\": \"\"}}, \"marker\": {\"colorbar\": {\"outlinewidth\": 0, \"ticks\": \"\"}}, \"type\": \"scatter3d\"}], \"scattercarpet\": [{\"marker\": {\"colorbar\": {\"outlinewidth\": 0, \"ticks\": \"\"}}, \"type\": \"scattercarpet\"}], \"scattergeo\": [{\"marker\": {\"colorbar\": {\"outlinewidth\": 0, \"ticks\": \"\"}}, \"type\": \"scattergeo\"}], \"scattergl\": [{\"marker\": {\"colorbar\": {\"outlinewidth\": 0, \"ticks\": \"\"}}, \"type\": \"scattergl\"}], \"scattermapbox\": [{\"marker\": {\"colorbar\": {\"outlinewidth\": 0, \"ticks\": \"\"}}, \"type\": \"scattermapbox\"}], \"scatterpolar\": [{\"marker\": {\"colorbar\": {\"outlinewidth\": 0, \"ticks\": \"\"}}, \"type\": \"scatterpolar\"}], \"scatterpolargl\": [{\"marker\": {\"colorbar\": {\"outlinewidth\": 0, \"ticks\": \"\"}}, \"type\": \"scatterpolargl\"}], \"scatterternary\": [{\"marker\": {\"colorbar\": {\"outlinewidth\": 0, \"ticks\": \"\"}}, \"type\": \"scatterternary\"}], \"surface\": [{\"colorbar\": {\"outlinewidth\": 0, \"ticks\": \"\"}, \"colorscale\": [[0.0, \"#0d0887\"], [0.1111111111111111, \"#46039f\"], [0.2222222222222222, \"#7201a8\"], [0.3333333333333333, \"#9c179e\"], [0.4444444444444444, \"#bd3786\"], [0.5555555555555556, \"#d8576b\"], [0.6666666666666666, \"#ed7953\"], [0.7777777777777778, \"#fb9f3a\"], [0.8888888888888888, \"#fdca26\"], [1.0, \"#f0f921\"]], \"type\": \"surface\"}], \"table\": [{\"cells\": {\"fill\": {\"color\": \"#EBF0F8\"}, \"line\": {\"color\": \"white\"}}, \"header\": {\"fill\": {\"color\": \"#C8D4E3\"}, \"line\": {\"color\": \"white\"}}, \"type\": \"table\"}]}, \"layout\": {\"annotationdefaults\": {\"arrowcolor\": \"#2a3f5f\", \"arrowhead\": 0, \"arrowwidth\": 1}, \"coloraxis\": {\"colorbar\": {\"outlinewidth\": 0, \"ticks\": \"\"}}, \"colorscale\": {\"diverging\": [[0, \"#8e0152\"], [0.1, \"#c51b7d\"], [0.2, \"#de77ae\"], [0.3, \"#f1b6da\"], [0.4, \"#fde0ef\"], [0.5, \"#f7f7f7\"], [0.6, \"#e6f5d0\"], [0.7, \"#b8e186\"], [0.8, \"#7fbc41\"], [0.9, \"#4d9221\"], [1, \"#276419\"]], \"sequential\": [[0.0, \"#0d0887\"], [0.1111111111111111, \"#46039f\"], [0.2222222222222222, \"#7201a8\"], [0.3333333333333333, \"#9c179e\"], [0.4444444444444444, \"#bd3786\"], [0.5555555555555556, \"#d8576b\"], [0.6666666666666666, \"#ed7953\"], [0.7777777777777778, \"#fb9f3a\"], [0.8888888888888888, \"#fdca26\"], [1.0, \"#f0f921\"]], \"sequentialminus\": [[0.0, \"#0d0887\"], [0.1111111111111111, \"#46039f\"], [0.2222222222222222, \"#7201a8\"], [0.3333333333333333, \"#9c179e\"], [0.4444444444444444, \"#bd3786\"], [0.5555555555555556, \"#d8576b\"], [0.6666666666666666, \"#ed7953\"], [0.7777777777777778, \"#fb9f3a\"], [0.8888888888888888, \"#fdca26\"], [1.0, \"#f0f921\"]]}, \"colorway\": [\"#636efa\", \"#EF553B\", \"#00cc96\", \"#ab63fa\", \"#FFA15A\", \"#19d3f3\", \"#FF6692\", \"#B6E880\", \"#FF97FF\", \"#FECB52\"], \"font\": {\"color\": \"#2a3f5f\"}, \"geo\": {\"bgcolor\": \"white\", \"lakecolor\": \"white\", \"landcolor\": \"#E5ECF6\", \"showlakes\": true, \"showland\": true, \"subunitcolor\": \"white\"}, \"hoverlabel\": {\"align\": \"left\"}, \"hovermode\": \"closest\", \"mapbox\": {\"style\": \"light\"}, \"paper_bgcolor\": \"white\", \"plot_bgcolor\": \"#E5ECF6\", \"polar\": {\"angularaxis\": {\"gridcolor\": \"white\", \"linecolor\": \"white\", \"ticks\": \"\"}, \"bgcolor\": \"#E5ECF6\", \"radialaxis\": {\"gridcolor\": \"white\", \"linecolor\": \"white\", \"ticks\": \"\"}}, \"scene\": {\"xaxis\": {\"backgroundcolor\": \"#E5ECF6\", \"gridcolor\": \"white\", \"gridwidth\": 2, \"linecolor\": \"white\", \"showbackground\": true, \"ticks\": \"\", \"zerolinecolor\": \"white\"}, \"yaxis\": {\"backgroundcolor\": \"#E5ECF6\", \"gridcolor\": \"white\", \"gridwidth\": 2, \"linecolor\": \"white\", \"showbackground\": true, \"ticks\": \"\", \"zerolinecolor\": \"white\"}, \"zaxis\": {\"backgroundcolor\": \"#E5ECF6\", \"gridcolor\": \"white\", \"gridwidth\": 2, \"linecolor\": \"white\", \"showbackground\": true, \"ticks\": \"\", \"zerolinecolor\": \"white\"}}, \"shapedefaults\": {\"line\": {\"color\": \"#2a3f5f\"}}, \"ternary\": {\"aaxis\": {\"gridcolor\": \"white\", \"linecolor\": \"white\", \"ticks\": \"\"}, \"baxis\": {\"gridcolor\": \"white\", \"linecolor\": \"white\", \"ticks\": \"\"}, \"bgcolor\": \"#E5ECF6\", \"caxis\": {\"gridcolor\": \"white\", \"linecolor\": \"white\", \"ticks\": \"\"}}, \"title\": {\"x\": 0.05}, \"xaxis\": {\"automargin\": true, \"gridcolor\": \"white\", \"linecolor\": \"white\", \"ticks\": \"\", \"title\": {\"standoff\": 15}, \"zerolinecolor\": \"white\", \"zerolinewidth\": 2}, \"yaxis\": {\"automargin\": true, \"gridcolor\": \"white\", \"linecolor\": \"white\", \"ticks\": \"\", \"title\": {\"standoff\": 15}, \"zerolinecolor\": \"white\", \"zerolinewidth\": 2}}}, \"xaxis\": {\"anchor\": \"y\", \"domain\": [0.0, 1.0], \"title\": {\"text\": \"Price(CAD)\"}}, \"yaxis\": {\"anchor\": \"x\", \"domain\": [0.0, 1.0], \"title\": {\"text\": \"count\"}}},\n",
       "                        {\"responsive\": true}\n",
       "                    ).then(function(){\n",
       "                            \n",
       "var gd = document.getElementById('dfe84943-ec6d-4b87-a7f3-87dd49a7ffd3');\n",
       "var x = new MutationObserver(function (mutations, observer) {{\n",
       "        var display = window.getComputedStyle(gd).display;\n",
       "        if (!display || display === 'none') {{\n",
       "            console.log([gd, 'removed!']);\n",
       "            Plotly.purge(gd);\n",
       "            observer.disconnect();\n",
       "        }}\n",
       "}});\n",
       "\n",
       "// Listen for the removal of the full notebook cells\n",
       "var notebookContainer = gd.closest('#notebook-container');\n",
       "if (notebookContainer) {{\n",
       "    x.observe(notebookContainer, {childList: true});\n",
       "}}\n",
       "\n",
       "// Listen for the clearing of the current output cell\n",
       "var outputEl = gd.closest('.output');\n",
       "if (outputEl) {{\n",
       "    x.observe(outputEl, {childList: true});\n",
       "}}\n",
       "\n",
       "                        })\n",
       "                };\n",
       "                });\n",
       "            </script>\n",
       "        </div>"
      ]
     },
     "metadata": {},
     "output_type": "display_data"
    }
   ],
   "source": [
    "# ___Histogram of price for two brands\n",
    "fig = px.histogram(Samsung_Apple,x='Price(CAD)',color=\"Brand\")\n",
    "fig.show()\n",
    "\n"
   ]
  },
  {
   "cell_type": "code",
   "execution_count": 47,
   "metadata": {},
   "outputs": [
    {
     "data": {
      "text/html": [
       "<div>\n",
       "<style scoped>\n",
       "    .dataframe tbody tr th:only-of-type {\n",
       "        vertical-align: middle;\n",
       "    }\n",
       "\n",
       "    .dataframe tbody tr th {\n",
       "        vertical-align: top;\n",
       "    }\n",
       "\n",
       "    .dataframe thead tr th {\n",
       "        text-align: left;\n",
       "    }\n",
       "\n",
       "    .dataframe thead tr:last-of-type th {\n",
       "        text-align: right;\n",
       "    }\n",
       "</style>\n",
       "<table border=\"1\" class=\"dataframe\">\n",
       "  <thead>\n",
       "    <tr>\n",
       "      <th></th>\n",
       "      <th></th>\n",
       "      <th colspan=\"2\" halign=\"left\">Front-Facing Camera Resolution(MP)</th>\n",
       "      <th colspan=\"2\" halign=\"left\">Memory-Built-in(GB)</th>\n",
       "      <th colspan=\"2\" halign=\"left\">Ram_size(GB)</th>\n",
       "      <th colspan=\"2\" halign=\"left\">Rear Camera Resolution(MP)</th>\n",
       "    </tr>\n",
       "    <tr>\n",
       "      <th></th>\n",
       "      <th></th>\n",
       "      <th>max</th>\n",
       "      <th>min</th>\n",
       "      <th>max</th>\n",
       "      <th>min</th>\n",
       "      <th>max</th>\n",
       "      <th>min</th>\n",
       "      <th>max</th>\n",
       "      <th>min</th>\n",
       "    </tr>\n",
       "    <tr>\n",
       "      <th>Brand</th>\n",
       "      <th>Price(CAD)</th>\n",
       "      <th></th>\n",
       "      <th></th>\n",
       "      <th></th>\n",
       "      <th></th>\n",
       "      <th></th>\n",
       "      <th></th>\n",
       "      <th></th>\n",
       "      <th></th>\n",
       "    </tr>\n",
       "  </thead>\n",
       "  <tbody>\n",
       "    <tr>\n",
       "      <th rowspan=\"4\" valign=\"top\">APPLE</th>\n",
       "      <th>(0, 500]</th>\n",
       "      <td>vga videocalling over wi</td>\n",
       "      <td>1.2</td>\n",
       "      <td>8</td>\n",
       "      <td>128</td>\n",
       "      <td>4</td>\n",
       "      <td>1</td>\n",
       "      <td>x3 12</td>\n",
       "      <td>12</td>\n",
       "    </tr>\n",
       "    <tr>\n",
       "      <th>(500, 1000]</th>\n",
       "      <td>720p hd</td>\n",
       "      <td>1.2</td>\n",
       "      <td>64</td>\n",
       "      <td>128</td>\n",
       "      <td>4</td>\n",
       "      <td>1</td>\n",
       "      <td>dual 12</td>\n",
       "      <td>12</td>\n",
       "    </tr>\n",
       "    <tr>\n",
       "      <th>(1000, 1500]</th>\n",
       "      <td>7</td>\n",
       "      <td>12</td>\n",
       "      <td>64</td>\n",
       "      <td>128</td>\n",
       "      <td>4</td>\n",
       "      <td>2</td>\n",
       "      <td>x3 12</td>\n",
       "      <td>12</td>\n",
       "    </tr>\n",
       "    <tr>\n",
       "      <th>(1500, 2000]</th>\n",
       "      <td>7</td>\n",
       "      <td>12</td>\n",
       "      <td>64</td>\n",
       "      <td>256</td>\n",
       "      <td>4</td>\n",
       "      <td>2</td>\n",
       "      <td>x3 12</td>\n",
       "      <td>12</td>\n",
       "    </tr>\n",
       "    <tr>\n",
       "      <th rowspan=\"5\" valign=\"top\">SAMSUNG</th>\n",
       "      <th>(0, 500]</th>\n",
       "      <td>no</td>\n",
       "      <td>1.9</td>\n",
       "      <td>8</td>\n",
       "      <td>128</td>\n",
       "      <td>8</td>\n",
       "      <td>1</td>\n",
       "      <td>single 13</td>\n",
       "      <td>12</td>\n",
       "    </tr>\n",
       "    <tr>\n",
       "      <th>(500, 1000]</th>\n",
       "      <td>front : 5</td>\n",
       "      <td>10</td>\n",
       "      <td>8</td>\n",
       "      <td>128</td>\n",
       "      <td>8</td>\n",
       "      <td>1</td>\n",
       "      <td>x3 camera; 12</td>\n",
       "      <td>12</td>\n",
       "    </tr>\n",
       "    <tr>\n",
       "      <th>(1000, 1500]</th>\n",
       "      <td>8</td>\n",
       "      <td>10</td>\n",
       "      <td>512</td>\n",
       "      <td>128</td>\n",
       "      <td>8</td>\n",
       "      <td>12</td>\n",
       "      <td>x3 camera; 12</td>\n",
       "      <td>12</td>\n",
       "    </tr>\n",
       "    <tr>\n",
       "      <th>(1500, 2000]</th>\n",
       "      <td>5</td>\n",
       "      <td>10</td>\n",
       "      <td>512</td>\n",
       "      <td>1000</td>\n",
       "      <td>8</td>\n",
       "      <td>12</td>\n",
       "      <td>8</td>\n",
       "      <td>12</td>\n",
       "    </tr>\n",
       "    <tr>\n",
       "      <th>(2000, 2500]</th>\n",
       "      <td>5</td>\n",
       "      <td>5</td>\n",
       "      <td>512</td>\n",
       "      <td>512</td>\n",
       "      <td>2</td>\n",
       "      <td>2</td>\n",
       "      <td>8</td>\n",
       "      <td>8</td>\n",
       "    </tr>\n",
       "  </tbody>\n",
       "</table>\n",
       "</div>"
      ],
      "text/plain": [
       "                     Front-Facing Camera Resolution(MP)       \\\n",
       "                                                    max  min   \n",
       "Brand   Price(CAD)                                             \n",
       "APPLE   (0, 500]               vga videocalling over wi  1.2   \n",
       "        (500, 1000]                             720p hd  1.2   \n",
       "        (1000, 1500]                                  7   12   \n",
       "        (1500, 2000]                                  7   12   \n",
       "SAMSUNG (0, 500]                                     no  1.9   \n",
       "        (500, 1000]                           front : 5   10   \n",
       "        (1000, 1500]                                  8   10   \n",
       "        (1500, 2000]                                  5   10   \n",
       "        (2000, 2500]                                  5    5   \n",
       "\n",
       "                     Memory-Built-in(GB)       Ram_size(GB)      \\\n",
       "                                     max   min          max min   \n",
       "Brand   Price(CAD)                                                \n",
       "APPLE   (0, 500]                       8   128            4   1   \n",
       "        (500, 1000]                   64   128            4   1   \n",
       "        (1000, 1500]                  64   128            4   2   \n",
       "        (1500, 2000]                  64   256            4   2   \n",
       "SAMSUNG (0, 500]                       8   128            8   1   \n",
       "        (500, 1000]                    8   128            8   1   \n",
       "        (1000, 1500]                 512   128            8  12   \n",
       "        (1500, 2000]                 512  1000            8  12   \n",
       "        (2000, 2500]                 512   512            2   2   \n",
       "\n",
       "                     Rear Camera Resolution(MP)        \n",
       "                                              max min  \n",
       "Brand   Price(CAD)                                     \n",
       "APPLE   (0, 500]                            x3 12  12  \n",
       "        (500, 1000]                       dual 12  12  \n",
       "        (1000, 1500]                        x3 12  12  \n",
       "        (1500, 2000]                        x3 12  12  \n",
       "SAMSUNG (0, 500]                        single 13  12  \n",
       "        (500, 1000]                 x3 camera; 12  12  \n",
       "        (1000, 1500]                x3 camera; 12  12  \n",
       "        (1500, 2000]                            8  12  \n",
       "        (2000, 2500]                            8   8  "
      ]
     },
     "execution_count": 47,
     "metadata": {},
     "output_type": "execute_result"
    }
   ],
   "source": [
    "       \n",
    "price_range = pd.cut(Samsung_Apple['Price(CAD)'], [0,500, 1000, 1500,2000,2500,3000])\n",
    "table = pd.pivot_table(Samsung_Apple, values=['Ram_size(GB)', 'Memory-Built-in(GB)','Front-Facing Camera Resolution(MP)','Rear Camera Resolution(MP)  '\n",
    "], index=['Brand', price_range],\n",
    "                    aggfunc={'Ram_size(GB)': [max,min],\n",
    "                         'Memory-Built-in(GB)' :[max,min], 'Front-Facing Camera Resolution(MP)' :[max,min], 'Rear Camera Resolution(MP)  ' :[max,min]\n",
    "                            })\n",
    "                    \n",
    "table"
   ]
  },
  {
   "cell_type": "code",
   "execution_count": 75,
   "metadata": {},
   "outputs": [],
   "source": [
    "\n",
    "# --- the distribution of phone based on the colour\n",
    "\n",
    "phone_colour=Samsung_pd['Colour'].value_counts()\n",
    "m=phone_colour.index\n",
    "n=[]\n",
    "for i in m:\n",
    "    \n",
    "    if 'white' in i.lower():\n",
    "        i=\"white\"\n",
    "        n.append(i.lower())\n",
    "    \n",
    "    if 'blue' in i.lower():\n",
    "        i=\"blue\"\n",
    "        n.append(i.lower())\n",
    "        \n",
    "    if 'purple' in i.lower():\n",
    "        i=\"purple\"\n",
    "        n.append(i.lower())\n",
    "            \n",
    "            \n",
    "\n",
    "           \n",
    "    \n",
    "    if 'black' == i.lower():\n",
    "        i=\"  #000000\"\n",
    "        n.append(i.lower())\n",
    "\n",
    "    if 'black onyx' == i.lower():\n",
    "        i=\" #333333\"\n",
    "        n.append(i.lower())\n",
    "        \n",
    "    if 'prism black' == i.lower():\n",
    "        i=\" #404040\"\n",
    "        n.append(i.lower())\n",
    "        \n",
    "    if 'aura black' == i.lower():\n",
    "        i=\" #0d0d0d\"\n",
    "        n.append(i.lower())\n",
    "        \n",
    "    if 'midnight black' == i.lower():\n",
    "        i=\"  #1a1a1a\"\n",
    "        n.append(i.lower())\n",
    "        \n",
    "    if 'red' in i.lower():\n",
    "        i=\"red\"\n",
    "        n.append(i.lower())\n",
    "        \n",
    "    if 'white' in i.lower():\n",
    "        i=\"white\"\n",
    "        n.append(i.lower())\n",
    "        \n",
    "    \n",
    "       \n",
    "    if 'grey'== i.lower():\n",
    "        i=\"hsl(30, 0%, 50%)\"\n",
    "        n.append(i.lower())\n",
    "        \n",
    "       \n",
    "    if 'space gray'== i.lower():\n",
    "        i= ' #8c8c8c'\n",
    "        n.append(i.lower())\n",
    "        \n",
    "    if 'space grey'== i.lower():\n",
    "        i= ' #8c8c8c'\n",
    "        n.append(i.lower())\n",
    "    if 'black' in i.lower():\n",
    "        i=\"  #000000\"\n",
    "        n.append(i.lower())\n",
    "        \n",
    "\n",
    "        \n",
    "    if 'titanium grey'== i.lower():\n",
    "        i=\"grey\"\n",
    "        n.append(i.lower())\n",
    "        \n",
    "        \n",
    "    if 'silver' in i.lower():\n",
    "        i=\"silver\"\n",
    "        n.append(i.lower())\n",
    "        \n",
    "  \n",
    "        \n",
    "    if 'red' in i.lower():\n",
    "        i=\"red\"\n",
    "        n.append(i.lower())\n",
    "        \n",
    "    \n",
    "        \n",
    "    if 'rose gold' in i.lower():\n",
    "        i=\"pink\"\n",
    "        n.append(i)\n",
    "           \n",
    "        \n",
    "    if 'gold' in i.lower():\n",
    "        i='gold'\n",
    "        n.append(i)\n",
    "        \n",
    "    if 'green' in i.lower():\n",
    "        i=\"green\"\n",
    "        n.append(i.lower())\n",
    "        \n",
    "   \n",
    "        \n",
    "        \n",
    "        \n",
    "        \n"
   ]
  },
  {
   "cell_type": "code",
   "execution_count": 81,
   "metadata": {},
   "outputs": [
    {
     "data": {
      "application/vnd.plotly.v1+json": {
       "config": {
        "plotlyServerURL": "https://plot.ly"
       },
       "data": [
        {
         "marker": {
          "color": [
           "  #000000",
           "  #1a1a1a",
           " #404040",
           "white",
           "white",
           "grey",
           "purple",
           " #333333",
           "blue",
           "  #000000",
           "silver",
           "blue",
           "blue",
           "white",
           "white",
           "gold",
           "gold",
           "blue",
           " #0d0d0d",
           "  #000000",
           "silver",
           "white",
           "white",
           "red",
           "red",
           "silver",
           "green",
           "blue",
           "purple",
           "purple",
           "  #000000",
           "  #000000",
           "red",
           "red",
           "  #000000",
           "  #000000",
           "  #000000",
           " #404040",
           "blue",
           "blue",
           "gold",
           "white",
           "white",
           "  #000000",
           "blue",
           "white",
           "white",
           "gold",
           "blue",
           "  #000000",
           "white",
           "white",
           "gold",
           "  #000000",
           "purple",
           "  #000000",
           "purple"
          ]
         },
         "type": "bar",
         "x": [
          "Black",
          "Midnight Black",
          "Prism Black",
          "Prism White",
          "Titanium Grey",
          "Orchid Gray",
          "Lilac Purple",
          "Black Onyx",
          "Blue",
          "black",
          "Arctic Silver",
          "Ocean Blue",
          "Aura Glow",
          "Prism Blue",
          "White",
          "Gold",
          "Gold Platinum",
          "Coral Blue",
          "Aura Black",
          "Black Sapphire",
          "Silver Titanium",
          "White Pearl",
          "Red",
          "Orchid Grey",
          "Silver",
          "Prism Green",
          "Deep Sea Blue",
          "Purple",
          "Lavender Purple",
          "Ceramic Black",
          "Mirror Black",
          "RED",
          "Titamium Grey",
          "Black Pearl",
          "Sapphire Black",
          "BLACK",
          "PRISM BLACK",
          "black/Blue",
          "BLUE",
          "Tungsten Gold",
          "Aura White",
          "Charcoal Black",
          "Deepsea Blue",
          "Ghost White",
          "Angel Gold",
          "Pebble Blue",
          "Black Mist",
          "violet",
          "Prism Crush White",
          "Sunrise Gold",
          "Aura Pink",
          "Prism Crush Black",
          "Mirror Purple",
          "Black Sky",
          "LILAC PURPLE",
          "Canary Yellow",
          "Meteor Gray"
         ],
         "y": [
          115,
          48,
          38,
          29,
          22,
          21,
          20,
          17,
          17,
          16,
          14,
          12,
          11,
          10,
          10,
          9,
          9,
          8,
          8,
          7,
          6,
          6,
          5,
          5,
          5,
          5,
          4,
          4,
          4,
          4,
          3,
          3,
          3,
          3,
          2,
          2,
          2,
          2,
          2,
          2,
          2,
          2,
          2,
          1,
          1,
          1,
          1,
          1,
          1,
          1,
          1,
          1,
          1,
          1,
          1,
          1,
          1
         ]
        }
       ],
       "layout": {
        "template": {
         "data": {
          "bar": [
           {
            "error_x": {
             "color": "#2a3f5f"
            },
            "error_y": {
             "color": "#2a3f5f"
            },
            "marker": {
             "line": {
              "color": "#E5ECF6",
              "width": 0.5
             }
            },
            "type": "bar"
           }
          ],
          "barpolar": [
           {
            "marker": {
             "line": {
              "color": "#E5ECF6",
              "width": 0.5
             }
            },
            "type": "barpolar"
           }
          ],
          "carpet": [
           {
            "aaxis": {
             "endlinecolor": "#2a3f5f",
             "gridcolor": "white",
             "linecolor": "white",
             "minorgridcolor": "white",
             "startlinecolor": "#2a3f5f"
            },
            "baxis": {
             "endlinecolor": "#2a3f5f",
             "gridcolor": "white",
             "linecolor": "white",
             "minorgridcolor": "white",
             "startlinecolor": "#2a3f5f"
            },
            "type": "carpet"
           }
          ],
          "choropleth": [
           {
            "colorbar": {
             "outlinewidth": 0,
             "ticks": ""
            },
            "type": "choropleth"
           }
          ],
          "contour": [
           {
            "colorbar": {
             "outlinewidth": 0,
             "ticks": ""
            },
            "colorscale": [
             [
              0,
              "#0d0887"
             ],
             [
              0.1111111111111111,
              "#46039f"
             ],
             [
              0.2222222222222222,
              "#7201a8"
             ],
             [
              0.3333333333333333,
              "#9c179e"
             ],
             [
              0.4444444444444444,
              "#bd3786"
             ],
             [
              0.5555555555555556,
              "#d8576b"
             ],
             [
              0.6666666666666666,
              "#ed7953"
             ],
             [
              0.7777777777777778,
              "#fb9f3a"
             ],
             [
              0.8888888888888888,
              "#fdca26"
             ],
             [
              1,
              "#f0f921"
             ]
            ],
            "type": "contour"
           }
          ],
          "contourcarpet": [
           {
            "colorbar": {
             "outlinewidth": 0,
             "ticks": ""
            },
            "type": "contourcarpet"
           }
          ],
          "heatmap": [
           {
            "colorbar": {
             "outlinewidth": 0,
             "ticks": ""
            },
            "colorscale": [
             [
              0,
              "#0d0887"
             ],
             [
              0.1111111111111111,
              "#46039f"
             ],
             [
              0.2222222222222222,
              "#7201a8"
             ],
             [
              0.3333333333333333,
              "#9c179e"
             ],
             [
              0.4444444444444444,
              "#bd3786"
             ],
             [
              0.5555555555555556,
              "#d8576b"
             ],
             [
              0.6666666666666666,
              "#ed7953"
             ],
             [
              0.7777777777777778,
              "#fb9f3a"
             ],
             [
              0.8888888888888888,
              "#fdca26"
             ],
             [
              1,
              "#f0f921"
             ]
            ],
            "type": "heatmap"
           }
          ],
          "heatmapgl": [
           {
            "colorbar": {
             "outlinewidth": 0,
             "ticks": ""
            },
            "colorscale": [
             [
              0,
              "#0d0887"
             ],
             [
              0.1111111111111111,
              "#46039f"
             ],
             [
              0.2222222222222222,
              "#7201a8"
             ],
             [
              0.3333333333333333,
              "#9c179e"
             ],
             [
              0.4444444444444444,
              "#bd3786"
             ],
             [
              0.5555555555555556,
              "#d8576b"
             ],
             [
              0.6666666666666666,
              "#ed7953"
             ],
             [
              0.7777777777777778,
              "#fb9f3a"
             ],
             [
              0.8888888888888888,
              "#fdca26"
             ],
             [
              1,
              "#f0f921"
             ]
            ],
            "type": "heatmapgl"
           }
          ],
          "histogram": [
           {
            "marker": {
             "colorbar": {
              "outlinewidth": 0,
              "ticks": ""
             }
            },
            "type": "histogram"
           }
          ],
          "histogram2d": [
           {
            "colorbar": {
             "outlinewidth": 0,
             "ticks": ""
            },
            "colorscale": [
             [
              0,
              "#0d0887"
             ],
             [
              0.1111111111111111,
              "#46039f"
             ],
             [
              0.2222222222222222,
              "#7201a8"
             ],
             [
              0.3333333333333333,
              "#9c179e"
             ],
             [
              0.4444444444444444,
              "#bd3786"
             ],
             [
              0.5555555555555556,
              "#d8576b"
             ],
             [
              0.6666666666666666,
              "#ed7953"
             ],
             [
              0.7777777777777778,
              "#fb9f3a"
             ],
             [
              0.8888888888888888,
              "#fdca26"
             ],
             [
              1,
              "#f0f921"
             ]
            ],
            "type": "histogram2d"
           }
          ],
          "histogram2dcontour": [
           {
            "colorbar": {
             "outlinewidth": 0,
             "ticks": ""
            },
            "colorscale": [
             [
              0,
              "#0d0887"
             ],
             [
              0.1111111111111111,
              "#46039f"
             ],
             [
              0.2222222222222222,
              "#7201a8"
             ],
             [
              0.3333333333333333,
              "#9c179e"
             ],
             [
              0.4444444444444444,
              "#bd3786"
             ],
             [
              0.5555555555555556,
              "#d8576b"
             ],
             [
              0.6666666666666666,
              "#ed7953"
             ],
             [
              0.7777777777777778,
              "#fb9f3a"
             ],
             [
              0.8888888888888888,
              "#fdca26"
             ],
             [
              1,
              "#f0f921"
             ]
            ],
            "type": "histogram2dcontour"
           }
          ],
          "mesh3d": [
           {
            "colorbar": {
             "outlinewidth": 0,
             "ticks": ""
            },
            "type": "mesh3d"
           }
          ],
          "parcoords": [
           {
            "line": {
             "colorbar": {
              "outlinewidth": 0,
              "ticks": ""
             }
            },
            "type": "parcoords"
           }
          ],
          "pie": [
           {
            "automargin": true,
            "type": "pie"
           }
          ],
          "scatter": [
           {
            "marker": {
             "colorbar": {
              "outlinewidth": 0,
              "ticks": ""
             }
            },
            "type": "scatter"
           }
          ],
          "scatter3d": [
           {
            "line": {
             "colorbar": {
              "outlinewidth": 0,
              "ticks": ""
             }
            },
            "marker": {
             "colorbar": {
              "outlinewidth": 0,
              "ticks": ""
             }
            },
            "type": "scatter3d"
           }
          ],
          "scattercarpet": [
           {
            "marker": {
             "colorbar": {
              "outlinewidth": 0,
              "ticks": ""
             }
            },
            "type": "scattercarpet"
           }
          ],
          "scattergeo": [
           {
            "marker": {
             "colorbar": {
              "outlinewidth": 0,
              "ticks": ""
             }
            },
            "type": "scattergeo"
           }
          ],
          "scattergl": [
           {
            "marker": {
             "colorbar": {
              "outlinewidth": 0,
              "ticks": ""
             }
            },
            "type": "scattergl"
           }
          ],
          "scattermapbox": [
           {
            "marker": {
             "colorbar": {
              "outlinewidth": 0,
              "ticks": ""
             }
            },
            "type": "scattermapbox"
           }
          ],
          "scatterpolar": [
           {
            "marker": {
             "colorbar": {
              "outlinewidth": 0,
              "ticks": ""
             }
            },
            "type": "scatterpolar"
           }
          ],
          "scatterpolargl": [
           {
            "marker": {
             "colorbar": {
              "outlinewidth": 0,
              "ticks": ""
             }
            },
            "type": "scatterpolargl"
           }
          ],
          "scatterternary": [
           {
            "marker": {
             "colorbar": {
              "outlinewidth": 0,
              "ticks": ""
             }
            },
            "type": "scatterternary"
           }
          ],
          "surface": [
           {
            "colorbar": {
             "outlinewidth": 0,
             "ticks": ""
            },
            "colorscale": [
             [
              0,
              "#0d0887"
             ],
             [
              0.1111111111111111,
              "#46039f"
             ],
             [
              0.2222222222222222,
              "#7201a8"
             ],
             [
              0.3333333333333333,
              "#9c179e"
             ],
             [
              0.4444444444444444,
              "#bd3786"
             ],
             [
              0.5555555555555556,
              "#d8576b"
             ],
             [
              0.6666666666666666,
              "#ed7953"
             ],
             [
              0.7777777777777778,
              "#fb9f3a"
             ],
             [
              0.8888888888888888,
              "#fdca26"
             ],
             [
              1,
              "#f0f921"
             ]
            ],
            "type": "surface"
           }
          ],
          "table": [
           {
            "cells": {
             "fill": {
              "color": "#EBF0F8"
             },
             "line": {
              "color": "white"
             }
            },
            "header": {
             "fill": {
              "color": "#C8D4E3"
             },
             "line": {
              "color": "white"
             }
            },
            "type": "table"
           }
          ]
         },
         "layout": {
          "annotationdefaults": {
           "arrowcolor": "#2a3f5f",
           "arrowhead": 0,
           "arrowwidth": 1
          },
          "coloraxis": {
           "colorbar": {
            "outlinewidth": 0,
            "ticks": ""
           }
          },
          "colorscale": {
           "diverging": [
            [
             0,
             "#8e0152"
            ],
            [
             0.1,
             "#c51b7d"
            ],
            [
             0.2,
             "#de77ae"
            ],
            [
             0.3,
             "#f1b6da"
            ],
            [
             0.4,
             "#fde0ef"
            ],
            [
             0.5,
             "#f7f7f7"
            ],
            [
             0.6,
             "#e6f5d0"
            ],
            [
             0.7,
             "#b8e186"
            ],
            [
             0.8,
             "#7fbc41"
            ],
            [
             0.9,
             "#4d9221"
            ],
            [
             1,
             "#276419"
            ]
           ],
           "sequential": [
            [
             0,
             "#0d0887"
            ],
            [
             0.1111111111111111,
             "#46039f"
            ],
            [
             0.2222222222222222,
             "#7201a8"
            ],
            [
             0.3333333333333333,
             "#9c179e"
            ],
            [
             0.4444444444444444,
             "#bd3786"
            ],
            [
             0.5555555555555556,
             "#d8576b"
            ],
            [
             0.6666666666666666,
             "#ed7953"
            ],
            [
             0.7777777777777778,
             "#fb9f3a"
            ],
            [
             0.8888888888888888,
             "#fdca26"
            ],
            [
             1,
             "#f0f921"
            ]
           ],
           "sequentialminus": [
            [
             0,
             "#0d0887"
            ],
            [
             0.1111111111111111,
             "#46039f"
            ],
            [
             0.2222222222222222,
             "#7201a8"
            ],
            [
             0.3333333333333333,
             "#9c179e"
            ],
            [
             0.4444444444444444,
             "#bd3786"
            ],
            [
             0.5555555555555556,
             "#d8576b"
            ],
            [
             0.6666666666666666,
             "#ed7953"
            ],
            [
             0.7777777777777778,
             "#fb9f3a"
            ],
            [
             0.8888888888888888,
             "#fdca26"
            ],
            [
             1,
             "#f0f921"
            ]
           ]
          },
          "colorway": [
           "#636efa",
           "#EF553B",
           "#00cc96",
           "#ab63fa",
           "#FFA15A",
           "#19d3f3",
           "#FF6692",
           "#B6E880",
           "#FF97FF",
           "#FECB52"
          ],
          "font": {
           "color": "#2a3f5f"
          },
          "geo": {
           "bgcolor": "white",
           "lakecolor": "white",
           "landcolor": "#E5ECF6",
           "showlakes": true,
           "showland": true,
           "subunitcolor": "white"
          },
          "hoverlabel": {
           "align": "left"
          },
          "hovermode": "closest",
          "mapbox": {
           "style": "light"
          },
          "paper_bgcolor": "white",
          "plot_bgcolor": "#E5ECF6",
          "polar": {
           "angularaxis": {
            "gridcolor": "white",
            "linecolor": "white",
            "ticks": ""
           },
           "bgcolor": "#E5ECF6",
           "radialaxis": {
            "gridcolor": "white",
            "linecolor": "white",
            "ticks": ""
           }
          },
          "scene": {
           "xaxis": {
            "backgroundcolor": "#E5ECF6",
            "gridcolor": "white",
            "gridwidth": 2,
            "linecolor": "white",
            "showbackground": true,
            "ticks": "",
            "zerolinecolor": "white"
           },
           "yaxis": {
            "backgroundcolor": "#E5ECF6",
            "gridcolor": "white",
            "gridwidth": 2,
            "linecolor": "white",
            "showbackground": true,
            "ticks": "",
            "zerolinecolor": "white"
           },
           "zaxis": {
            "backgroundcolor": "#E5ECF6",
            "gridcolor": "white",
            "gridwidth": 2,
            "linecolor": "white",
            "showbackground": true,
            "ticks": "",
            "zerolinecolor": "white"
           }
          },
          "shapedefaults": {
           "line": {
            "color": "#2a3f5f"
           }
          },
          "ternary": {
           "aaxis": {
            "gridcolor": "white",
            "linecolor": "white",
            "ticks": ""
           },
           "baxis": {
            "gridcolor": "white",
            "linecolor": "white",
            "ticks": ""
           },
           "bgcolor": "#E5ECF6",
           "caxis": {
            "gridcolor": "white",
            "linecolor": "white",
            "ticks": ""
           }
          },
          "title": {
           "x": 0.05
          },
          "xaxis": {
           "automargin": true,
           "gridcolor": "white",
           "linecolor": "white",
           "ticks": "",
           "title": {
            "standoff": 15
           },
           "zerolinecolor": "white",
           "zerolinewidth": 2
          },
          "yaxis": {
           "automargin": true,
           "gridcolor": "white",
           "linecolor": "white",
           "ticks": "",
           "title": {
            "standoff": 15
           },
           "zerolinecolor": "white",
           "zerolinewidth": 2
          }
         }
        },
        "title": {
         "text": "Least Used Feature"
        }
       }
      },
      "text/html": [
       "<div>\n",
       "        \n",
       "        \n",
       "            <div id=\"97c0999b-6826-4689-8fc7-d74926fa4286\" class=\"plotly-graph-div\" style=\"height:525px; width:100%;\"></div>\n",
       "            <script type=\"text/javascript\">\n",
       "                require([\"plotly\"], function(Plotly) {\n",
       "                    window.PLOTLYENV=window.PLOTLYENV || {};\n",
       "                    \n",
       "                if (document.getElementById(\"97c0999b-6826-4689-8fc7-d74926fa4286\")) {\n",
       "                    Plotly.newPlot(\n",
       "                        '97c0999b-6826-4689-8fc7-d74926fa4286',\n",
       "                        [{\"marker\": {\"color\": [\"  #000000\", \"  #1a1a1a\", \" #404040\", \"white\", \"white\", \"grey\", \"purple\", \" #333333\", \"blue\", \"  #000000\", \"silver\", \"blue\", \"blue\", \"white\", \"white\", \"gold\", \"gold\", \"blue\", \" #0d0d0d\", \"  #000000\", \"silver\", \"white\", \"white\", \"red\", \"red\", \"silver\", \"green\", \"blue\", \"purple\", \"purple\", \"  #000000\", \"  #000000\", \"red\", \"red\", \"  #000000\", \"  #000000\", \"  #000000\", \" #404040\", \"blue\", \"blue\", \"gold\", \"white\", \"white\", \"  #000000\", \"blue\", \"white\", \"white\", \"gold\", \"blue\", \"  #000000\", \"white\", \"white\", \"gold\", \"  #000000\", \"purple\", \"  #000000\", \"purple\"]}, \"type\": \"bar\", \"x\": [\"Black\", \"Midnight Black\", \"Prism Black\", \"Prism White\", \"Titanium Grey\", \"Orchid Gray\", \"Lilac Purple\", \"Black Onyx\", \"Blue\", \"black\", \"Arctic Silver\", \"Ocean Blue\", \"Aura Glow\", \"Prism Blue\", \"White\", \"Gold\", \"Gold Platinum\", \"Coral Blue\", \"Aura Black\", \"Black Sapphire\", \"Silver Titanium\", \"White Pearl\", \"Red\", \"Orchid Grey\", \"Silver\", \"Prism Green\", \"Deep Sea Blue\", \"Purple\", \"Lavender Purple\", \"Ceramic Black\", \"Mirror Black\", \"RED\", \"Titamium Grey\", \"Black Pearl\", \"Sapphire Black\", \"BLACK\", \"PRISM BLACK\", \"black/Blue\", \"BLUE\", \"Tungsten Gold\", \"Aura White\", \"Charcoal Black\", \"Deepsea Blue\", \"Ghost White\", \"Angel Gold\", \"Pebble Blue\", \"Black Mist\", \"violet\", \"Prism Crush White\", \"Sunrise Gold\", \"Aura Pink\", \"Prism Crush Black\", \"Mirror Purple\", \"Black Sky\", \"LILAC PURPLE\", \"Canary Yellow\", \"Meteor Gray\"], \"y\": [115, 48, 38, 29, 22, 21, 20, 17, 17, 16, 14, 12, 11, 10, 10, 9, 9, 8, 8, 7, 6, 6, 5, 5, 5, 5, 4, 4, 4, 4, 3, 3, 3, 3, 2, 2, 2, 2, 2, 2, 2, 2, 2, 1, 1, 1, 1, 1, 1, 1, 1, 1, 1, 1, 1, 1, 1]}],\n",
       "                        {\"template\": {\"data\": {\"bar\": [{\"error_x\": {\"color\": \"#2a3f5f\"}, \"error_y\": {\"color\": \"#2a3f5f\"}, \"marker\": {\"line\": {\"color\": \"#E5ECF6\", \"width\": 0.5}}, \"type\": \"bar\"}], \"barpolar\": [{\"marker\": {\"line\": {\"color\": \"#E5ECF6\", \"width\": 0.5}}, \"type\": \"barpolar\"}], \"carpet\": [{\"aaxis\": {\"endlinecolor\": \"#2a3f5f\", \"gridcolor\": \"white\", \"linecolor\": \"white\", \"minorgridcolor\": \"white\", \"startlinecolor\": \"#2a3f5f\"}, \"baxis\": {\"endlinecolor\": \"#2a3f5f\", \"gridcolor\": \"white\", \"linecolor\": \"white\", \"minorgridcolor\": \"white\", \"startlinecolor\": \"#2a3f5f\"}, \"type\": \"carpet\"}], \"choropleth\": [{\"colorbar\": {\"outlinewidth\": 0, \"ticks\": \"\"}, \"type\": \"choropleth\"}], \"contour\": [{\"colorbar\": {\"outlinewidth\": 0, \"ticks\": \"\"}, \"colorscale\": [[0.0, \"#0d0887\"], [0.1111111111111111, \"#46039f\"], [0.2222222222222222, \"#7201a8\"], [0.3333333333333333, \"#9c179e\"], [0.4444444444444444, \"#bd3786\"], [0.5555555555555556, \"#d8576b\"], [0.6666666666666666, \"#ed7953\"], [0.7777777777777778, \"#fb9f3a\"], [0.8888888888888888, \"#fdca26\"], [1.0, \"#f0f921\"]], \"type\": \"contour\"}], \"contourcarpet\": [{\"colorbar\": {\"outlinewidth\": 0, \"ticks\": \"\"}, \"type\": \"contourcarpet\"}], \"heatmap\": [{\"colorbar\": {\"outlinewidth\": 0, \"ticks\": \"\"}, \"colorscale\": [[0.0, \"#0d0887\"], [0.1111111111111111, \"#46039f\"], [0.2222222222222222, \"#7201a8\"], [0.3333333333333333, \"#9c179e\"], [0.4444444444444444, \"#bd3786\"], [0.5555555555555556, \"#d8576b\"], [0.6666666666666666, \"#ed7953\"], [0.7777777777777778, \"#fb9f3a\"], [0.8888888888888888, \"#fdca26\"], [1.0, \"#f0f921\"]], \"type\": \"heatmap\"}], \"heatmapgl\": [{\"colorbar\": {\"outlinewidth\": 0, \"ticks\": \"\"}, \"colorscale\": [[0.0, \"#0d0887\"], [0.1111111111111111, \"#46039f\"], [0.2222222222222222, \"#7201a8\"], [0.3333333333333333, \"#9c179e\"], [0.4444444444444444, \"#bd3786\"], [0.5555555555555556, \"#d8576b\"], [0.6666666666666666, \"#ed7953\"], [0.7777777777777778, \"#fb9f3a\"], [0.8888888888888888, \"#fdca26\"], [1.0, \"#f0f921\"]], \"type\": \"heatmapgl\"}], \"histogram\": [{\"marker\": {\"colorbar\": {\"outlinewidth\": 0, \"ticks\": \"\"}}, \"type\": \"histogram\"}], \"histogram2d\": [{\"colorbar\": {\"outlinewidth\": 0, \"ticks\": \"\"}, \"colorscale\": [[0.0, \"#0d0887\"], [0.1111111111111111, \"#46039f\"], [0.2222222222222222, \"#7201a8\"], [0.3333333333333333, \"#9c179e\"], [0.4444444444444444, \"#bd3786\"], [0.5555555555555556, \"#d8576b\"], [0.6666666666666666, \"#ed7953\"], [0.7777777777777778, \"#fb9f3a\"], [0.8888888888888888, \"#fdca26\"], [1.0, \"#f0f921\"]], \"type\": \"histogram2d\"}], \"histogram2dcontour\": [{\"colorbar\": {\"outlinewidth\": 0, \"ticks\": \"\"}, \"colorscale\": [[0.0, \"#0d0887\"], [0.1111111111111111, \"#46039f\"], [0.2222222222222222, \"#7201a8\"], [0.3333333333333333, \"#9c179e\"], [0.4444444444444444, \"#bd3786\"], [0.5555555555555556, \"#d8576b\"], [0.6666666666666666, \"#ed7953\"], [0.7777777777777778, \"#fb9f3a\"], [0.8888888888888888, \"#fdca26\"], [1.0, \"#f0f921\"]], \"type\": \"histogram2dcontour\"}], \"mesh3d\": [{\"colorbar\": {\"outlinewidth\": 0, \"ticks\": \"\"}, \"type\": \"mesh3d\"}], \"parcoords\": [{\"line\": {\"colorbar\": {\"outlinewidth\": 0, \"ticks\": \"\"}}, \"type\": \"parcoords\"}], \"pie\": [{\"automargin\": true, \"type\": \"pie\"}], \"scatter\": [{\"marker\": {\"colorbar\": {\"outlinewidth\": 0, \"ticks\": \"\"}}, \"type\": \"scatter\"}], \"scatter3d\": [{\"line\": {\"colorbar\": {\"outlinewidth\": 0, \"ticks\": \"\"}}, \"marker\": {\"colorbar\": {\"outlinewidth\": 0, \"ticks\": \"\"}}, \"type\": \"scatter3d\"}], \"scattercarpet\": [{\"marker\": {\"colorbar\": {\"outlinewidth\": 0, \"ticks\": \"\"}}, \"type\": \"scattercarpet\"}], \"scattergeo\": [{\"marker\": {\"colorbar\": {\"outlinewidth\": 0, \"ticks\": \"\"}}, \"type\": \"scattergeo\"}], \"scattergl\": [{\"marker\": {\"colorbar\": {\"outlinewidth\": 0, \"ticks\": \"\"}}, \"type\": \"scattergl\"}], \"scattermapbox\": [{\"marker\": {\"colorbar\": {\"outlinewidth\": 0, \"ticks\": \"\"}}, \"type\": \"scattermapbox\"}], \"scatterpolar\": [{\"marker\": {\"colorbar\": {\"outlinewidth\": 0, \"ticks\": \"\"}}, \"type\": \"scatterpolar\"}], \"scatterpolargl\": [{\"marker\": {\"colorbar\": {\"outlinewidth\": 0, \"ticks\": \"\"}}, \"type\": \"scatterpolargl\"}], \"scatterternary\": [{\"marker\": {\"colorbar\": {\"outlinewidth\": 0, \"ticks\": \"\"}}, \"type\": \"scatterternary\"}], \"surface\": [{\"colorbar\": {\"outlinewidth\": 0, \"ticks\": \"\"}, \"colorscale\": [[0.0, \"#0d0887\"], [0.1111111111111111, \"#46039f\"], [0.2222222222222222, \"#7201a8\"], [0.3333333333333333, \"#9c179e\"], [0.4444444444444444, \"#bd3786\"], [0.5555555555555556, \"#d8576b\"], [0.6666666666666666, \"#ed7953\"], [0.7777777777777778, \"#fb9f3a\"], [0.8888888888888888, \"#fdca26\"], [1.0, \"#f0f921\"]], \"type\": \"surface\"}], \"table\": [{\"cells\": {\"fill\": {\"color\": \"#EBF0F8\"}, \"line\": {\"color\": \"white\"}}, \"header\": {\"fill\": {\"color\": \"#C8D4E3\"}, \"line\": {\"color\": \"white\"}}, \"type\": \"table\"}]}, \"layout\": {\"annotationdefaults\": {\"arrowcolor\": \"#2a3f5f\", \"arrowhead\": 0, \"arrowwidth\": 1}, \"coloraxis\": {\"colorbar\": {\"outlinewidth\": 0, \"ticks\": \"\"}}, \"colorscale\": {\"diverging\": [[0, \"#8e0152\"], [0.1, \"#c51b7d\"], [0.2, \"#de77ae\"], [0.3, \"#f1b6da\"], [0.4, \"#fde0ef\"], [0.5, \"#f7f7f7\"], [0.6, \"#e6f5d0\"], [0.7, \"#b8e186\"], [0.8, \"#7fbc41\"], [0.9, \"#4d9221\"], [1, \"#276419\"]], \"sequential\": [[0.0, \"#0d0887\"], [0.1111111111111111, \"#46039f\"], [0.2222222222222222, \"#7201a8\"], [0.3333333333333333, \"#9c179e\"], [0.4444444444444444, \"#bd3786\"], [0.5555555555555556, \"#d8576b\"], [0.6666666666666666, \"#ed7953\"], [0.7777777777777778, \"#fb9f3a\"], [0.8888888888888888, \"#fdca26\"], [1.0, \"#f0f921\"]], \"sequentialminus\": [[0.0, \"#0d0887\"], [0.1111111111111111, \"#46039f\"], [0.2222222222222222, \"#7201a8\"], [0.3333333333333333, \"#9c179e\"], [0.4444444444444444, \"#bd3786\"], [0.5555555555555556, \"#d8576b\"], [0.6666666666666666, \"#ed7953\"], [0.7777777777777778, \"#fb9f3a\"], [0.8888888888888888, \"#fdca26\"], [1.0, \"#f0f921\"]]}, \"colorway\": [\"#636efa\", \"#EF553B\", \"#00cc96\", \"#ab63fa\", \"#FFA15A\", \"#19d3f3\", \"#FF6692\", \"#B6E880\", \"#FF97FF\", \"#FECB52\"], \"font\": {\"color\": \"#2a3f5f\"}, \"geo\": {\"bgcolor\": \"white\", \"lakecolor\": \"white\", \"landcolor\": \"#E5ECF6\", \"showlakes\": true, \"showland\": true, \"subunitcolor\": \"white\"}, \"hoverlabel\": {\"align\": \"left\"}, \"hovermode\": \"closest\", \"mapbox\": {\"style\": \"light\"}, \"paper_bgcolor\": \"white\", \"plot_bgcolor\": \"#E5ECF6\", \"polar\": {\"angularaxis\": {\"gridcolor\": \"white\", \"linecolor\": \"white\", \"ticks\": \"\"}, \"bgcolor\": \"#E5ECF6\", \"radialaxis\": {\"gridcolor\": \"white\", \"linecolor\": \"white\", \"ticks\": \"\"}}, \"scene\": {\"xaxis\": {\"backgroundcolor\": \"#E5ECF6\", \"gridcolor\": \"white\", \"gridwidth\": 2, \"linecolor\": \"white\", \"showbackground\": true, \"ticks\": \"\", \"zerolinecolor\": \"white\"}, \"yaxis\": {\"backgroundcolor\": \"#E5ECF6\", \"gridcolor\": \"white\", \"gridwidth\": 2, \"linecolor\": \"white\", \"showbackground\": true, \"ticks\": \"\", \"zerolinecolor\": \"white\"}, \"zaxis\": {\"backgroundcolor\": \"#E5ECF6\", \"gridcolor\": \"white\", \"gridwidth\": 2, \"linecolor\": \"white\", \"showbackground\": true, \"ticks\": \"\", \"zerolinecolor\": \"white\"}}, \"shapedefaults\": {\"line\": {\"color\": \"#2a3f5f\"}}, \"ternary\": {\"aaxis\": {\"gridcolor\": \"white\", \"linecolor\": \"white\", \"ticks\": \"\"}, \"baxis\": {\"gridcolor\": \"white\", \"linecolor\": \"white\", \"ticks\": \"\"}, \"bgcolor\": \"#E5ECF6\", \"caxis\": {\"gridcolor\": \"white\", \"linecolor\": \"white\", \"ticks\": \"\"}}, \"title\": {\"x\": 0.05}, \"xaxis\": {\"automargin\": true, \"gridcolor\": \"white\", \"linecolor\": \"white\", \"ticks\": \"\", \"title\": {\"standoff\": 15}, \"zerolinecolor\": \"white\", \"zerolinewidth\": 2}, \"yaxis\": {\"automargin\": true, \"gridcolor\": \"white\", \"linecolor\": \"white\", \"ticks\": \"\", \"title\": {\"standoff\": 15}, \"zerolinecolor\": \"white\", \"zerolinewidth\": 2}}}, \"title\": {\"text\": \"Least Used Feature\"}},\n",
       "                        {\"responsive\": true}\n",
       "                    ).then(function(){\n",
       "                            \n",
       "var gd = document.getElementById('97c0999b-6826-4689-8fc7-d74926fa4286');\n",
       "var x = new MutationObserver(function (mutations, observer) {{\n",
       "        var display = window.getComputedStyle(gd).display;\n",
       "        if (!display || display === 'none') {{\n",
       "            console.log([gd, 'removed!']);\n",
       "            Plotly.purge(gd);\n",
       "            observer.disconnect();\n",
       "        }}\n",
       "}});\n",
       "\n",
       "// Listen for the removal of the full notebook cells\n",
       "var notebookContainer = gd.closest('#notebook-container');\n",
       "if (notebookContainer) {{\n",
       "    x.observe(notebookContainer, {childList: true});\n",
       "}}\n",
       "\n",
       "// Listen for the clearing of the current output cell\n",
       "var outputEl = gd.closest('.output');\n",
       "if (outputEl) {{\n",
       "    x.observe(outputEl, {childList: true});\n",
       "}}\n",
       "\n",
       "                        })\n",
       "                };\n",
       "                });\n",
       "            </script>\n",
       "        </div>"
      ]
     },
     "metadata": {},
     "output_type": "display_data"
    }
   ],
   "source": [
    "colors = n\n",
    "\n",
    "\n",
    "fig = go.Figure(data=[go.Bar(\n",
    "    x=phone_colour.index,\n",
    "    y=phone_colour.values,\n",
    "    marker_color=colors # marker color can be a single color value or an iterable\n",
    ")])\n",
    "fig.update_layout(title_text='Least Used Feature')\n"
   ]
  },
  {
   "cell_type": "code",
   "execution_count": 31,
   "metadata": {},
   "outputs": [
    {
     "data": {
      "text/plain": [
       "<matplotlib.axes._subplots.AxesSubplot at 0x1bf949784a8>"
      ]
     },
     "execution_count": 31,
     "metadata": {},
     "output_type": "execute_result"
    },
    {
     "data": {
      "image/png": "[encoded data removed]",
      "text/plain": [
       "<matplotlib.figure.Figure at 0x1bf94965e48>"
      ]
     },
     "metadata": {},
     "output_type": "display_data"
    }
   ],
   "source": [
    "Samsung_colour =Samsung_pd.groupby(['Brand'])['Colour'].value_counts()\n",
    "Samsung_colour.plot(kind='pie')"
   ]
  },
  {
   "cell_type": "code",
   "execution_count": 90,
   "metadata": {},
   "outputs": [
    {
     "data": {
      "application/vnd.plotly.v1+json": {
       "config": {
        "plotlyServerURL": "https://plot.ly"
       },
       "data": [
        {
         "marker": {
          "color": [
           "silver",
           "gold",
           "black",
           "pink",
           " #8c8c8c",
           "red",
           " #8c8c8c",
           "white",
           "hsl(30, 0%, 50%)",
           " #8c8c8c",
           "black",
           "black",
           "silver",
           "blue",
           "white",
           "yellow",
           "white",
           "silver",
           "green",
           "green",
           "black",
           "hsl(30, 0%, 50%)",
           "white",
           "white",
           " #8c8c8c",
           "red",
           "white",
           "purple",
           "pink",
           "pink",
           "white",
           "green",
           "green",
           "gold",
           "black",
           "black"
          ]
         },
         "type": "bar",
         "x": [
          "Silver",
          "Gold",
          "Black",
          "Rose Gold",
          "Space Gray",
          "Red",
          "Space Grey",
          "White",
          "Grey",
          "Space grey",
          "Jet Black",
          "Grey; Black.",
          "Silver; White",
          "Blue",
          "Gold; White",
          "Yellow",
          "Rose Gold; White",
          "Coral",
          "Silver; White.",
          "Midnight Green",
          "black & White",
          "Gray",
          "Gold; White.",
          "Rose; White.",
          "Space gray",
          "(PRODUCT)RED",
          "Gold White.",
          "Purple",
          "ROSE GOLD",
          "Rose",
          "WHITE",
          "Green",
          "GOLD",
          "black",
          "Black Matte"
         ],
         "y": [
          176,
          168,
          101,
          85,
          72,
          58,
          34,
          27,
          26,
          26,
          24,
          23,
          23,
          17,
          17,
          12,
          11,
          10,
          10,
          8,
          8,
          8,
          7,
          7,
          5,
          4,
          4,
          4,
          3,
          3,
          2,
          2,
          1,
          1,
          1
         ]
        }
       ],
       "layout": {
        "template": {
         "data": {
          "bar": [
           {
            "error_x": {
             "color": "#2a3f5f"
            },
            "error_y": {
             "color": "#2a3f5f"
            },
            "marker": {
             "line": {
              "color": "#E5ECF6",
              "width": 0.5
             }
            },
            "type": "bar"
           }
          ],
          "barpolar": [
           {
            "marker": {
             "line": {
              "color": "#E5ECF6",
              "width": 0.5
             }
            },
            "type": "barpolar"
           }
          ],
          "carpet": [
           {
            "aaxis": {
             "endlinecolor": "#2a3f5f",
             "gridcolor": "white",
             "linecolor": "white",
             "minorgridcolor": "white",
             "startlinecolor": "#2a3f5f"
            },
            "baxis": {
             "endlinecolor": "#2a3f5f",
             "gridcolor": "white",
             "linecolor": "white",
             "minorgridcolor": "white",
             "startlinecolor": "#2a3f5f"
            },
            "type": "carpet"
           }
          ],
          "choropleth": [
           {
            "colorbar": {
             "outlinewidth": 0,
             "ticks": ""
            },
            "type": "choropleth"
           }
          ],
          "contour": [
           {
            "colorbar": {
             "outlinewidth": 0,
             "ticks": ""
            },
            "colorscale": [
             [
              0,
              "#0d0887"
             ],
             [
              0.1111111111111111,
              "#46039f"
             ],
             [
              0.2222222222222222,
              "#7201a8"
             ],
             [
              0.3333333333333333,
              "#9c179e"
             ],
             [
              0.4444444444444444,
              "#bd3786"
             ],
             [
              0.5555555555555556,
              "#d8576b"
             ],
             [
              0.6666666666666666,
              "#ed7953"
             ],
             [
              0.7777777777777778,
              "#fb9f3a"
             ],
             [
              0.8888888888888888,
              "#fdca26"
             ],
             [
              1,
              "#f0f921"
             ]
            ],
            "type": "contour"
           }
          ],
          "contourcarpet": [
           {
            "colorbar": {
             "outlinewidth": 0,
             "ticks": ""
            },
            "type": "contourcarpet"
           }
          ],
          "heatmap": [
           {
            "colorbar": {
             "outlinewidth": 0,
             "ticks": ""
            },
            "colorscale": [
             [
              0,
              "#0d0887"
             ],
             [
              0.1111111111111111,
              "#46039f"
             ],
             [
              0.2222222222222222,
              "#7201a8"
             ],
             [
              0.3333333333333333,
              "#9c179e"
             ],
             [
              0.4444444444444444,
              "#bd3786"
             ],
             [
              0.5555555555555556,
              "#d8576b"
             ],
             [
              0.6666666666666666,
              "#ed7953"
             ],
             [
              0.7777777777777778,
              "#fb9f3a"
             ],
             [
              0.8888888888888888,
              "#fdca26"
             ],
             [
              1,
              "#f0f921"
             ]
            ],
            "type": "heatmap"
           }
          ],
          "heatmapgl": [
           {
            "colorbar": {
             "outlinewidth": 0,
             "ticks": ""
            },
            "colorscale": [
             [
              0,
              "#0d0887"
             ],
             [
              0.1111111111111111,
              "#46039f"
             ],
             [
              0.2222222222222222,
              "#7201a8"
             ],
             [
              0.3333333333333333,
              "#9c179e"
             ],
             [
              0.4444444444444444,
              "#bd3786"
             ],
             [
              0.5555555555555556,
              "#d8576b"
             ],
             [
              0.6666666666666666,
              "#ed7953"
             ],
             [
              0.7777777777777778,
              "#fb9f3a"
             ],
             [
              0.8888888888888888,
              "#fdca26"
             ],
             [
              1,
              "#f0f921"
             ]
            ],
            "type": "heatmapgl"
           }
          ],
          "histogram": [
           {
            "marker": {
             "colorbar": {
              "outlinewidth": 0,
              "ticks": ""
             }
            },
            "type": "histogram"
           }
          ],
          "histogram2d": [
           {
            "colorbar": {
             "outlinewidth": 0,
             "ticks": ""
            },
            "colorscale": [
             [
              0,
              "#0d0887"
             ],
             [
              0.1111111111111111,
              "#46039f"
             ],
             [
              0.2222222222222222,
              "#7201a8"
             ],
             [
              0.3333333333333333,
              "#9c179e"
             ],
             [
              0.4444444444444444,
              "#bd3786"
             ],
             [
              0.5555555555555556,
              "#d8576b"
             ],
             [
              0.6666666666666666,
              "#ed7953"
             ],
             [
              0.7777777777777778,
              "#fb9f3a"
             ],
             [
              0.8888888888888888,
              "#fdca26"
             ],
             [
              1,
              "#f0f921"
             ]
            ],
            "type": "histogram2d"
           }
          ],
          "histogram2dcontour": [
           {
            "colorbar": {
             "outlinewidth": 0,
             "ticks": ""
            },
            "colorscale": [
             [
              0,
              "#0d0887"
             ],
             [
              0.1111111111111111,
              "#46039f"
             ],
             [
              0.2222222222222222,
              "#7201a8"
             ],
             [
              0.3333333333333333,
              "#9c179e"
             ],
             [
              0.4444444444444444,
              "#bd3786"
             ],
             [
              0.5555555555555556,
              "#d8576b"
             ],
             [
              0.6666666666666666,
              "#ed7953"
             ],
             [
              0.7777777777777778,
              "#fb9f3a"
             ],
             [
              0.8888888888888888,
              "#fdca26"
             ],
             [
              1,
              "#f0f921"
             ]
            ],
            "type": "histogram2dcontour"
           }
          ],
          "mesh3d": [
           {
            "colorbar": {
             "outlinewidth": 0,
             "ticks": ""
            },
            "type": "mesh3d"
           }
          ],
          "parcoords": [
           {
            "line": {
             "colorbar": {
              "outlinewidth": 0,
              "ticks": ""
             }
            },
            "type": "parcoords"
           }
          ],
          "pie": [
           {
            "automargin": true,
            "type": "pie"
           }
          ],
          "scatter": [
           {
            "marker": {
             "colorbar": {
              "outlinewidth": 0,
              "ticks": ""
             }
            },
            "type": "scatter"
           }
          ],
          "scatter3d": [
           {
            "line": {
             "colorbar": {
              "outlinewidth": 0,
              "ticks": ""
             }
            },
            "marker": {
             "colorbar": {
              "outlinewidth": 0,
              "ticks": ""
             }
            },
            "type": "scatter3d"
           }
          ],
          "scattercarpet": [
           {
            "marker": {
             "colorbar": {
              "outlinewidth": 0,
              "ticks": ""
             }
            },
            "type": "scattercarpet"
           }
          ],
          "scattergeo": [
           {
            "marker": {
             "colorbar": {
              "outlinewidth": 0,
              "ticks": ""
             }
            },
            "type": "scattergeo"
           }
          ],
          "scattergl": [
           {
            "marker": {
             "colorbar": {
              "outlinewidth": 0,
              "ticks": ""
             }
            },
            "type": "scattergl"
           }
          ],
          "scattermapbox": [
           {
            "marker": {
             "colorbar": {
              "outlinewidth": 0,
              "ticks": ""
             }
            },
            "type": "scattermapbox"
           }
          ],
          "scatterpolar": [
           {
            "marker": {
             "colorbar": {
              "outlinewidth": 0,
              "ticks": ""
             }
            },
            "type": "scatterpolar"
           }
          ],
          "scatterpolargl": [
           {
            "marker": {
             "colorbar": {
              "outlinewidth": 0,
              "ticks": ""
             }
            },
            "type": "scatterpolargl"
           }
          ],
          "scatterternary": [
           {
            "marker": {
             "colorbar": {
              "outlinewidth": 0,
              "ticks": ""
             }
            },
            "type": "scatterternary"
           }
          ],
          "surface": [
           {
            "colorbar": {
             "outlinewidth": 0,
             "ticks": ""
            },
            "colorscale": [
             [
              0,
              "#0d0887"
             ],
             [
              0.1111111111111111,
              "#46039f"
             ],
             [
              0.2222222222222222,
              "#7201a8"
             ],
             [
              0.3333333333333333,
              "#9c179e"
             ],
             [
              0.4444444444444444,
              "#bd3786"
             ],
             [
              0.5555555555555556,
              "#d8576b"
             ],
             [
              0.6666666666666666,
              "#ed7953"
             ],
             [
              0.7777777777777778,
              "#fb9f3a"
             ],
             [
              0.8888888888888888,
              "#fdca26"
             ],
             [
              1,
              "#f0f921"
             ]
            ],
            "type": "surface"
           }
          ],
          "table": [
           {
            "cells": {
             "fill": {
              "color": "#EBF0F8"
             },
             "line": {
              "color": "white"
             }
            },
            "header": {
             "fill": {
              "color": "#C8D4E3"
             },
             "line": {
              "color": "white"
             }
            },
            "type": "table"
           }
          ]
         },
         "layout": {
          "annotationdefaults": {
           "arrowcolor": "#2a3f5f",
           "arrowhead": 0,
           "arrowwidth": 1
          },
          "coloraxis": {
           "colorbar": {
            "outlinewidth": 0,
            "ticks": ""
           }
          },
          "colorscale": {
           "diverging": [
            [
             0,
             "#8e0152"
            ],
            [
             0.1,
             "#c51b7d"
            ],
            [
             0.2,
             "#de77ae"
            ],
            [
             0.3,
             "#f1b6da"
            ],
            [
             0.4,
             "#fde0ef"
            ],
            [
             0.5,
             "#f7f7f7"
            ],
            [
             0.6,
             "#e6f5d0"
            ],
            [
             0.7,
             "#b8e186"
            ],
            [
             0.8,
             "#7fbc41"
            ],
            [
             0.9,
             "#4d9221"
            ],
            [
             1,
             "#276419"
            ]
           ],
           "sequential": [
            [
             0,
             "#0d0887"
            ],
            [
             0.1111111111111111,
             "#46039f"
            ],
            [
             0.2222222222222222,
             "#7201a8"
            ],
            [
             0.3333333333333333,
             "#9c179e"
            ],
            [
             0.4444444444444444,
             "#bd3786"
            ],
            [
             0.5555555555555556,
             "#d8576b"
            ],
            [
             0.6666666666666666,
             "#ed7953"
            ],
            [
             0.7777777777777778,
             "#fb9f3a"
            ],
            [
             0.8888888888888888,
             "#fdca26"
            ],
            [
             1,
             "#f0f921"
            ]
           ],
           "sequentialminus": [
            [
             0,
             "#0d0887"
            ],
            [
             0.1111111111111111,
             "#46039f"
            ],
            [
             0.2222222222222222,
             "#7201a8"
            ],
            [
             0.3333333333333333,
             "#9c179e"
            ],
            [
             0.4444444444444444,
             "#bd3786"
            ],
            [
             0.5555555555555556,
             "#d8576b"
            ],
            [
             0.6666666666666666,
             "#ed7953"
            ],
            [
             0.7777777777777778,
             "#fb9f3a"
            ],
            [
             0.8888888888888888,
             "#fdca26"
            ],
            [
             1,
             "#f0f921"
            ]
           ]
          },
          "colorway": [
           "#636efa",
           "#EF553B",
           "#00cc96",
           "#ab63fa",
           "#FFA15A",
           "#19d3f3",
           "#FF6692",
           "#B6E880",
           "#FF97FF",
           "#FECB52"
          ],
          "font": {
           "color": "#2a3f5f"
          },
          "geo": {
           "bgcolor": "white",
           "lakecolor": "white",
           "landcolor": "#E5ECF6",
           "showlakes": true,
           "showland": true,
           "subunitcolor": "white"
          },
          "hoverlabel": {
           "align": "left"
          },
          "hovermode": "closest",
          "mapbox": {
           "style": "light"
          },
          "paper_bgcolor": "white",
          "plot_bgcolor": "#E5ECF6",
          "polar": {
           "angularaxis": {
            "gridcolor": "white",
            "linecolor": "white",
            "ticks": ""
           },
           "bgcolor": "#E5ECF6",
           "radialaxis": {
            "gridcolor": "white",
            "linecolor": "white",
            "ticks": ""
           }
          },
          "scene": {
           "xaxis": {
            "backgroundcolor": "#E5ECF6",
            "gridcolor": "white",
            "gridwidth": 2,
            "linecolor": "white",
            "showbackground": true,
            "ticks": "",
            "zerolinecolor": "white"
           },
           "yaxis": {
            "backgroundcolor": "#E5ECF6",
            "gridcolor": "white",
            "gridwidth": 2,
            "linecolor": "white",
            "showbackground": true,
            "ticks": "",
            "zerolinecolor": "white"
           },
           "zaxis": {
            "backgroundcolor": "#E5ECF6",
            "gridcolor": "white",
            "gridwidth": 2,
            "linecolor": "white",
            "showbackground": true,
            "ticks": "",
            "zerolinecolor": "white"
           }
          },
          "shapedefaults": {
           "line": {
            "color": "#2a3f5f"
           }
          },
          "ternary": {
           "aaxis": {
            "gridcolor": "white",
            "linecolor": "white",
            "ticks": ""
           },
           "baxis": {
            "gridcolor": "white",
            "linecolor": "white",
            "ticks": ""
           },
           "bgcolor": "#E5ECF6",
           "caxis": {
            "gridcolor": "white",
            "linecolor": "white",
            "ticks": ""
           }
          },
          "title": {
           "x": 0.05
          },
          "xaxis": {
           "automargin": true,
           "gridcolor": "white",
           "linecolor": "white",
           "ticks": "",
           "title": {
            "standoff": 15
           },
           "zerolinecolor": "white",
           "zerolinewidth": 2
          },
          "yaxis": {
           "automargin": true,
           "gridcolor": "white",
           "linecolor": "white",
           "ticks": "",
           "title": {
            "standoff": 15
           },
           "zerolinecolor": "white",
           "zerolinewidth": 2
          }
         }
        },
        "title": {
         "text": "Least Used Feature"
        }
       }
      },
      "text/html": [
       "<div>\n",
       "        \n",
       "        \n",
       "            <div id=\"d079cbcf-bf5a-4fc0-90c3-bf643d969447\" class=\"plotly-graph-div\" style=\"height:525px; width:100%;\"></div>\n",
       "            <script type=\"text/javascript\">\n",
       "                require([\"plotly\"], function(Plotly) {\n",
       "                    window.PLOTLYENV=window.PLOTLYENV || {};\n",
       "                    \n",
       "                if (document.getElementById(\"d079cbcf-bf5a-4fc0-90c3-bf643d969447\")) {\n",
       "                    Plotly.newPlot(\n",
       "                        'd079cbcf-bf5a-4fc0-90c3-bf643d969447',\n",
       "                        [{\"marker\": {\"color\": [\"silver\", \"gold\", \"black\", \"pink\", \" #8c8c8c\", \"red\", \" #8c8c8c\", \"white\", \"hsl(30, 0%, 50%)\", \" #8c8c8c\", \"black\", \"black\", \"silver\", \"blue\", \"white\", \"yellow\", \"white\", \"silver\", \"green\", \"green\", \"black\", \"hsl(30, 0%, 50%)\", \"white\", \"white\", \" #8c8c8c\", \"red\", \"white\", \"purple\", \"pink\", \"pink\", \"white\", \"green\", \"green\", \"gold\", \"black\", \"black\"]}, \"type\": \"bar\", \"x\": [\"Silver\", \"Gold\", \"Black\", \"Rose Gold\", \"Space Gray\", \"Red\", \"Space Grey\", \"White\", \"Grey\", \"Space grey\", \"Jet Black\", \"Grey; Black.\", \"Silver; White\", \"Blue\", \"Gold; White\", \"Yellow\", \"Rose Gold; White\", \"Coral\", \"Silver; White.\", \"Midnight Green\", \"black & White\", \"Gray\", \"Gold; White.\", \"Rose; White.\", \"Space gray\", \"(PRODUCT)RED\", \"Gold White.\", \"Purple\", \"ROSE GOLD\", \"Rose\", \"WHITE\", \"Green\", \"GOLD\", \"black\", \"Black Matte\"], \"y\": [176, 168, 101, 85, 72, 58, 34, 27, 26, 26, 24, 23, 23, 17, 17, 12, 11, 10, 10, 8, 8, 8, 7, 7, 5, 4, 4, 4, 3, 3, 2, 2, 1, 1, 1]}],\n",
       "                        {\"template\": {\"data\": {\"bar\": [{\"error_x\": {\"color\": \"#2a3f5f\"}, \"error_y\": {\"color\": \"#2a3f5f\"}, \"marker\": {\"line\": {\"color\": \"#E5ECF6\", \"width\": 0.5}}, \"type\": \"bar\"}], \"barpolar\": [{\"marker\": {\"line\": {\"color\": \"#E5ECF6\", \"width\": 0.5}}, \"type\": \"barpolar\"}], \"carpet\": [{\"aaxis\": {\"endlinecolor\": \"#2a3f5f\", \"gridcolor\": \"white\", \"linecolor\": \"white\", \"minorgridcolor\": \"white\", \"startlinecolor\": \"#2a3f5f\"}, \"baxis\": {\"endlinecolor\": \"#2a3f5f\", \"gridcolor\": \"white\", \"linecolor\": \"white\", \"minorgridcolor\": \"white\", \"startlinecolor\": \"#2a3f5f\"}, \"type\": \"carpet\"}], \"choropleth\": [{\"colorbar\": {\"outlinewidth\": 0, \"ticks\": \"\"}, \"type\": \"choropleth\"}], \"contour\": [{\"colorbar\": {\"outlinewidth\": 0, \"ticks\": \"\"}, \"colorscale\": [[0.0, \"#0d0887\"], [0.1111111111111111, \"#46039f\"], [0.2222222222222222, \"#7201a8\"], [0.3333333333333333, \"#9c179e\"], [0.4444444444444444, \"#bd3786\"], [0.5555555555555556, \"#d8576b\"], [0.6666666666666666, \"#ed7953\"], [0.7777777777777778, \"#fb9f3a\"], [0.8888888888888888, \"#fdca26\"], [1.0, \"#f0f921\"]], \"type\": \"contour\"}], \"contourcarpet\": [{\"colorbar\": {\"outlinewidth\": 0, \"ticks\": \"\"}, \"type\": \"contourcarpet\"}], \"heatmap\": [{\"colorbar\": {\"outlinewidth\": 0, \"ticks\": \"\"}, \"colorscale\": [[0.0, \"#0d0887\"], [0.1111111111111111, \"#46039f\"], [0.2222222222222222, \"#7201a8\"], [0.3333333333333333, \"#9c179e\"], [0.4444444444444444, \"#bd3786\"], [0.5555555555555556, \"#d8576b\"], [0.6666666666666666, \"#ed7953\"], [0.7777777777777778, \"#fb9f3a\"], [0.8888888888888888, \"#fdca26\"], [1.0, \"#f0f921\"]], \"type\": \"heatmap\"}], \"heatmapgl\": [{\"colorbar\": {\"outlinewidth\": 0, \"ticks\": \"\"}, \"colorscale\": [[0.0, \"#0d0887\"], [0.1111111111111111, \"#46039f\"], [0.2222222222222222, \"#7201a8\"], [0.3333333333333333, \"#9c179e\"], [0.4444444444444444, \"#bd3786\"], [0.5555555555555556, \"#d8576b\"], [0.6666666666666666, \"#ed7953\"], [0.7777777777777778, \"#fb9f3a\"], [0.8888888888888888, \"#fdca26\"], [1.0, \"#f0f921\"]], \"type\": \"heatmapgl\"}], \"histogram\": [{\"marker\": {\"colorbar\": {\"outlinewidth\": 0, \"ticks\": \"\"}}, \"type\": \"histogram\"}], \"histogram2d\": [{\"colorbar\": {\"outlinewidth\": 0, \"ticks\": \"\"}, \"colorscale\": [[0.0, \"#0d0887\"], [0.1111111111111111, \"#46039f\"], [0.2222222222222222, \"#7201a8\"], [0.3333333333333333, \"#9c179e\"], [0.4444444444444444, \"#bd3786\"], [0.5555555555555556, \"#d8576b\"], [0.6666666666666666, \"#ed7953\"], [0.7777777777777778, \"#fb9f3a\"], [0.8888888888888888, \"#fdca26\"], [1.0, \"#f0f921\"]], \"type\": \"histogram2d\"}], \"histogram2dcontour\": [{\"colorbar\": {\"outlinewidth\": 0, \"ticks\": \"\"}, \"colorscale\": [[0.0, \"#0d0887\"], [0.1111111111111111, \"#46039f\"], [0.2222222222222222, \"#7201a8\"], [0.3333333333333333, \"#9c179e\"], [0.4444444444444444, \"#bd3786\"], [0.5555555555555556, \"#d8576b\"], [0.6666666666666666, \"#ed7953\"], [0.7777777777777778, \"#fb9f3a\"], [0.8888888888888888, \"#fdca26\"], [1.0, \"#f0f921\"]], \"type\": \"histogram2dcontour\"}], \"mesh3d\": [{\"colorbar\": {\"outlinewidth\": 0, \"ticks\": \"\"}, \"type\": \"mesh3d\"}], \"parcoords\": [{\"line\": {\"colorbar\": {\"outlinewidth\": 0, \"ticks\": \"\"}}, \"type\": \"parcoords\"}], \"pie\": [{\"automargin\": true, \"type\": \"pie\"}], \"scatter\": [{\"marker\": {\"colorbar\": {\"outlinewidth\": 0, \"ticks\": \"\"}}, \"type\": \"scatter\"}], \"scatter3d\": [{\"line\": {\"colorbar\": {\"outlinewidth\": 0, \"ticks\": \"\"}}, \"marker\": {\"colorbar\": {\"outlinewidth\": 0, \"ticks\": \"\"}}, \"type\": \"scatter3d\"}], \"scattercarpet\": [{\"marker\": {\"colorbar\": {\"outlinewidth\": 0, \"ticks\": \"\"}}, \"type\": \"scattercarpet\"}], \"scattergeo\": [{\"marker\": {\"colorbar\": {\"outlinewidth\": 0, \"ticks\": \"\"}}, \"type\": \"scattergeo\"}], \"scattergl\": [{\"marker\": {\"colorbar\": {\"outlinewidth\": 0, \"ticks\": \"\"}}, \"type\": \"scattergl\"}], \"scattermapbox\": [{\"marker\": {\"colorbar\": {\"outlinewidth\": 0, \"ticks\": \"\"}}, \"type\": \"scattermapbox\"}], \"scatterpolar\": [{\"marker\": {\"colorbar\": {\"outlinewidth\": 0, \"ticks\": \"\"}}, \"type\": \"scatterpolar\"}], \"scatterpolargl\": [{\"marker\": {\"colorbar\": {\"outlinewidth\": 0, \"ticks\": \"\"}}, \"type\": \"scatterpolargl\"}], \"scatterternary\": [{\"marker\": {\"colorbar\": {\"outlinewidth\": 0, \"ticks\": \"\"}}, \"type\": \"scatterternary\"}], \"surface\": [{\"colorbar\": {\"outlinewidth\": 0, \"ticks\": \"\"}, \"colorscale\": [[0.0, \"#0d0887\"], [0.1111111111111111, \"#46039f\"], [0.2222222222222222, \"#7201a8\"], [0.3333333333333333, \"#9c179e\"], [0.4444444444444444, \"#bd3786\"], [0.5555555555555556, \"#d8576b\"], [0.6666666666666666, \"#ed7953\"], [0.7777777777777778, \"#fb9f3a\"], [0.8888888888888888, \"#fdca26\"], [1.0, \"#f0f921\"]], \"type\": \"surface\"}], \"table\": [{\"cells\": {\"fill\": {\"color\": \"#EBF0F8\"}, \"line\": {\"color\": \"white\"}}, \"header\": {\"fill\": {\"color\": \"#C8D4E3\"}, \"line\": {\"color\": \"white\"}}, \"type\": \"table\"}]}, \"layout\": {\"annotationdefaults\": {\"arrowcolor\": \"#2a3f5f\", \"arrowhead\": 0, \"arrowwidth\": 1}, \"coloraxis\": {\"colorbar\": {\"outlinewidth\": 0, \"ticks\": \"\"}}, \"colorscale\": {\"diverging\": [[0, \"#8e0152\"], [0.1, \"#c51b7d\"], [0.2, \"#de77ae\"], [0.3, \"#f1b6da\"], [0.4, \"#fde0ef\"], [0.5, \"#f7f7f7\"], [0.6, \"#e6f5d0\"], [0.7, \"#b8e186\"], [0.8, \"#7fbc41\"], [0.9, \"#4d9221\"], [1, \"#276419\"]], \"sequential\": [[0.0, \"#0d0887\"], [0.1111111111111111, \"#46039f\"], [0.2222222222222222, \"#7201a8\"], [0.3333333333333333, \"#9c179e\"], [0.4444444444444444, \"#bd3786\"], [0.5555555555555556, \"#d8576b\"], [0.6666666666666666, \"#ed7953\"], [0.7777777777777778, \"#fb9f3a\"], [0.8888888888888888, \"#fdca26\"], [1.0, \"#f0f921\"]], \"sequentialminus\": [[0.0, \"#0d0887\"], [0.1111111111111111, \"#46039f\"], [0.2222222222222222, \"#7201a8\"], [0.3333333333333333, \"#9c179e\"], [0.4444444444444444, \"#bd3786\"], [0.5555555555555556, \"#d8576b\"], [0.6666666666666666, \"#ed7953\"], [0.7777777777777778, \"#fb9f3a\"], [0.8888888888888888, \"#fdca26\"], [1.0, \"#f0f921\"]]}, \"colorway\": [\"#636efa\", \"#EF553B\", \"#00cc96\", \"#ab63fa\", \"#FFA15A\", \"#19d3f3\", \"#FF6692\", \"#B6E880\", \"#FF97FF\", \"#FECB52\"], \"font\": {\"color\": \"#2a3f5f\"}, \"geo\": {\"bgcolor\": \"white\", \"lakecolor\": \"white\", \"landcolor\": \"#E5ECF6\", \"showlakes\": true, \"showland\": true, \"subunitcolor\": \"white\"}, \"hoverlabel\": {\"align\": \"left\"}, \"hovermode\": \"closest\", \"mapbox\": {\"style\": \"light\"}, \"paper_bgcolor\": \"white\", \"plot_bgcolor\": \"#E5ECF6\", \"polar\": {\"angularaxis\": {\"gridcolor\": \"white\", \"linecolor\": \"white\", \"ticks\": \"\"}, \"bgcolor\": \"#E5ECF6\", \"radialaxis\": {\"gridcolor\": \"white\", \"linecolor\": \"white\", \"ticks\": \"\"}}, \"scene\": {\"xaxis\": {\"backgroundcolor\": \"#E5ECF6\", \"gridcolor\": \"white\", \"gridwidth\": 2, \"linecolor\": \"white\", \"showbackground\": true, \"ticks\": \"\", \"zerolinecolor\": \"white\"}, \"yaxis\": {\"backgroundcolor\": \"#E5ECF6\", \"gridcolor\": \"white\", \"gridwidth\": 2, \"linecolor\": \"white\", \"showbackground\": true, \"ticks\": \"\", \"zerolinecolor\": \"white\"}, \"zaxis\": {\"backgroundcolor\": \"#E5ECF6\", \"gridcolor\": \"white\", \"gridwidth\": 2, \"linecolor\": \"white\", \"showbackground\": true, \"ticks\": \"\", \"zerolinecolor\": \"white\"}}, \"shapedefaults\": {\"line\": {\"color\": \"#2a3f5f\"}}, \"ternary\": {\"aaxis\": {\"gridcolor\": \"white\", \"linecolor\": \"white\", \"ticks\": \"\"}, \"baxis\": {\"gridcolor\": \"white\", \"linecolor\": \"white\", \"ticks\": \"\"}, \"bgcolor\": \"#E5ECF6\", \"caxis\": {\"gridcolor\": \"white\", \"linecolor\": \"white\", \"ticks\": \"\"}}, \"title\": {\"x\": 0.05}, \"xaxis\": {\"automargin\": true, \"gridcolor\": \"white\", \"linecolor\": \"white\", \"ticks\": \"\", \"title\": {\"standoff\": 15}, \"zerolinecolor\": \"white\", \"zerolinewidth\": 2}, \"yaxis\": {\"automargin\": true, \"gridcolor\": \"white\", \"linecolor\": \"white\", \"ticks\": \"\", \"title\": {\"standoff\": 15}, \"zerolinecolor\": \"white\", \"zerolinewidth\": 2}}}, \"title\": {\"text\": \"Least Used Feature\"}},\n",
       "                        {\"responsive\": true}\n",
       "                    ).then(function(){\n",
       "                            \n",
       "var gd = document.getElementById('d079cbcf-bf5a-4fc0-90c3-bf643d969447');\n",
       "var x = new MutationObserver(function (mutations, observer) {{\n",
       "        var display = window.getComputedStyle(gd).display;\n",
       "        if (!display || display === 'none') {{\n",
       "            console.log([gd, 'removed!']);\n",
       "            Plotly.purge(gd);\n",
       "            observer.disconnect();\n",
       "        }}\n",
       "}});\n",
       "\n",
       "// Listen for the removal of the full notebook cells\n",
       "var notebookContainer = gd.closest('#notebook-container');\n",
       "if (notebookContainer) {{\n",
       "    x.observe(notebookContainer, {childList: true});\n",
       "}}\n",
       "\n",
       "// Listen for the clearing of the current output cell\n",
       "var outputEl = gd.closest('.output');\n",
       "if (outputEl) {{\n",
       "    x.observe(outputEl, {childList: true});\n",
       "}}\n",
       "\n",
       "                        })\n",
       "                };\n",
       "                });\n",
       "            </script>\n",
       "        </div>"
      ]
     },
     "metadata": {},
     "output_type": "display_data"
    }
   ],
   "source": [
    "Apple_colour =Apple_pd['Colour'].value_counts()\n",
    "\n",
    "\n",
    "\n",
    "m=Apple_colour.index\n",
    "n=[]\n",
    "for i in m:\n",
    "    \n",
    "    if 'black' in i.lower():\n",
    "        i=\"black\"\n",
    "        n.append(i.lower())\n",
    "\n",
    "       \n",
    "    if 'green' in i.lower():\n",
    "        i=\"green\"\n",
    "        n.append(i.lower())\n",
    "        \n",
    "       \n",
    "    if 'gray'== i.lower():\n",
    "        i=\"hsl(30, 0%, 50%)\"\n",
    "        n.append(i.lower())\n",
    "        \n",
    "       \n",
    "    if 'space gray'== i.lower():\n",
    "        i= ' #8c8c8c'\n",
    "        n.append(i.lower())\n",
    "        \n",
    "    if 'space grey'== i.lower():\n",
    "        i= ' #8c8c8c'\n",
    "        n.append(i.lower())\n",
    "       \n",
    "       \n",
    "\n",
    "        \n",
    "    if 'grey'==i.lower():\n",
    "        i=\"hsl(30, 0%, 50%)\"\n",
    "        n.append(i.lower())\n",
    "        \n",
    "        \n",
    "    if 'silver' in i.lower():\n",
    "        i=\"silver\"\n",
    "        n.append(i.lower())\n",
    "        \n",
    "    if 'purple' in i.lower():\n",
    "        i=\"purple\"\n",
    "        n.append(i.lower())\n",
    "        \n",
    "    if 'red' in i.lower():\n",
    "        i=\"red\"\n",
    "        n.append(i.lower())\n",
    "        \n",
    "    if 'white' in i.lower():\n",
    "        i=\"white\"\n",
    "        n.append(i.lower())\n",
    "        \n",
    "    if 'rose gold' in i.lower():\n",
    "        i=\"pink\"\n",
    "        n.append(i)\n",
    "           \n",
    "        \n",
    "    if 'gold'==i.lower():\n",
    "        i='gold'\n",
    "        n.append(i)\n",
    "        \n",
    "        \n",
    "    if 'blue' in i.lower():\n",
    "        i='blue'\n",
    "        n.append(i)\n",
    "        \n",
    "    if 'yellow' in i.lower():\n",
    "        i='yellow'\n",
    "        n.append(i)\n",
    "        \n",
    "    if 'green'==i.lower():\n",
    "        i='green'\n",
    "        n.append(i)\n",
    "        \n",
    "    if 'gold white'==i.lower():\n",
    "        i='gold'\n",
    "        n.append(i)\n",
    "    if 'rose'==i.lower():\n",
    "        i='pink'\n",
    "        n.append(i)\n",
    "        \n",
    "    \n",
    "        \n",
    "        \n",
    "        \n",
    "        \n",
    "        \n",
    "colors = n\n",
    "\n",
    "\n",
    "fig = go.Figure(data=[go.Bar(\n",
    "    x=Apple_colour.index,\n",
    "    y=Apple_colour.values,\n",
    "    marker_color=colors # marker color can be a single color value or an iterable\n",
    ")])\n",
    "fig.update_layout(title_text='Least Used Feature')"
   ]
  },
  {
   "cell_type": "code",
   "execution_count": 91,
   "metadata": {},
   "outputs": [
    {
     "data": {
      "text/html": [
       "<div>\n",
       "<style scoped>\n",
       "    .dataframe tbody tr th:only-of-type {\n",
       "        vertical-align: middle;\n",
       "    }\n",
       "\n",
       "    .dataframe tbody tr th {\n",
       "        vertical-align: top;\n",
       "    }\n",
       "\n",
       "    .dataframe thead th {\n",
       "        text-align: right;\n",
       "    }\n",
       "</style>\n",
       "<table border=\"1\" class=\"dataframe\">\n",
       "  <thead>\n",
       "    <tr style=\"text-align: right;\">\n",
       "      <th></th>\n",
       "      <th>count</th>\n",
       "      <th>mean</th>\n",
       "      <th>std</th>\n",
       "      <th>min</th>\n",
       "      <th>25%</th>\n",
       "      <th>50%</th>\n",
       "      <th>75%</th>\n",
       "      <th>max</th>\n",
       "    </tr>\n",
       "    <tr>\n",
       "      <th>Brand</th>\n",
       "      <th></th>\n",
       "      <th></th>\n",
       "      <th></th>\n",
       "      <th></th>\n",
       "      <th></th>\n",
       "      <th></th>\n",
       "      <th></th>\n",
       "      <th></th>\n",
       "    </tr>\n",
       "  </thead>\n",
       "  <tbody>\n",
       "    <tr>\n",
       "      <th>APPLE</th>\n",
       "      <td>988.0</td>\n",
       "      <td>474.255688</td>\n",
       "      <td>323.553387</td>\n",
       "      <td>79.98</td>\n",
       "      <td>249.95</td>\n",
       "      <td>359.0</td>\n",
       "      <td>640.7425</td>\n",
       "      <td>1999.99</td>\n",
       "    </tr>\n",
       "    <tr>\n",
       "      <th>SAMSUNG</th>\n",
       "      <td>533.0</td>\n",
       "      <td>481.155497</td>\n",
       "      <td>341.360080</td>\n",
       "      <td>79.99</td>\n",
       "      <td>229.00</td>\n",
       "      <td>380.0</td>\n",
       "      <td>629.9900</td>\n",
       "      <td>2109.99</td>\n",
       "    </tr>\n",
       "  </tbody>\n",
       "</table>\n",
       "</div>"
      ],
      "text/plain": [
       "         count        mean         std    min     25%    50%       75%  \\\n",
       "Brand                                                                    \n",
       "APPLE    988.0  474.255688  323.553387  79.98  249.95  359.0  640.7425   \n",
       "SAMSUNG  533.0  481.155497  341.360080  79.99  229.00  380.0  629.9900   \n",
       "\n",
       "             max  \n",
       "Brand             \n",
       "APPLE    1999.99  \n",
       "SAMSUNG  2109.99  "
      ]
     },
     "execution_count": 91,
     "metadata": {},
     "output_type": "execute_result"
    }
   ],
   "source": [
    "Samsung_Apple.groupby(\"Brand\")['Price(CAD)'].describe()"
   ]
  },
  {
   "cell_type": "code",
   "execution_count": 95,
   "metadata": {},
   "outputs": [
    {
     "data": {
      "text/html": [
       "<div>\n",
       "<style scoped>\n",
       "    .dataframe tbody tr th:only-of-type {\n",
       "        vertical-align: middle;\n",
       "    }\n",
       "\n",
       "    .dataframe tbody tr th {\n",
       "        vertical-align: top;\n",
       "    }\n",
       "\n",
       "    .dataframe thead th {\n",
       "        text-align: right;\n",
       "    }\n",
       "</style>\n",
       "<table border=\"1\" class=\"dataframe\">\n",
       "  <thead>\n",
       "    <tr style=\"text-align: right;\">\n",
       "      <th></th>\n",
       "      <th>Brand</th>\n",
       "      <th>Model</th>\n",
       "      <th>Price(CAD)</th>\n",
       "      <th>Price_save(CAD)</th>\n",
       "      <th>Memory-Built-in(GB)</th>\n",
       "      <th>Ram_size(GB)</th>\n",
       "      <th>Display_resolution(pixels)</th>\n",
       "      <th>Display_size(in)</th>\n",
       "      <th>Colour</th>\n",
       "      <th>CPU</th>\n",
       "      <th>Front-Facing Camera Resolution(MP)</th>\n",
       "      <th>Rear Camera Resolution(MP)</th>\n",
       "    </tr>\n",
       "  </thead>\n",
       "  <tbody>\n",
       "    <tr>\n",
       "      <th>0</th>\n",
       "      <td>SAMSUNG</td>\n",
       "      <td>Galaxy A10e</td>\n",
       "      <td>179.99</td>\n",
       "      <td>20</td>\n",
       "      <td>32</td>\n",
       "      <td>2</td>\n",
       "      <td>720 x 1560</td>\n",
       "      <td>5.8</td>\n",
       "      <td>Black</td>\n",
       "      <td>Octa-core Snapdragon 855</td>\n",
       "      <td>5</td>\n",
       "      <td>8</td>\n",
       "    </tr>\n",
       "    <tr>\n",
       "      <th>5</th>\n",
       "      <td>SAMSUNG</td>\n",
       "      <td>Galaxy A20</td>\n",
       "      <td>149.97</td>\n",
       "      <td>200</td>\n",
       "      <td>512</td>\n",
       "      <td>3</td>\n",
       "      <td>720 x 1560</td>\n",
       "      <td>5.8</td>\n",
       "      <td>Black</td>\n",
       "      <td>Octa-core Snapdragon 865</td>\n",
       "      <td>8</td>\n",
       "      <td>13</td>\n",
       "    </tr>\n",
       "    <tr>\n",
       "      <th>6</th>\n",
       "      <td>SAMSUNG</td>\n",
       "      <td>Galaxy Note10+</td>\n",
       "      <td>939.99</td>\n",
       "      <td>560</td>\n",
       "      <td>256</td>\n",
       "      <td>12</td>\n",
       "      <td>3040 x 1440</td>\n",
       "      <td>6.8</td>\n",
       "      <td>Aura Black</td>\n",
       "      <td>Snapdragon 855</td>\n",
       "      <td>10</td>\n",
       "      <td>12</td>\n",
       "    </tr>\n",
       "    <tr>\n",
       "      <th>10</th>\n",
       "      <td>SAMSUNG</td>\n",
       "      <td>Galaxy A51</td>\n",
       "      <td>368.90</td>\n",
       "      <td>131</td>\n",
       "      <td>64</td>\n",
       "      <td>4</td>\n",
       "      <td>1080 x 2340</td>\n",
       "      <td>6.4</td>\n",
       "      <td>Black</td>\n",
       "      <td>Octa-core Snapdragon 865</td>\n",
       "      <td>25</td>\n",
       "      <td>25</td>\n",
       "    </tr>\n",
       "    <tr>\n",
       "      <th>14</th>\n",
       "      <td>SAMSUNG</td>\n",
       "      <td>Galaxy S10</td>\n",
       "      <td>639.99</td>\n",
       "      <td>360</td>\n",
       "      <td>128</td>\n",
       "      <td>8</td>\n",
       "      <td>3040 x 1440</td>\n",
       "      <td>6.1</td>\n",
       "      <td>Prism Black</td>\n",
       "      <td>Octa-core Snapdragon 855</td>\n",
       "      <td>10</td>\n",
       "      <td>16</td>\n",
       "    </tr>\n",
       "    <tr>\n",
       "      <th>...</th>\n",
       "      <td>...</td>\n",
       "      <td>...</td>\n",
       "      <td>...</td>\n",
       "      <td>...</td>\n",
       "      <td>...</td>\n",
       "      <td>...</td>\n",
       "      <td>...</td>\n",
       "      <td>...</td>\n",
       "      <td>...</td>\n",
       "      <td>...</td>\n",
       "      <td>...</td>\n",
       "      <td>...</td>\n",
       "    </tr>\n",
       "    <tr>\n",
       "      <th>983</th>\n",
       "      <td>APPLE</td>\n",
       "      <td>iPhone XR</td>\n",
       "      <td>719.78</td>\n",
       "      <td>39</td>\n",
       "      <td>128</td>\n",
       "      <td>3</td>\n",
       "      <td>1792 x 828</td>\n",
       "      <td>6.1</td>\n",
       "      <td>Blue</td>\n",
       "      <td>Apple A12 Bionic</td>\n",
       "      <td>7</td>\n",
       "      <td>12</td>\n",
       "    </tr>\n",
       "    <tr>\n",
       "      <th>984</th>\n",
       "      <td>APPLE</td>\n",
       "      <td>iPhone X</td>\n",
       "      <td>825.00</td>\n",
       "      <td>704</td>\n",
       "      <td>256</td>\n",
       "      <td>3</td>\n",
       "      <td>2436 x 1125</td>\n",
       "      <td>5.8</td>\n",
       "      <td>Silver</td>\n",
       "      <td>Apple A11 Bionic</td>\n",
       "      <td>7</td>\n",
       "      <td>12</td>\n",
       "    </tr>\n",
       "    <tr>\n",
       "      <th>985</th>\n",
       "      <td>APPLE</td>\n",
       "      <td>iPhone 6s</td>\n",
       "      <td>371.00</td>\n",
       "      <td>6</td>\n",
       "      <td>256</td>\n",
       "      <td>2</td>\n",
       "      <td>1920 x 1080</td>\n",
       "      <td>5.5</td>\n",
       "      <td>Rose Gold</td>\n",
       "      <td>Dual-core 1.84 GHz Twister</td>\n",
       "      <td>5</td>\n",
       "      <td>12</td>\n",
       "    </tr>\n",
       "    <tr>\n",
       "      <th>986</th>\n",
       "      <td>APPLE</td>\n",
       "      <td>iPhone 6</td>\n",
       "      <td>194.00</td>\n",
       "      <td>105</td>\n",
       "      <td>256</td>\n",
       "      <td>2</td>\n",
       "      <td>1920 x 1080</td>\n",
       "      <td>5.5</td>\n",
       "      <td>Rose Gold</td>\n",
       "      <td>Dual-core 1.84 GHz Twister</td>\n",
       "      <td>5</td>\n",
       "      <td>12</td>\n",
       "    </tr>\n",
       "    <tr>\n",
       "      <th>987</th>\n",
       "      <td>APPLE</td>\n",
       "      <td>iPhone XS</td>\n",
       "      <td>859.99</td>\n",
       "      <td>460</td>\n",
       "      <td>64</td>\n",
       "      <td>4</td>\n",
       "      <td>2688 x 1242</td>\n",
       "      <td>6.5</td>\n",
       "      <td>Gold</td>\n",
       "      <td>Apple A12 Bionic</td>\n",
       "      <td>7</td>\n",
       "      <td>dual 12</td>\n",
       "    </tr>\n",
       "  </tbody>\n",
       "</table>\n",
       "<p>1082 rows × 12 columns</p>\n",
       "</div>"
      ],
      "text/plain": [
       "       Brand           Model  Price(CAD) Price_save(CAD) Memory-Built-in(GB)  \\\n",
       "0    SAMSUNG     Galaxy A10e      179.99              20                  32   \n",
       "5    SAMSUNG      Galaxy A20      149.97             200                 512   \n",
       "6    SAMSUNG  Galaxy Note10+      939.99             560                 256   \n",
       "10   SAMSUNG      Galaxy A51      368.90             131                  64   \n",
       "14   SAMSUNG      Galaxy S10      639.99             360                 128   \n",
       "..       ...             ...         ...             ...                 ...   \n",
       "983    APPLE       iPhone XR      719.78              39                 128   \n",
       "984    APPLE        iPhone X      825.00             704                 256   \n",
       "985    APPLE       iPhone 6s      371.00               6                 256   \n",
       "986    APPLE        iPhone 6      194.00             105                 256   \n",
       "987    APPLE       iPhone XS      859.99             460                  64   \n",
       "\n",
       "    Ram_size(GB) Display_resolution(pixels)  Display_size(in)       Colour  \\\n",
       "0              2                 720 x 1560               5.8        Black   \n",
       "5              3                 720 x 1560               5.8        Black   \n",
       "6             12                3040 x 1440               6.8   Aura Black   \n",
       "10             4                1080 x 2340               6.4        Black   \n",
       "14             8                3040 x 1440               6.1  Prism Black   \n",
       "..           ...                        ...               ...          ...   \n",
       "983            3                 1792 x 828               6.1         Blue   \n",
       "984            3                2436 x 1125               5.8       Silver   \n",
       "985            2                1920 x 1080               5.5    Rose Gold   \n",
       "986            2                1920 x 1080               5.5    Rose Gold   \n",
       "987            4                2688 x 1242               6.5         Gold   \n",
       "\n",
       "                            CPU Front-Facing Camera Resolution(MP)  \\\n",
       "0      Octa-core Snapdragon 855                                  5   \n",
       "5      Octa-core Snapdragon 865                                  8   \n",
       "6                Snapdragon 855                                 10   \n",
       "10     Octa-core Snapdragon 865                                 25   \n",
       "14     Octa-core Snapdragon 855                                 10   \n",
       "..                          ...                                ...   \n",
       "983            Apple A12 Bionic                                  7   \n",
       "984            Apple A11 Bionic                                  7   \n",
       "985  Dual-core 1.84 GHz Twister                                  5   \n",
       "986  Dual-core 1.84 GHz Twister                                  5   \n",
       "987            Apple A12 Bionic                                  7   \n",
       "\n",
       "    Rear Camera Resolution(MP)    \n",
       "0                              8  \n",
       "5                             13  \n",
       "6                             12  \n",
       "10                            25  \n",
       "14                            16  \n",
       "..                           ...  \n",
       "983                           12  \n",
       "984                           12  \n",
       "985                           12  \n",
       "986                           12  \n",
       "987                      dual 12  \n",
       "\n",
       "[1082 rows x 12 columns]"
      ]
     },
     "execution_count": 95,
     "metadata": {},
     "output_type": "execute_result"
    }
   ],
   "source": [
    "# --Phones with discout\n",
    "Samsung_Apple[Samsung_Apple['Price_save(CAD)']!='no sale']"
   ]
  },
  {
   "cell_type": "code",
   "execution_count": 96,
   "metadata": {},
   "outputs": [
    {
     "data": {
      "application/vnd.plotly.v1+json": {
       "config": {
        "plotlyServerURL": "https://plot.ly"
       },
       "data": [
        {
         "name": "Samsung Phone",
         "type": "bar",
         "x": [
          "Max",
          "Min",
          "Avg"
         ],
         "y": [
          2109.99,
          79.99,
          481.1554971857396
         ]
        },
        {
         "name": "Apple Phone",
         "type": "bar",
         "x": [
          "Max",
          "Min",
          "Avg"
         ],
         "y": [
          1999.99,
          79.98,
          474.25568825910756
         ]
        }
       ],
       "layout": {
        "barmode": "stack",
        "template": {
         "data": {
          "bar": [
           {
            "error_x": {
             "color": "#2a3f5f"
            },
            "error_y": {
             "color": "#2a3f5f"
            },
            "marker": {
             "line": {
              "color": "#E5ECF6",
              "width": 0.5
             }
            },
            "type": "bar"
           }
          ],
          "barpolar": [
           {
            "marker": {
             "line": {
              "color": "#E5ECF6",
              "width": 0.5
             }
            },
            "type": "barpolar"
           }
          ],
          "carpet": [
           {
            "aaxis": {
             "endlinecolor": "#2a3f5f",
             "gridcolor": "white",
             "linecolor": "white",
             "minorgridcolor": "white",
             "startlinecolor": "#2a3f5f"
            },
            "baxis": {
             "endlinecolor": "#2a3f5f",
             "gridcolor": "white",
             "linecolor": "white",
             "minorgridcolor": "white",
             "startlinecolor": "#2a3f5f"
            },
            "type": "carpet"
           }
          ],
          "choropleth": [
           {
            "colorbar": {
             "outlinewidth": 0,
             "ticks": ""
            },
            "type": "choropleth"
           }
          ],
          "contour": [
           {
            "colorbar": {
             "outlinewidth": 0,
             "ticks": ""
            },
            "colorscale": [
             [
              0,
              "#0d0887"
             ],
             [
              0.1111111111111111,
              "#46039f"
             ],
             [
              0.2222222222222222,
              "#7201a8"
             ],
             [
              0.3333333333333333,
              "#9c179e"
             ],
             [
              0.4444444444444444,
              "#bd3786"
             ],
             [
              0.5555555555555556,
              "#d8576b"
             ],
             [
              0.6666666666666666,
              "#ed7953"
             ],
             [
              0.7777777777777778,
              "#fb9f3a"
             ],
             [
              0.8888888888888888,
              "#fdca26"
             ],
             [
              1,
              "#f0f921"
             ]
            ],
            "type": "contour"
           }
          ],
          "contourcarpet": [
           {
            "colorbar": {
             "outlinewidth": 0,
             "ticks": ""
            },
            "type": "contourcarpet"
           }
          ],
          "heatmap": [
           {
            "colorbar": {
             "outlinewidth": 0,
             "ticks": ""
            },
            "colorscale": [
             [
              0,
              "#0d0887"
             ],
             [
              0.1111111111111111,
              "#46039f"
             ],
             [
              0.2222222222222222,
              "#7201a8"
             ],
             [
              0.3333333333333333,
              "#9c179e"
             ],
             [
              0.4444444444444444,
              "#bd3786"
             ],
             [
              0.5555555555555556,
              "#d8576b"
             ],
             [
              0.6666666666666666,
              "#ed7953"
             ],
             [
              0.7777777777777778,
              "#fb9f3a"
             ],
             [
              0.8888888888888888,
              "#fdca26"
             ],
             [
              1,
              "#f0f921"
             ]
            ],
            "type": "heatmap"
           }
          ],
          "heatmapgl": [
           {
            "colorbar": {
             "outlinewidth": 0,
             "ticks": ""
            },
            "colorscale": [
             [
              0,
              "#0d0887"
             ],
             [
              0.1111111111111111,
              "#46039f"
             ],
             [
              0.2222222222222222,
              "#7201a8"
             ],
             [
              0.3333333333333333,
              "#9c179e"
             ],
             [
              0.4444444444444444,
              "#bd3786"
             ],
             [
              0.5555555555555556,
              "#d8576b"
             ],
             [
              0.6666666666666666,
              "#ed7953"
             ],
             [
              0.7777777777777778,
              "#fb9f3a"
             ],
             [
              0.8888888888888888,
              "#fdca26"
             ],
             [
              1,
              "#f0f921"
             ]
            ],
            "type": "heatmapgl"
           }
          ],
          "histogram": [
           {
            "marker": {
             "colorbar": {
              "outlinewidth": 0,
              "ticks": ""
             }
            },
            "type": "histogram"
           }
          ],
          "histogram2d": [
           {
            "colorbar": {
             "outlinewidth": 0,
             "ticks": ""
            },
            "colorscale": [
             [
              0,
              "#0d0887"
             ],
             [
              0.1111111111111111,
              "#46039f"
             ],
             [
              0.2222222222222222,
              "#7201a8"
             ],
             [
              0.3333333333333333,
              "#9c179e"
             ],
             [
              0.4444444444444444,
              "#bd3786"
             ],
             [
              0.5555555555555556,
              "#d8576b"
             ],
             [
              0.6666666666666666,
              "#ed7953"
             ],
             [
              0.7777777777777778,
              "#fb9f3a"
             ],
             [
              0.8888888888888888,
              "#fdca26"
             ],
             [
              1,
              "#f0f921"
             ]
            ],
            "type": "histogram2d"
           }
          ],
          "histogram2dcontour": [
           {
            "colorbar": {
             "outlinewidth": 0,
             "ticks": ""
            },
            "colorscale": [
             [
              0,
              "#0d0887"
             ],
             [
              0.1111111111111111,
              "#46039f"
             ],
             [
              0.2222222222222222,
              "#7201a8"
             ],
             [
              0.3333333333333333,
              "#9c179e"
             ],
             [
              0.4444444444444444,
              "#bd3786"
             ],
             [
              0.5555555555555556,
              "#d8576b"
             ],
             [
              0.6666666666666666,
              "#ed7953"
             ],
             [
              0.7777777777777778,
              "#fb9f3a"
             ],
             [
              0.8888888888888888,
              "#fdca26"
             ],
             [
              1,
              "#f0f921"
             ]
            ],
            "type": "histogram2dcontour"
           }
          ],
          "mesh3d": [
           {
            "colorbar": {
             "outlinewidth": 0,
             "ticks": ""
            },
            "type": "mesh3d"
           }
          ],
          "parcoords": [
           {
            "line": {
             "colorbar": {
              "outlinewidth": 0,
              "ticks": ""
             }
            },
            "type": "parcoords"
           }
          ],
          "pie": [
           {
            "automargin": true,
            "type": "pie"
           }
          ],
          "scatter": [
           {
            "marker": {
             "colorbar": {
              "outlinewidth": 0,
              "ticks": ""
             }
            },
            "type": "scatter"
           }
          ],
          "scatter3d": [
           {
            "line": {
             "colorbar": {
              "outlinewidth": 0,
              "ticks": ""
             }
            },
            "marker": {
             "colorbar": {
              "outlinewidth": 0,
              "ticks": ""
             }
            },
            "type": "scatter3d"
           }
          ],
          "scattercarpet": [
           {
            "marker": {
             "colorbar": {
              "outlinewidth": 0,
              "ticks": ""
             }
            },
            "type": "scattercarpet"
           }
          ],
          "scattergeo": [
           {
            "marker": {
             "colorbar": {
              "outlinewidth": 0,
              "ticks": ""
             }
            },
            "type": "scattergeo"
           }
          ],
          "scattergl": [
           {
            "marker": {
             "colorbar": {
              "outlinewidth": 0,
              "ticks": ""
             }
            },
            "type": "scattergl"
           }
          ],
          "scattermapbox": [
           {
            "marker": {
             "colorbar": {
              "outlinewidth": 0,
              "ticks": ""
             }
            },
            "type": "scattermapbox"
           }
          ],
          "scatterpolar": [
           {
            "marker": {
             "colorbar": {
              "outlinewidth": 0,
              "ticks": ""
             }
            },
            "type": "scatterpolar"
           }
          ],
          "scatterpolargl": [
           {
            "marker": {
             "colorbar": {
              "outlinewidth": 0,
              "ticks": ""
             }
            },
            "type": "scatterpolargl"
           }
          ],
          "scatterternary": [
           {
            "marker": {
             "colorbar": {
              "outlinewidth": 0,
              "ticks": ""
             }
            },
            "type": "scatterternary"
           }
          ],
          "surface": [
           {
            "colorbar": {
             "outlinewidth": 0,
             "ticks": ""
            },
            "colorscale": [
             [
              0,
              "#0d0887"
             ],
             [
              0.1111111111111111,
              "#46039f"
             ],
             [
              0.2222222222222222,
              "#7201a8"
             ],
             [
              0.3333333333333333,
              "#9c179e"
             ],
             [
              0.4444444444444444,
              "#bd3786"
             ],
             [
              0.5555555555555556,
              "#d8576b"
             ],
             [
              0.6666666666666666,
              "#ed7953"
             ],
             [
              0.7777777777777778,
              "#fb9f3a"
             ],
             [
              0.8888888888888888,
              "#fdca26"
             ],
             [
              1,
              "#f0f921"
             ]
            ],
            "type": "surface"
           }
          ],
          "table": [
           {
            "cells": {
             "fill": {
              "color": "#EBF0F8"
             },
             "line": {
              "color": "white"
             }
            },
            "header": {
             "fill": {
              "color": "#C8D4E3"
             },
             "line": {
              "color": "white"
             }
            },
            "type": "table"
           }
          ]
         },
         "layout": {
          "annotationdefaults": {
           "arrowcolor": "#2a3f5f",
           "arrowhead": 0,
           "arrowwidth": 1
          },
          "coloraxis": {
           "colorbar": {
            "outlinewidth": 0,
            "ticks": ""
           }
          },
          "colorscale": {
           "diverging": [
            [
             0,
             "#8e0152"
            ],
            [
             0.1,
             "#c51b7d"
            ],
            [
             0.2,
             "#de77ae"
            ],
            [
             0.3,
             "#f1b6da"
            ],
            [
             0.4,
             "#fde0ef"
            ],
            [
             0.5,
             "#f7f7f7"
            ],
            [
             0.6,
             "#e6f5d0"
            ],
            [
             0.7,
             "#b8e186"
            ],
            [
             0.8,
             "#7fbc41"
            ],
            [
             0.9,
             "#4d9221"
            ],
            [
             1,
             "#276419"
            ]
           ],
           "sequential": [
            [
             0,
             "#0d0887"
            ],
            [
             0.1111111111111111,
             "#46039f"
            ],
            [
             0.2222222222222222,
             "#7201a8"
            ],
            [
             0.3333333333333333,
             "#9c179e"
            ],
            [
             0.4444444444444444,
             "#bd3786"
            ],
            [
             0.5555555555555556,
             "#d8576b"
            ],
            [
             0.6666666666666666,
             "#ed7953"
            ],
            [
             0.7777777777777778,
             "#fb9f3a"
            ],
            [
             0.8888888888888888,
             "#fdca26"
            ],
            [
             1,
             "#f0f921"
            ]
           ],
           "sequentialminus": [
            [
             0,
             "#0d0887"
            ],
            [
             0.1111111111111111,
             "#46039f"
            ],
            [
             0.2222222222222222,
             "#7201a8"
            ],
            [
             0.3333333333333333,
             "#9c179e"
            ],
            [
             0.4444444444444444,
             "#bd3786"
            ],
            [
             0.5555555555555556,
             "#d8576b"
            ],
            [
             0.6666666666666666,
             "#ed7953"
            ],
            [
             0.7777777777777778,
             "#fb9f3a"
            ],
            [
             0.8888888888888888,
             "#fdca26"
            ],
            [
             1,
             "#f0f921"
            ]
           ]
          },
          "colorway": [
           "#636efa",
           "#EF553B",
           "#00cc96",
           "#ab63fa",
           "#FFA15A",
           "#19d3f3",
           "#FF6692",
           "#B6E880",
           "#FF97FF",
           "#FECB52"
          ],
          "font": {
           "color": "#2a3f5f"
          },
          "geo": {
           "bgcolor": "white",
           "lakecolor": "white",
           "landcolor": "#E5ECF6",
           "showlakes": true,
           "showland": true,
           "subunitcolor": "white"
          },
          "hoverlabel": {
           "align": "left"
          },
          "hovermode": "closest",
          "mapbox": {
           "style": "light"
          },
          "paper_bgcolor": "white",
          "plot_bgcolor": "#E5ECF6",
          "polar": {
           "angularaxis": {
            "gridcolor": "white",
            "linecolor": "white",
            "ticks": ""
           },
           "bgcolor": "#E5ECF6",
           "radialaxis": {
            "gridcolor": "white",
            "linecolor": "white",
            "ticks": ""
           }
          },
          "scene": {
           "xaxis": {
            "backgroundcolor": "#E5ECF6",
            "gridcolor": "white",
            "gridwidth": 2,
            "linecolor": "white",
            "showbackground": true,
            "ticks": "",
            "zerolinecolor": "white"
           },
           "yaxis": {
            "backgroundcolor": "#E5ECF6",
            "gridcolor": "white",
            "gridwidth": 2,
            "linecolor": "white",
            "showbackground": true,
            "ticks": "",
            "zerolinecolor": "white"
           },
           "zaxis": {
            "backgroundcolor": "#E5ECF6",
            "gridcolor": "white",
            "gridwidth": 2,
            "linecolor": "white",
            "showbackground": true,
            "ticks": "",
            "zerolinecolor": "white"
           }
          },
          "shapedefaults": {
           "line": {
            "color": "#2a3f5f"
           }
          },
          "ternary": {
           "aaxis": {
            "gridcolor": "white",
            "linecolor": "white",
            "ticks": ""
           },
           "baxis": {
            "gridcolor": "white",
            "linecolor": "white",
            "ticks": ""
           },
           "bgcolor": "#E5ECF6",
           "caxis": {
            "gridcolor": "white",
            "linecolor": "white",
            "ticks": ""
           }
          },
          "title": {
           "x": 0.05
          },
          "xaxis": {
           "automargin": true,
           "gridcolor": "white",
           "linecolor": "white",
           "ticks": "",
           "title": {
            "standoff": 15
           },
           "zerolinecolor": "white",
           "zerolinewidth": 2
          },
          "yaxis": {
           "automargin": true,
           "gridcolor": "white",
           "linecolor": "white",
           "ticks": "",
           "title": {
            "standoff": 15
           },
           "zerolinecolor": "white",
           "zerolinewidth": 2
          }
         }
        }
       }
      },
      "text/html": [
       "<div>\n",
       "        \n",
       "        \n",
       "            <div id=\"a0318144-b088-4b46-bf79-96f0ae0b629d\" class=\"plotly-graph-div\" style=\"height:525px; width:100%;\"></div>\n",
       "            <script type=\"text/javascript\">\n",
       "                require([\"plotly\"], function(Plotly) {\n",
       "                    window.PLOTLYENV=window.PLOTLYENV || {};\n",
       "                    \n",
       "                if (document.getElementById(\"a0318144-b088-4b46-bf79-96f0ae0b629d\")) {\n",
       "                    Plotly.newPlot(\n",
       "                        'a0318144-b088-4b46-bf79-96f0ae0b629d',\n",
       "                        [{\"name\": \"Samsung Phone\", \"type\": \"bar\", \"x\": [\"Max\", \"Min\", \"Avg\"], \"y\": [2109.99, 79.99, 481.1554971857396]}, {\"name\": \"Apple Phone\", \"type\": \"bar\", \"x\": [\"Max\", \"Min\", \"Avg\"], \"y\": [1999.99, 79.98, 474.25568825910756]}],\n",
       "                        {\"barmode\": \"stack\", \"template\": {\"data\": {\"bar\": [{\"error_x\": {\"color\": \"#2a3f5f\"}, \"error_y\": {\"color\": \"#2a3f5f\"}, \"marker\": {\"line\": {\"color\": \"#E5ECF6\", \"width\": 0.5}}, \"type\": \"bar\"}], \"barpolar\": [{\"marker\": {\"line\": {\"color\": \"#E5ECF6\", \"width\": 0.5}}, \"type\": \"barpolar\"}], \"carpet\": [{\"aaxis\": {\"endlinecolor\": \"#2a3f5f\", \"gridcolor\": \"white\", \"linecolor\": \"white\", \"minorgridcolor\": \"white\", \"startlinecolor\": \"#2a3f5f\"}, \"baxis\": {\"endlinecolor\": \"#2a3f5f\", \"gridcolor\": \"white\", \"linecolor\": \"white\", \"minorgridcolor\": \"white\", \"startlinecolor\": \"#2a3f5f\"}, \"type\": \"carpet\"}], \"choropleth\": [{\"colorbar\": {\"outlinewidth\": 0, \"ticks\": \"\"}, \"type\": \"choropleth\"}], \"contour\": [{\"colorbar\": {\"outlinewidth\": 0, \"ticks\": \"\"}, \"colorscale\": [[0.0, \"#0d0887\"], [0.1111111111111111, \"#46039f\"], [0.2222222222222222, \"#7201a8\"], [0.3333333333333333, \"#9c179e\"], [0.4444444444444444, \"#bd3786\"], [0.5555555555555556, \"#d8576b\"], [0.6666666666666666, \"#ed7953\"], [0.7777777777777778, \"#fb9f3a\"], [0.8888888888888888, \"#fdca26\"], [1.0, \"#f0f921\"]], \"type\": \"contour\"}], \"contourcarpet\": [{\"colorbar\": {\"outlinewidth\": 0, \"ticks\": \"\"}, \"type\": \"contourcarpet\"}], \"heatmap\": [{\"colorbar\": {\"outlinewidth\": 0, \"ticks\": \"\"}, \"colorscale\": [[0.0, \"#0d0887\"], [0.1111111111111111, \"#46039f\"], [0.2222222222222222, \"#7201a8\"], [0.3333333333333333, \"#9c179e\"], [0.4444444444444444, \"#bd3786\"], [0.5555555555555556, \"#d8576b\"], [0.6666666666666666, \"#ed7953\"], [0.7777777777777778, \"#fb9f3a\"], [0.8888888888888888, \"#fdca26\"], [1.0, \"#f0f921\"]], \"type\": \"heatmap\"}], \"heatmapgl\": [{\"colorbar\": {\"outlinewidth\": 0, \"ticks\": \"\"}, \"colorscale\": [[0.0, \"#0d0887\"], [0.1111111111111111, \"#46039f\"], [0.2222222222222222, \"#7201a8\"], [0.3333333333333333, \"#9c179e\"], [0.4444444444444444, \"#bd3786\"], [0.5555555555555556, \"#d8576b\"], [0.6666666666666666, \"#ed7953\"], [0.7777777777777778, \"#fb9f3a\"], [0.8888888888888888, \"#fdca26\"], [1.0, \"#f0f921\"]], \"type\": \"heatmapgl\"}], \"histogram\": [{\"marker\": {\"colorbar\": {\"outlinewidth\": 0, \"ticks\": \"\"}}, \"type\": \"histogram\"}], \"histogram2d\": [{\"colorbar\": {\"outlinewidth\": 0, \"ticks\": \"\"}, \"colorscale\": [[0.0, \"#0d0887\"], [0.1111111111111111, \"#46039f\"], [0.2222222222222222, \"#7201a8\"], [0.3333333333333333, \"#9c179e\"], [0.4444444444444444, \"#bd3786\"], [0.5555555555555556, \"#d8576b\"], [0.6666666666666666, \"#ed7953\"], [0.7777777777777778, \"#fb9f3a\"], [0.8888888888888888, \"#fdca26\"], [1.0, \"#f0f921\"]], \"type\": \"histogram2d\"}], \"histogram2dcontour\": [{\"colorbar\": {\"outlinewidth\": 0, \"ticks\": \"\"}, \"colorscale\": [[0.0, \"#0d0887\"], [0.1111111111111111, \"#46039f\"], [0.2222222222222222, \"#7201a8\"], [0.3333333333333333, \"#9c179e\"], [0.4444444444444444, \"#bd3786\"], [0.5555555555555556, \"#d8576b\"], [0.6666666666666666, \"#ed7953\"], [0.7777777777777778, \"#fb9f3a\"], [0.8888888888888888, \"#fdca26\"], [1.0, \"#f0f921\"]], \"type\": \"histogram2dcontour\"}], \"mesh3d\": [{\"colorbar\": {\"outlinewidth\": 0, \"ticks\": \"\"}, \"type\": \"mesh3d\"}], \"parcoords\": [{\"line\": {\"colorbar\": {\"outlinewidth\": 0, \"ticks\": \"\"}}, \"type\": \"parcoords\"}], \"pie\": [{\"automargin\": true, \"type\": \"pie\"}], \"scatter\": [{\"marker\": {\"colorbar\": {\"outlinewidth\": 0, \"ticks\": \"\"}}, \"type\": \"scatter\"}], \"scatter3d\": [{\"line\": {\"colorbar\": {\"outlinewidth\": 0, \"ticks\": \"\"}}, \"marker\": {\"colorbar\": {\"outlinewidth\": 0, \"ticks\": \"\"}}, \"type\": \"scatter3d\"}], \"scattercarpet\": [{\"marker\": {\"colorbar\": {\"outlinewidth\": 0, \"ticks\": \"\"}}, \"type\": \"scattercarpet\"}], \"scattergeo\": [{\"marker\": {\"colorbar\": {\"outlinewidth\": 0, \"ticks\": \"\"}}, \"type\": \"scattergeo\"}], \"scattergl\": [{\"marker\": {\"colorbar\": {\"outlinewidth\": 0, \"ticks\": \"\"}}, \"type\": \"scattergl\"}], \"scattermapbox\": [{\"marker\": {\"colorbar\": {\"outlinewidth\": 0, \"ticks\": \"\"}}, \"type\": \"scattermapbox\"}], \"scatterpolar\": [{\"marker\": {\"colorbar\": {\"outlinewidth\": 0, \"ticks\": \"\"}}, \"type\": \"scatterpolar\"}], \"scatterpolargl\": [{\"marker\": {\"colorbar\": {\"outlinewidth\": 0, \"ticks\": \"\"}}, \"type\": \"scatterpolargl\"}], \"scatterternary\": [{\"marker\": {\"colorbar\": {\"outlinewidth\": 0, \"ticks\": \"\"}}, \"type\": \"scatterternary\"}], \"surface\": [{\"colorbar\": {\"outlinewidth\": 0, \"ticks\": \"\"}, \"colorscale\": [[0.0, \"#0d0887\"], [0.1111111111111111, \"#46039f\"], [0.2222222222222222, \"#7201a8\"], [0.3333333333333333, \"#9c179e\"], [0.4444444444444444, \"#bd3786\"], [0.5555555555555556, \"#d8576b\"], [0.6666666666666666, \"#ed7953\"], [0.7777777777777778, \"#fb9f3a\"], [0.8888888888888888, \"#fdca26\"], [1.0, \"#f0f921\"]], \"type\": \"surface\"}], \"table\": [{\"cells\": {\"fill\": {\"color\": \"#EBF0F8\"}, \"line\": {\"color\": \"white\"}}, \"header\": {\"fill\": {\"color\": \"#C8D4E3\"}, \"line\": {\"color\": \"white\"}}, \"type\": \"table\"}]}, \"layout\": {\"annotationdefaults\": {\"arrowcolor\": \"#2a3f5f\", \"arrowhead\": 0, \"arrowwidth\": 1}, \"coloraxis\": {\"colorbar\": {\"outlinewidth\": 0, \"ticks\": \"\"}}, \"colorscale\": {\"diverging\": [[0, \"#8e0152\"], [0.1, \"#c51b7d\"], [0.2, \"#de77ae\"], [0.3, \"#f1b6da\"], [0.4, \"#fde0ef\"], [0.5, \"#f7f7f7\"], [0.6, \"#e6f5d0\"], [0.7, \"#b8e186\"], [0.8, \"#7fbc41\"], [0.9, \"#4d9221\"], [1, \"#276419\"]], \"sequential\": [[0.0, \"#0d0887\"], [0.1111111111111111, \"#46039f\"], [0.2222222222222222, \"#7201a8\"], [0.3333333333333333, \"#9c179e\"], [0.4444444444444444, \"#bd3786\"], [0.5555555555555556, \"#d8576b\"], [0.6666666666666666, \"#ed7953\"], [0.7777777777777778, \"#fb9f3a\"], [0.8888888888888888, \"#fdca26\"], [1.0, \"#f0f921\"]], \"sequentialminus\": [[0.0, \"#0d0887\"], [0.1111111111111111, \"#46039f\"], [0.2222222222222222, \"#7201a8\"], [0.3333333333333333, \"#9c179e\"], [0.4444444444444444, \"#bd3786\"], [0.5555555555555556, \"#d8576b\"], [0.6666666666666666, \"#ed7953\"], [0.7777777777777778, \"#fb9f3a\"], [0.8888888888888888, \"#fdca26\"], [1.0, \"#f0f921\"]]}, \"colorway\": [\"#636efa\", \"#EF553B\", \"#00cc96\", \"#ab63fa\", \"#FFA15A\", \"#19d3f3\", \"#FF6692\", \"#B6E880\", \"#FF97FF\", \"#FECB52\"], \"font\": {\"color\": \"#2a3f5f\"}, \"geo\": {\"bgcolor\": \"white\", \"lakecolor\": \"white\", \"landcolor\": \"#E5ECF6\", \"showlakes\": true, \"showland\": true, \"subunitcolor\": \"white\"}, \"hoverlabel\": {\"align\": \"left\"}, \"hovermode\": \"closest\", \"mapbox\": {\"style\": \"light\"}, \"paper_bgcolor\": \"white\", \"plot_bgcolor\": \"#E5ECF6\", \"polar\": {\"angularaxis\": {\"gridcolor\": \"white\", \"linecolor\": \"white\", \"ticks\": \"\"}, \"bgcolor\": \"#E5ECF6\", \"radialaxis\": {\"gridcolor\": \"white\", \"linecolor\": \"white\", \"ticks\": \"\"}}, \"scene\": {\"xaxis\": {\"backgroundcolor\": \"#E5ECF6\", \"gridcolor\": \"white\", \"gridwidth\": 2, \"linecolor\": \"white\", \"showbackground\": true, \"ticks\": \"\", \"zerolinecolor\": \"white\"}, \"yaxis\": {\"backgroundcolor\": \"#E5ECF6\", \"gridcolor\": \"white\", \"gridwidth\": 2, \"linecolor\": \"white\", \"showbackground\": true, \"ticks\": \"\", \"zerolinecolor\": \"white\"}, \"zaxis\": {\"backgroundcolor\": \"#E5ECF6\", \"gridcolor\": \"white\", \"gridwidth\": 2, \"linecolor\": \"white\", \"showbackground\": true, \"ticks\": \"\", \"zerolinecolor\": \"white\"}}, \"shapedefaults\": {\"line\": {\"color\": \"#2a3f5f\"}}, \"ternary\": {\"aaxis\": {\"gridcolor\": \"white\", \"linecolor\": \"white\", \"ticks\": \"\"}, \"baxis\": {\"gridcolor\": \"white\", \"linecolor\": \"white\", \"ticks\": \"\"}, \"bgcolor\": \"#E5ECF6\", \"caxis\": {\"gridcolor\": \"white\", \"linecolor\": \"white\", \"ticks\": \"\"}}, \"title\": {\"x\": 0.05}, \"xaxis\": {\"automargin\": true, \"gridcolor\": \"white\", \"linecolor\": \"white\", \"ticks\": \"\", \"title\": {\"standoff\": 15}, \"zerolinecolor\": \"white\", \"zerolinewidth\": 2}, \"yaxis\": {\"automargin\": true, \"gridcolor\": \"white\", \"linecolor\": \"white\", \"ticks\": \"\", \"title\": {\"standoff\": 15}, \"zerolinecolor\": \"white\", \"zerolinewidth\": 2}}}},\n",
       "                        {\"responsive\": true}\n",
       "                    ).then(function(){\n",
       "                            \n",
       "var gd = document.getElementById('a0318144-b088-4b46-bf79-96f0ae0b629d');\n",
       "var x = new MutationObserver(function (mutations, observer) {{\n",
       "        var display = window.getComputedStyle(gd).display;\n",
       "        if (!display || display === 'none') {{\n",
       "            console.log([gd, 'removed!']);\n",
       "            Plotly.purge(gd);\n",
       "            observer.disconnect();\n",
       "        }}\n",
       "}});\n",
       "\n",
       "// Listen for the removal of the full notebook cells\n",
       "var notebookContainer = gd.closest('#notebook-container');\n",
       "if (notebookContainer) {{\n",
       "    x.observe(notebookContainer, {childList: true});\n",
       "}}\n",
       "\n",
       "// Listen for the clearing of the current output cell\n",
       "var outputEl = gd.closest('.output');\n",
       "if (outputEl) {{\n",
       "    x.observe(outputEl, {childList: true});\n",
       "}}\n",
       "\n",
       "                        })\n",
       "                };\n",
       "                });\n",
       "            </script>\n",
       "        </div>"
      ]
     },
     "metadata": {},
     "output_type": "display_data"
    }
   ],
   "source": [
    "# ---Average,max,min price\n",
    "\n",
    "\n",
    "stat=['Max', 'Min', 'Avg']\n",
    "YS=Samsung_pd.groupby(['Brand'],as_index=False).agg({'Price(CAD)':['max','min','mean']})\n",
    "YA=Apple_pd.groupby(['Brand'],as_index=False).agg({'Price(CAD)':['max','min','mean']})\n",
    "YS.values[0][1:4]\n",
    "\n",
    "fig = go.Figure(data=[\n",
    "    go.Bar(name='Samsung Phone', x=stat, y=[YS.values[0][1], YS.values[0][2],YS.values[0][3]]),\n",
    "    go.Bar(name='Apple Phone', x=stat, y=[YA.values[0][1], YA.values[0][2],YA.values[0][3]])\n",
    "])\n",
    "# Change the bar mode\n",
    "fig.update_layout(barmode='stack')\n",
    "fig.show()\n"
   ]
  },
  {
   "cell_type": "code",
   "execution_count": 97,
   "metadata": {
    "scrolled": false
   },
   "outputs": [
    {
     "data": {
      "text/html": [
       "<div>\n",
       "<style scoped>\n",
       "    .dataframe tbody tr th:only-of-type {\n",
       "        vertical-align: middle;\n",
       "    }\n",
       "\n",
       "    .dataframe tbody tr th {\n",
       "        vertical-align: top;\n",
       "    }\n",
       "\n",
       "    .dataframe thead th {\n",
       "        text-align: right;\n",
       "    }\n",
       "</style>\n",
       "<table border=\"1\" class=\"dataframe\">\n",
       "  <thead>\n",
       "    <tr style=\"text-align: right;\">\n",
       "      <th></th>\n",
       "      <th>Brand</th>\n",
       "      <th>Model</th>\n",
       "      <th>Price(CAD)</th>\n",
       "      <th>Price_save(CAD)</th>\n",
       "      <th>Memory-Built-in(GB)</th>\n",
       "      <th>Ram_size(GB)</th>\n",
       "      <th>Display_resolution(pixels)</th>\n",
       "      <th>Display_size(in)</th>\n",
       "      <th>Colour</th>\n",
       "      <th>CPU</th>\n",
       "      <th>Front-Facing Camera Resolution(MP)</th>\n",
       "      <th>Rear Camera Resolution(MP)</th>\n",
       "    </tr>\n",
       "  </thead>\n",
       "  <tbody>\n",
       "    <tr>\n",
       "      <th>4</th>\n",
       "      <td>SAMSUNG</td>\n",
       "      <td>Galaxy S20</td>\n",
       "      <td>2109.99</td>\n",
       "      <td>no sale</td>\n",
       "      <td>512</td>\n",
       "      <td>2</td>\n",
       "      <td>720 x 1560</td>\n",
       "      <td>5.8</td>\n",
       "      <td>Black</td>\n",
       "      <td>Octa-core Snapdragon 865</td>\n",
       "      <td>5</td>\n",
       "      <td>8</td>\n",
       "    </tr>\n",
       "    <tr>\n",
       "      <th>243</th>\n",
       "      <td>APPLE</td>\n",
       "      <td>iPhone 11</td>\n",
       "      <td>1999.99</td>\n",
       "      <td>no sale</td>\n",
       "      <td>512</td>\n",
       "      <td>4</td>\n",
       "      <td>1242 x 2688</td>\n",
       "      <td>6.5</td>\n",
       "      <td>Silver</td>\n",
       "      <td>Apple A13 Bionic</td>\n",
       "      <td>12</td>\n",
       "      <td>x3 12</td>\n",
       "    </tr>\n",
       "  </tbody>\n",
       "</table>\n",
       "</div>"
      ],
      "text/plain": [
       "       Brand       Model  Price(CAD) Price_save(CAD) Memory-Built-in(GB)  \\\n",
       "4    SAMSUNG  Galaxy S20     2109.99         no sale                 512   \n",
       "243    APPLE   iPhone 11     1999.99         no sale                 512   \n",
       "\n",
       "    Ram_size(GB) Display_resolution(pixels)  Display_size(in)  Colour  \\\n",
       "4              2                 720 x 1560               5.8   Black   \n",
       "243            4                1242 x 2688               6.5  Silver   \n",
       "\n",
       "                          CPU Front-Facing Camera Resolution(MP)  \\\n",
       "4    Octa-core Snapdragon 865                                  5   \n",
       "243          Apple A13 Bionic                                 12   \n",
       "\n",
       "    Rear Camera Resolution(MP)    \n",
       "4                              8  \n",
       "243                        x3 12  "
      ]
     },
     "execution_count": 97,
     "metadata": {},
     "output_type": "execute_result"
    }
   ],
   "source": [
    "# --The details and specefication of the most expensive phones\n",
    "x=Samsung_pd[Samsung_pd['Price(CAD)']==Samsung_pd['Price(CAD)'].max()]\n",
    "y=Apple_pd[Apple_pd['Price(CAD)']==Apple_pd['Price(CAD)'].max()]\n",
    "MAX_SA=pd.concat([x, y])\n",
    "MAX_SA\n"
   ]
  },
  {
   "cell_type": "code",
   "execution_count": 98,
   "metadata": {},
   "outputs": [
    {
     "data": {
      "text/html": [
       "<div>\n",
       "<style scoped>\n",
       "    .dataframe tbody tr th:only-of-type {\n",
       "        vertical-align: middle;\n",
       "    }\n",
       "\n",
       "    .dataframe tbody tr th {\n",
       "        vertical-align: top;\n",
       "    }\n",
       "\n",
       "    .dataframe thead th {\n",
       "        text-align: right;\n",
       "    }\n",
       "</style>\n",
       "<table border=\"1\" class=\"dataframe\">\n",
       "  <thead>\n",
       "    <tr style=\"text-align: right;\">\n",
       "      <th></th>\n",
       "      <th>Brand</th>\n",
       "      <th>Model</th>\n",
       "      <th>Price(CAD)</th>\n",
       "      <th>Price_save(CAD)</th>\n",
       "      <th>Memory-Built-in(GB)</th>\n",
       "      <th>Ram_size(GB)</th>\n",
       "      <th>Display_resolution(pixels)</th>\n",
       "      <th>Display_size(in)</th>\n",
       "      <th>Colour</th>\n",
       "      <th>CPU</th>\n",
       "      <th>Front-Facing Camera Resolution(MP)</th>\n",
       "      <th>Rear Camera Resolution(MP)</th>\n",
       "    </tr>\n",
       "  </thead>\n",
       "  <tbody>\n",
       "    <tr>\n",
       "      <th>122</th>\n",
       "      <td>SAMSUNG</td>\n",
       "      <td>Galaxy Rugby</td>\n",
       "      <td>79.99</td>\n",
       "      <td>40</td>\n",
       "      <td>64</td>\n",
       "      <td>6</td>\n",
       "      <td>samoled</td>\n",
       "      <td>6.2</td>\n",
       "      <td>Lilac Purple</td>\n",
       "      <td>Qualcomm MSM8998 Snapdragon 845</td>\n",
       "      <td>8</td>\n",
       "      <td>12</td>\n",
       "    </tr>\n",
       "    <tr>\n",
       "      <th>140</th>\n",
       "      <td>APPLE</td>\n",
       "      <td>iPhone 5c</td>\n",
       "      <td>79.98</td>\n",
       "      <td>60</td>\n",
       "      <td>64</td>\n",
       "      <td>1</td>\n",
       "      <td>1136 x 640</td>\n",
       "      <td>4.0</td>\n",
       "      <td>Blue</td>\n",
       "      <td>Dual-core 1.3 GHz Swift (ARM v7-based)</td>\n",
       "      <td>1.2</td>\n",
       "      <td>8</td>\n",
       "    </tr>\n",
       "  </tbody>\n",
       "</table>\n",
       "</div>"
      ],
      "text/plain": [
       "       Brand         Model  Price(CAD) Price_save(CAD) Memory-Built-in(GB)  \\\n",
       "122  SAMSUNG  Galaxy Rugby       79.99              40                  64   \n",
       "140    APPLE     iPhone 5c       79.98              60                  64   \n",
       "\n",
       "    Ram_size(GB) Display_resolution(pixels)  Display_size(in)        Colour  \\\n",
       "122            6                    samoled               6.2  Lilac Purple   \n",
       "140            1                 1136 x 640               4.0          Blue   \n",
       "\n",
       "                                        CPU  \\\n",
       "122         Qualcomm MSM8998 Snapdragon 845   \n",
       "140  Dual-core 1.3 GHz Swift (ARM v7-based)   \n",
       "\n",
       "    Front-Facing Camera Resolution(MP) Rear Camera Resolution(MP)    \n",
       "122                                  8                           12  \n",
       "140                                1.2                            8  "
      ]
     },
     "execution_count": 98,
     "metadata": {},
     "output_type": "execute_result"
    }
   ],
   "source": [
    "# --The details and specefication of the cheapest phones\n",
    "\n",
    "x=Samsung_pd[Samsung_pd['Price(CAD)']==Samsung_pd['Price(CAD)'].min()]\n",
    "y=Apple_pd[Apple_pd['Price(CAD)']==Apple_pd['Price(CAD)'].min()]\n",
    "MIN_SA=pd.concat([x, y])\n",
    "MIN_SA"
   ]
  },
  {
   "cell_type": "code",
   "execution_count": null,
   "metadata": {},
   "outputs": [],
   "source": [
    "apple = pd.read_csv('C://Users//AZ//Desktop//bootcamp//Python//webscraping//Apple_phones_group_Final2.csv', encoding= 'unicode_escape')\n",
    "apple.head(20)"
   ]
  },
  {
   "cell_type": "code",
   "execution_count": 7,
   "metadata": {
    "scrolled": true
   },
   "outputs": [
    {
     "data": {
      "text/html": [
       "<div>\n",
       "<style scoped>\n",
       "    .dataframe tbody tr th:only-of-type {\n",
       "        vertical-align: middle;\n",
       "    }\n",
       "\n",
       "    .dataframe tbody tr th {\n",
       "        vertical-align: top;\n",
       "    }\n",
       "\n",
       "    .dataframe thead th {\n",
       "        text-align: right;\n",
       "    }\n",
       "</style>\n",
       "<table border=\"1\" class=\"dataframe\">\n",
       "  <thead>\n",
       "    <tr style=\"text-align: right;\">\n",
       "      <th></th>\n",
       "      <th>Brand</th>\n",
       "      <th>Model</th>\n",
       "      <th>Price(CAD)</th>\n",
       "      <th>Price_save(CAD)</th>\n",
       "      <th>Memory-Built-in(GB)</th>\n",
       "      <th>Ram_size(GB)</th>\n",
       "      <th>Display_resolution(pixels)</th>\n",
       "      <th>Display_size(in)</th>\n",
       "      <th>Colour</th>\n",
       "      <th>CPU</th>\n",
       "      <th>Front-Facing Camera Resolution(MP)</th>\n",
       "      <th>Rear Camera Resolution(MP)</th>\n",
       "    </tr>\n",
       "  </thead>\n",
       "  <tbody>\n",
       "    <tr>\n",
       "      <td>0</td>\n",
       "      <td>Samsung</td>\n",
       "      <td>Galaxy A10e</td>\n",
       "      <td>179.99</td>\n",
       "      <td>20</td>\n",
       "      <td>32</td>\n",
       "      <td>2</td>\n",
       "      <td>720 x 1560</td>\n",
       "      <td>5.8</td>\n",
       "      <td>Black</td>\n",
       "      <td>Octa-core Snapdragon 855</td>\n",
       "      <td>5</td>\n",
       "      <td>8</td>\n",
       "    </tr>\n",
       "    <tr>\n",
       "      <td>1</td>\n",
       "      <td>Samsung</td>\n",
       "      <td>Galaxy S20</td>\n",
       "      <td>1849.99</td>\n",
       "      <td>no sale</td>\n",
       "      <td>128</td>\n",
       "      <td>2</td>\n",
       "      <td>720 x 1560</td>\n",
       "      <td>5.8</td>\n",
       "      <td>Black</td>\n",
       "      <td>Octa-core Snapdragon 865</td>\n",
       "      <td>5</td>\n",
       "      <td>8</td>\n",
       "    </tr>\n",
       "    <tr>\n",
       "      <td>2</td>\n",
       "      <td>Samsung</td>\n",
       "      <td>Galaxy S20</td>\n",
       "      <td>1319.99</td>\n",
       "      <td>no sale</td>\n",
       "      <td>128</td>\n",
       "      <td>2</td>\n",
       "      <td>720 x 1560</td>\n",
       "      <td>5.8</td>\n",
       "      <td>Black</td>\n",
       "      <td>Octa-core Snapdragon 865</td>\n",
       "      <td>5</td>\n",
       "      <td>8</td>\n",
       "    </tr>\n",
       "    <tr>\n",
       "      <td>3</td>\n",
       "      <td>Samsung</td>\n",
       "      <td>Galaxy S20</td>\n",
       "      <td>1319.99</td>\n",
       "      <td>no sale</td>\n",
       "      <td>128</td>\n",
       "      <td>2</td>\n",
       "      <td>720 x 1560</td>\n",
       "      <td>5.8</td>\n",
       "      <td>Black</td>\n",
       "      <td>Octa-core Snapdragon 865</td>\n",
       "      <td>5</td>\n",
       "      <td>8</td>\n",
       "    </tr>\n",
       "    <tr>\n",
       "      <td>4</td>\n",
       "      <td>Samsung</td>\n",
       "      <td>Galaxy S20</td>\n",
       "      <td>2109.99</td>\n",
       "      <td>no sale</td>\n",
       "      <td>512</td>\n",
       "      <td>2</td>\n",
       "      <td>720 x 1560</td>\n",
       "      <td>5.8</td>\n",
       "      <td>Black</td>\n",
       "      <td>Octa-core Snapdragon 865</td>\n",
       "      <td>5</td>\n",
       "      <td>8</td>\n",
       "    </tr>\n",
       "  </tbody>\n",
       "</table>\n",
       "</div>"
      ],
      "text/plain": [
       "     Brand        Model  Price(CAD) Price_save(CAD) Memory-Built-in(GB)  \\\n",
       "0  Samsung  Galaxy A10e      179.99              20                  32   \n",
       "1  Samsung   Galaxy S20     1849.99         no sale                 128   \n",
       "2  Samsung   Galaxy S20     1319.99         no sale                 128   \n",
       "3  Samsung   Galaxy S20     1319.99         no sale                 128   \n",
       "4  Samsung   Galaxy S20     2109.99         no sale                 512   \n",
       "\n",
       "  Ram_size(GB) Display_resolution(pixels)  Display_size(in) Colour  \\\n",
       "0            2                 720 x 1560               5.8  Black   \n",
       "1            2                 720 x 1560               5.8  Black   \n",
       "2            2                 720 x 1560               5.8  Black   \n",
       "3            2                 720 x 1560               5.8  Black   \n",
       "4            2                 720 x 1560               5.8  Black   \n",
       "\n",
       "                        CPU Front-Facing Camera Resolution(MP)  \\\n",
       "0  Octa-core Snapdragon 855                                  5   \n",
       "1  Octa-core Snapdragon 865                                  5   \n",
       "2  Octa-core Snapdragon 865                                  5   \n",
       "3  Octa-core Snapdragon 865                                  5   \n",
       "4  Octa-core Snapdragon 865                                  5   \n",
       "\n",
       "  Rear Camera Resolution(MP)    \n",
       "0                            8  \n",
       "1                            8  \n",
       "2                            8  \n",
       "3                            8  \n",
       "4                            8  "
      ]
     },
     "execution_count": 7,
     "metadata": {},
     "output_type": "execute_result"
    }
   ],
   "source": [
    "samsung = pd.read_csv('C://Users//AZ//Desktop//bootcamp//Python//webscraping//Sumsung_phones_group_project_Database.csv', encoding= 'unicode_escape')\n",
    "samsung.head()"
   ]
  },
  {
   "cell_type": "code",
   "execution_count": null,
   "metadata": {},
   "outputs": [],
   "source": []
  },
  {
   "cell_type": "code",
   "execution_count": 12,
   "metadata": {},
   "outputs": [
    {
     "data": {
      "text/plain": [
       "Galaxy Note    40\n",
       "Galaxy S7      40\n",
       "Galaxy S8      31\n",
       "Galaxy S10     28\n",
       "Galaxy S9      26\n",
       "Galaxy J3      24\n",
       "Galaxy S10+    23\n",
       "Galaxy S6      22\n",
       "Galaxy S9+     21\n",
       "Galaxy S10e    21\n",
       "Name: Model, dtype: int64"
      ]
     },
     "execution_count": 12,
     "metadata": {},
     "output_type": "execute_result"
    }
   ],
   "source": [
    "samsung_models.head(10)"
   ]
  },
  {
   "cell_type": "code",
   "execution_count": 12,
   "metadata": {
    "scrolled": true
   },
   "outputs": [
    {
     "data": {
      "text/plain": [
       "iPhone 7     181\n",
       "iPhone 6s    111\n",
       "iPhone XR     86\n",
       "iPhone 8      86\n",
       "iPhone XS     83\n",
       "iPhone 6      82\n",
       "iPhone SE     54\n",
       "iPhone 11     54\n",
       "- Apple       42\n",
       "iPhone 6S     27\n",
       "Name: Model, dtype: int64"
      ]
     },
     "execution_count": 12,
     "metadata": {},
     "output_type": "execute_result"
    }
   ],
   "source": [
    "apple_models = apple['Model'].value_counts().head(10\n",
    "                                                 )\n",
    "apple_models"
   ]
  },
  {
   "cell_type": "code",
   "execution_count": null,
   "metadata": {},
   "outputs": [],
   "source": [
    "sns.pairplot(samsung)\n"
   ]
  },
  {
   "cell_type": "code",
   "execution_count": null,
   "metadata": {},
   "outputs": [],
   "source": [
    "sns.pairplot(apple)"
   ]
  },
  {
   "cell_type": "code",
   "execution_count": 22,
   "metadata": {
    "scrolled": true
   },
   "outputs": [
    {
     "name": "stderr",
     "output_type": "stream",
     "text": [
      "C:\\Users\\AZ\\Anaconda3\\lib\\site-packages\\ipykernel_launcher.py:1: FutureWarning:\n",
      "\n",
      "`Series.plot()` should not be called with positional arguments, only keyword arguments. The order of positional arguments will change in the future. Use `Series.plot(kind='bar')` instead of `Series.plot('bar',)`.\n",
      "\n"
     ]
    },
    {
     "data": {
      "image/png": "[encoded data removed]",
      "text/plain": [
       "<Figure size 432x288 with 1 Axes>"
      ]
     },
     "metadata": {},
     "output_type": "display_data"
    }
   ],
   "source": [
    "samsung['Model'].value_counts(10).head(10).plot('bar');\n",
    "# 0.07% of all phones were either Galaxy Note or Galaxy S7\n"
   ]
  },
  {
   "cell_type": "code",
   "execution_count": null,
   "metadata": {},
   "outputs": [],
   "source": [
    "Model = samsung['Model'].value_counts()\n",
    "data = go.Bar(\n",
    "    x=Model.index,\n",
    "    y=Model.values,\n",
    "    marker={\n",
    "        'color':'rgba(200,150,180,0.8)'\n",
    "    }\n",
    ")\n",
    "\n",
    "layout = go.Layout(\n",
    "    title='Model Type Counts Samsung',\n",
    ")\n",
    "\n",
    "fig = go.Figure(data=[data], layout=layout)\n",
    "\n",
    "py.iplot(fig)"
   ]
  },
  {
   "cell_type": "code",
   "execution_count": 18,
   "metadata": {},
   "outputs": [
    {
     "data": {
      "application/vnd.plotly.v1+json": {
       "config": {
        "linkText": "Export to plot.ly",
        "plotlyServerURL": "https://plot.ly",
        "showLink": false
       },
       "data": [
        {
         "marker": {
          "color": "rgba(65,33,180,120)"
         },
         "type": "bar",
         "x": [
          "iPhone 7",
          "iPhone 6s",
          "iPhone XR",
          "iPhone 8",
          "iPhone XS",
          "iPhone 6",
          "iPhone SE",
          "iPhone 11",
          "- Apple",
          "iPhone 6S",
          "iPhone X",
          "6S Plus",
          "iPhone 5s",
          "iPHONE 6S",
          "6 Plus",
          "iPHONE 6",
          "SE 16gb",
          "6s Plus",
          "iPhone 5S",
          "no model",
          "6s 128gb",
          "6S 16GB",
          "SE 64gb",
          "6S 64GB",
          "6 16gb",
          "6 PLUS",
          "5s 32gb",
          "SE 64GB",
          "6 64GB",
          "iPHONE SE",
          "6S -",
          "6 16GB",
          "6S 32GB",
          "6s 32gb",
          "SE 16GB",
          "5S 16GB",
          "6S 128GB",
          "7 256GB",
          "6s 16gb",
          "7 32gb",
          "SE 32GB",
          "iPhone 4S",
          "5s 16gb",
          "-Apple iPhone",
          "7 Plus",
          "IPHONE 6S",
          "SE 32gb",
          "Iphone 5S",
          "6 128gb",
          "iPhone7 128gb",
          "6s 64gb",
          "6 128GB",
          "5S 64GB",
          "IPHONE 5S",
          "iPhone® 8",
          "iPhone7 Plus",
          "Iphone 5C",
          "iPhone SE/",
          "- iPhone",
          "Box Unlocked",
          "iPhone 5C",
          "7 128gb",
          "6S PLUS",
          "5s 16GB",
          "SE -",
          "iPhoneSE 16gb",
          "iPhoneSE 128gb",
          "iPhone7 256gb",
          "iPhone7Plus 32gb",
          "iPhone 5c",
          "4S 8GB",
          "6S-16GB Built",
          "iPhone 5",
          "X 64GB",
          "5 16GB",
          "5S-16GB Built",
          "5S -",
          "8 64GB",
          "6 Unlocked",
          "iPhone7 32gb",
          "6-16GB Built",
          "6S 64gb",
          "6 Plus-16GB",
          "6S pLus-16GB",
          "7 -"
         ],
         "y": [
          181,
          111,
          86,
          86,
          83,
          82,
          54,
          54,
          42,
          27,
          24,
          15,
          15,
          14,
          13,
          7,
          7,
          6,
          6,
          5,
          5,
          5,
          4,
          4,
          4,
          4,
          4,
          3,
          3,
          3,
          3,
          3,
          3,
          3,
          3,
          3,
          3,
          2,
          2,
          2,
          2,
          2,
          2,
          2,
          2,
          2,
          2,
          2,
          2,
          2,
          2,
          2,
          2,
          1,
          1,
          1,
          1,
          1,
          1,
          1,
          1,
          1,
          1,
          1,
          1,
          1,
          1,
          1,
          1,
          1,
          1,
          1,
          1,
          1,
          1,
          1,
          1,
          1,
          1,
          1,
          1,
          1,
          1,
          1,
          1
         ]
        }
       ],
       "layout": {
        "template": {
         "data": {
          "bar": [
           {
            "error_x": {
             "color": "#2a3f5f"
            },
            "error_y": {
             "color": "#2a3f5f"
            },
            "marker": {
             "line": {
              "color": "#E5ECF6",
              "width": 0.5
             }
            },
            "type": "bar"
           }
          ],
          "barpolar": [
           {
            "marker": {
             "line": {
              "color": "#E5ECF6",
              "width": 0.5
             }
            },
            "type": "barpolar"
           }
          ],
          "carpet": [
           {
            "aaxis": {
             "endlinecolor": "#2a3f5f",
             "gridcolor": "white",
             "linecolor": "white",
             "minorgridcolor": "white",
             "startlinecolor": "#2a3f5f"
            },
            "baxis": {
             "endlinecolor": "#2a3f5f",
             "gridcolor": "white",
             "linecolor": "white",
             "minorgridcolor": "white",
             "startlinecolor": "#2a3f5f"
            },
            "type": "carpet"
           }
          ],
          "choropleth": [
           {
            "colorbar": {
             "outlinewidth": 0,
             "ticks": ""
            },
            "type": "choropleth"
           }
          ],
          "contour": [
           {
            "colorbar": {
             "outlinewidth": 0,
             "ticks": ""
            },
            "colorscale": [
             [
              0,
              "#0d0887"
             ],
             [
              0.1111111111111111,
              "#46039f"
             ],
             [
              0.2222222222222222,
              "#7201a8"
             ],
             [
              0.3333333333333333,
              "#9c179e"
             ],
             [
              0.4444444444444444,
              "#bd3786"
             ],
             [
              0.5555555555555556,
              "#d8576b"
             ],
             [
              0.6666666666666666,
              "#ed7953"
             ],
             [
              0.7777777777777778,
              "#fb9f3a"
             ],
             [
              0.8888888888888888,
              "#fdca26"
             ],
             [
              1,
              "#f0f921"
             ]
            ],
            "type": "contour"
           }
          ],
          "contourcarpet": [
           {
            "colorbar": {
             "outlinewidth": 0,
             "ticks": ""
            },
            "type": "contourcarpet"
           }
          ],
          "heatmap": [
           {
            "colorbar": {
             "outlinewidth": 0,
             "ticks": ""
            },
            "colorscale": [
             [
              0,
              "#0d0887"
             ],
             [
              0.1111111111111111,
              "#46039f"
             ],
             [
              0.2222222222222222,
              "#7201a8"
             ],
             [
              0.3333333333333333,
              "#9c179e"
             ],
             [
              0.4444444444444444,
              "#bd3786"
             ],
             [
              0.5555555555555556,
              "#d8576b"
             ],
             [
              0.6666666666666666,
              "#ed7953"
             ],
             [
              0.7777777777777778,
              "#fb9f3a"
             ],
             [
              0.8888888888888888,
              "#fdca26"
             ],
             [
              1,
              "#f0f921"
             ]
            ],
            "type": "heatmap"
           }
          ],
          "heatmapgl": [
           {
            "colorbar": {
             "outlinewidth": 0,
             "ticks": ""
            },
            "colorscale": [
             [
              0,
              "#0d0887"
             ],
             [
              0.1111111111111111,
              "#46039f"
             ],
             [
              0.2222222222222222,
              "#7201a8"
             ],
             [
              0.3333333333333333,
              "#9c179e"
             ],
             [
              0.4444444444444444,
              "#bd3786"
             ],
             [
              0.5555555555555556,
              "#d8576b"
             ],
             [
              0.6666666666666666,
              "#ed7953"
             ],
             [
              0.7777777777777778,
              "#fb9f3a"
             ],
             [
              0.8888888888888888,
              "#fdca26"
             ],
             [
              1,
              "#f0f921"
             ]
            ],
            "type": "heatmapgl"
           }
          ],
          "histogram": [
           {
            "marker": {
             "colorbar": {
              "outlinewidth": 0,
              "ticks": ""
             }
            },
            "type": "histogram"
           }
          ],
          "histogram2d": [
           {
            "colorbar": {
             "outlinewidth": 0,
             "ticks": ""
            },
            "colorscale": [
             [
              0,
              "#0d0887"
             ],
             [
              0.1111111111111111,
              "#46039f"
             ],
             [
              0.2222222222222222,
              "#7201a8"
             ],
             [
              0.3333333333333333,
              "#9c179e"
             ],
             [
              0.4444444444444444,
              "#bd3786"
             ],
             [
              0.5555555555555556,
              "#d8576b"
             ],
             [
              0.6666666666666666,
              "#ed7953"
             ],
             [
              0.7777777777777778,
              "#fb9f3a"
             ],
             [
              0.8888888888888888,
              "#fdca26"
             ],
             [
              1,
              "#f0f921"
             ]
            ],
            "type": "histogram2d"
           }
          ],
          "histogram2dcontour": [
           {
            "colorbar": {
             "outlinewidth": 0,
             "ticks": ""
            },
            "colorscale": [
             [
              0,
              "#0d0887"
             ],
             [
              0.1111111111111111,
              "#46039f"
             ],
             [
              0.2222222222222222,
              "#7201a8"
             ],
             [
              0.3333333333333333,
              "#9c179e"
             ],
             [
              0.4444444444444444,
              "#bd3786"
             ],
             [
              0.5555555555555556,
              "#d8576b"
             ],
             [
              0.6666666666666666,
              "#ed7953"
             ],
             [
              0.7777777777777778,
              "#fb9f3a"
             ],
             [
              0.8888888888888888,
              "#fdca26"
             ],
             [
              1,
              "#f0f921"
             ]
            ],
            "type": "histogram2dcontour"
           }
          ],
          "mesh3d": [
           {
            "colorbar": {
             "outlinewidth": 0,
             "ticks": ""
            },
            "type": "mesh3d"
           }
          ],
          "parcoords": [
           {
            "line": {
             "colorbar": {
              "outlinewidth": 0,
              "ticks": ""
             }
            },
            "type": "parcoords"
           }
          ],
          "pie": [
           {
            "automargin": true,
            "type": "pie"
           }
          ],
          "scatter": [
           {
            "marker": {
             "colorbar": {
              "outlinewidth": 0,
              "ticks": ""
             }
            },
            "type": "scatter"
           }
          ],
          "scatter3d": [
           {
            "line": {
             "colorbar": {
              "outlinewidth": 0,
              "ticks": ""
             }
            },
            "marker": {
             "colorbar": {
              "outlinewidth": 0,
              "ticks": ""
             }
            },
            "type": "scatter3d"
           }
          ],
          "scattercarpet": [
           {
            "marker": {
             "colorbar": {
              "outlinewidth": 0,
              "ticks": ""
             }
            },
            "type": "scattercarpet"
           }
          ],
          "scattergeo": [
           {
            "marker": {
             "colorbar": {
              "outlinewidth": 0,
              "ticks": ""
             }
            },
            "type": "scattergeo"
           }
          ],
          "scattergl": [
           {
            "marker": {
             "colorbar": {
              "outlinewidth": 0,
              "ticks": ""
             }
            },
            "type": "scattergl"
           }
          ],
          "scattermapbox": [
           {
            "marker": {
             "colorbar": {
              "outlinewidth": 0,
              "ticks": ""
             }
            },
            "type": "scattermapbox"
           }
          ],
          "scatterpolar": [
           {
            "marker": {
             "colorbar": {
              "outlinewidth": 0,
              "ticks": ""
             }
            },
            "type": "scatterpolar"
           }
          ],
          "scatterpolargl": [
           {
            "marker": {
             "colorbar": {
              "outlinewidth": 0,
              "ticks": ""
             }
            },
            "type": "scatterpolargl"
           }
          ],
          "scatterternary": [
           {
            "marker": {
             "colorbar": {
              "outlinewidth": 0,
              "ticks": ""
             }
            },
            "type": "scatterternary"
           }
          ],
          "surface": [
           {
            "colorbar": {
             "outlinewidth": 0,
             "ticks": ""
            },
            "colorscale": [
             [
              0,
              "#0d0887"
             ],
             [
              0.1111111111111111,
              "#46039f"
             ],
             [
              0.2222222222222222,
              "#7201a8"
             ],
             [
              0.3333333333333333,
              "#9c179e"
             ],
             [
              0.4444444444444444,
              "#bd3786"
             ],
             [
              0.5555555555555556,
              "#d8576b"
             ],
             [
              0.6666666666666666,
              "#ed7953"
             ],
             [
              0.7777777777777778,
              "#fb9f3a"
             ],
             [
              0.8888888888888888,
              "#fdca26"
             ],
             [
              1,
              "#f0f921"
             ]
            ],
            "type": "surface"
           }
          ],
          "table": [
           {
            "cells": {
             "fill": {
              "color": "#EBF0F8"
             },
             "line": {
              "color": "white"
             }
            },
            "header": {
             "fill": {
              "color": "#C8D4E3"
             },
             "line": {
              "color": "white"
             }
            },
            "type": "table"
           }
          ]
         },
         "layout": {
          "annotationdefaults": {
           "arrowcolor": "#2a3f5f",
           "arrowhead": 0,
           "arrowwidth": 1
          },
          "coloraxis": {
           "colorbar": {
            "outlinewidth": 0,
            "ticks": ""
           }
          },
          "colorscale": {
           "diverging": [
            [
             0,
             "#8e0152"
            ],
            [
             0.1,
             "#c51b7d"
            ],
            [
             0.2,
             "#de77ae"
            ],
            [
             0.3,
             "#f1b6da"
            ],
            [
             0.4,
             "#fde0ef"
            ],
            [
             0.5,
             "#f7f7f7"
            ],
            [
             0.6,
             "#e6f5d0"
            ],
            [
             0.7,
             "#b8e186"
            ],
            [
             0.8,
             "#7fbc41"
            ],
            [
             0.9,
             "#4d9221"
            ],
            [
             1,
             "#276419"
            ]
           ],
           "sequential": [
            [
             0,
             "#0d0887"
            ],
            [
             0.1111111111111111,
             "#46039f"
            ],
            [
             0.2222222222222222,
             "#7201a8"
            ],
            [
             0.3333333333333333,
             "#9c179e"
            ],
            [
             0.4444444444444444,
             "#bd3786"
            ],
            [
             0.5555555555555556,
             "#d8576b"
            ],
            [
             0.6666666666666666,
             "#ed7953"
            ],
            [
             0.7777777777777778,
             "#fb9f3a"
            ],
            [
             0.8888888888888888,
             "#fdca26"
            ],
            [
             1,
             "#f0f921"
            ]
           ],
           "sequentialminus": [
            [
             0,
             "#0d0887"
            ],
            [
             0.1111111111111111,
             "#46039f"
            ],
            [
             0.2222222222222222,
             "#7201a8"
            ],
            [
             0.3333333333333333,
             "#9c179e"
            ],
            [
             0.4444444444444444,
             "#bd3786"
            ],
            [
             0.5555555555555556,
             "#d8576b"
            ],
            [
             0.6666666666666666,
             "#ed7953"
            ],
            [
             0.7777777777777778,
             "#fb9f3a"
            ],
            [
             0.8888888888888888,
             "#fdca26"
            ],
            [
             1,
             "#f0f921"
            ]
           ]
          },
          "colorway": [
           "#636efa",
           "#EF553B",
           "#00cc96",
           "#ab63fa",
           "#FFA15A",
           "#19d3f3",
           "#FF6692",
           "#B6E880",
           "#FF97FF",
           "#FECB52"
          ],
          "font": {
           "color": "#2a3f5f"
          },
          "geo": {
           "bgcolor": "white",
           "lakecolor": "white",
           "landcolor": "#E5ECF6",
           "showlakes": true,
           "showland": true,
           "subunitcolor": "white"
          },
          "hoverlabel": {
           "align": "left"
          },
          "hovermode": "closest",
          "mapbox": {
           "style": "light"
          },
          "paper_bgcolor": "white",
          "plot_bgcolor": "#E5ECF6",
          "polar": {
           "angularaxis": {
            "gridcolor": "white",
            "linecolor": "white",
            "ticks": ""
           },
           "bgcolor": "#E5ECF6",
           "radialaxis": {
            "gridcolor": "white",
            "linecolor": "white",
            "ticks": ""
           }
          },
          "scene": {
           "xaxis": {
            "backgroundcolor": "#E5ECF6",
            "gridcolor": "white",
            "gridwidth": 2,
            "linecolor": "white",
            "showbackground": true,
            "ticks": "",
            "zerolinecolor": "white"
           },
           "yaxis": {
            "backgroundcolor": "#E5ECF6",
            "gridcolor": "white",
            "gridwidth": 2,
            "linecolor": "white",
            "showbackground": true,
            "ticks": "",
            "zerolinecolor": "white"
           },
           "zaxis": {
            "backgroundcolor": "#E5ECF6",
            "gridcolor": "white",
            "gridwidth": 2,
            "linecolor": "white",
            "showbackground": true,
            "ticks": "",
            "zerolinecolor": "white"
           }
          },
          "shapedefaults": {
           "line": {
            "color": "#2a3f5f"
           }
          },
          "ternary": {
           "aaxis": {
            "gridcolor": "white",
            "linecolor": "white",
            "ticks": ""
           },
           "baxis": {
            "gridcolor": "white",
            "linecolor": "white",
            "ticks": ""
           },
           "bgcolor": "#E5ECF6",
           "caxis": {
            "gridcolor": "white",
            "linecolor": "white",
            "ticks": ""
           }
          },
          "title": {
           "x": 0.05
          },
          "xaxis": {
           "automargin": true,
           "gridcolor": "white",
           "linecolor": "white",
           "ticks": "",
           "title": {
            "standoff": 15
           },
           "zerolinecolor": "white",
           "zerolinewidth": 2
          },
          "yaxis": {
           "automargin": true,
           "gridcolor": "white",
           "linecolor": "white",
           "ticks": "",
           "title": {
            "standoff": 15
           },
           "zerolinecolor": "white",
           "zerolinewidth": 2
          }
         }
        },
        "title": {
         "text": "Model Type Counts Apple"
        }
       }
      },
      "text/html": [
       "<div>\n",
       "        \n",
       "        \n",
       "            <div id=\"13918c9d-dd35-4a74-bba3-40b2245cff73\" class=\"plotly-graph-div\" style=\"height:525px; width:100%;\"></div>\n",
       "            <script type=\"text/javascript\">\n",
       "                require([\"plotly\"], function(Plotly) {\n",
       "                    window.PLOTLYENV=window.PLOTLYENV || {};\n",
       "                    \n",
       "                if (document.getElementById(\"13918c9d-dd35-4a74-bba3-40b2245cff73\")) {\n",
       "                    Plotly.newPlot(\n",
       "                        '13918c9d-dd35-4a74-bba3-40b2245cff73',\n",
       "                        [{\"marker\": {\"color\": \"rgba(65,33,180,120)\"}, \"type\": \"bar\", \"x\": [\"iPhone 7\", \"iPhone 6s\", \"iPhone XR\", \"iPhone 8\", \"iPhone XS\", \"iPhone 6\", \"iPhone SE\", \"iPhone 11\", \"- Apple\", \"iPhone 6S\", \"iPhone X\", \"6S Plus\", \"iPhone 5s\", \"iPHONE 6S\", \"6 Plus\", \"iPHONE 6\", \"SE 16gb\", \"6s Plus\", \"iPhone 5S\", \"no model\", \"6s 128gb\", \"6S 16GB\", \"SE 64gb\", \"6S 64GB\", \"6 16gb\", \"6 PLUS\", \"5s 32gb\", \"SE 64GB\", \"6 64GB\", \"iPHONE SE\", \"6S -\", \"6 16GB\", \"6S 32GB\", \"6s 32gb\", \"SE 16GB\", \"5S 16GB\", \"6S 128GB\", \"7 256GB\", \"6s 16gb\", \"7 32gb\", \"SE 32GB\", \"iPhone 4S\", \"5s 16gb\", \"-Apple iPhone\", \"7 Plus\", \"IPHONE 6S\", \"SE 32gb\", \"Iphone 5S\", \"6 128gb\", \"iPhone7 128gb\", \"6s 64gb\", \"6 128GB\", \"5S 64GB\", \"IPHONE 5S\", \"iPhone\\u00ae 8\", \"iPhone7 Plus\", \"Iphone 5C\", \"iPhone SE/\", \"- iPhone\", \"Box Unlocked\", \"iPhone 5C\", \"7 128gb\", \"6S PLUS\", \"5s 16GB\", \"SE -\", \"iPhoneSE 16gb\", \"iPhoneSE 128gb\", \"iPhone7 256gb\", \"iPhone7Plus 32gb\", \"iPhone 5c\", \"4S 8GB\", \"6S-16GB Built\", \"iPhone 5\", \"X 64GB\", \"5 16GB\", \"5S-16GB Built\", \"5S -\", \"8 64GB\", \"6 Unlocked\", \"iPhone7 32gb\", \"6-16GB Built\", \"6S 64gb\", \"6 Plus-16GB\", \"6S pLus-16GB\", \"7 -\"], \"y\": [181, 111, 86, 86, 83, 82, 54, 54, 42, 27, 24, 15, 15, 14, 13, 7, 7, 6, 6, 5, 5, 5, 4, 4, 4, 4, 4, 3, 3, 3, 3, 3, 3, 3, 3, 3, 3, 2, 2, 2, 2, 2, 2, 2, 2, 2, 2, 2, 2, 2, 2, 2, 2, 1, 1, 1, 1, 1, 1, 1, 1, 1, 1, 1, 1, 1, 1, 1, 1, 1, 1, 1, 1, 1, 1, 1, 1, 1, 1, 1, 1, 1, 1, 1, 1]}],\n",
       "                        {\"template\": {\"data\": {\"bar\": [{\"error_x\": {\"color\": \"#2a3f5f\"}, \"error_y\": {\"color\": \"#2a3f5f\"}, \"marker\": {\"line\": {\"color\": \"#E5ECF6\", \"width\": 0.5}}, \"type\": \"bar\"}], \"barpolar\": [{\"marker\": {\"line\": {\"color\": \"#E5ECF6\", \"width\": 0.5}}, \"type\": \"barpolar\"}], \"carpet\": [{\"aaxis\": {\"endlinecolor\": \"#2a3f5f\", \"gridcolor\": \"white\", \"linecolor\": \"white\", \"minorgridcolor\": \"white\", \"startlinecolor\": \"#2a3f5f\"}, \"baxis\": {\"endlinecolor\": \"#2a3f5f\", \"gridcolor\": \"white\", \"linecolor\": \"white\", \"minorgridcolor\": \"white\", \"startlinecolor\": \"#2a3f5f\"}, \"type\": \"carpet\"}], \"choropleth\": [{\"colorbar\": {\"outlinewidth\": 0, \"ticks\": \"\"}, \"type\": \"choropleth\"}], \"contour\": [{\"colorbar\": {\"outlinewidth\": 0, \"ticks\": \"\"}, \"colorscale\": [[0.0, \"#0d0887\"], [0.1111111111111111, \"#46039f\"], [0.2222222222222222, \"#7201a8\"], [0.3333333333333333, \"#9c179e\"], [0.4444444444444444, \"#bd3786\"], [0.5555555555555556, \"#d8576b\"], [0.6666666666666666, \"#ed7953\"], [0.7777777777777778, \"#fb9f3a\"], [0.8888888888888888, \"#fdca26\"], [1.0, \"#f0f921\"]], \"type\": \"contour\"}], \"contourcarpet\": [{\"colorbar\": {\"outlinewidth\": 0, \"ticks\": \"\"}, \"type\": \"contourcarpet\"}], \"heatmap\": [{\"colorbar\": {\"outlinewidth\": 0, \"ticks\": \"\"}, \"colorscale\": [[0.0, \"#0d0887\"], [0.1111111111111111, \"#46039f\"], [0.2222222222222222, \"#7201a8\"], [0.3333333333333333, \"#9c179e\"], [0.4444444444444444, \"#bd3786\"], [0.5555555555555556, \"#d8576b\"], [0.6666666666666666, \"#ed7953\"], [0.7777777777777778, \"#fb9f3a\"], [0.8888888888888888, \"#fdca26\"], [1.0, \"#f0f921\"]], \"type\": \"heatmap\"}], \"heatmapgl\": [{\"colorbar\": {\"outlinewidth\": 0, \"ticks\": \"\"}, \"colorscale\": [[0.0, \"#0d0887\"], [0.1111111111111111, \"#46039f\"], [0.2222222222222222, \"#7201a8\"], [0.3333333333333333, \"#9c179e\"], [0.4444444444444444, \"#bd3786\"], [0.5555555555555556, \"#d8576b\"], [0.6666666666666666, \"#ed7953\"], [0.7777777777777778, \"#fb9f3a\"], [0.8888888888888888, \"#fdca26\"], [1.0, \"#f0f921\"]], \"type\": \"heatmapgl\"}], \"histogram\": [{\"marker\": {\"colorbar\": {\"outlinewidth\": 0, \"ticks\": \"\"}}, \"type\": \"histogram\"}], \"histogram2d\": [{\"colorbar\": {\"outlinewidth\": 0, \"ticks\": \"\"}, \"colorscale\": [[0.0, \"#0d0887\"], [0.1111111111111111, \"#46039f\"], [0.2222222222222222, \"#7201a8\"], [0.3333333333333333, \"#9c179e\"], [0.4444444444444444, \"#bd3786\"], [0.5555555555555556, \"#d8576b\"], [0.6666666666666666, \"#ed7953\"], [0.7777777777777778, \"#fb9f3a\"], [0.8888888888888888, \"#fdca26\"], [1.0, \"#f0f921\"]], \"type\": \"histogram2d\"}], \"histogram2dcontour\": [{\"colorbar\": {\"outlinewidth\": 0, \"ticks\": \"\"}, \"colorscale\": [[0.0, \"#0d0887\"], [0.1111111111111111, \"#46039f\"], [0.2222222222222222, \"#7201a8\"], [0.3333333333333333, \"#9c179e\"], [0.4444444444444444, \"#bd3786\"], [0.5555555555555556, \"#d8576b\"], [0.6666666666666666, \"#ed7953\"], [0.7777777777777778, \"#fb9f3a\"], [0.8888888888888888, \"#fdca26\"], [1.0, \"#f0f921\"]], \"type\": \"histogram2dcontour\"}], \"mesh3d\": [{\"colorbar\": {\"outlinewidth\": 0, \"ticks\": \"\"}, \"type\": \"mesh3d\"}], \"parcoords\": [{\"line\": {\"colorbar\": {\"outlinewidth\": 0, \"ticks\": \"\"}}, \"type\": \"parcoords\"}], \"pie\": [{\"automargin\": true, \"type\": \"pie\"}], \"scatter\": [{\"marker\": {\"colorbar\": {\"outlinewidth\": 0, \"ticks\": \"\"}}, \"type\": \"scatter\"}], \"scatter3d\": [{\"line\": {\"colorbar\": {\"outlinewidth\": 0, \"ticks\": \"\"}}, \"marker\": {\"colorbar\": {\"outlinewidth\": 0, \"ticks\": \"\"}}, \"type\": \"scatter3d\"}], \"scattercarpet\": [{\"marker\": {\"colorbar\": {\"outlinewidth\": 0, \"ticks\": \"\"}}, \"type\": \"scattercarpet\"}], \"scattergeo\": [{\"marker\": {\"colorbar\": {\"outlinewidth\": 0, \"ticks\": \"\"}}, \"type\": \"scattergeo\"}], \"scattergl\": [{\"marker\": {\"colorbar\": {\"outlinewidth\": 0, \"ticks\": \"\"}}, \"type\": \"scattergl\"}], \"scattermapbox\": [{\"marker\": {\"colorbar\": {\"outlinewidth\": 0, \"ticks\": \"\"}}, \"type\": \"scattermapbox\"}], \"scatterpolar\": [{\"marker\": {\"colorbar\": {\"outlinewidth\": 0, \"ticks\": \"\"}}, \"type\": \"scatterpolar\"}], \"scatterpolargl\": [{\"marker\": {\"colorbar\": {\"outlinewidth\": 0, \"ticks\": \"\"}}, \"type\": \"scatterpolargl\"}], \"scatterternary\": [{\"marker\": {\"colorbar\": {\"outlinewidth\": 0, \"ticks\": \"\"}}, \"type\": \"scatterternary\"}], \"surface\": [{\"colorbar\": {\"outlinewidth\": 0, \"ticks\": \"\"}, \"colorscale\": [[0.0, \"#0d0887\"], [0.1111111111111111, \"#46039f\"], [0.2222222222222222, \"#7201a8\"], [0.3333333333333333, \"#9c179e\"], [0.4444444444444444, \"#bd3786\"], [0.5555555555555556, \"#d8576b\"], [0.6666666666666666, \"#ed7953\"], [0.7777777777777778, \"#fb9f3a\"], [0.8888888888888888, \"#fdca26\"], [1.0, \"#f0f921\"]], \"type\": \"surface\"}], \"table\": [{\"cells\": {\"fill\": {\"color\": \"#EBF0F8\"}, \"line\": {\"color\": \"white\"}}, \"header\": {\"fill\": {\"color\": \"#C8D4E3\"}, \"line\": {\"color\": \"white\"}}, \"type\": \"table\"}]}, \"layout\": {\"annotationdefaults\": {\"arrowcolor\": \"#2a3f5f\", \"arrowhead\": 0, \"arrowwidth\": 1}, \"coloraxis\": {\"colorbar\": {\"outlinewidth\": 0, \"ticks\": \"\"}}, \"colorscale\": {\"diverging\": [[0, \"#8e0152\"], [0.1, \"#c51b7d\"], [0.2, \"#de77ae\"], [0.3, \"#f1b6da\"], [0.4, \"#fde0ef\"], [0.5, \"#f7f7f7\"], [0.6, \"#e6f5d0\"], [0.7, \"#b8e186\"], [0.8, \"#7fbc41\"], [0.9, \"#4d9221\"], [1, \"#276419\"]], \"sequential\": [[0.0, \"#0d0887\"], [0.1111111111111111, \"#46039f\"], [0.2222222222222222, \"#7201a8\"], [0.3333333333333333, \"#9c179e\"], [0.4444444444444444, \"#bd3786\"], [0.5555555555555556, \"#d8576b\"], [0.6666666666666666, \"#ed7953\"], [0.7777777777777778, \"#fb9f3a\"], [0.8888888888888888, \"#fdca26\"], [1.0, \"#f0f921\"]], \"sequentialminus\": [[0.0, \"#0d0887\"], [0.1111111111111111, \"#46039f\"], [0.2222222222222222, \"#7201a8\"], [0.3333333333333333, \"#9c179e\"], [0.4444444444444444, \"#bd3786\"], [0.5555555555555556, \"#d8576b\"], [0.6666666666666666, \"#ed7953\"], [0.7777777777777778, \"#fb9f3a\"], [0.8888888888888888, \"#fdca26\"], [1.0, \"#f0f921\"]]}, \"colorway\": [\"#636efa\", \"#EF553B\", \"#00cc96\", \"#ab63fa\", \"#FFA15A\", \"#19d3f3\", \"#FF6692\", \"#B6E880\", \"#FF97FF\", \"#FECB52\"], \"font\": {\"color\": \"#2a3f5f\"}, \"geo\": {\"bgcolor\": \"white\", \"lakecolor\": \"white\", \"landcolor\": \"#E5ECF6\", \"showlakes\": true, \"showland\": true, \"subunitcolor\": \"white\"}, \"hoverlabel\": {\"align\": \"left\"}, \"hovermode\": \"closest\", \"mapbox\": {\"style\": \"light\"}, \"paper_bgcolor\": \"white\", \"plot_bgcolor\": \"#E5ECF6\", \"polar\": {\"angularaxis\": {\"gridcolor\": \"white\", \"linecolor\": \"white\", \"ticks\": \"\"}, \"bgcolor\": \"#E5ECF6\", \"radialaxis\": {\"gridcolor\": \"white\", \"linecolor\": \"white\", \"ticks\": \"\"}}, \"scene\": {\"xaxis\": {\"backgroundcolor\": \"#E5ECF6\", \"gridcolor\": \"white\", \"gridwidth\": 2, \"linecolor\": \"white\", \"showbackground\": true, \"ticks\": \"\", \"zerolinecolor\": \"white\"}, \"yaxis\": {\"backgroundcolor\": \"#E5ECF6\", \"gridcolor\": \"white\", \"gridwidth\": 2, \"linecolor\": \"white\", \"showbackground\": true, \"ticks\": \"\", \"zerolinecolor\": \"white\"}, \"zaxis\": {\"backgroundcolor\": \"#E5ECF6\", \"gridcolor\": \"white\", \"gridwidth\": 2, \"linecolor\": \"white\", \"showbackground\": true, \"ticks\": \"\", \"zerolinecolor\": \"white\"}}, \"shapedefaults\": {\"line\": {\"color\": \"#2a3f5f\"}}, \"ternary\": {\"aaxis\": {\"gridcolor\": \"white\", \"linecolor\": \"white\", \"ticks\": \"\"}, \"baxis\": {\"gridcolor\": \"white\", \"linecolor\": \"white\", \"ticks\": \"\"}, \"bgcolor\": \"#E5ECF6\", \"caxis\": {\"gridcolor\": \"white\", \"linecolor\": \"white\", \"ticks\": \"\"}}, \"title\": {\"x\": 0.05}, \"xaxis\": {\"automargin\": true, \"gridcolor\": \"white\", \"linecolor\": \"white\", \"ticks\": \"\", \"title\": {\"standoff\": 15}, \"zerolinecolor\": \"white\", \"zerolinewidth\": 2}, \"yaxis\": {\"automargin\": true, \"gridcolor\": \"white\", \"linecolor\": \"white\", \"ticks\": \"\", \"title\": {\"standoff\": 15}, \"zerolinecolor\": \"white\", \"zerolinewidth\": 2}}}, \"title\": {\"text\": \"Model Type Counts Apple\"}},\n",
       "                        {\"responsive\": true}\n",
       "                    ).then(function(){\n",
       "                            \n",
       "var gd = document.getElementById('13918c9d-dd35-4a74-bba3-40b2245cff73');\n",
       "var x = new MutationObserver(function (mutations, observer) {{\n",
       "        var display = window.getComputedStyle(gd).display;\n",
       "        if (!display || display === 'none') {{\n",
       "            console.log([gd, 'removed!']);\n",
       "            Plotly.purge(gd);\n",
       "            observer.disconnect();\n",
       "        }}\n",
       "}});\n",
       "\n",
       "// Listen for the removal of the full notebook cells\n",
       "var notebookContainer = gd.closest('#notebook-container');\n",
       "if (notebookContainer) {{\n",
       "    x.observe(notebookContainer, {childList: true});\n",
       "}}\n",
       "\n",
       "// Listen for the clearing of the current output cell\n",
       "var outputEl = gd.closest('.output');\n",
       "if (outputEl) {{\n",
       "    x.observe(outputEl, {childList: true});\n",
       "}}\n",
       "\n",
       "                        })\n",
       "                };\n",
       "                });\n",
       "            </script>\n",
       "        </div>"
      ]
     },
     "metadata": {},
     "output_type": "display_data"
    }
   ],
   "source": [
    "Model = apple['Model'].value_counts()\n",
    "data = go.Bar(\n",
    "    x=Model.index,\n",
    "    y=Model.values,\n",
    "    marker={\n",
    "        'color':'rgba(65,33,180,120)'\n",
    "    }\n",
    ")\n",
    "\n",
    "layout = go.Layout(\n",
    "    title='Model Type Counts Apple',\n",
    ")\n",
    "\n",
    "fig = go.Figure(data=[data], layout=layout)\n",
    "\n",
    "py.iplot(fig)"
   ]
  },
  {
   "cell_type": "code",
   "execution_count": null,
   "metadata": {},
   "outputs": [],
   "source": []
  },
  {
   "cell_type": "code",
   "execution_count": null,
   "metadata": {},
   "outputs": [],
   "source": [
    "# Visualization\n",
    "\n",
    "import pandas as pd\n",
    "import numpy as np\n",
    "import random \n",
    "\n",
    "import matplotlib.pyplot as plt\n",
    "%matplotlib inline\n",
    "import plotly.offline as py\n",
    "import plotly.graph_objs as go \n",
    "import plotly.express as px\n",
    "\n",
    "\n",
    "py.init_notebook_mode(connected=True)\n",
    "\n",
    "\n",
    "Samsung_pd = pd.read_csv('C:/Users/mehdi/Downloads/Sumsung_phones_group_project_Database.csv',sep=\",\",index_col=False)\n",
    "Samsung_pd.head(5)\n",
    "Samsung_pd['Brand']=[t.upper() for t in Samsung_pd['Brand']]\n",
    "Samsung_pd\n",
    "\n",
    "\n",
    "Apple_pd = pd.read_csv('C:/Users/mehdi/Downloads/Apple_phones_group_Final2.csv',sep=\",\",index_col=False, encoding='latin-1')\n",
    "Apple_pd.head(5)\n",
    "Apple_pd['Brand']=[t.upper() for t in Apple_pd['Brand']]\n",
    "Apple_pd\n",
    "\n",
    "\n",
    "\n",
    "x=Apple_pd.groupby('Model').count()\n",
    "x\n",
    "x.plot(kind='bar');\n",
    "\n",
    "\n",
    "\n",
    "Samsung_Apple=pd.concat([Samsung_pd, Apple_pd])\n",
    "Samsung_Apple\n",
    "Samsung_Apple.drop(Samsung_Apple['Brand']=='certified')\n",
    "Samsung_Apple.drop(Samsung_Apple['Brand']=='Unlocked')\n",
    "\n",
    "\n",
    "Samsung_Apple.columns\n",
    "\n",
    "# ___Histogram of price for two brands\n",
    "fig = px.histogram(Samsung_Apple,x='Price(CAD)',color=\"Brand\")\n",
    "fig.show()\n",
    "\n",
    "\n",
    "\n",
    "       \n",
    "price_range = pd.cut(Samsung_Apple['Price(CAD)'], [0,500, 1000, 1500,2000,2500,3000])\n",
    "table = pd.pivot_table(Samsung_Apple, values=['Ram_size(GB)', 'Memory-Built-in(GB)','Front-Facing Camera Resolution(MP)','Rear Camera Resolution(MP)  '\n",
    "], index=['Brand', price_range],\n",
    "                    aggfunc={'Ram_size(GB)': [max,min],\n",
    "                         'Memory-Built-in(GB)' :[max,min], 'Front-Facing Camera Resolution(MP)' :[max,min], 'Rear Camera Resolution(MP)  ' :[max,min]\n",
    "                            })\n",
    "                    \n",
    "table\n",
    "\n",
    "\n",
    "# --- the distribution of phone based on the colour\n",
    "\n",
    "phone_colour=Samsung_pd['Colour'].value_counts()\n",
    "m=phone_colour.index\n",
    "n=[]\n",
    "for i in m:\n",
    "    \n",
    "    if 'white' in i.lower():\n",
    "        i=\"white\"\n",
    "        n.append(i.lower())\n",
    "    \n",
    "    if 'blue' in i.lower():\n",
    "        i=\"blue\"\n",
    "        n.append(i.lower())\n",
    "        \n",
    "    if 'purple' in i.lower():\n",
    "        i=\"purple\"\n",
    "        n.append(i.lower())\n",
    "            \n",
    "            \n",
    "\n",
    "           \n",
    "    \n",
    "    if 'black' == i.lower():\n",
    "        i=\"  #000000\"\n",
    "        n.append(i.lower())\n",
    "\n",
    "    if 'black onyx' == i.lower():\n",
    "        i=\" #333333\"\n",
    "        n.append(i.lower())\n",
    "        \n",
    "    if 'prism black' == i.lower():\n",
    "        i=\" #404040\"\n",
    "        n.append(i.lower())\n",
    "        \n",
    "    if 'aura black' == i.lower():\n",
    "        i=\" #0d0d0d\"\n",
    "        n.append(i.lower())\n",
    "        \n",
    "    if 'midnight black' == i.lower():\n",
    "        i=\"  #1a1a1a\"\n",
    "        n.append(i.lower())\n",
    "        \n",
    "    if 'red' in i.lower():\n",
    "        i=\"red\"\n",
    "        n.append(i.lower())\n",
    "        \n",
    "    if 'white' in i.lower():\n",
    "        i=\"white\"\n",
    "        n.append(i.lower())\n",
    "        \n",
    "    \n",
    "       \n",
    "    if 'grey'== i.lower():\n",
    "        i=\"hsl(30, 0%, 50%)\"\n",
    "        n.append(i.lower())\n",
    "        \n",
    "       \n",
    "    if 'space gray'== i.lower():\n",
    "        i= ' #8c8c8c'\n",
    "        n.append(i.lower())\n",
    "        \n",
    "    if 'space grey'== i.lower():\n",
    "        i= ' #8c8c8c'\n",
    "        n.append(i.lower())\n",
    "    if 'black' in i.lower():\n",
    "        i=\"  #000000\"\n",
    "        n.append(i.lower())\n",
    "        \n",
    "\n",
    "        \n",
    "    if 'titanium grey'== i.lower():\n",
    "        i=\"grey\"\n",
    "        n.append(i.lower())\n",
    "        \n",
    "        \n",
    "    if 'silver' in i.lower():\n",
    "        i=\"silver\"\n",
    "        n.append(i.lower())\n",
    "        \n",
    "  \n",
    "        \n",
    "    if 'red' in i.lower():\n",
    "        i=\"red\"\n",
    "        n.append(i.lower())\n",
    "        \n",
    "    \n",
    "        \n",
    "    if 'rose gold' in i.lower():\n",
    "        i=\"pink\"\n",
    "        n.append(i)\n",
    "           \n",
    "        \n",
    "    if 'gold' in i.lower():\n",
    "        i='gold'\n",
    "        n.append(i)\n",
    "        \n",
    "    if 'green' in i.lower():\n",
    "        i=\"green\"\n",
    "        n.append(i.lower())\n",
    "        \n",
    "   \n",
    "        \n",
    "        \n",
    "        \n",
    "        \n",
    "\n",
    "\n",
    "colors = n\n",
    "\n",
    "\n",
    "fig = go.Figure(data=[go.Bar(\n",
    "    x=phone_colour.index,\n",
    "    y=phone_colour.values,\n",
    "    marker_color=colors # marker color can be a single color value or an iterable\n",
    ")])\n",
    "fig.update_layout(title_text='Least Used Feature')\n",
    "\n",
    "\n",
    "Samsung_colour =Samsung_pd.groupby(['Brand'])['Colour'].value_counts()\n",
    "Samsung_colour.plot(kind='pie')\n",
    "\n",
    "Apple_colour =Apple_pd['Colour'].value_counts()\n",
    "\n",
    "\n",
    "\n",
    "m=Apple_colour.index\n",
    "n=[]\n",
    "for i in m:\n",
    "    \n",
    "    if 'black' in i.lower():\n",
    "        i=\"black\"\n",
    "        n.append(i.lower())\n",
    "\n",
    "       \n",
    "    if 'green' in i.lower():\n",
    "        i=\"green\"\n",
    "        n.append(i.lower())\n",
    "        \n",
    "       \n",
    "    if 'gray'== i.lower():\n",
    "        i=\"hsl(30, 0%, 50%)\"\n",
    "        n.append(i.lower())\n",
    "        \n",
    "       \n",
    "    if 'space gray'== i.lower():\n",
    "        i= ' #8c8c8c'\n",
    "        n.append(i.lower())\n",
    "        \n",
    "    if 'space grey'== i.lower():\n",
    "        i= ' #8c8c8c'\n",
    "        n.append(i.lower())\n",
    "       \n",
    "       \n",
    "\n",
    "        \n",
    "    if 'grey'==i.lower():\n",
    "        i=\"hsl(30, 0%, 50%)\"\n",
    "        n.append(i.lower())\n",
    "        \n",
    "        \n",
    "    if 'silver' in i.lower():\n",
    "        i=\"silver\"\n",
    "        n.append(i.lower())\n",
    "        \n",
    "    if 'purple' in i.lower():\n",
    "        i=\"purple\"\n",
    "        n.append(i.lower())\n",
    "        \n",
    "    if 'red' in i.lower():\n",
    "        i=\"red\"\n",
    "        n.append(i.lower())\n",
    "        \n",
    "    if 'white' in i.lower():\n",
    "        i=\"white\"\n",
    "        n.append(i.lower())\n",
    "        \n",
    "    if 'rose gold' in i.lower():\n",
    "        i=\"pink\"\n",
    "        n.append(i)\n",
    "           \n",
    "        \n",
    "    if 'gold'==i.lower():\n",
    "        i='gold'\n",
    "        n.append(i)\n",
    "        \n",
    "        \n",
    "    if 'blue' in i.lower():\n",
    "        i='blue'\n",
    "        n.append(i)\n",
    "        \n",
    "    if 'yellow' in i.lower():\n",
    "        i='yellow'\n",
    "        n.append(i)\n",
    "        \n",
    "    if 'green'==i.lower():\n",
    "        i='green'\n",
    "        n.append(i)\n",
    "        \n",
    "    if 'gold white'==i.lower():\n",
    "        i='gold'\n",
    "        n.append(i)\n",
    "    if 'rose'==i.lower():\n",
    "        i='pink'\n",
    "        n.append(i)\n",
    "        \n",
    "    \n",
    "        \n",
    "        \n",
    "        \n",
    "        \n",
    "        \n",
    "colors = n\n",
    "\n",
    "\n",
    "fig = go.Figure(data=[go.Bar(\n",
    "    x=Apple_colour.index,\n",
    "    y=Apple_colour.values,\n",
    "    marker_color=colors # marker color can be a single color value or an iterable\n",
    ")])\n",
    "fig.update_layout(title_text='Least Used Feature')\n",
    "\n",
    "Samsung_Apple.groupby(\"Brand\")['Price(CAD)'].describe()\n",
    "\n",
    "# --Phones with discout\n",
    "Samsung_Apple[Samsung_Apple['Price_save(CAD)']!='no sale']\n",
    "\n",
    "# ---Average,max,min price\n",
    "\n",
    "\n",
    "stat=['Max', 'Min', 'Avg']\n",
    "YS=Samsung_pd.groupby(['Brand'],as_index=False).agg({'Price(CAD)':['max','min','mean']})\n",
    "YA=Apple_pd.groupby(['Brand'],as_index=False).agg({'Price(CAD)':['max','min','mean']})\n",
    "YS.values[0][1:4]\n",
    "\n",
    "fig = go.Figure(data=[\n",
    "    go.Bar(name='Samsung Phone', x=stat, y=[YS.values[0][1], YS.values[0][2],YS.values[0][3]]),\n",
    "    go.Bar(name='Apple Phone', x=stat, y=[YA.values[0][1], YA.values[0][2],YA.values[0][3]])\n",
    "])\n",
    "# Change the bar mode\n",
    "fig.update_layout(barmode='stack')\n",
    "fig.show()\n",
    "\n",
    "\n",
    "# --The details and specefication of the most expensive phones\n",
    "x=Samsung_pd[Samsung_pd['Price(CAD)']==Samsung_pd['Price(CAD)'].max()]\n",
    "y=Apple_pd[Apple_pd['Price(CAD)']==Apple_pd['Price(CAD)'].max()]\n",
    "MAX_SA=pd.concat([x, y])\n",
    "MAX_SA\n",
    "\n",
    "\n",
    "# --The details and specefication of the cheapest phones\n",
    "\n",
    "x=Samsung_pd[Samsung_pd['Price(CAD)']==Samsung_pd['Price(CAD)'].min()]\n",
    "y=Apple_pd[Apple_pd['Price(CAD)']==Apple_pd['Price(CAD)'].min()]\n",
    "MIN_SA=pd.concat([x, y])\n",
    "MIN_SA\n",
    "\n",
    "apple = pd.read_csv('C://Users//AZ//Desktop//bootcamp//Python//webscraping//Apple_phones_group_Final2.csv', encoding= 'unicode_escape')\n",
    "apple.head(20)\n",
    "\n",
    "samsung = pd.read_csv('C://Users//AZ//Desktop//bootcamp//Python//webscraping//Sumsung_phones_group_project_Database.csv', encoding= 'unicode_escape')\n",
    "samsung.head()\n",
    "\n",
    "\n",
    "\n",
    "samsung_models.head(10)\n",
    "\n",
    "apple_models = apple['Model'].value_counts().head(10\n",
    "                                                 )\n",
    "apple_models\n",
    "\n",
    "sns.pairplot(samsung)\n",
    "\n",
    "\n",
    "sns.pairplot(apple)\n",
    "\n",
    "samsung['Model'].value_counts(10).head(10).plot('bar');\n",
    "# 0.07% of all phones were either Galaxy Note or Galaxy S7\n",
    "\n",
    "\n",
    "Model = samsung['Model'].value_counts()\n",
    "data = go.Bar(\n",
    "    x=Model.index,\n",
    "    y=Model.values,\n",
    "    marker={\n",
    "        'color':'rgba(200,150,180,0.8)'\n",
    "    }\n",
    ")\n",
    "\n",
    "layout = go.Layout(\n",
    "    title='Model Type Counts Samsung',\n",
    ")\n",
    "\n",
    "fig = go.Figure(data=[data], layout=layout)\n",
    "\n",
    "py.iplot(fig)\n",
    "\n",
    "Model = apple['Model'].value_counts()\n",
    "data = go.Bar(\n",
    "    x=Model.index,\n",
    "    y=Model.values,\n",
    "    marker={\n",
    "        'color':'rgba(65,33,180,120)'\n",
    "    }\n",
    ")\n",
    "\n",
    "layout = go.Layout(\n",
    "    title='Model Type Counts Apple',\n",
    ")\n",
    "\n",
    "fig = go.Figure(data=[data], layout=layout)\n",
    "\n",
    "py.iplot(fig)\n",
    "\n"
   ]
  }
 ],
 "metadata": {
  "kernelspec": {
   "display_name": "Python 3",
   "language": "python",
   "name": "python3"
  },
  "language_info": {
   "codemirror_mode": {
    "name": "ipython",
    "version": 3
   },
   "file_extension": ".py",
   "mimetype": "text/x-python",
   "name": "python",
   "nbconvert_exporter": "python",
   "pygments_lexer": "ipython3",
   "version": "3.7.4"
  }
 },
 "nbformat": 4,
 "nbformat_minor": 2
}
